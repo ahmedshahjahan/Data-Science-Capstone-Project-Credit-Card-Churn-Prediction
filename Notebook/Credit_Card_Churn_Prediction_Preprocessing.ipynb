{
 "cells": [
  {
   "cell_type": "markdown",
   "metadata": {},
   "source": [
    "# Capstone project two (Preprocessing)"
   ]
  },
  {
   "cell_type": "markdown",
   "metadata": {},
   "source": [
    "## 1. Importing libraries and loading dataframe"
   ]
  },
  {
   "cell_type": "code",
   "execution_count": 1,
   "metadata": {},
   "outputs": [],
   "source": [
    "# Importing libraries\n",
    "import numpy as np\n",
    "import pandas as pd\n",
    "import matplotlib.pyplot as plt\n",
    "from sklearn.preprocessing import StandardScaler\n",
    "from sklearn.model_selection import train_test_split"
   ]
  },
  {
   "cell_type": "code",
   "execution_count": 2,
   "metadata": {},
   "outputs": [],
   "source": [
    "# importing dataframe from previous step and reset index\n",
    "df_preprocessing = pd.read_csv('..\\Dataset\\df_preprocessing.csv', index_col=0)\n",
    "df_preprocessing = df_preprocessing.reset_index(drop=True)"
   ]
  },
  {
   "cell_type": "code",
   "execution_count": 3,
   "metadata": {},
   "outputs": [],
   "source": [
    "# Creating new features\n",
    "# df_preprocessing['Percent_Revolving_Bal'] = (df_preprocessing['Total_Revolving_Bal']*100)/df_preprocessing['Credit_Limit']"
   ]
  },
  {
   "cell_type": "markdown",
   "metadata": {},
   "source": [
    "## 2. Encoding target feature"
   ]
  },
  {
   "cell_type": "code",
   "execution_count": 4,
   "metadata": {},
   "outputs": [
    {
     "data": {
      "text/plain": [
       "Existing Customer    7871\n",
       "Attrited Customer    1607\n",
       "Name: Attrition_Flag, dtype: int64"
      ]
     },
     "execution_count": 4,
     "metadata": {},
     "output_type": "execute_result"
    }
   ],
   "source": [
    "df_preprocessing['Attrition_Flag'].value_counts()"
   ]
  },
  {
   "cell_type": "markdown",
   "metadata": {},
   "source": [
    "Encoding target attribute 'Attrition_Flag' to binary 1 and 0. Existing Customer = 0, and Attrited Customer = 1"
   ]
  },
  {
   "cell_type": "code",
   "execution_count": 5,
   "metadata": {},
   "outputs": [],
   "source": [
    "# df_preprocessing['Attrition_Flag'].replace({'Existing Customer':0, 'Attrited Customer':1}, inplace=True)\n",
    "df_preprocessing['Attrition_Flag'] = df_preprocessing['Attrition_Flag'].map({'Existing Customer':0, 'Attrited Customer':1})"
   ]
  },
  {
   "cell_type": "code",
   "execution_count": 6,
   "metadata": {
    "scrolled": true
   },
   "outputs": [
    {
     "data": {
      "text/html": [
       "<div>\n",
       "<style scoped>\n",
       "    .dataframe tbody tr th:only-of-type {\n",
       "        vertical-align: middle;\n",
       "    }\n",
       "\n",
       "    .dataframe tbody tr th {\n",
       "        vertical-align: top;\n",
       "    }\n",
       "\n",
       "    .dataframe thead th {\n",
       "        text-align: right;\n",
       "    }\n",
       "</style>\n",
       "<table border=\"1\" class=\"dataframe\">\n",
       "  <thead>\n",
       "    <tr style=\"text-align: right;\">\n",
       "      <th></th>\n",
       "      <th>Attrition_Flag</th>\n",
       "      <th>Age</th>\n",
       "      <th>Gender</th>\n",
       "      <th>Dependent_Count</th>\n",
       "      <th>Education</th>\n",
       "      <th>Marital_Status</th>\n",
       "      <th>Income</th>\n",
       "      <th>Card_Category</th>\n",
       "      <th>Months_On_Book</th>\n",
       "      <th>Total_Relationship_Count</th>\n",
       "      <th>Months_Inactive</th>\n",
       "      <th>Contacts_Count</th>\n",
       "      <th>Credit_Limit</th>\n",
       "      <th>Total_Revolving_Bal</th>\n",
       "      <th>Avg_Open_To_Buy</th>\n",
       "      <th>Total_Amt_Chng_Q4_Q1</th>\n",
       "      <th>Total_Trans_Amt</th>\n",
       "      <th>Total_Trans_Ct</th>\n",
       "      <th>Total_Ct_Chng_Q4_Q1</th>\n",
       "      <th>Avg_Utilization_Ratio</th>\n",
       "    </tr>\n",
       "  </thead>\n",
       "  <tbody>\n",
       "    <tr>\n",
       "      <th>0</th>\n",
       "      <td>0</td>\n",
       "      <td>44.0</td>\n",
       "      <td>M</td>\n",
       "      <td>2</td>\n",
       "      <td>Graduate</td>\n",
       "      <td>Married</td>\n",
       "      <td>$40K - $60K</td>\n",
       "      <td>Blue</td>\n",
       "      <td>36</td>\n",
       "      <td>3</td>\n",
       "      <td>1</td>\n",
       "      <td>2</td>\n",
       "      <td>4010.0</td>\n",
       "      <td>1247</td>\n",
       "      <td>2763.0</td>\n",
       "      <td>1.376</td>\n",
       "      <td>1088.0</td>\n",
       "      <td>24.0</td>\n",
       "      <td>0.846</td>\n",
       "      <td>0.311</td>\n",
       "    </tr>\n",
       "    <tr>\n",
       "      <th>1</th>\n",
       "      <td>0</td>\n",
       "      <td>42.0</td>\n",
       "      <td>M</td>\n",
       "      <td>5</td>\n",
       "      <td>Uneducated</td>\n",
       "      <td>Unknown</td>\n",
       "      <td>$120K +</td>\n",
       "      <td>Blue</td>\n",
       "      <td>31</td>\n",
       "      <td>5</td>\n",
       "      <td>3</td>\n",
       "      <td>2</td>\n",
       "      <td>6748.0</td>\n",
       "      <td>1467</td>\n",
       "      <td>5281.0</td>\n",
       "      <td>0.831</td>\n",
       "      <td>1201.0</td>\n",
       "      <td>42.0</td>\n",
       "      <td>0.680</td>\n",
       "      <td>0.217</td>\n",
       "    </tr>\n",
       "    <tr>\n",
       "      <th>2</th>\n",
       "      <td>0</td>\n",
       "      <td>57.0</td>\n",
       "      <td>F</td>\n",
       "      <td>2</td>\n",
       "      <td>Graduate</td>\n",
       "      <td>Married</td>\n",
       "      <td>Less than $40K</td>\n",
       "      <td>Blue</td>\n",
       "      <td>48</td>\n",
       "      <td>5</td>\n",
       "      <td>2</td>\n",
       "      <td>2</td>\n",
       "      <td>2436.0</td>\n",
       "      <td>680</td>\n",
       "      <td>1756.0</td>\n",
       "      <td>1.190</td>\n",
       "      <td>1570.0</td>\n",
       "      <td>29.0</td>\n",
       "      <td>0.611</td>\n",
       "      <td>0.279</td>\n",
       "    </tr>\n",
       "    <tr>\n",
       "      <th>3</th>\n",
       "      <td>0</td>\n",
       "      <td>45.0</td>\n",
       "      <td>F</td>\n",
       "      <td>2</td>\n",
       "      <td>Graduate</td>\n",
       "      <td>Married</td>\n",
       "      <td>Unknown</td>\n",
       "      <td>Blue</td>\n",
       "      <td>37</td>\n",
       "      <td>6</td>\n",
       "      <td>1</td>\n",
       "      <td>2</td>\n",
       "      <td>14470.0</td>\n",
       "      <td>1157</td>\n",
       "      <td>13313.0</td>\n",
       "      <td>0.966</td>\n",
       "      <td>1207.0</td>\n",
       "      <td>21.0</td>\n",
       "      <td>0.909</td>\n",
       "      <td>0.080</td>\n",
       "    </tr>\n",
       "    <tr>\n",
       "      <th>4</th>\n",
       "      <td>0</td>\n",
       "      <td>47.0</td>\n",
       "      <td>M</td>\n",
       "      <td>1</td>\n",
       "      <td>Doctorate</td>\n",
       "      <td>Divorced</td>\n",
       "      <td>$60K - $80K</td>\n",
       "      <td>Blue</td>\n",
       "      <td>42</td>\n",
       "      <td>5</td>\n",
       "      <td>2</td>\n",
       "      <td>0</td>\n",
       "      <td>20979.0</td>\n",
       "      <td>1800</td>\n",
       "      <td>19179.0</td>\n",
       "      <td>0.906</td>\n",
       "      <td>1178.0</td>\n",
       "      <td>27.0</td>\n",
       "      <td>0.929</td>\n",
       "      <td>0.086</td>\n",
       "    </tr>\n",
       "  </tbody>\n",
       "</table>\n",
       "</div>"
      ],
      "text/plain": [
       "   Attrition_Flag   Age Gender  Dependent_Count   Education Marital_Status  \\\n",
       "0               0  44.0      M                2    Graduate        Married   \n",
       "1               0  42.0      M                5  Uneducated        Unknown   \n",
       "2               0  57.0      F                2    Graduate        Married   \n",
       "3               0  45.0      F                2    Graduate        Married   \n",
       "4               0  47.0      M                1   Doctorate       Divorced   \n",
       "\n",
       "           Income Card_Category  Months_On_Book  Total_Relationship_Count  \\\n",
       "0     $40K - $60K          Blue              36                         3   \n",
       "1         $120K +          Blue              31                         5   \n",
       "2  Less than $40K          Blue              48                         5   \n",
       "3         Unknown          Blue              37                         6   \n",
       "4     $60K - $80K          Blue              42                         5   \n",
       "\n",
       "   Months_Inactive  Contacts_Count  Credit_Limit  Total_Revolving_Bal  \\\n",
       "0                1               2        4010.0                 1247   \n",
       "1                3               2        6748.0                 1467   \n",
       "2                2               2        2436.0                  680   \n",
       "3                1               2       14470.0                 1157   \n",
       "4                2               0       20979.0                 1800   \n",
       "\n",
       "   Avg_Open_To_Buy  Total_Amt_Chng_Q4_Q1  Total_Trans_Amt  Total_Trans_Ct  \\\n",
       "0           2763.0                 1.376           1088.0            24.0   \n",
       "1           5281.0                 0.831           1201.0            42.0   \n",
       "2           1756.0                 1.190           1570.0            29.0   \n",
       "3          13313.0                 0.966           1207.0            21.0   \n",
       "4          19179.0                 0.906           1178.0            27.0   \n",
       "\n",
       "   Total_Ct_Chng_Q4_Q1  Avg_Utilization_Ratio  \n",
       "0                0.846                  0.311  \n",
       "1                0.680                  0.217  \n",
       "2                0.611                  0.279  \n",
       "3                0.909                  0.080  \n",
       "4                0.929                  0.086  "
      ]
     },
     "execution_count": 6,
     "metadata": {},
     "output_type": "execute_result"
    }
   ],
   "source": [
    "df_preprocessing.head()"
   ]
  },
  {
   "cell_type": "markdown",
   "metadata": {},
   "source": [
    "## 3. Seperating target features and predictor features"
   ]
  },
  {
   "cell_type": "code",
   "execution_count": 7,
   "metadata": {},
   "outputs": [],
   "source": [
    "X = df_preprocessing.drop('Attrition_Flag', axis=1)\n",
    "y = df_preprocessing['Attrition_Flag']"
   ]
  },
  {
   "cell_type": "code",
   "execution_count": 8,
   "metadata": {},
   "outputs": [],
   "source": [
    "# Splitting into train and test \n",
    "X_train, X_test, y_train, y_test = train_test_split(X, y, test_size=0.25, random_state=123)"
   ]
  },
  {
   "cell_type": "code",
   "execution_count": 9,
   "metadata": {},
   "outputs": [],
   "source": [
    "# Reindexing all four splits\n",
    "X_train = X_train.reset_index(drop=True)\n",
    "X_test = X_test.reset_index(drop=True)\n",
    "y_train = y_train.reset_index(drop=True)\n",
    "y_test = y_test.reset_index(drop=True)"
   ]
  },
  {
   "cell_type": "code",
   "execution_count": 10,
   "metadata": {},
   "outputs": [
    {
     "name": "stdout",
     "output_type": "stream",
     "text": [
      "X_train.shape: (7108, 19), X_test.shape: (2370, 19)\n"
     ]
    }
   ],
   "source": [
    "print(f'X_train.shape: {X_train.shape}, X_test.shape: {X_test.shape}')"
   ]
  },
  {
   "cell_type": "code",
   "execution_count": 11,
   "metadata": {},
   "outputs": [
    {
     "name": "stdout",
     "output_type": "stream",
     "text": [
      "y_train.shape: (7108,), y_test.shape: (2370,)\n"
     ]
    }
   ],
   "source": [
    "print(f'y_train.shape: {y_train.shape}, y_test.shape: {y_test.shape}')"
   ]
  },
  {
   "cell_type": "code",
   "execution_count": 12,
   "metadata": {},
   "outputs": [
    {
     "data": {
      "text/html": [
       "<div>\n",
       "<style scoped>\n",
       "    .dataframe tbody tr th:only-of-type {\n",
       "        vertical-align: middle;\n",
       "    }\n",
       "\n",
       "    .dataframe tbody tr th {\n",
       "        vertical-align: top;\n",
       "    }\n",
       "\n",
       "    .dataframe thead th {\n",
       "        text-align: right;\n",
       "    }\n",
       "</style>\n",
       "<table border=\"1\" class=\"dataframe\">\n",
       "  <thead>\n",
       "    <tr style=\"text-align: right;\">\n",
       "      <th></th>\n",
       "      <th>Age</th>\n",
       "      <th>Gender</th>\n",
       "      <th>Dependent_Count</th>\n",
       "      <th>Education</th>\n",
       "      <th>Marital_Status</th>\n",
       "      <th>Income</th>\n",
       "      <th>Card_Category</th>\n",
       "      <th>Months_On_Book</th>\n",
       "      <th>Total_Relationship_Count</th>\n",
       "      <th>Months_Inactive</th>\n",
       "      <th>Contacts_Count</th>\n",
       "      <th>Credit_Limit</th>\n",
       "      <th>Total_Revolving_Bal</th>\n",
       "      <th>Avg_Open_To_Buy</th>\n",
       "      <th>Total_Amt_Chng_Q4_Q1</th>\n",
       "      <th>Total_Trans_Amt</th>\n",
       "      <th>Total_Trans_Ct</th>\n",
       "      <th>Total_Ct_Chng_Q4_Q1</th>\n",
       "      <th>Avg_Utilization_Ratio</th>\n",
       "    </tr>\n",
       "  </thead>\n",
       "  <tbody>\n",
       "    <tr>\n",
       "      <th>0</th>\n",
       "      <td>52.0</td>\n",
       "      <td>F</td>\n",
       "      <td>1</td>\n",
       "      <td>High School</td>\n",
       "      <td>Married</td>\n",
       "      <td>Less than $40K</td>\n",
       "      <td>Blue</td>\n",
       "      <td>36</td>\n",
       "      <td>2</td>\n",
       "      <td>2</td>\n",
       "      <td>2</td>\n",
       "      <td>2253.0</td>\n",
       "      <td>1981</td>\n",
       "      <td>272.0</td>\n",
       "      <td>0.550</td>\n",
       "      <td>4758.0</td>\n",
       "      <td>81.0</td>\n",
       "      <td>0.723</td>\n",
       "      <td>0.879</td>\n",
       "    </tr>\n",
       "    <tr>\n",
       "      <th>1</th>\n",
       "      <td>33.0</td>\n",
       "      <td>M</td>\n",
       "      <td>3</td>\n",
       "      <td>High School</td>\n",
       "      <td>Married</td>\n",
       "      <td>$80K - $120K</td>\n",
       "      <td>Blue</td>\n",
       "      <td>22</td>\n",
       "      <td>5</td>\n",
       "      <td>3</td>\n",
       "      <td>2</td>\n",
       "      <td>9094.0</td>\n",
       "      <td>0</td>\n",
       "      <td>9094.0</td>\n",
       "      <td>0.631</td>\n",
       "      <td>4203.0</td>\n",
       "      <td>76.0</td>\n",
       "      <td>0.727</td>\n",
       "      <td>0.000</td>\n",
       "    </tr>\n",
       "    <tr>\n",
       "      <th>2</th>\n",
       "      <td>52.0</td>\n",
       "      <td>F</td>\n",
       "      <td>3</td>\n",
       "      <td>Graduate</td>\n",
       "      <td>Married</td>\n",
       "      <td>Less than $40K</td>\n",
       "      <td>Blue</td>\n",
       "      <td>36</td>\n",
       "      <td>5</td>\n",
       "      <td>3</td>\n",
       "      <td>3</td>\n",
       "      <td>2566.0</td>\n",
       "      <td>1079</td>\n",
       "      <td>1487.0</td>\n",
       "      <td>0.554</td>\n",
       "      <td>2340.0</td>\n",
       "      <td>36.0</td>\n",
       "      <td>0.500</td>\n",
       "      <td>0.420</td>\n",
       "    </tr>\n",
       "    <tr>\n",
       "      <th>3</th>\n",
       "      <td>48.0</td>\n",
       "      <td>F</td>\n",
       "      <td>4</td>\n",
       "      <td>Doctorate</td>\n",
       "      <td>Unknown</td>\n",
       "      <td>Unknown</td>\n",
       "      <td>Blue</td>\n",
       "      <td>24</td>\n",
       "      <td>4</td>\n",
       "      <td>2</td>\n",
       "      <td>3</td>\n",
       "      <td>1438.3</td>\n",
       "      <td>0</td>\n",
       "      <td>1438.3</td>\n",
       "      <td>0.738</td>\n",
       "      <td>2306.0</td>\n",
       "      <td>46.0</td>\n",
       "      <td>0.484</td>\n",
       "      <td>0.000</td>\n",
       "    </tr>\n",
       "    <tr>\n",
       "      <th>4</th>\n",
       "      <td>48.0</td>\n",
       "      <td>M</td>\n",
       "      <td>4</td>\n",
       "      <td>Graduate</td>\n",
       "      <td>Married</td>\n",
       "      <td>$60K - $80K</td>\n",
       "      <td>Blue</td>\n",
       "      <td>37</td>\n",
       "      <td>2</td>\n",
       "      <td>2</td>\n",
       "      <td>1</td>\n",
       "      <td>18477.0</td>\n",
       "      <td>0</td>\n",
       "      <td>18477.0</td>\n",
       "      <td>0.771</td>\n",
       "      <td>8695.0</td>\n",
       "      <td>95.0</td>\n",
       "      <td>0.583</td>\n",
       "      <td>0.000</td>\n",
       "    </tr>\n",
       "  </tbody>\n",
       "</table>\n",
       "</div>"
      ],
      "text/plain": [
       "    Age Gender  Dependent_Count    Education Marital_Status          Income  \\\n",
       "0  52.0      F                1  High School        Married  Less than $40K   \n",
       "1  33.0      M                3  High School        Married    $80K - $120K   \n",
       "2  52.0      F                3     Graduate        Married  Less than $40K   \n",
       "3  48.0      F                4    Doctorate        Unknown         Unknown   \n",
       "4  48.0      M                4     Graduate        Married     $60K - $80K   \n",
       "\n",
       "  Card_Category  Months_On_Book  Total_Relationship_Count  Months_Inactive  \\\n",
       "0          Blue              36                         2                2   \n",
       "1          Blue              22                         5                3   \n",
       "2          Blue              36                         5                3   \n",
       "3          Blue              24                         4                2   \n",
       "4          Blue              37                         2                2   \n",
       "\n",
       "   Contacts_Count  Credit_Limit  Total_Revolving_Bal  Avg_Open_To_Buy  \\\n",
       "0               2        2253.0                 1981            272.0   \n",
       "1               2        9094.0                    0           9094.0   \n",
       "2               3        2566.0                 1079           1487.0   \n",
       "3               3        1438.3                    0           1438.3   \n",
       "4               1       18477.0                    0          18477.0   \n",
       "\n",
       "   Total_Amt_Chng_Q4_Q1  Total_Trans_Amt  Total_Trans_Ct  Total_Ct_Chng_Q4_Q1  \\\n",
       "0                 0.550           4758.0            81.0                0.723   \n",
       "1                 0.631           4203.0            76.0                0.727   \n",
       "2                 0.554           2340.0            36.0                0.500   \n",
       "3                 0.738           2306.0            46.0                0.484   \n",
       "4                 0.771           8695.0            95.0                0.583   \n",
       "\n",
       "   Avg_Utilization_Ratio  \n",
       "0                  0.879  \n",
       "1                  0.000  \n",
       "2                  0.420  \n",
       "3                  0.000  \n",
       "4                  0.000  "
      ]
     },
     "execution_count": 12,
     "metadata": {},
     "output_type": "execute_result"
    }
   ],
   "source": [
    "X_train.head()"
   ]
  },
  {
   "cell_type": "code",
   "execution_count": 13,
   "metadata": {},
   "outputs": [
    {
     "data": {
      "text/plain": [
       "0    0\n",
       "1    0\n",
       "2    1\n",
       "3    1\n",
       "4    0\n",
       "Name: Attrition_Flag, dtype: int64"
      ]
     },
     "execution_count": 13,
     "metadata": {},
     "output_type": "execute_result"
    }
   ],
   "source": [
    "y_train.head()"
   ]
  },
  {
   "cell_type": "markdown",
   "metadata": {},
   "source": [
    "## 5. Scaling the numeric columns of the X_train and X_test dataframe"
   ]
  },
  {
   "cell_type": "code",
   "execution_count": 14,
   "metadata": {},
   "outputs": [],
   "source": [
    "# Standard scaling to numerical columns\n",
    "scaler = StandardScaler()"
   ]
  },
  {
   "cell_type": "code",
   "execution_count": 15,
   "metadata": {},
   "outputs": [],
   "source": [
    "X_train[X_train.select_dtypes('number').columns] = scaler.fit_transform(X_train[X_train.select_dtypes('number').columns])\n",
    "X_test[X_test.select_dtypes('number').columns] = scaler.fit_transform(X_test[X_test.select_dtypes('number').columns])"
   ]
  },
  {
   "cell_type": "markdown",
   "metadata": {},
   "source": [
    "## 6. Encoding Categorical columns"
   ]
  },
  {
   "cell_type": "code",
   "execution_count": 16,
   "metadata": {},
   "outputs": [],
   "source": [
    "# Encoding Categorical Columns\n",
    "X_train = pd.get_dummies(X_train, drop_first=True)"
   ]
  },
  {
   "cell_type": "code",
   "execution_count": 17,
   "metadata": {},
   "outputs": [],
   "source": [
    "X_test = pd.get_dummies(X_test, drop_first=True)"
   ]
  },
  {
   "cell_type": "code",
   "execution_count": 18,
   "metadata": {
    "scrolled": true
   },
   "outputs": [
    {
     "data": {
      "text/html": [
       "<div>\n",
       "<style scoped>\n",
       "    .dataframe tbody tr th:only-of-type {\n",
       "        vertical-align: middle;\n",
       "    }\n",
       "\n",
       "    .dataframe tbody tr th {\n",
       "        vertical-align: top;\n",
       "    }\n",
       "\n",
       "    .dataframe thead th {\n",
       "        text-align: right;\n",
       "    }\n",
       "</style>\n",
       "<table border=\"1\" class=\"dataframe\">\n",
       "  <thead>\n",
       "    <tr style=\"text-align: right;\">\n",
       "      <th></th>\n",
       "      <th>Age</th>\n",
       "      <th>Dependent_Count</th>\n",
       "      <th>Months_On_Book</th>\n",
       "      <th>Total_Relationship_Count</th>\n",
       "      <th>Months_Inactive</th>\n",
       "      <th>Contacts_Count</th>\n",
       "      <th>Credit_Limit</th>\n",
       "      <th>Total_Revolving_Bal</th>\n",
       "      <th>Avg_Open_To_Buy</th>\n",
       "      <th>Total_Amt_Chng_Q4_Q1</th>\n",
       "      <th>...</th>\n",
       "      <th>Marital_Status_Single</th>\n",
       "      <th>Marital_Status_Unknown</th>\n",
       "      <th>Income_$40K - $60K</th>\n",
       "      <th>Income_$60K - $80K</th>\n",
       "      <th>Income_$80K - $120K</th>\n",
       "      <th>Income_Less than $40K</th>\n",
       "      <th>Income_Unknown</th>\n",
       "      <th>Card_Category_Gold</th>\n",
       "      <th>Card_Category_Platinum</th>\n",
       "      <th>Card_Category_Silver</th>\n",
       "    </tr>\n",
       "  </thead>\n",
       "  <tbody>\n",
       "    <tr>\n",
       "      <th>0</th>\n",
       "      <td>0.710852</td>\n",
       "      <td>-1.042934</td>\n",
       "      <td>0.009833</td>\n",
       "      <td>-1.183174</td>\n",
       "      <td>-0.336100</td>\n",
       "      <td>-0.418276</td>\n",
       "      <td>-0.681429</td>\n",
       "      <td>1.014035</td>\n",
       "      <td>-0.773185</td>\n",
       "      <td>-1.055874</td>\n",
       "      <td>...</td>\n",
       "      <td>0</td>\n",
       "      <td>0</td>\n",
       "      <td>0</td>\n",
       "      <td>0</td>\n",
       "      <td>0</td>\n",
       "      <td>1</td>\n",
       "      <td>0</td>\n",
       "      <td>0</td>\n",
       "      <td>0</td>\n",
       "      <td>0</td>\n",
       "    </tr>\n",
       "    <tr>\n",
       "      <th>1</th>\n",
       "      <td>-1.669559</td>\n",
       "      <td>0.501317</td>\n",
       "      <td>-1.743667</td>\n",
       "      <td>0.745873</td>\n",
       "      <td>0.654364</td>\n",
       "      <td>-0.418276</td>\n",
       "      <td>0.080113</td>\n",
       "      <td>-1.407099</td>\n",
       "      <td>0.208114</td>\n",
       "      <td>-0.616482</td>\n",
       "      <td>...</td>\n",
       "      <td>0</td>\n",
       "      <td>0</td>\n",
       "      <td>0</td>\n",
       "      <td>0</td>\n",
       "      <td>1</td>\n",
       "      <td>0</td>\n",
       "      <td>0</td>\n",
       "      <td>0</td>\n",
       "      <td>0</td>\n",
       "      <td>0</td>\n",
       "    </tr>\n",
       "    <tr>\n",
       "      <th>2</th>\n",
       "      <td>0.710852</td>\n",
       "      <td>0.501317</td>\n",
       "      <td>0.009833</td>\n",
       "      <td>0.745873</td>\n",
       "      <td>0.654364</td>\n",
       "      <td>0.485129</td>\n",
       "      <td>-0.646585</td>\n",
       "      <td>-0.088370</td>\n",
       "      <td>-0.638037</td>\n",
       "      <td>-1.034175</td>\n",
       "      <td>...</td>\n",
       "      <td>0</td>\n",
       "      <td>0</td>\n",
       "      <td>0</td>\n",
       "      <td>0</td>\n",
       "      <td>0</td>\n",
       "      <td>1</td>\n",
       "      <td>0</td>\n",
       "      <td>0</td>\n",
       "      <td>0</td>\n",
       "      <td>0</td>\n",
       "    </tr>\n",
       "    <tr>\n",
       "      <th>3</th>\n",
       "      <td>0.209713</td>\n",
       "      <td>1.273442</td>\n",
       "      <td>-1.493167</td>\n",
       "      <td>0.102857</td>\n",
       "      <td>-0.336100</td>\n",
       "      <td>0.485129</td>\n",
       "      <td>-0.772121</td>\n",
       "      <td>-1.407099</td>\n",
       "      <td>-0.643454</td>\n",
       "      <td>-0.036050</td>\n",
       "      <td>...</td>\n",
       "      <td>0</td>\n",
       "      <td>1</td>\n",
       "      <td>0</td>\n",
       "      <td>0</td>\n",
       "      <td>0</td>\n",
       "      <td>0</td>\n",
       "      <td>1</td>\n",
       "      <td>0</td>\n",
       "      <td>0</td>\n",
       "      <td>0</td>\n",
       "    </tr>\n",
       "    <tr>\n",
       "      <th>4</th>\n",
       "      <td>0.209713</td>\n",
       "      <td>1.273442</td>\n",
       "      <td>0.135082</td>\n",
       "      <td>-1.183174</td>\n",
       "      <td>-0.336100</td>\n",
       "      <td>-1.321682</td>\n",
       "      <td>1.124630</td>\n",
       "      <td>-1.407099</td>\n",
       "      <td>1.251814</td>\n",
       "      <td>0.142962</td>\n",
       "      <td>...</td>\n",
       "      <td>0</td>\n",
       "      <td>0</td>\n",
       "      <td>0</td>\n",
       "      <td>1</td>\n",
       "      <td>0</td>\n",
       "      <td>0</td>\n",
       "      <td>0</td>\n",
       "      <td>0</td>\n",
       "      <td>0</td>\n",
       "      <td>0</td>\n",
       "    </tr>\n",
       "  </tbody>\n",
       "</table>\n",
       "<p>5 rows × 32 columns</p>\n",
       "</div>"
      ],
      "text/plain": [
       "        Age  Dependent_Count  Months_On_Book  Total_Relationship_Count  \\\n",
       "0  0.710852        -1.042934        0.009833                 -1.183174   \n",
       "1 -1.669559         0.501317       -1.743667                  0.745873   \n",
       "2  0.710852         0.501317        0.009833                  0.745873   \n",
       "3  0.209713         1.273442       -1.493167                  0.102857   \n",
       "4  0.209713         1.273442        0.135082                 -1.183174   \n",
       "\n",
       "   Months_Inactive  Contacts_Count  Credit_Limit  Total_Revolving_Bal  \\\n",
       "0        -0.336100       -0.418276     -0.681429             1.014035   \n",
       "1         0.654364       -0.418276      0.080113            -1.407099   \n",
       "2         0.654364        0.485129     -0.646585            -0.088370   \n",
       "3        -0.336100        0.485129     -0.772121            -1.407099   \n",
       "4        -0.336100       -1.321682      1.124630            -1.407099   \n",
       "\n",
       "   Avg_Open_To_Buy  Total_Amt_Chng_Q4_Q1  ...  Marital_Status_Single  \\\n",
       "0        -0.773185             -1.055874  ...                      0   \n",
       "1         0.208114             -0.616482  ...                      0   \n",
       "2        -0.638037             -1.034175  ...                      0   \n",
       "3        -0.643454             -0.036050  ...                      0   \n",
       "4         1.251814              0.142962  ...                      0   \n",
       "\n",
       "   Marital_Status_Unknown  Income_$40K - $60K  Income_$60K - $80K  \\\n",
       "0                       0                   0                   0   \n",
       "1                       0                   0                   0   \n",
       "2                       0                   0                   0   \n",
       "3                       1                   0                   0   \n",
       "4                       0                   0                   1   \n",
       "\n",
       "   Income_$80K - $120K  Income_Less than $40K  Income_Unknown  \\\n",
       "0                    0                      1               0   \n",
       "1                    1                      0               0   \n",
       "2                    0                      1               0   \n",
       "3                    0                      0               1   \n",
       "4                    0                      0               0   \n",
       "\n",
       "   Card_Category_Gold  Card_Category_Platinum  Card_Category_Silver  \n",
       "0                   0                       0                     0  \n",
       "1                   0                       0                     0  \n",
       "2                   0                       0                     0  \n",
       "3                   0                       0                     0  \n",
       "4                   0                       0                     0  \n",
       "\n",
       "[5 rows x 32 columns]"
      ]
     },
     "execution_count": 18,
     "metadata": {},
     "output_type": "execute_result"
    }
   ],
   "source": [
    "X_train.head()"
   ]
  },
  {
   "cell_type": "code",
   "execution_count": 19,
   "metadata": {},
   "outputs": [
    {
     "data": {
      "text/plain": [
       "(7108, 32)"
      ]
     },
     "execution_count": 19,
     "metadata": {},
     "output_type": "execute_result"
    }
   ],
   "source": [
    "X_train.shape"
   ]
  },
  {
   "cell_type": "code",
   "execution_count": 20,
   "metadata": {},
   "outputs": [
    {
     "data": {
      "text/plain": [
       "(2370, 32)"
      ]
     },
     "execution_count": 20,
     "metadata": {},
     "output_type": "execute_result"
    }
   ],
   "source": [
    "X_test.shape"
   ]
  },
  {
   "cell_type": "code",
   "execution_count": 21,
   "metadata": {},
   "outputs": [
    {
     "data": {
      "text/plain": [
       "(7108,)"
      ]
     },
     "execution_count": 21,
     "metadata": {},
     "output_type": "execute_result"
    }
   ],
   "source": [
    "y_train.shape"
   ]
  },
  {
   "cell_type": "code",
   "execution_count": 22,
   "metadata": {},
   "outputs": [
    {
     "data": {
      "text/plain": [
       "(2370,)"
      ]
     },
     "execution_count": 22,
     "metadata": {},
     "output_type": "execute_result"
    }
   ],
   "source": [
    "y_test.shape"
   ]
  },
  {
   "cell_type": "markdown",
   "metadata": {},
   "source": [
    "## 8. Save the final dataframes for modeling"
   ]
  },
  {
   "cell_type": "code",
   "execution_count": 23,
   "metadata": {},
   "outputs": [],
   "source": [
    "X_train.to_csv('..\\Dataset\\X_train.csv')\n",
    "X_test.to_csv('..\\Dataset\\X_test.csv')\n",
    "y_train.to_csv('..\\Dataset\\y_train.csv')\n",
    "y_test.to_csv('..\\Dataset\\y_test.csv')"
   ]
  }
 ],
 "metadata": {
  "kernelspec": {
   "display_name": "Python 3",
   "language": "python",
   "name": "python3"
  },
  "language_info": {
   "codemirror_mode": {
    "name": "ipython",
    "version": 3
   },
   "file_extension": ".py",
   "mimetype": "text/x-python",
   "name": "python",
   "nbconvert_exporter": "python",
   "pygments_lexer": "ipython3",
   "version": "3.8.5"
  }
 },
 "nbformat": 4,
 "nbformat_minor": 4
}
