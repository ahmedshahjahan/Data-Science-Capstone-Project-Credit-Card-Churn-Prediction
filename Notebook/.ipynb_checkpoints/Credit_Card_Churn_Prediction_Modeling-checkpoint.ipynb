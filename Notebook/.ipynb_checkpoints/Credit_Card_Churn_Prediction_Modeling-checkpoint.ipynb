{
 "cells": [
  {
   "cell_type": "markdown",
   "metadata": {},
   "source": [
    "# Bank Churners Prediction (Modeling)"
   ]
  },
  {
   "cell_type": "markdown",
   "metadata": {},
   "source": [
    "## 1. Importing libraries and dataframes"
   ]
  },
  {
   "cell_type": "code",
   "execution_count": 1,
   "metadata": {},
   "outputs": [],
   "source": [
    "import pandas as pd\n",
    "import numpy as np\n",
    "import seaborn as sns\n",
    "import matplotlib.pyplot as plt\n",
    "from sklearn.model_selection import train_test_split\n",
    "from sklearn.model_selection import GridSearchCV\n",
    "from sklearn.model_selection import RandomizedSearchCV\n",
    "from sklearn.model_selection import cross_val_score\n",
    "from sklearn.neighbors import KNeighborsClassifier\n",
    "from sklearn.linear_model import LogisticRegression\n",
    "from sklearn.tree import DecisionTreeClassifier\n",
    "from sklearn.svm import SVC\n",
    "from sklearn.ensemble import RandomForestClassifier\n",
    "from sklearn.ensemble import GradientBoostingClassifier\n",
    "import xgboost as xgb\n",
    "from sklearn.metrics import classification_report, confusion_matrix, roc_curve, auc, roc_auc_score\n",
    "from sklearn.metrics import precision_score, recall_score, f1_score\n",
    "from sklearn.metrics import accuracy_score\n",
    "from sklearn.metrics import plot_confusion_matrix"
   ]
  },
  {
   "cell_type": "code",
   "execution_count": 2,
   "metadata": {},
   "outputs": [],
   "source": [
    "X_train = pd.read_csv('..\\Dataset\\X_train.csv', index_col=0).reset_index(drop=True)\n",
    "X_test = pd.read_csv('..\\Dataset\\X_test.csv', index_col=0).reset_index(drop=True)\n",
    "y_train = pd.read_csv('..\\Dataset\\y_train.csv', index_col=0).reset_index(drop=True).values.ravel()\n",
    "y_test = pd.read_csv('..\\Dataset\\y_test.csv', index_col=0).reset_index(drop=True).values.ravel()"
   ]
  },
  {
   "cell_type": "code",
   "execution_count": 3,
   "metadata": {},
   "outputs": [
    {
     "data": {
      "text/html": [
       "<div>\n",
       "<style scoped>\n",
       "    .dataframe tbody tr th:only-of-type {\n",
       "        vertical-align: middle;\n",
       "    }\n",
       "\n",
       "    .dataframe tbody tr th {\n",
       "        vertical-align: top;\n",
       "    }\n",
       "\n",
       "    .dataframe thead th {\n",
       "        text-align: right;\n",
       "    }\n",
       "</style>\n",
       "<table border=\"1\" class=\"dataframe\">\n",
       "  <thead>\n",
       "    <tr style=\"text-align: right;\">\n",
       "      <th></th>\n",
       "      <th>Age</th>\n",
       "      <th>Dependent_Count</th>\n",
       "      <th>Months_On_Book</th>\n",
       "      <th>Total_Relationship_Count</th>\n",
       "      <th>Months_Inactive</th>\n",
       "      <th>Contacts_Count</th>\n",
       "      <th>Credit_Limit</th>\n",
       "      <th>Total_Revolving_Bal</th>\n",
       "      <th>Avg_Open_To_Buy</th>\n",
       "      <th>Total_Amt_Chng_Q4_Q1</th>\n",
       "      <th>...</th>\n",
       "      <th>Marital_Status_Single</th>\n",
       "      <th>Marital_Status_Unknown</th>\n",
       "      <th>Income_$40K - $60K</th>\n",
       "      <th>Income_$60K - $80K</th>\n",
       "      <th>Income_$80K - $120K</th>\n",
       "      <th>Income_Less than $40K</th>\n",
       "      <th>Income_Unknown</th>\n",
       "      <th>Card_Category_Gold</th>\n",
       "      <th>Card_Category_Platinum</th>\n",
       "      <th>Card_Category_Silver</th>\n",
       "    </tr>\n",
       "  </thead>\n",
       "  <tbody>\n",
       "    <tr>\n",
       "      <th>0</th>\n",
       "      <td>-0.791543</td>\n",
       "      <td>0.498352</td>\n",
       "      <td>0.002708</td>\n",
       "      <td>-1.841984</td>\n",
       "      <td>0.745299</td>\n",
       "      <td>-0.415160</td>\n",
       "      <td>0.324106</td>\n",
       "      <td>0.617387</td>\n",
       "      <td>0.267968</td>\n",
       "      <td>1.339053</td>\n",
       "      <td>...</td>\n",
       "      <td>0</td>\n",
       "      <td>0</td>\n",
       "      <td>0</td>\n",
       "      <td>0</td>\n",
       "      <td>0</td>\n",
       "      <td>1</td>\n",
       "      <td>0</td>\n",
       "      <td>0</td>\n",
       "      <td>0</td>\n",
       "      <td>1</td>\n",
       "    </tr>\n",
       "    <tr>\n",
       "      <th>1</th>\n",
       "      <td>-0.037350</td>\n",
       "      <td>1.269124</td>\n",
       "      <td>0.002708</td>\n",
       "      <td>-0.550727</td>\n",
       "      <td>-1.400375</td>\n",
       "      <td>1.442415</td>\n",
       "      <td>0.274543</td>\n",
       "      <td>0.291116</td>\n",
       "      <td>0.247961</td>\n",
       "      <td>-0.444369</td>\n",
       "      <td>...</td>\n",
       "      <td>0</td>\n",
       "      <td>0</td>\n",
       "      <td>0</td>\n",
       "      <td>0</td>\n",
       "      <td>0</td>\n",
       "      <td>1</td>\n",
       "      <td>0</td>\n",
       "      <td>0</td>\n",
       "      <td>0</td>\n",
       "      <td>1</td>\n",
       "    </tr>\n",
       "    <tr>\n",
       "      <th>2</th>\n",
       "      <td>0.716844</td>\n",
       "      <td>-1.813965</td>\n",
       "      <td>0.002708</td>\n",
       "      <td>0.740530</td>\n",
       "      <td>-1.400375</td>\n",
       "      <td>-0.415160</td>\n",
       "      <td>-0.657427</td>\n",
       "      <td>-0.068149</td>\n",
       "      <td>-0.650666</td>\n",
       "      <td>0.711856</td>\n",
       "      <td>...</td>\n",
       "      <td>1</td>\n",
       "      <td>0</td>\n",
       "      <td>0</td>\n",
       "      <td>0</td>\n",
       "      <td>0</td>\n",
       "      <td>1</td>\n",
       "      <td>0</td>\n",
       "      <td>0</td>\n",
       "      <td>0</td>\n",
       "      <td>0</td>\n",
       "    </tr>\n",
       "    <tr>\n",
       "      <th>3</th>\n",
       "      <td>-1.420038</td>\n",
       "      <td>-0.272420</td>\n",
       "      <td>-0.753447</td>\n",
       "      <td>1.386159</td>\n",
       "      <td>0.745299</td>\n",
       "      <td>0.513627</td>\n",
       "      <td>1.462074</td>\n",
       "      <td>0.127369</td>\n",
       "      <td>1.449226</td>\n",
       "      <td>0.270090</td>\n",
       "      <td>...</td>\n",
       "      <td>1</td>\n",
       "      <td>0</td>\n",
       "      <td>0</td>\n",
       "      <td>1</td>\n",
       "      <td>0</td>\n",
       "      <td>0</td>\n",
       "      <td>0</td>\n",
       "      <td>0</td>\n",
       "      <td>0</td>\n",
       "      <td>0</td>\n",
       "    </tr>\n",
       "    <tr>\n",
       "      <th>4</th>\n",
       "      <td>0.716844</td>\n",
       "      <td>0.498352</td>\n",
       "      <td>0.632838</td>\n",
       "      <td>-1.196355</td>\n",
       "      <td>0.745299</td>\n",
       "      <td>-0.415160</td>\n",
       "      <td>-0.778979</td>\n",
       "      <td>-0.446965</td>\n",
       "      <td>-0.737843</td>\n",
       "      <td>-0.777057</td>\n",
       "      <td>...</td>\n",
       "      <td>1</td>\n",
       "      <td>0</td>\n",
       "      <td>0</td>\n",
       "      <td>0</td>\n",
       "      <td>0</td>\n",
       "      <td>1</td>\n",
       "      <td>0</td>\n",
       "      <td>0</td>\n",
       "      <td>0</td>\n",
       "      <td>0</td>\n",
       "    </tr>\n",
       "  </tbody>\n",
       "</table>\n",
       "<p>5 rows × 32 columns</p>\n",
       "</div>"
      ],
      "text/plain": [
       "        Age  Dependent_Count  Months_On_Book  Total_Relationship_Count  \\\n",
       "0 -0.791543         0.498352        0.002708                 -1.841984   \n",
       "1 -0.037350         1.269124        0.002708                 -0.550727   \n",
       "2  0.716844        -1.813965        0.002708                  0.740530   \n",
       "3 -1.420038        -0.272420       -0.753447                  1.386159   \n",
       "4  0.716844         0.498352        0.632838                 -1.196355   \n",
       "\n",
       "   Months_Inactive  Contacts_Count  Credit_Limit  Total_Revolving_Bal  \\\n",
       "0         0.745299       -0.415160      0.324106             0.617387   \n",
       "1        -1.400375        1.442415      0.274543             0.291116   \n",
       "2        -1.400375       -0.415160     -0.657427            -0.068149   \n",
       "3         0.745299        0.513627      1.462074             0.127369   \n",
       "4         0.745299       -0.415160     -0.778979            -0.446965   \n",
       "\n",
       "   Avg_Open_To_Buy  Total_Amt_Chng_Q4_Q1  ...  Marital_Status_Single  \\\n",
       "0         0.267968              1.339053  ...                      0   \n",
       "1         0.247961             -0.444369  ...                      0   \n",
       "2        -0.650666              0.711856  ...                      1   \n",
       "3         1.449226              0.270090  ...                      1   \n",
       "4        -0.737843             -0.777057  ...                      1   \n",
       "\n",
       "   Marital_Status_Unknown  Income_$40K - $60K  Income_$60K - $80K  \\\n",
       "0                       0                   0                   0   \n",
       "1                       0                   0                   0   \n",
       "2                       0                   0                   0   \n",
       "3                       0                   0                   1   \n",
       "4                       0                   0                   0   \n",
       "\n",
       "   Income_$80K - $120K  Income_Less than $40K  Income_Unknown  \\\n",
       "0                    0                      1               0   \n",
       "1                    0                      1               0   \n",
       "2                    0                      1               0   \n",
       "3                    0                      0               0   \n",
       "4                    0                      1               0   \n",
       "\n",
       "   Card_Category_Gold  Card_Category_Platinum  Card_Category_Silver  \n",
       "0                   0                       0                     1  \n",
       "1                   0                       0                     1  \n",
       "2                   0                       0                     0  \n",
       "3                   0                       0                     0  \n",
       "4                   0                       0                     0  \n",
       "\n",
       "[5 rows x 32 columns]"
      ]
     },
     "execution_count": 3,
     "metadata": {},
     "output_type": "execute_result"
    }
   ],
   "source": [
    "X_train.head()"
   ]
  },
  {
   "cell_type": "markdown",
   "metadata": {},
   "source": [
    "## 2. Customer attrition prediction using K Nearest Neighbors Classifier"
   ]
  },
  {
   "cell_type": "markdown",
   "metadata": {},
   "source": [
    "Tuning hyperparameters for KNN classifier"
   ]
  },
  {
   "cell_type": "code",
   "execution_count": 4,
   "metadata": {},
   "outputs": [
    {
     "name": "stdout",
     "output_type": "stream",
     "text": [
      "Best Parameters: {'p': 1, 'n_neighbors': 5, 'leaf_size': 48}\n",
      "Best Score: 0.9010856711542496\n"
     ]
    }
   ],
   "source": [
    "# define models and parameters\n",
    "param_grid = {'n_neighbors': list(range(1,11)), 'leaf_size': list(range(1,50)), 'p':[1,2]}\n",
    "knn = KNeighborsClassifier()\n",
    "\n",
    "# define randomized search cv and train the training dataset\n",
    "knn_cv = RandomizedSearchCV(estimator = knn, param_distributions = param_grid, cv=5, scoring='f1_weighted')\n",
    "best_model = knn_cv.fit(X_train, y_train)\n",
    "\n",
    "# Get the optimum hyperparameter\n",
    "best_params = best_model.best_params_\n",
    "print('Best Parameters:', best_params)\n",
    "print('Best Score:', best_model.best_score_)"
   ]
  },
  {
   "cell_type": "markdown",
   "metadata": {},
   "source": [
    "Creating an optimum KNN Classifier by using best parameters from RandomizedSearchCV()"
   ]
  },
  {
   "cell_type": "code",
   "execution_count": 5,
   "metadata": {
    "scrolled": false
   },
   "outputs": [
    {
     "name": "stdout",
     "output_type": "stream",
     "text": [
      "Model: KNeighborsClassifier(leaf_size=48, p=1)\n",
      "Precision Score: 0.843\n",
      "Recall Score: 0.556\n",
      "Training Accuracy: 0.941\n",
      "Test Accuracy: 0.909\n",
      "F1 Score: 0.901\n",
      "<sklearn.metrics._plot.confusion_matrix.ConfusionMatrixDisplay object at 0x0000021DBF06B0D0>\n"
     ]
    },
    {
     "data": {
      "image/png": "[encoded data removed]",
      "text/plain": [
       "<Figure size 432x288 with 2 Axes>"
      ]
     },
     "metadata": {
      "needs_background": "light"
     },
     "output_type": "display_data"
    }
   ],
   "source": [
    "# Create the optimum KNN Classifier\n",
    "optimum_knn = KNeighborsClassifier(p = best_params['p'], n_neighbors = best_params['n_neighbors'], leaf_size = best_params['leaf_size'])\n",
    "# optimum_knn = KNeighborsClassifier(p = 2, n_neighbors = 5, leaf_size = 45)\n",
    "\n",
    "#Train the model using the training sets\n",
    "optimum_knn.fit(X_train, y_train)\n",
    "\n",
    "# Predict the response for test dataset\n",
    "y_pred = optimum_knn.predict(X_test)\n",
    "\n",
    "# Measuring model's performance using different evaluation metrics\n",
    "print('Model:', optimum_knn)\n",
    "print('Precision Score: %.3f' % (precision_score(y_test, y_pred)))\n",
    "print('Recall Score: %.3f' % (recall_score(y_test, y_pred)))\n",
    "print('Training Accuracy: %.3f' % (optimum_knn.score(X_train, y_train)))\n",
    "print('Test Accuracy: %.3f' % (optimum_knn.score(X_test, y_test)))\n",
    "print('F1 Score: %.3f' % (f1_score(y_test, y_pred, average='weighted')))\n",
    "print(plot_confusion_matrix(optimum_knn, X_test, y_test, values_format = 'd' ))"
   ]
  },
  {
   "cell_type": "markdown",
   "metadata": {},
   "source": [
    "## 3. Customer attrition prediction using Logistic Regression Classifier"
   ]
  },
  {
   "cell_type": "markdown",
   "metadata": {},
   "source": [
    "Tuning hyperparameters for Logistic Regression classifier"
   ]
  },
  {
   "cell_type": "code",
   "execution_count": 6,
   "metadata": {
    "scrolled": false
   },
   "outputs": [
    {
     "name": "stdout",
     "output_type": "stream",
     "text": [
      "Best Parameters: {'C': 0.1, 'penalty': 'l2'}\n",
      "Best Score: 0.8984240687679084\n"
     ]
    }
   ],
   "source": [
    "# define models and parameters\n",
    "c_space = [0.001, 0.01, 0.1, 1, 10, 100]\n",
    "param_grid = {'C': c_space, 'penalty' : ['l2']}\n",
    "logreg = LogisticRegression(solver='newton-cg', max_iter=100)\n",
    "\n",
    "# define randomized search cv and train the training dataset\n",
    "logreg_cv = GridSearchCV(logreg, param_grid = param_grid, cv = 5)\n",
    "best_model = logreg_cv.fit(X_train, y_train)\n",
    "\n",
    "# Get the optimum hyperparameter\n",
    "best_params = best_model.best_params_\n",
    "print('Best Parameters:', best_params)\n",
    "print('Best Score:', best_model.best_score_)"
   ]
  },
  {
   "cell_type": "code",
   "execution_count": 7,
   "metadata": {},
   "outputs": [
    {
     "name": "stdout",
     "output_type": "stream",
     "text": [
      "Model: LogisticRegression(C=0.1)\n",
      "Precision Score: 0.778\n",
      "Recall Score: 0.589\n",
      "Training Accuracy: 0.901\n",
      "Test Accuracy: 0.904\n",
      "F1 Score: 0.898\n",
      "<sklearn.metrics._plot.confusion_matrix.ConfusionMatrixDisplay object at 0x0000021DC47265B0>\n"
     ]
    },
    {
     "data": {
      "image/png": "[encoded data removed]",
      "text/plain": [
       "<Figure size 432x288 with 2 Axes>"
      ]
     },
     "metadata": {
      "needs_background": "light"
     },
     "output_type": "display_data"
    }
   ],
   "source": [
    "# Create the optimum Logistic Regression Classifier\n",
    "optimum_logreg = LogisticRegression(C = best_params['C'], penalty = best_params['penalty'])\n",
    "# optimum_logreg = LogisticRegression(C = 0.1, penalty = 'l2')\n",
    "\n",
    "#Train the model using the training sets\n",
    "optimum_logreg.fit(X_train, y_train)\n",
    "\n",
    "#Predict the response for test dataset\n",
    "y_pred = optimum_logreg.predict(X_test)\n",
    "\n",
    "# Measuring model's performance using different evaluation metrics\n",
    "print('Model:', optimum_logreg)\n",
    "print('Precision Score: %.3f' % (precision_score(y_test, y_pred)))\n",
    "print('Recall Score: %.3f' % (recall_score(y_test, y_pred)))\n",
    "print('Training Accuracy: %.3f' % (optimum_logreg.score(X_train, y_train)))\n",
    "print('Test Accuracy: %.3f' % (optimum_logreg.score(X_test, y_test)))\n",
    "print('F1 Score: %.3f' % (f1_score(y_test, y_pred, average='weighted')))\n",
    "print(plot_confusion_matrix(optimum_logreg, X_test, y_test, values_format = 'd' ))"
   ]
  },
  {
   "cell_type": "markdown",
   "metadata": {},
   "source": [
    "## 4. Customer attrition prediction using Decision Tree Classifier"
   ]
  },
  {
   "cell_type": "markdown",
   "metadata": {},
   "source": [
    "Tuning hyperparameters for Decision Tree classifier"
   ]
  },
  {
   "cell_type": "code",
   "execution_count": 8,
   "metadata": {},
   "outputs": [
    {
     "name": "stdout",
     "output_type": "stream",
     "text": [
      "Best Parameters: {'max_depth': 7, 'criterion': 'gini'}\n",
      "Best Score: 0.9418338108882521\n"
     ]
    }
   ],
   "source": [
    "# define models and parameters\n",
    "param_grid = {'criterion': ['gini', 'entropy'], 'max_depth' : list(range(1,10))}\n",
    "clf = DecisionTreeClassifier()\n",
    "\n",
    "# define randomized search cv and train the training dataset\n",
    "clf_cv = RandomizedSearchCV(clf, param_distributions = param_grid, cv = 5)\n",
    "best_model = clf_cv.fit(X_train, y_train)\n",
    "\n",
    "# Get the optimum hyperparameter\n",
    "best_params = best_model.best_params_\n",
    "print('Best Parameters:', best_params)\n",
    "print('Best Score:', best_model.best_score_)"
   ]
  },
  {
   "cell_type": "code",
   "execution_count": 9,
   "metadata": {
    "scrolled": true
   },
   "outputs": [
    {
     "name": "stdout",
     "output_type": "stream",
     "text": [
      "Model: DecisionTreeClassifier(max_depth=7)\n",
      "Precision Score: 0.860\n",
      "Recall Score: 0.811\n",
      "Training Accuracy: 0.970\n",
      "Test Accuracy: 0.947\n",
      "F1 Score: 0.946\n",
      "<sklearn.metrics._plot.confusion_matrix.ConfusionMatrixDisplay object at 0x0000021DC497EEB0>\n"
     ]
    },
    {
     "data": {
      "image/png": "[encoded data removed]",
      "text/plain": [
       "<Figure size 432x288 with 2 Axes>"
      ]
     },
     "metadata": {
      "needs_background": "light"
     },
     "output_type": "display_data"
    }
   ],
   "source": [
    "#Create the optimum Decision Tree Classifier\n",
    "optimum_clf = DecisionTreeClassifier(criterion = best_params['criterion'], max_depth = best_params['max_depth'])\n",
    "\n",
    "#Train the model using the training sets\n",
    "optimum_clf.fit(X_train, y_train)\n",
    "\n",
    "#Predict the response for test dataset\n",
    "y_pred = optimum_clf.predict(X_test)\n",
    "\n",
    "# Measuring model's performance using different evaluation metrics\n",
    "print('Model:', optimum_clf)\n",
    "print('Precision Score: %.3f' % (precision_score(y_test, y_pred)))\n",
    "print('Recall Score: %.3f' % (recall_score(y_test, y_pred)))\n",
    "print('Training Accuracy: %.3f' % (optimum_clf.score(X_train, y_train)))\n",
    "print('Test Accuracy: %.3f' % (optimum_clf.score(X_test, y_test)))\n",
    "print('F1 Score: %.3f' % (f1_score(y_test, y_pred, average='weighted')))\n",
    "print(plot_confusion_matrix(optimum_clf, X_test, y_test, values_format = 'd' ))"
   ]
  },
  {
   "cell_type": "markdown",
   "metadata": {},
   "source": [
    "## 5. Customer attrition prediction using Support Vector Machines (SVM) Classifier"
   ]
  },
  {
   "cell_type": "code",
   "execution_count": 10,
   "metadata": {},
   "outputs": [
    {
     "name": "stdout",
     "output_type": "stream",
     "text": [
      "Fitting 5 folds for each of 48 candidates, totalling 240 fits\n",
      "[CV] C=0.1, gamma=1, kernel=rbf ......................................\n"
     ]
    },
    {
     "name": "stderr",
     "output_type": "stream",
     "text": [
      "[Parallel(n_jobs=1)]: Using backend SequentialBackend with 1 concurrent workers.\n"
     ]
    },
    {
     "name": "stdout",
     "output_type": "stream",
     "text": [
      "[CV] ....................... C=0.1, gamma=1, kernel=rbf, total=   3.6s\n",
      "[CV] C=0.1, gamma=1, kernel=rbf ......................................\n"
     ]
    },
    {
     "name": "stderr",
     "output_type": "stream",
     "text": [
      "[Parallel(n_jobs=1)]: Done   1 out of   1 | elapsed:    3.5s remaining:    0.0s\n"
     ]
    },
    {
     "name": "stdout",
     "output_type": "stream",
     "text": [
      "[CV] ....................... C=0.1, gamma=1, kernel=rbf, total=   3.5s\n",
      "[CV] C=0.1, gamma=1, kernel=rbf ......................................\n",
      "[CV] ....................... C=0.1, gamma=1, kernel=rbf, total=   3.6s\n",
      "[CV] C=0.1, gamma=1, kernel=rbf ......................................\n",
      "[CV] ....................... C=0.1, gamma=1, kernel=rbf, total=   3.6s\n",
      "[CV] C=0.1, gamma=1, kernel=rbf ......................................\n",
      "[CV] ....................... C=0.1, gamma=1, kernel=rbf, total=   3.6s\n",
      "[CV] C=0.1, gamma=1, kernel=poly .....................................\n",
      "[CV] ...................... C=0.1, gamma=1, kernel=poly, total=   1.4s\n",
      "[CV] C=0.1, gamma=1, kernel=poly .....................................\n",
      "[CV] ...................... C=0.1, gamma=1, kernel=poly, total=   1.5s\n",
      "[CV] C=0.1, gamma=1, kernel=poly .....................................\n",
      "[CV] ...................... C=0.1, gamma=1, kernel=poly, total=   1.5s\n",
      "[CV] C=0.1, gamma=1, kernel=poly .....................................\n",
      "[CV] ...................... C=0.1, gamma=1, kernel=poly, total=   1.4s\n",
      "[CV] C=0.1, gamma=1, kernel=poly .....................................\n",
      "[CV] ...................... C=0.1, gamma=1, kernel=poly, total=   1.4s\n",
      "[CV] C=0.1, gamma=1, kernel=sigmoid ..................................\n",
      "[CV] ................... C=0.1, gamma=1, kernel=sigmoid, total=   2.3s\n",
      "[CV] C=0.1, gamma=1, kernel=sigmoid ..................................\n",
      "[CV] ................... C=0.1, gamma=1, kernel=sigmoid, total=   2.3s\n",
      "[CV] C=0.1, gamma=1, kernel=sigmoid ..................................\n",
      "[CV] ................... C=0.1, gamma=1, kernel=sigmoid, total=   1.8s\n",
      "[CV] C=0.1, gamma=1, kernel=sigmoid ..................................\n",
      "[CV] ................... C=0.1, gamma=1, kernel=sigmoid, total=   2.1s\n",
      "[CV] C=0.1, gamma=1, kernel=sigmoid ..................................\n",
      "[CV] ................... C=0.1, gamma=1, kernel=sigmoid, total=   2.1s\n",
      "[CV] C=0.1, gamma=0.1, kernel=rbf ....................................\n",
      "[CV] ..................... C=0.1, gamma=0.1, kernel=rbf, total=   1.2s\n",
      "[CV] C=0.1, gamma=0.1, kernel=rbf ....................................\n",
      "[CV] ..................... C=0.1, gamma=0.1, kernel=rbf, total=   1.2s\n",
      "[CV] C=0.1, gamma=0.1, kernel=rbf ....................................\n",
      "[CV] ..................... C=0.1, gamma=0.1, kernel=rbf, total=   1.2s\n",
      "[CV] C=0.1, gamma=0.1, kernel=rbf ....................................\n",
      "[CV] ..................... C=0.1, gamma=0.1, kernel=rbf, total=   1.2s\n",
      "[CV] C=0.1, gamma=0.1, kernel=rbf ....................................\n",
      "[CV] ..................... C=0.1, gamma=0.1, kernel=rbf, total=   1.2s\n",
      "[CV] C=0.1, gamma=0.1, kernel=poly ...................................\n",
      "[CV] .................... C=0.1, gamma=0.1, kernel=poly, total=   0.8s\n",
      "[CV] C=0.1, gamma=0.1, kernel=poly ...................................\n",
      "[CV] .................... C=0.1, gamma=0.1, kernel=poly, total=   0.9s\n",
      "[CV] C=0.1, gamma=0.1, kernel=poly ...................................\n",
      "[CV] .................... C=0.1, gamma=0.1, kernel=poly, total=   0.8s\n",
      "[CV] C=0.1, gamma=0.1, kernel=poly ...................................\n",
      "[CV] .................... C=0.1, gamma=0.1, kernel=poly, total=   0.8s\n",
      "[CV] C=0.1, gamma=0.1, kernel=poly ...................................\n",
      "[CV] .................... C=0.1, gamma=0.1, kernel=poly, total=   0.8s\n",
      "[CV] C=0.1, gamma=0.1, kernel=sigmoid ................................\n",
      "[CV] ................. C=0.1, gamma=0.1, kernel=sigmoid, total=   1.1s\n",
      "[CV] C=0.1, gamma=0.1, kernel=sigmoid ................................\n",
      "[CV] ................. C=0.1, gamma=0.1, kernel=sigmoid, total=   1.2s\n",
      "[CV] C=0.1, gamma=0.1, kernel=sigmoid ................................\n",
      "[CV] ................. C=0.1, gamma=0.1, kernel=sigmoid, total=   1.6s\n",
      "[CV] C=0.1, gamma=0.1, kernel=sigmoid ................................\n",
      "[CV] ................. C=0.1, gamma=0.1, kernel=sigmoid, total=   1.2s\n",
      "[CV] C=0.1, gamma=0.1, kernel=sigmoid ................................\n",
      "[CV] ................. C=0.1, gamma=0.1, kernel=sigmoid, total=   1.5s\n",
      "[CV] C=0.1, gamma=0.01, kernel=rbf ...................................\n",
      "[CV] .................... C=0.1, gamma=0.01, kernel=rbf, total=   1.0s\n",
      "[CV] C=0.1, gamma=0.01, kernel=rbf ...................................\n",
      "[CV] .................... C=0.1, gamma=0.01, kernel=rbf, total=   1.2s\n",
      "[CV] C=0.1, gamma=0.01, kernel=rbf ...................................\n",
      "[CV] .................... C=0.1, gamma=0.01, kernel=rbf, total=   1.2s\n",
      "[CV] C=0.1, gamma=0.01, kernel=rbf ...................................\n",
      "[CV] .................... C=0.1, gamma=0.01, kernel=rbf, total=   1.2s\n",
      "[CV] C=0.1, gamma=0.01, kernel=rbf ...................................\n",
      "[CV] .................... C=0.1, gamma=0.01, kernel=rbf, total=   1.2s\n",
      "[CV] C=0.1, gamma=0.01, kernel=poly ..................................\n",
      "[CV] ................... C=0.1, gamma=0.01, kernel=poly, total=   1.0s\n",
      "[CV] C=0.1, gamma=0.01, kernel=poly ..................................\n",
      "[CV] ................... C=0.1, gamma=0.01, kernel=poly, total=   1.0s\n",
      "[CV] C=0.1, gamma=0.01, kernel=poly ..................................\n",
      "[CV] ................... C=0.1, gamma=0.01, kernel=poly, total=   1.0s\n",
      "[CV] C=0.1, gamma=0.01, kernel=poly ..................................\n",
      "[CV] ................... C=0.1, gamma=0.01, kernel=poly, total=   1.0s\n",
      "[CV] C=0.1, gamma=0.01, kernel=poly ..................................\n",
      "[CV] ................... C=0.1, gamma=0.01, kernel=poly, total=   1.0s\n",
      "[CV] C=0.1, gamma=0.01, kernel=sigmoid ...............................\n",
      "[CV] ................ C=0.1, gamma=0.01, kernel=sigmoid, total=   1.5s\n",
      "[CV] C=0.1, gamma=0.01, kernel=sigmoid ...............................\n",
      "[CV] ................ C=0.1, gamma=0.01, kernel=sigmoid, total=   1.5s\n",
      "[CV] C=0.1, gamma=0.01, kernel=sigmoid ...............................\n",
      "[CV] ................ C=0.1, gamma=0.01, kernel=sigmoid, total=   1.5s\n",
      "[CV] C=0.1, gamma=0.01, kernel=sigmoid ...............................\n",
      "[CV] ................ C=0.1, gamma=0.01, kernel=sigmoid, total=   1.5s\n",
      "[CV] C=0.1, gamma=0.01, kernel=sigmoid ...............................\n",
      "[CV] ................ C=0.1, gamma=0.01, kernel=sigmoid, total=   1.5s\n",
      "[CV] C=0.1, gamma=0.001, kernel=rbf ..................................\n",
      "[CV] ................... C=0.1, gamma=0.001, kernel=rbf, total=   1.1s\n",
      "[CV] C=0.1, gamma=0.001, kernel=rbf ..................................\n",
      "[CV] ................... C=0.1, gamma=0.001, kernel=rbf, total=   1.2s\n",
      "[CV] C=0.1, gamma=0.001, kernel=rbf ..................................\n",
      "[CV] ................... C=0.1, gamma=0.001, kernel=rbf, total=   1.2s\n",
      "[CV] C=0.1, gamma=0.001, kernel=rbf ..................................\n",
      "[CV] ................... C=0.1, gamma=0.001, kernel=rbf, total=   1.2s\n",
      "[CV] C=0.1, gamma=0.001, kernel=rbf ..................................\n",
      "[CV] ................... C=0.1, gamma=0.001, kernel=rbf, total=   1.2s\n",
      "[CV] C=0.1, gamma=0.001, kernel=poly .................................\n",
      "[CV] .................. C=0.1, gamma=0.001, kernel=poly, total=   0.9s\n",
      "[CV] C=0.1, gamma=0.001, kernel=poly .................................\n",
      "[CV] .................. C=0.1, gamma=0.001, kernel=poly, total=   0.9s\n",
      "[CV] C=0.1, gamma=0.001, kernel=poly .................................\n",
      "[CV] .................. C=0.1, gamma=0.001, kernel=poly, total=   0.9s\n",
      "[CV] C=0.1, gamma=0.001, kernel=poly .................................\n",
      "[CV] .................. C=0.1, gamma=0.001, kernel=poly, total=   0.9s\n",
      "[CV] C=0.1, gamma=0.001, kernel=poly .................................\n",
      "[CV] .................. C=0.1, gamma=0.001, kernel=poly, total=   0.9s\n",
      "[CV] C=0.1, gamma=0.001, kernel=sigmoid ..............................\n",
      "[CV] ............... C=0.1, gamma=0.001, kernel=sigmoid, total=   1.4s\n",
      "[CV] C=0.1, gamma=0.001, kernel=sigmoid ..............................\n",
      "[CV] ............... C=0.1, gamma=0.001, kernel=sigmoid, total=   1.4s\n",
      "[CV] C=0.1, gamma=0.001, kernel=sigmoid ..............................\n",
      "[CV] ............... C=0.1, gamma=0.001, kernel=sigmoid, total=   1.4s\n",
      "[CV] C=0.1, gamma=0.001, kernel=sigmoid ..............................\n",
      "[CV] ............... C=0.1, gamma=0.001, kernel=sigmoid, total=   1.5s\n",
      "[CV] C=0.1, gamma=0.001, kernel=sigmoid ..............................\n"
     ]
    },
    {
     "name": "stdout",
     "output_type": "stream",
     "text": [
      "[CV] ............... C=0.1, gamma=0.001, kernel=sigmoid, total=   1.5s\n",
      "[CV] C=1, gamma=1, kernel=rbf ........................................\n",
      "[CV] ......................... C=1, gamma=1, kernel=rbf, total=   3.8s\n",
      "[CV] C=1, gamma=1, kernel=rbf ........................................\n",
      "[CV] ......................... C=1, gamma=1, kernel=rbf, total=   3.9s\n",
      "[CV] C=1, gamma=1, kernel=rbf ........................................\n",
      "[CV] ......................... C=1, gamma=1, kernel=rbf, total=   3.9s\n",
      "[CV] C=1, gamma=1, kernel=rbf ........................................\n",
      "[CV] ......................... C=1, gamma=1, kernel=rbf, total=   3.7s\n",
      "[CV] C=1, gamma=1, kernel=rbf ........................................\n",
      "[CV] ......................... C=1, gamma=1, kernel=rbf, total=   3.8s\n",
      "[CV] C=1, gamma=1, kernel=poly .......................................\n",
      "[CV] ........................ C=1, gamma=1, kernel=poly, total=   1.3s\n",
      "[CV] C=1, gamma=1, kernel=poly .......................................\n",
      "[CV] ........................ C=1, gamma=1, kernel=poly, total=   1.5s\n",
      "[CV] C=1, gamma=1, kernel=poly .......................................\n",
      "[CV] ........................ C=1, gamma=1, kernel=poly, total=   1.5s\n",
      "[CV] C=1, gamma=1, kernel=poly .......................................\n",
      "[CV] ........................ C=1, gamma=1, kernel=poly, total=   1.4s\n",
      "[CV] C=1, gamma=1, kernel=poly .......................................\n",
      "[CV] ........................ C=1, gamma=1, kernel=poly, total=   1.4s\n",
      "[CV] C=1, gamma=1, kernel=sigmoid ....................................\n",
      "[CV] ..................... C=1, gamma=1, kernel=sigmoid, total=   2.2s\n",
      "[CV] C=1, gamma=1, kernel=sigmoid ....................................\n",
      "[CV] ..................... C=1, gamma=1, kernel=sigmoid, total=   2.2s\n",
      "[CV] C=1, gamma=1, kernel=sigmoid ....................................\n",
      "[CV] ..................... C=1, gamma=1, kernel=sigmoid, total=   1.8s\n",
      "[CV] C=1, gamma=1, kernel=sigmoid ....................................\n",
      "[CV] ..................... C=1, gamma=1, kernel=sigmoid, total=   2.1s\n",
      "[CV] C=1, gamma=1, kernel=sigmoid ....................................\n",
      "[CV] ..................... C=1, gamma=1, kernel=sigmoid, total=   2.0s\n",
      "[CV] C=1, gamma=0.1, kernel=rbf ......................................\n",
      "[CV] ....................... C=1, gamma=0.1, kernel=rbf, total=   1.1s\n",
      "[CV] C=1, gamma=0.1, kernel=rbf ......................................\n",
      "[CV] ....................... C=1, gamma=0.1, kernel=rbf, total=   1.2s\n",
      "[CV] C=1, gamma=0.1, kernel=rbf ......................................\n",
      "[CV] ....................... C=1, gamma=0.1, kernel=rbf, total=   1.2s\n",
      "[CV] C=1, gamma=0.1, kernel=rbf ......................................\n",
      "[CV] ....................... C=1, gamma=0.1, kernel=rbf, total=   1.1s\n",
      "[CV] C=1, gamma=0.1, kernel=rbf ......................................\n",
      "[CV] ....................... C=1, gamma=0.1, kernel=rbf, total=   1.1s\n",
      "[CV] C=1, gamma=0.1, kernel=poly .....................................\n",
      "[CV] ...................... C=1, gamma=0.1, kernel=poly, total=   0.9s\n",
      "[CV] C=1, gamma=0.1, kernel=poly .....................................\n",
      "[CV] ...................... C=1, gamma=0.1, kernel=poly, total=   1.0s\n",
      "[CV] C=1, gamma=0.1, kernel=poly .....................................\n",
      "[CV] ...................... C=1, gamma=0.1, kernel=poly, total=   0.9s\n",
      "[CV] C=1, gamma=0.1, kernel=poly .....................................\n",
      "[CV] ...................... C=1, gamma=0.1, kernel=poly, total=   1.0s\n",
      "[CV] C=1, gamma=0.1, kernel=poly .....................................\n",
      "[CV] ...................... C=1, gamma=0.1, kernel=poly, total=   1.0s\n",
      "[CV] C=1, gamma=0.1, kernel=sigmoid ..................................\n",
      "[CV] ................... C=1, gamma=0.1, kernel=sigmoid, total=   0.9s\n",
      "[CV] C=1, gamma=0.1, kernel=sigmoid ..................................\n",
      "[CV] ................... C=1, gamma=0.1, kernel=sigmoid, total=   0.9s\n",
      "[CV] C=1, gamma=0.1, kernel=sigmoid ..................................\n",
      "[CV] ................... C=1, gamma=0.1, kernel=sigmoid, total=   1.0s\n",
      "[CV] C=1, gamma=0.1, kernel=sigmoid ..................................\n",
      "[CV] ................... C=1, gamma=0.1, kernel=sigmoid, total=   1.0s\n",
      "[CV] C=1, gamma=0.1, kernel=sigmoid ..................................\n",
      "[CV] ................... C=1, gamma=0.1, kernel=sigmoid, total=   0.9s\n",
      "[CV] C=1, gamma=0.01, kernel=rbf .....................................\n",
      "[CV] ...................... C=1, gamma=0.01, kernel=rbf, total=   1.0s\n",
      "[CV] C=1, gamma=0.01, kernel=rbf .....................................\n",
      "[CV] ...................... C=1, gamma=0.01, kernel=rbf, total=   1.0s\n",
      "[CV] C=1, gamma=0.01, kernel=rbf .....................................\n",
      "[CV] ...................... C=1, gamma=0.01, kernel=rbf, total=   1.0s\n",
      "[CV] C=1, gamma=0.01, kernel=rbf .....................................\n",
      "[CV] ...................... C=1, gamma=0.01, kernel=rbf, total=   1.0s\n",
      "[CV] C=1, gamma=0.01, kernel=rbf .....................................\n",
      "[CV] ...................... C=1, gamma=0.01, kernel=rbf, total=   1.0s\n",
      "[CV] C=1, gamma=0.01, kernel=poly ....................................\n",
      "[CV] ..................... C=1, gamma=0.01, kernel=poly, total=   1.0s\n",
      "[CV] C=1, gamma=0.01, kernel=poly ....................................\n",
      "[CV] ..................... C=1, gamma=0.01, kernel=poly, total=   1.0s\n",
      "[CV] C=1, gamma=0.01, kernel=poly ....................................\n",
      "[CV] ..................... C=1, gamma=0.01, kernel=poly, total=   1.0s\n",
      "[CV] C=1, gamma=0.01, kernel=poly ....................................\n",
      "[CV] ..................... C=1, gamma=0.01, kernel=poly, total=   1.0s\n",
      "[CV] C=1, gamma=0.01, kernel=poly ....................................\n",
      "[CV] ..................... C=1, gamma=0.01, kernel=poly, total=   0.9s\n",
      "[CV] C=1, gamma=0.01, kernel=sigmoid .................................\n",
      "[CV] .................. C=1, gamma=0.01, kernel=sigmoid, total=   1.3s\n",
      "[CV] C=1, gamma=0.01, kernel=sigmoid .................................\n",
      "[CV] .................. C=1, gamma=0.01, kernel=sigmoid, total=   1.3s\n",
      "[CV] C=1, gamma=0.01, kernel=sigmoid .................................\n",
      "[CV] .................. C=1, gamma=0.01, kernel=sigmoid, total=   1.3s\n",
      "[CV] C=1, gamma=0.01, kernel=sigmoid .................................\n",
      "[CV] .................. C=1, gamma=0.01, kernel=sigmoid, total=   1.3s\n",
      "[CV] C=1, gamma=0.01, kernel=sigmoid .................................\n",
      "[CV] .................. C=1, gamma=0.01, kernel=sigmoid, total=   1.3s\n",
      "[CV] C=1, gamma=0.001, kernel=rbf ....................................\n",
      "[CV] ..................... C=1, gamma=0.001, kernel=rbf, total=   1.2s\n",
      "[CV] C=1, gamma=0.001, kernel=rbf ....................................\n",
      "[CV] ..................... C=1, gamma=0.001, kernel=rbf, total=   1.1s\n",
      "[CV] C=1, gamma=0.001, kernel=rbf ....................................\n",
      "[CV] ..................... C=1, gamma=0.001, kernel=rbf, total=   1.2s\n",
      "[CV] C=1, gamma=0.001, kernel=rbf ....................................\n",
      "[CV] ..................... C=1, gamma=0.001, kernel=rbf, total=   1.1s\n",
      "[CV] C=1, gamma=0.001, kernel=rbf ....................................\n",
      "[CV] ..................... C=1, gamma=0.001, kernel=rbf, total=   1.1s\n",
      "[CV] C=1, gamma=0.001, kernel=poly ...................................\n",
      "[CV] .................... C=1, gamma=0.001, kernel=poly, total=   0.9s\n",
      "[CV] C=1, gamma=0.001, kernel=poly ...................................\n",
      "[CV] .................... C=1, gamma=0.001, kernel=poly, total=   0.9s\n",
      "[CV] C=1, gamma=0.001, kernel=poly ...................................\n",
      "[CV] .................... C=1, gamma=0.001, kernel=poly, total=   0.8s\n",
      "[CV] C=1, gamma=0.001, kernel=poly ...................................\n",
      "[CV] .................... C=1, gamma=0.001, kernel=poly, total=   0.8s\n",
      "[CV] C=1, gamma=0.001, kernel=poly ...................................\n",
      "[CV] .................... C=1, gamma=0.001, kernel=poly, total=   0.9s\n",
      "[CV] C=1, gamma=0.001, kernel=sigmoid ................................\n",
      "[CV] ................. C=1, gamma=0.001, kernel=sigmoid, total=   1.5s\n",
      "[CV] C=1, gamma=0.001, kernel=sigmoid ................................\n",
      "[CV] ................. C=1, gamma=0.001, kernel=sigmoid, total=   1.5s\n",
      "[CV] C=1, gamma=0.001, kernel=sigmoid ................................\n"
     ]
    },
    {
     "name": "stdout",
     "output_type": "stream",
     "text": [
      "[CV] ................. C=1, gamma=0.001, kernel=sigmoid, total=   1.5s\n",
      "[CV] C=1, gamma=0.001, kernel=sigmoid ................................\n",
      "[CV] ................. C=1, gamma=0.001, kernel=sigmoid, total=   1.5s\n",
      "[CV] C=1, gamma=0.001, kernel=sigmoid ................................\n",
      "[CV] ................. C=1, gamma=0.001, kernel=sigmoid, total=   1.5s\n",
      "[CV] C=10, gamma=1, kernel=rbf .......................................\n",
      "[CV] ........................ C=10, gamma=1, kernel=rbf, total=   4.2s\n",
      "[CV] C=10, gamma=1, kernel=rbf .......................................\n",
      "[CV] ........................ C=10, gamma=1, kernel=rbf, total=   4.1s\n",
      "[CV] C=10, gamma=1, kernel=rbf .......................................\n",
      "[CV] ........................ C=10, gamma=1, kernel=rbf, total=   4.1s\n",
      "[CV] C=10, gamma=1, kernel=rbf .......................................\n",
      "[CV] ........................ C=10, gamma=1, kernel=rbf, total=   4.2s\n",
      "[CV] C=10, gamma=1, kernel=rbf .......................................\n",
      "[CV] ........................ C=10, gamma=1, kernel=rbf, total=   4.6s\n",
      "[CV] C=10, gamma=1, kernel=poly ......................................\n",
      "[CV] ....................... C=10, gamma=1, kernel=poly, total=   1.4s\n",
      "[CV] C=10, gamma=1, kernel=poly ......................................\n",
      "[CV] ....................... C=10, gamma=1, kernel=poly, total=   1.5s\n",
      "[CV] C=10, gamma=1, kernel=poly ......................................\n",
      "[CV] ....................... C=10, gamma=1, kernel=poly, total=   1.5s\n",
      "[CV] C=10, gamma=1, kernel=poly ......................................\n",
      "[CV] ....................... C=10, gamma=1, kernel=poly, total=   1.4s\n",
      "[CV] C=10, gamma=1, kernel=poly ......................................\n",
      "[CV] ....................... C=10, gamma=1, kernel=poly, total=   1.4s\n",
      "[CV] C=10, gamma=1, kernel=sigmoid ...................................\n",
      "[CV] .................... C=10, gamma=1, kernel=sigmoid, total=   2.2s\n",
      "[CV] C=10, gamma=1, kernel=sigmoid ...................................\n",
      "[CV] .................... C=10, gamma=1, kernel=sigmoid, total=   2.3s\n",
      "[CV] C=10, gamma=1, kernel=sigmoid ...................................\n",
      "[CV] .................... C=10, gamma=1, kernel=sigmoid, total=   1.8s\n",
      "[CV] C=10, gamma=1, kernel=sigmoid ...................................\n",
      "[CV] .................... C=10, gamma=1, kernel=sigmoid, total=   2.1s\n",
      "[CV] C=10, gamma=1, kernel=sigmoid ...................................\n",
      "[CV] .................... C=10, gamma=1, kernel=sigmoid, total=   2.0s\n",
      "[CV] C=10, gamma=0.1, kernel=rbf .....................................\n",
      "[CV] ...................... C=10, gamma=0.1, kernel=rbf, total=   1.3s\n",
      "[CV] C=10, gamma=0.1, kernel=rbf .....................................\n",
      "[CV] ...................... C=10, gamma=0.1, kernel=rbf, total=   1.4s\n",
      "[CV] C=10, gamma=0.1, kernel=rbf .....................................\n",
      "[CV] ...................... C=10, gamma=0.1, kernel=rbf, total=   1.4s\n",
      "[CV] C=10, gamma=0.1, kernel=rbf .....................................\n",
      "[CV] ...................... C=10, gamma=0.1, kernel=rbf, total=   1.3s\n",
      "[CV] C=10, gamma=0.1, kernel=rbf .....................................\n",
      "[CV] ...................... C=10, gamma=0.1, kernel=rbf, total=   1.3s\n",
      "[CV] C=10, gamma=0.1, kernel=poly ....................................\n",
      "[CV] ..................... C=10, gamma=0.1, kernel=poly, total=   1.2s\n",
      "[CV] C=10, gamma=0.1, kernel=poly ....................................\n",
      "[CV] ..................... C=10, gamma=0.1, kernel=poly, total=   1.4s\n",
      "[CV] C=10, gamma=0.1, kernel=poly ....................................\n",
      "[CV] ..................... C=10, gamma=0.1, kernel=poly, total=   1.4s\n",
      "[CV] C=10, gamma=0.1, kernel=poly ....................................\n",
      "[CV] ..................... C=10, gamma=0.1, kernel=poly, total=   1.3s\n",
      "[CV] C=10, gamma=0.1, kernel=poly ....................................\n",
      "[CV] ..................... C=10, gamma=0.1, kernel=poly, total=   1.3s\n",
      "[CV] C=10, gamma=0.1, kernel=sigmoid .................................\n",
      "[CV] .................. C=10, gamma=0.1, kernel=sigmoid, total=   0.9s\n",
      "[CV] C=10, gamma=0.1, kernel=sigmoid .................................\n",
      "[CV] .................. C=10, gamma=0.1, kernel=sigmoid, total=   0.9s\n",
      "[CV] C=10, gamma=0.1, kernel=sigmoid .................................\n",
      "[CV] .................. C=10, gamma=0.1, kernel=sigmoid, total=   0.9s\n",
      "[CV] C=10, gamma=0.1, kernel=sigmoid .................................\n",
      "[CV] .................. C=10, gamma=0.1, kernel=sigmoid, total=   0.8s\n",
      "[CV] C=10, gamma=0.1, kernel=sigmoid .................................\n",
      "[CV] .................. C=10, gamma=0.1, kernel=sigmoid, total=   0.9s\n",
      "[CV] C=10, gamma=0.01, kernel=rbf ....................................\n",
      "[CV] ..................... C=10, gamma=0.01, kernel=rbf, total=   0.9s\n",
      "[CV] C=10, gamma=0.01, kernel=rbf ....................................\n",
      "[CV] ..................... C=10, gamma=0.01, kernel=rbf, total=   0.9s\n",
      "[CV] C=10, gamma=0.01, kernel=rbf ....................................\n",
      "[CV] ..................... C=10, gamma=0.01, kernel=rbf, total=   0.9s\n",
      "[CV] C=10, gamma=0.01, kernel=rbf ....................................\n",
      "[CV] ..................... C=10, gamma=0.01, kernel=rbf, total=   0.9s\n",
      "[CV] C=10, gamma=0.01, kernel=rbf ....................................\n",
      "[CV] ..................... C=10, gamma=0.01, kernel=rbf, total=   0.9s\n",
      "[CV] C=10, gamma=0.01, kernel=poly ...................................\n",
      "[CV] .................... C=10, gamma=0.01, kernel=poly, total=   0.9s\n",
      "[CV] C=10, gamma=0.01, kernel=poly ...................................\n",
      "[CV] .................... C=10, gamma=0.01, kernel=poly, total=   1.0s\n",
      "[CV] C=10, gamma=0.01, kernel=poly ...................................\n",
      "[CV] .................... C=10, gamma=0.01, kernel=poly, total=   0.9s\n",
      "[CV] C=10, gamma=0.01, kernel=poly ...................................\n",
      "[CV] .................... C=10, gamma=0.01, kernel=poly, total=   0.9s\n",
      "[CV] C=10, gamma=0.01, kernel=poly ...................................\n",
      "[CV] .................... C=10, gamma=0.01, kernel=poly, total=   0.9s\n",
      "[CV] C=10, gamma=0.01, kernel=sigmoid ................................\n",
      "[CV] ................. C=10, gamma=0.01, kernel=sigmoid, total=   1.1s\n",
      "[CV] C=10, gamma=0.01, kernel=sigmoid ................................\n",
      "[CV] ................. C=10, gamma=0.01, kernel=sigmoid, total=   1.1s\n",
      "[CV] C=10, gamma=0.01, kernel=sigmoid ................................\n",
      "[CV] ................. C=10, gamma=0.01, kernel=sigmoid, total=   1.1s\n",
      "[CV] C=10, gamma=0.01, kernel=sigmoid ................................\n",
      "[CV] ................. C=10, gamma=0.01, kernel=sigmoid, total=   1.1s\n",
      "[CV] C=10, gamma=0.01, kernel=sigmoid ................................\n",
      "[CV] ................. C=10, gamma=0.01, kernel=sigmoid, total=   1.1s\n",
      "[CV] C=10, gamma=0.001, kernel=rbf ...................................\n",
      "[CV] .................... C=10, gamma=0.001, kernel=rbf, total=   1.0s\n",
      "[CV] C=10, gamma=0.001, kernel=rbf ...................................\n",
      "[CV] .................... C=10, gamma=0.001, kernel=rbf, total=   1.0s\n",
      "[CV] C=10, gamma=0.001, kernel=rbf ...................................\n",
      "[CV] .................... C=10, gamma=0.001, kernel=rbf, total=   1.0s\n",
      "[CV] C=10, gamma=0.001, kernel=rbf ...................................\n",
      "[CV] .................... C=10, gamma=0.001, kernel=rbf, total=   1.0s\n",
      "[CV] C=10, gamma=0.001, kernel=rbf ...................................\n",
      "[CV] .................... C=10, gamma=0.001, kernel=rbf, total=   1.0s\n",
      "[CV] C=10, gamma=0.001, kernel=poly ..................................\n",
      "[CV] ................... C=10, gamma=0.001, kernel=poly, total=   0.8s\n",
      "[CV] C=10, gamma=0.001, kernel=poly ..................................\n",
      "[CV] ................... C=10, gamma=0.001, kernel=poly, total=   0.9s\n",
      "[CV] C=10, gamma=0.001, kernel=poly ..................................\n",
      "[CV] ................... C=10, gamma=0.001, kernel=poly, total=   0.9s\n",
      "[CV] C=10, gamma=0.001, kernel=poly ..................................\n",
      "[CV] ................... C=10, gamma=0.001, kernel=poly, total=   0.9s\n",
      "[CV] C=10, gamma=0.001, kernel=poly ..................................\n",
      "[CV] ................... C=10, gamma=0.001, kernel=poly, total=   0.9s\n",
      "[CV] C=10, gamma=0.001, kernel=sigmoid ...............................\n"
     ]
    },
    {
     "name": "stdout",
     "output_type": "stream",
     "text": [
      "[CV] ................ C=10, gamma=0.001, kernel=sigmoid, total=   1.3s\n",
      "[CV] C=10, gamma=0.001, kernel=sigmoid ...............................\n",
      "[CV] ................ C=10, gamma=0.001, kernel=sigmoid, total=   1.3s\n",
      "[CV] C=10, gamma=0.001, kernel=sigmoid ...............................\n",
      "[CV] ................ C=10, gamma=0.001, kernel=sigmoid, total=   1.3s\n",
      "[CV] C=10, gamma=0.001, kernel=sigmoid ...............................\n",
      "[CV] ................ C=10, gamma=0.001, kernel=sigmoid, total=   1.3s\n",
      "[CV] C=10, gamma=0.001, kernel=sigmoid ...............................\n",
      "[CV] ................ C=10, gamma=0.001, kernel=sigmoid, total=   1.3s\n",
      "[CV] C=100, gamma=1, kernel=rbf ......................................\n",
      "[CV] ....................... C=100, gamma=1, kernel=rbf, total=   4.1s\n",
      "[CV] C=100, gamma=1, kernel=rbf ......................................\n",
      "[CV] ....................... C=100, gamma=1, kernel=rbf, total=   4.5s\n",
      "[CV] C=100, gamma=1, kernel=rbf ......................................\n",
      "[CV] ....................... C=100, gamma=1, kernel=rbf, total=   4.1s\n",
      "[CV] C=100, gamma=1, kernel=rbf ......................................\n",
      "[CV] ....................... C=100, gamma=1, kernel=rbf, total=   4.1s\n",
      "[CV] C=100, gamma=1, kernel=rbf ......................................\n",
      "[CV] ....................... C=100, gamma=1, kernel=rbf, total=   4.2s\n",
      "[CV] C=100, gamma=1, kernel=poly .....................................\n",
      "[CV] ...................... C=100, gamma=1, kernel=poly, total=   1.3s\n",
      "[CV] C=100, gamma=1, kernel=poly .....................................\n",
      "[CV] ...................... C=100, gamma=1, kernel=poly, total=   1.5s\n",
      "[CV] C=100, gamma=1, kernel=poly .....................................\n",
      "[CV] ...................... C=100, gamma=1, kernel=poly, total=   1.5s\n",
      "[CV] C=100, gamma=1, kernel=poly .....................................\n",
      "[CV] ...................... C=100, gamma=1, kernel=poly, total=   1.4s\n",
      "[CV] C=100, gamma=1, kernel=poly .....................................\n",
      "[CV] ...................... C=100, gamma=1, kernel=poly, total=   1.4s\n",
      "[CV] C=100, gamma=1, kernel=sigmoid ..................................\n",
      "[CV] ................... C=100, gamma=1, kernel=sigmoid, total=   2.2s\n",
      "[CV] C=100, gamma=1, kernel=sigmoid ..................................\n",
      "[CV] ................... C=100, gamma=1, kernel=sigmoid, total=   2.1s\n",
      "[CV] C=100, gamma=1, kernel=sigmoid ..................................\n",
      "[CV] ................... C=100, gamma=1, kernel=sigmoid, total=   1.8s\n",
      "[CV] C=100, gamma=1, kernel=sigmoid ..................................\n",
      "[CV] ................... C=100, gamma=1, kernel=sigmoid, total=   2.0s\n",
      "[CV] C=100, gamma=1, kernel=sigmoid ..................................\n",
      "[CV] ................... C=100, gamma=1, kernel=sigmoid, total=   2.0s\n",
      "[CV] C=100, gamma=0.1, kernel=rbf ....................................\n",
      "[CV] ..................... C=100, gamma=0.1, kernel=rbf, total=   1.3s\n",
      "[CV] C=100, gamma=0.1, kernel=rbf ....................................\n",
      "[CV] ..................... C=100, gamma=0.1, kernel=rbf, total=   1.3s\n",
      "[CV] C=100, gamma=0.1, kernel=rbf ....................................\n",
      "[CV] ..................... C=100, gamma=0.1, kernel=rbf, total=   1.4s\n",
      "[CV] C=100, gamma=0.1, kernel=rbf ....................................\n",
      "[CV] ..................... C=100, gamma=0.1, kernel=rbf, total=   1.3s\n",
      "[CV] C=100, gamma=0.1, kernel=rbf ....................................\n",
      "[CV] ..................... C=100, gamma=0.1, kernel=rbf, total=   1.3s\n",
      "[CV] C=100, gamma=0.1, kernel=poly ...................................\n",
      "[CV] .................... C=100, gamma=0.1, kernel=poly, total=   1.3s\n",
      "[CV] C=100, gamma=0.1, kernel=poly ...................................\n",
      "[CV] .................... C=100, gamma=0.1, kernel=poly, total=   1.5s\n",
      "[CV] C=100, gamma=0.1, kernel=poly ...................................\n",
      "[CV] .................... C=100, gamma=0.1, kernel=poly, total=   1.5s\n",
      "[CV] C=100, gamma=0.1, kernel=poly ...................................\n",
      "[CV] .................... C=100, gamma=0.1, kernel=poly, total=   1.3s\n",
      "[CV] C=100, gamma=0.1, kernel=poly ...................................\n",
      "[CV] .................... C=100, gamma=0.1, kernel=poly, total=   1.4s\n",
      "[CV] C=100, gamma=0.1, kernel=sigmoid ................................\n",
      "[CV] ................. C=100, gamma=0.1, kernel=sigmoid, total=   0.9s\n",
      "[CV] C=100, gamma=0.1, kernel=sigmoid ................................\n",
      "[CV] ................. C=100, gamma=0.1, kernel=sigmoid, total=   0.9s\n",
      "[CV] C=100, gamma=0.1, kernel=sigmoid ................................\n",
      "[CV] ................. C=100, gamma=0.1, kernel=sigmoid, total=   0.9s\n",
      "[CV] C=100, gamma=0.1, kernel=sigmoid ................................\n",
      "[CV] ................. C=100, gamma=0.1, kernel=sigmoid, total=   0.9s\n",
      "[CV] C=100, gamma=0.1, kernel=sigmoid ................................\n",
      "[CV] ................. C=100, gamma=0.1, kernel=sigmoid, total=   0.9s\n",
      "[CV] C=100, gamma=0.01, kernel=rbf ...................................\n",
      "[CV] .................... C=100, gamma=0.01, kernel=rbf, total=   1.3s\n",
      "[CV] C=100, gamma=0.01, kernel=rbf ...................................\n",
      "[CV] .................... C=100, gamma=0.01, kernel=rbf, total=   1.4s\n",
      "[CV] C=100, gamma=0.01, kernel=rbf ...................................\n",
      "[CV] .................... C=100, gamma=0.01, kernel=rbf, total=   1.4s\n",
      "[CV] C=100, gamma=0.01, kernel=rbf ...................................\n",
      "[CV] .................... C=100, gamma=0.01, kernel=rbf, total=   1.3s\n",
      "[CV] C=100, gamma=0.01, kernel=rbf ...................................\n",
      "[CV] .................... C=100, gamma=0.01, kernel=rbf, total=   1.3s\n",
      "[CV] C=100, gamma=0.01, kernel=poly ..................................\n",
      "[CV] ................... C=100, gamma=0.01, kernel=poly, total=   0.8s\n",
      "[CV] C=100, gamma=0.01, kernel=poly ..................................\n",
      "[CV] ................... C=100, gamma=0.01, kernel=poly, total=   0.8s\n",
      "[CV] C=100, gamma=0.01, kernel=poly ..................................\n",
      "[CV] ................... C=100, gamma=0.01, kernel=poly, total=   0.9s\n",
      "[CV] C=100, gamma=0.01, kernel=poly ..................................\n",
      "[CV] ................... C=100, gamma=0.01, kernel=poly, total=   0.8s\n",
      "[CV] C=100, gamma=0.01, kernel=poly ..................................\n",
      "[CV] ................... C=100, gamma=0.01, kernel=poly, total=   0.9s\n",
      "[CV] C=100, gamma=0.01, kernel=sigmoid ...............................\n",
      "[CV] ................ C=100, gamma=0.01, kernel=sigmoid, total=   0.8s\n",
      "[CV] C=100, gamma=0.01, kernel=sigmoid ...............................\n",
      "[CV] ................ C=100, gamma=0.01, kernel=sigmoid, total=   0.8s\n",
      "[CV] C=100, gamma=0.01, kernel=sigmoid ...............................\n",
      "[CV] ................ C=100, gamma=0.01, kernel=sigmoid, total=   0.8s\n",
      "[CV] C=100, gamma=0.01, kernel=sigmoid ...............................\n",
      "[CV] ................ C=100, gamma=0.01, kernel=sigmoid, total=   0.8s\n",
      "[CV] C=100, gamma=0.01, kernel=sigmoid ...............................\n",
      "[CV] ................ C=100, gamma=0.01, kernel=sigmoid, total=   0.8s\n",
      "[CV] C=100, gamma=0.001, kernel=rbf ..................................\n",
      "[CV] ................... C=100, gamma=0.001, kernel=rbf, total=   1.1s\n",
      "[CV] C=100, gamma=0.001, kernel=rbf ..................................\n",
      "[CV] ................... C=100, gamma=0.001, kernel=rbf, total=   1.1s\n",
      "[CV] C=100, gamma=0.001, kernel=rbf ..................................\n",
      "[CV] ................... C=100, gamma=0.001, kernel=rbf, total=   1.1s\n",
      "[CV] C=100, gamma=0.001, kernel=rbf ..................................\n",
      "[CV] ................... C=100, gamma=0.001, kernel=rbf, total=   1.0s\n",
      "[CV] C=100, gamma=0.001, kernel=rbf ..................................\n",
      "[CV] ................... C=100, gamma=0.001, kernel=rbf, total=   1.0s\n",
      "[CV] C=100, gamma=0.001, kernel=poly .................................\n",
      "[CV] .................. C=100, gamma=0.001, kernel=poly, total=   1.0s\n",
      "[CV] C=100, gamma=0.001, kernel=poly .................................\n",
      "[CV] .................. C=100, gamma=0.001, kernel=poly, total=   0.9s\n",
      "[CV] C=100, gamma=0.001, kernel=poly .................................\n",
      "[CV] .................. C=100, gamma=0.001, kernel=poly, total=   0.9s\n",
      "[CV] C=100, gamma=0.001, kernel=poly .................................\n"
     ]
    },
    {
     "name": "stdout",
     "output_type": "stream",
     "text": [
      "[CV] .................. C=100, gamma=0.001, kernel=poly, total=   0.9s\n",
      "[CV] C=100, gamma=0.001, kernel=poly .................................\n",
      "[CV] .................. C=100, gamma=0.001, kernel=poly, total=   1.0s\n",
      "[CV] C=100, gamma=0.001, kernel=sigmoid ..............................\n",
      "[CV] ............... C=100, gamma=0.001, kernel=sigmoid, total=   1.3s\n",
      "[CV] C=100, gamma=0.001, kernel=sigmoid ..............................\n",
      "[CV] ............... C=100, gamma=0.001, kernel=sigmoid, total=   1.3s\n",
      "[CV] C=100, gamma=0.001, kernel=sigmoid ..............................\n",
      "[CV] ............... C=100, gamma=0.001, kernel=sigmoid, total=   1.3s\n",
      "[CV] C=100, gamma=0.001, kernel=sigmoid ..............................\n",
      "[CV] ............... C=100, gamma=0.001, kernel=sigmoid, total=   1.3s\n",
      "[CV] C=100, gamma=0.001, kernel=sigmoid ..............................\n",
      "[CV] ............... C=100, gamma=0.001, kernel=sigmoid, total=   1.3s\n"
     ]
    },
    {
     "name": "stderr",
     "output_type": "stream",
     "text": [
      "[Parallel(n_jobs=1)]: Done 240 out of 240 | elapsed:  5.8min finished\n"
     ]
    },
    {
     "name": "stdout",
     "output_type": "stream",
     "text": [
      "{'C': 10, 'gamma': 0.1, 'kernel': 'rbf'}\n"
     ]
    }
   ],
   "source": [
    "# define models and parameters\n",
    "param_grid = {'C': [0.1,1, 10, 100], 'gamma': [1,0.1,0.01,0.001],'kernel': ['rbf', 'poly', 'sigmoid']}\n",
    "svc = SVC()\n",
    "svc_cv = GridSearchCV(svc, param_grid, refit=True, verbose=2)\n",
    "\n",
    "best_model = svc_cv.fit(X_train, y_train)\n",
    "\n",
    "print(best_model.best_params_)\n",
    "\n",
    "best_params = best_model.best_params_"
   ]
  },
  {
   "cell_type": "code",
   "execution_count": 11,
   "metadata": {},
   "outputs": [
    {
     "name": "stdout",
     "output_type": "stream",
     "text": [
      "Model: SVC(C=10, gamma=0.1)\n",
      "Precision Score: 0.839\n",
      "Recall Score: 0.770\n",
      "Training Accuracy: 0.999\n",
      "Test Accuracy: 0.937\n",
      "F1 Score: 0.936\n",
      "<sklearn.metrics._plot.confusion_matrix.ConfusionMatrixDisplay object at 0x0000021DC540BBB0>\n"
     ]
    },
    {
     "data": {
      "image/png": "[encoded data removed]",
      "text/plain": [
       "<Figure size 432x288 with 2 Axes>"
      ]
     },
     "metadata": {
      "needs_background": "light"
     },
     "output_type": "display_data"
    }
   ],
   "source": [
    "# Create a svm Classifier\n",
    "clf = SVC(C = best_params['C'], gamma = best_params['gamma'], kernel = best_params['kernel']) \n",
    "# clf = SVC(C = 10, gamma = 0.1, kernel = 'rbf')\n",
    "\n",
    "#Train the model using the training sets\n",
    "optimum_clf = clf.fit(X_train, y_train)\n",
    "\n",
    "#Predict the response for test dataset\n",
    "y_pred = optimum_clf.predict(X_test)\n",
    "\n",
    "# Measuring model's performance using different evaluation metrics\n",
    "print('Model:', optimum_clf)\n",
    "print('Precision Score: %.3f' % (precision_score(y_test, y_pred)))\n",
    "print('Recall Score: %.3f' % (recall_score(y_test, y_pred)))\n",
    "print('Training Accuracy: %.3f' % (optimum_clf.score(X_train, y_train)))\n",
    "print('Test Accuracy: %.3f' % (optimum_clf.score(X_test, y_test)))\n",
    "print('F1 Score: %.3f' % (f1_score(y_test, y_pred, average='weighted')))\n",
    "print(plot_confusion_matrix(optimum_clf, X_test, y_test, values_format = 'd' ))"
   ]
  },
  {
   "cell_type": "markdown",
   "metadata": {},
   "source": [
    "## 6. Customer attrition prediction using Random Forest Classifier"
   ]
  },
  {
   "cell_type": "code",
   "execution_count": 12,
   "metadata": {},
   "outputs": [
    {
     "name": "stdout",
     "output_type": "stream",
     "text": [
      "Best Parameters: {'n_estimators': 1600, 'min_samples_split': 2, 'min_samples_leaf': 1, 'max_features': 'auto', 'max_depth': 60, 'bootstrap': False}\n",
      "Best Score: 0.956160458452722\n"
     ]
    }
   ],
   "source": [
    "# define models and parameters\n",
    "\n",
    "# Number of trees in random forest\n",
    "n_estimators = [int(x) for x in np.linspace(start = 200, stop = 2000, num = 10)]\n",
    "# Number of features to consider at every split\n",
    "max_features = ['auto', 'sqrt']\n",
    "# Maximum number of levels in tree\n",
    "max_depth = [int(x) for x in np.linspace(10, 110, num = 11)]\n",
    "max_depth.append(None)\n",
    "# Minimum number of samples required to split a node\n",
    "min_samples_split = [2, 5, 10]\n",
    "# Minimum number of samples required at each leaf node\n",
    "min_samples_leaf = [1, 2, 4]\n",
    "# Method of selecting samples for training each tree\n",
    "bootstrap = [True, False]\n",
    "# Create the random grid\n",
    "param_grid = {'n_estimators': n_estimators,\n",
    "               'max_features': max_features,\n",
    "               'max_depth': max_depth,\n",
    "               'min_samples_split': min_samples_split,\n",
    "               'min_samples_leaf': min_samples_leaf,\n",
    "               'bootstrap': bootstrap}\n",
    "\n",
    "clf = RandomForestClassifier()\n",
    "\n",
    "# define randomized search cv and train the training dataset\n",
    "clf_cv = RandomizedSearchCV(clf, param_distributions = param_grid, cv = 5, n_jobs = -1)\n",
    "best_model = clf_cv.fit(X_train, y_train)\n",
    "\n",
    "# Get the optimum hyperparameter\n",
    "best_params = best_model.best_params_\n",
    "print('Best Parameters:', best_params)\n",
    "print('Best Score:', best_model.best_score_)"
   ]
  },
  {
   "cell_type": "code",
   "execution_count": 13,
   "metadata": {},
   "outputs": [
    {
     "name": "stdout",
     "output_type": "stream",
     "text": [
      "Model: RandomForestClassifier(bootstrap=False, max_depth=60, n_estimators=1600,\n",
      "                       random_state=42)\n",
      "Precision Score: 0.940\n",
      "Recall Score: 0.853\n",
      "Training Accuracy: 1.000\n",
      "Test Accuracy: 0.966\n",
      "F1 Score: 0.966\n",
      "<sklearn.metrics._plot.confusion_matrix.ConfusionMatrixDisplay object at 0x0000021DC5526700>\n"
     ]
    },
    {
     "data": {
      "image/png": "[encoded data removed]",
      "text/plain": [
       "<Figure size 432x288 with 2 Axes>"
      ]
     },
     "metadata": {
      "needs_background": "light"
     },
     "output_type": "display_data"
    }
   ],
   "source": [
    "# Best Parameters: {'n_estimators': 1400, 'min_samples_split': 5, 'min_samples_leaf': 1, 'max_features': 'sqrt', 'max_depth': 70, 'bootstrap': False}\n",
    "# Create a Random Forest Classifier\n",
    "clf = RandomForestClassifier(n_estimators = best_params['n_estimators'], min_samples_split = best_params['min_samples_split']\\\n",
    "                             , min_samples_leaf = best_params['min_samples_leaf'], max_features = best_params['max_features']\\\n",
    "                             , max_depth = best_params['max_depth'], bootstrap = best_params['bootstrap'], random_state=42)\n",
    "\n",
    "#Train the model using the training sets\n",
    "optimum_clf = clf.fit(X_train, y_train)\n",
    "\n",
    "#Predict the response for test dataset\n",
    "y_pred = optimum_clf.predict(X_test)\n",
    "\n",
    "# Measuring model's performance using different evaluation metrics\n",
    "print('Model:', optimum_clf)\n",
    "print('Precision Score: %.3f' % (precision_score(y_test, y_pred)))\n",
    "print('Recall Score: %.3f' % (recall_score(y_test, y_pred)))\n",
    "print('Training Accuracy: %.3f' % (optimum_clf.score(X_train, y_train)))\n",
    "print('Test Accuracy: %.3f' % (optimum_clf.score(X_test, y_test)))\n",
    "print('F1 Score: %.3f' % (f1_score(y_test, y_pred, average='weighted')))\n",
    "print(plot_confusion_matrix(optimum_clf, X_test, y_test, values_format = 'd' ))"
   ]
  },
  {
   "cell_type": "markdown",
   "metadata": {},
   "source": [
    "## 7. Customer attrition prediction using Gradient Boosting Classifier"
   ]
  },
  {
   "cell_type": "code",
   "execution_count": 15,
   "metadata": {},
   "outputs": [
    {
     "name": "stdout",
     "output_type": "stream",
     "text": [
      "Best Parameters: {'n_estimators': 250, 'max_depth': 9, 'learning_rate': 0.1}\n",
      "Best Score: 0.963896848137536\n"
     ]
    }
   ],
   "source": [
    "# Define models and parameters\n",
    "param_grid = {\n",
    "    \"n_estimators\":[5,50,250,500],\n",
    "    \"max_depth\":[1,3,5,7,9],\n",
    "    \"learning_rate\":[0.01,0.1,1,10,100]\n",
    "}\n",
    "\n",
    "gbc = GradientBoostingClassifier()\n",
    "\n",
    "# define randomized search cv and train the training dataset\n",
    "gbc_cv = RandomizedSearchCV(gbc, param_distributions = param_grid, cv = 5)\n",
    "best_model = gbc_cv.fit(X_train, y_train)\n",
    "\n",
    "# Get the optimum hyperparameter\n",
    "best_params = best_model.best_params_\n",
    "print('Best Parameters:', best_params)\n",
    "print('Best Score:', best_model.best_score_)"
   ]
  },
  {
   "cell_type": "code",
   "execution_count": 16,
   "metadata": {
    "scrolled": true
   },
   "outputs": [
    {
     "name": "stdout",
     "output_type": "stream",
     "text": [
      "Model: GradientBoostingClassifier(max_depth=9, n_estimators=250)\n",
      "Precision Score: 0.918\n",
      "Recall Score: 0.873\n",
      "Training Accuracy: 1.000\n",
      "Test Accuracy: 0.966\n",
      "F1 Score: 0.966\n",
      "<sklearn.metrics._plot.confusion_matrix.ConfusionMatrixDisplay object at 0x0000021DC4970310>\n"
     ]
    },
    {
     "data": {
      "image/png": "[encoded data removed]",
      "text/plain": [
       "<Figure size 432x288 with 2 Axes>"
      ]
     },
     "metadata": {
      "needs_background": "light"
     },
     "output_type": "display_data"
    }
   ],
   "source": [
    "# **Grid Best Parameters: {'learning_rate': 0.1, 'max_depth': 3, 'n_estimators': 500}\n",
    "# Create the optimum Gradient Boosting Classifier\n",
    "gbc = GradientBoostingClassifier(n_estimators=best_params['n_estimators'], learning_rate = best_params['learning_rate']\n",
    "                                 , max_depth = best_params['max_depth']) \n",
    "\n",
    "#Train the model using the training sets\n",
    "optimum_gbc = gbc.fit(X_train, y_train)\n",
    "\n",
    "#Predict the response for test dataset\n",
    "y_pred = optimum_gbc.predict(X_test)\n",
    "\n",
    "# Measuring model's performance using different evaluation metrics\n",
    "print('Model:', optimum_gbc)\n",
    "print('Precision Score: %.3f' % (precision_score(y_test, y_pred)))\n",
    "print('Recall Score: %.3f' % (recall_score(y_test, y_pred)))\n",
    "print('Training Accuracy: %.3f' % (optimum_gbc.score(X_train, y_train)))\n",
    "print('Test Accuracy: %.3f' % (optimum_gbc.score(X_test, y_test)))\n",
    "print('F1 Score: %.3f' % (f1_score(y_test, y_pred, average='weighted')))\n",
    "print(plot_confusion_matrix(optimum_gbc, X_test, y_test, values_format = 'd' ))"
   ]
  },
  {
   "cell_type": "markdown",
   "metadata": {},
   "source": [
    "## 8. Customer attrition prediction using XGB Classifier"
   ]
  },
  {
   "cell_type": "code",
   "execution_count": 17,
   "metadata": {
    "scrolled": true
   },
   "outputs": [
    {
     "name": "stdout",
     "output_type": "stream",
     "text": [
      "Fitting 5 folds for each of 10 candidates, totalling 50 fits\n"
     ]
    },
    {
     "name": "stderr",
     "output_type": "stream",
     "text": [
      "[Parallel(n_jobs=-1)]: Using backend LokyBackend with 8 concurrent workers.\n",
      "[Parallel(n_jobs=-1)]: Done  34 tasks      | elapsed:   55.1s\n",
      "[Parallel(n_jobs=-1)]: Done  50 out of  50 | elapsed:  1.6min finished\n"
     ]
    },
    {
     "name": "stdout",
     "output_type": "stream",
     "text": [
      "Best Parameters: {'reg_alpha': 0.01, 'n_estimators': 1500, 'min_child_weight': 1, 'max_depth': 3, 'gamma': 0.4}\n",
      "Best Score: 0.9710601719197707\n"
     ]
    }
   ],
   "source": [
    "# DM_train = xgb.DMatrix(data=X_train, label=y_train)\n",
    "# DM_test =  xgb.DMatrix(data=X_test, label=y_test)\n",
    "\n",
    "# Define models and parameters\n",
    "param_grid = {'max_depth':range(3,10,1), 'min_child_weight':range(1,6,2), \n",
    "              'gamma':[i/10.0 for i in range(0,5)], 'n_estimators' : list(range(100,2000,100)), \n",
    "              'reg_alpha':[1e-5, 1e-2, 0.1, 1, 100]}\n",
    "\n",
    "xgb_clf = xgb.XGBClassifier(use_label_encoder=False, objective='binary:logistic', eval_metric=\"logloss\")\n",
    "\n",
    "# define randomized search cv and train the training dataset\n",
    "xgb_cv = RandomizedSearchCV(xgb_clf, param_distributions = param_grid, cv = 5, verbose=1, n_jobs=-1)\n",
    "best_model = xgb_cv.fit(X_train, y_train)\n",
    "\n",
    "# Get the optimum hyperparameter\n",
    "best_params = best_model.best_params_\n",
    "print('Best Parameters:', best_params)\n",
    "print('Best Score:', best_model.best_score_)"
   ]
  },
  {
   "cell_type": "code",
   "execution_count": 18,
   "metadata": {},
   "outputs": [
    {
     "name": "stdout",
     "output_type": "stream",
     "text": [
      "Model: XGBClassifier(base_score=0.5, booster='gbtree', colsample_bylevel=1,\n",
      "              colsample_bynode=1, colsample_bytree=1, eval_metric='logloss',\n",
      "              gamma=0.4, gpu_id=-1, importance_type='gain',\n",
      "              interaction_constraints='', learning_rate=0.300000012,\n",
      "              max_delta_step=0, max_depth=3, min_child_weight=1, missing=nan,\n",
      "              monotone_constraints='()', n_estimators=1500, n_jobs=-1,\n",
      "              num_parallel_tree=1, random_state=0, reg_alpha=0.01, reg_lambda=1,\n",
      "              scale_pos_weight=1, subsample=1, tree_method='exact',\n",
      "              use_label_encoder=False, validate_parameters=1, verbosity=None)\n",
      "Precision Score: 0.939\n",
      "Recall Score: 0.910\n",
      "Training Accuracy: 0.996\n",
      "Test Accuracy: 0.975\n",
      "F1 Score: 0.975\n",
      "<sklearn.metrics._plot.confusion_matrix.ConfusionMatrixDisplay object at 0x0000021DC53B0670>\n"
     ]
    },
    {
     "data": {
      "image/png": "[encoded data removed]",
      "text/plain": [
       "<Figure size 432x288 with 2 Axes>"
      ]
     },
     "metadata": {
      "needs_background": "light"
     },
     "output_type": "display_data"
    }
   ],
   "source": [
    "# 1.Best Parameters: {'reg_alpha': 1e-05, 'n_estimators': 1200, 'min_child_weight': 1, 'max_depth': 3, 'gamma': 0.2}\n",
    "# 2.Best Parameters: {'reg_alpha': 1, 'n_estimators': 500, 'min_child_weight': 1, 'max_depth': 3, 'gamma': 0.0}\n",
    "# 3.Best Grid Parameters: {'gamma': 0.3, 'max_depth': 4, 'min_child_weight': 2, 'n_estimators': 400, 'reg_alpha': 1}\n",
    "# Instantiate the optimum XGBClassifier: xgb_cl\n",
    "\"\"\"xgb_cl = xgb.XGBClassifier(objective='binary:logistic', use_label_encoder=False, n_jobs=-1,\\\n",
    "                           reg_alpha = 1, n_estimators = 500,\\\n",
    "                           min_child_weight = 1, max_depth = 3,\\\n",
    "                           gamma = 0.0, eval_metric='logloss')\"\"\"\n",
    "                           \n",
    "\n",
    "xgb_cl = xgb.XGBClassifier(objective='binary:logistic', use_label_encoder=False, n_jobs=-1,\n",
    "                          reg_alpha = best_params['reg_alpha'], n_estimators = best_params['n_estimators'],\n",
    "                          min_child_weight = best_params['min_child_weight'], max_depth = best_params['max_depth'],\n",
    "                          gamma = best_params['gamma'], eval_metric='logloss')\n",
    "\n",
    "# Fit the classifier to the training set\n",
    "optimum_xgb = xgb_cl.fit(X_train, y_train)\n",
    "\n",
    "\n",
    "# Predict the labels of the test set: preds\n",
    "y_pred = optimum_xgb.predict(X_test)\n",
    "\n",
    "# Measuring model's performance using different evaluation metrics\n",
    "print('Model:', optimum_xgb)\n",
    "print('Precision Score: %.3f' % (precision_score(y_test, y_pred)))\n",
    "print('Recall Score: %.3f' % (recall_score(y_test, y_pred)))\n",
    "print('Training Accuracy: %.3f' % (optimum_xgb.score(X_train, y_train)))\n",
    "print('Test Accuracy: %.3f' % (optimum_xgb.score(X_test, y_test)))\n",
    "print('F1 Score: %.3f' % (f1_score(y_test, y_pred, average='weighted')))\n",
    "print(plot_confusion_matrix(optimum_xgb, X_test, y_test, values_format = 'd' ))"
   ]
  },
  {
   "cell_type": "markdown",
   "metadata": {},
   "source": [
    "## Final Outcomes"
   ]
  },
  {
   "cell_type": "markdown",
   "metadata": {},
   "source": [
    "I have used different classifier algorithms to accurately detect customer churn. We know, hyperparameters are essential for finding the best results from a model. For that reason, I have used hyperparameter tuning for each algorithms to find the best hyperparameters. Among all of those algorithms the ensemble methods worked well and have showed significantly high scoring values for precision, recall, and f1 score. I have used three differend kind of ensemble methods including Random Forest Classifier, Gradient Boosting Classifier, and XGBoost Classifier for training and testing. Among those three ensemble methods XGBoost showed significantly high Precision, Recall, F1 Score, Training Accuracy, and Test Accuracy values. The resultant summary of XGBoost are: Precision Score: 0.938, Recall Score: 0.904, Training Accuracy: 1.000, Test Accuracy: 0.974, F1 Score: 0.974"
   ]
  },
  {
   "cell_type": "code",
   "execution_count": null,
   "metadata": {},
   "outputs": [],
   "source": []
  }
 ],
 "metadata": {
  "kernelspec": {
   "display_name": "Python 3",
   "language": "python",
   "name": "python3"
  },
  "language_info": {
   "codemirror_mode": {
    "name": "ipython",
    "version": 3
   },
   "file_extension": ".py",
   "mimetype": "text/x-python",
   "name": "python",
   "nbconvert_exporter": "python",
   "pygments_lexer": "ipython3",
   "version": "3.8.5"
  }
 },
 "nbformat": 4,
 "nbformat_minor": 4
}
