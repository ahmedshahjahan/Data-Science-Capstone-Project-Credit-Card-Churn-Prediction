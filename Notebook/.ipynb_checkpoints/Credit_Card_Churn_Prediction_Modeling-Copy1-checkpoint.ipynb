{
 "cells": [
  {
   "cell_type": "markdown",
   "metadata": {},
   "source": [
    "# Bank Churners Prediction (Modeling)"
   ]
  },
  {
   "cell_type": "markdown",
   "metadata": {},
   "source": [
    "## 1. Importing libraries and dataframes"
   ]
  },
  {
   "cell_type": "code",
   "execution_count": 1,
   "metadata": {},
   "outputs": [],
   "source": [
    "import pandas as pd\n",
    "import numpy as np\n",
    "import seaborn as sns\n",
    "import matplotlib.pyplot as plt\n",
    "from sklearn.model_selection import train_test_split\n",
    "from sklearn.model_selection import GridSearchCV\n",
    "from sklearn.model_selection import RandomizedSearchCV\n",
    "from sklearn.model_selection import cross_val_score\n",
    "from sklearn.neighbors import KNeighborsClassifier\n",
    "from sklearn.linear_model import LogisticRegression\n",
    "from sklearn.tree import DecisionTreeClassifier\n",
    "from sklearn.svm import SVC\n",
    "from sklearn.ensemble import RandomForestClassifier\n",
    "from sklearn.ensemble import GradientBoostingClassifier\n",
    "import xgboost as xgb\n",
    "from sklearn.metrics import classification_report, confusion_matrix, roc_curve, auc, roc_auc_score\n",
    "from sklearn.metrics import precision_score, recall_score, f1_score\n",
    "from sklearn.metrics import accuracy_score\n",
    "from sklearn.metrics import plot_confusion_matrix"
   ]
  },
  {
   "cell_type": "code",
   "execution_count": 2,
   "metadata": {},
   "outputs": [],
   "source": [
    "X_train = pd.read_csv('..\\Dataset\\X_train1.csv', index_col=0).reset_index(drop=True)\n",
    "X_test = pd.read_csv('..\\Dataset\\X_test1.csv', index_col=0).reset_index(drop=True)\n",
    "y_train = pd.read_csv('..\\Dataset\\y_train1.csv', index_col=0).reset_index(drop=True).values.ravel()\n",
    "y_test = pd.read_csv('..\\Dataset\\y_test1.csv', index_col=0).reset_index(drop=True).values.ravel()"
   ]
  },
  {
   "cell_type": "code",
   "execution_count": 3,
   "metadata": {},
   "outputs": [
    {
     "data": {
      "text/html": [
       "<div>\n",
       "<style scoped>\n",
       "    .dataframe tbody tr th:only-of-type {\n",
       "        vertical-align: middle;\n",
       "    }\n",
       "\n",
       "    .dataframe tbody tr th {\n",
       "        vertical-align: top;\n",
       "    }\n",
       "\n",
       "    .dataframe thead th {\n",
       "        text-align: right;\n",
       "    }\n",
       "</style>\n",
       "<table border=\"1\" class=\"dataframe\">\n",
       "  <thead>\n",
       "    <tr style=\"text-align: right;\">\n",
       "      <th></th>\n",
       "      <th>Age</th>\n",
       "      <th>Gender</th>\n",
       "      <th>Dependent_Count</th>\n",
       "      <th>Education</th>\n",
       "      <th>Marital_Status</th>\n",
       "      <th>Income</th>\n",
       "      <th>Card_Category</th>\n",
       "      <th>Months_On_Book</th>\n",
       "      <th>Total_Relationship_Count</th>\n",
       "      <th>Months_Inactive</th>\n",
       "      <th>Contacts_Count</th>\n",
       "      <th>Credit_Limit</th>\n",
       "      <th>Total_Revolving_Bal</th>\n",
       "      <th>Avg_Open_To_Buy</th>\n",
       "      <th>Total_Amt_Chng_Q4_Q1</th>\n",
       "      <th>Total_Trans_Amt</th>\n",
       "      <th>Total_Trans_Ct</th>\n",
       "      <th>Total_Ct_Chng_Q4_Q1</th>\n",
       "      <th>Avg_Utilization_Ratio</th>\n",
       "    </tr>\n",
       "  </thead>\n",
       "  <tbody>\n",
       "    <tr>\n",
       "      <th>0</th>\n",
       "      <td>-0.791543</td>\n",
       "      <td>1</td>\n",
       "      <td>0.498352</td>\n",
       "      <td>1</td>\n",
       "      <td>4</td>\n",
       "      <td>1</td>\n",
       "      <td>2</td>\n",
       "      <td>0.002708</td>\n",
       "      <td>-1.841984</td>\n",
       "      <td>0.745299</td>\n",
       "      <td>-0.415160</td>\n",
       "      <td>0.324106</td>\n",
       "      <td>0.617387</td>\n",
       "      <td>0.267968</td>\n",
       "      <td>1.339053</td>\n",
       "      <td>0.244997</td>\n",
       "      <td>-0.264551</td>\n",
       "      <td>0.056721</td>\n",
       "      <td>-0.480486</td>\n",
       "    </tr>\n",
       "    <tr>\n",
       "      <th>1</th>\n",
       "      <td>-0.037350</td>\n",
       "      <td>2</td>\n",
       "      <td>1.269124</td>\n",
       "      <td>4</td>\n",
       "      <td>1</td>\n",
       "      <td>1</td>\n",
       "      <td>2</td>\n",
       "      <td>0.002708</td>\n",
       "      <td>-0.550727</td>\n",
       "      <td>-1.400375</td>\n",
       "      <td>1.442415</td>\n",
       "      <td>0.274543</td>\n",
       "      <td>0.291116</td>\n",
       "      <td>0.247961</td>\n",
       "      <td>-0.444369</td>\n",
       "      <td>-0.043189</td>\n",
       "      <td>0.611758</td>\n",
       "      <td>0.276500</td>\n",
       "      <td>-0.545072</td>\n",
       "    </tr>\n",
       "    <tr>\n",
       "      <th>2</th>\n",
       "      <td>0.716844</td>\n",
       "      <td>2</td>\n",
       "      <td>-1.813965</td>\n",
       "      <td>1</td>\n",
       "      <td>2</td>\n",
       "      <td>1</td>\n",
       "      <td>1</td>\n",
       "      <td>0.002708</td>\n",
       "      <td>0.740530</td>\n",
       "      <td>-1.400375</td>\n",
       "      <td>-0.415160</td>\n",
       "      <td>-0.657427</td>\n",
       "      <td>-0.068149</td>\n",
       "      <td>-0.650666</td>\n",
       "      <td>0.711856</td>\n",
       "      <td>0.353397</td>\n",
       "      <td>0.934609</td>\n",
       "      <td>1.070698</td>\n",
       "      <td>0.549300</td>\n",
       "    </tr>\n",
       "    <tr>\n",
       "      <th>3</th>\n",
       "      <td>-1.420038</td>\n",
       "      <td>1</td>\n",
       "      <td>-0.272420</td>\n",
       "      <td>4</td>\n",
       "      <td>2</td>\n",
       "      <td>4</td>\n",
       "      <td>1</td>\n",
       "      <td>-0.753447</td>\n",
       "      <td>1.386159</td>\n",
       "      <td>0.745299</td>\n",
       "      <td>0.513627</td>\n",
       "      <td>1.462074</td>\n",
       "      <td>0.127369</td>\n",
       "      <td>1.449226</td>\n",
       "      <td>0.270090</td>\n",
       "      <td>-0.665639</td>\n",
       "      <td>0.473394</td>\n",
       "      <td>-1.072140</td>\n",
       "      <td>-0.792651</td>\n",
       "    </tr>\n",
       "    <tr>\n",
       "      <th>4</th>\n",
       "      <td>0.716844</td>\n",
       "      <td>2</td>\n",
       "      <td>0.498352</td>\n",
       "      <td>3</td>\n",
       "      <td>2</td>\n",
       "      <td>1</td>\n",
       "      <td>1</td>\n",
       "      <td>0.632838</td>\n",
       "      <td>-1.196355</td>\n",
       "      <td>0.745299</td>\n",
       "      <td>-0.415160</td>\n",
       "      <td>-0.778979</td>\n",
       "      <td>-0.446965</td>\n",
       "      <td>-0.737843</td>\n",
       "      <td>-0.777057</td>\n",
       "      <td>0.350375</td>\n",
       "      <td>1.165217</td>\n",
       "      <td>0.251525</td>\n",
       "      <td>0.961932</td>\n",
       "    </tr>\n",
       "  </tbody>\n",
       "</table>\n",
       "</div>"
      ],
      "text/plain": [
       "        Age  Gender  Dependent_Count  Education  Marital_Status  Income  \\\n",
       "0 -0.791543       1         0.498352          1               4       1   \n",
       "1 -0.037350       2         1.269124          4               1       1   \n",
       "2  0.716844       2        -1.813965          1               2       1   \n",
       "3 -1.420038       1        -0.272420          4               2       4   \n",
       "4  0.716844       2         0.498352          3               2       1   \n",
       "\n",
       "   Card_Category  Months_On_Book  Total_Relationship_Count  Months_Inactive  \\\n",
       "0              2        0.002708                 -1.841984         0.745299   \n",
       "1              2        0.002708                 -0.550727        -1.400375   \n",
       "2              1        0.002708                  0.740530        -1.400375   \n",
       "3              1       -0.753447                  1.386159         0.745299   \n",
       "4              1        0.632838                 -1.196355         0.745299   \n",
       "\n",
       "   Contacts_Count  Credit_Limit  Total_Revolving_Bal  Avg_Open_To_Buy  \\\n",
       "0       -0.415160      0.324106             0.617387         0.267968   \n",
       "1        1.442415      0.274543             0.291116         0.247961   \n",
       "2       -0.415160     -0.657427            -0.068149        -0.650666   \n",
       "3        0.513627      1.462074             0.127369         1.449226   \n",
       "4       -0.415160     -0.778979            -0.446965        -0.737843   \n",
       "\n",
       "   Total_Amt_Chng_Q4_Q1  Total_Trans_Amt  Total_Trans_Ct  Total_Ct_Chng_Q4_Q1  \\\n",
       "0              1.339053         0.244997       -0.264551             0.056721   \n",
       "1             -0.444369        -0.043189        0.611758             0.276500   \n",
       "2              0.711856         0.353397        0.934609             1.070698   \n",
       "3              0.270090        -0.665639        0.473394            -1.072140   \n",
       "4             -0.777057         0.350375        1.165217             0.251525   \n",
       "\n",
       "   Avg_Utilization_Ratio  \n",
       "0              -0.480486  \n",
       "1              -0.545072  \n",
       "2               0.549300  \n",
       "3              -0.792651  \n",
       "4               0.961932  "
      ]
     },
     "execution_count": 3,
     "metadata": {},
     "output_type": "execute_result"
    }
   ],
   "source": [
    "X_train.head()"
   ]
  },
  {
   "cell_type": "markdown",
   "metadata": {},
   "source": [
    "## 2. Customer attrition prediction using K Nearest Neighbors Classifier"
   ]
  },
  {
   "cell_type": "markdown",
   "metadata": {},
   "source": [
    "Tuning hyperparameters for KNN classifier"
   ]
  },
  {
   "cell_type": "code",
   "execution_count": 4,
   "metadata": {},
   "outputs": [
    {
     "name": "stdout",
     "output_type": "stream",
     "text": [
      "Best Parameters: {'p': 2, 'n_neighbors': 5, 'leaf_size': 10}\n",
      "Best Score: 0.9018159951049485\n"
     ]
    }
   ],
   "source": [
    "# define models and parameters\n",
    "param_grid = {'n_neighbors': list(range(1,11)), 'leaf_size': list(range(1,50)), 'p':[1,2]}\n",
    "knn = KNeighborsClassifier()\n",
    "\n",
    "# define randomized search cv and train the training dataset\n",
    "knn_cv = RandomizedSearchCV(estimator = knn, param_distributions = param_grid, cv=5, scoring='f1_weighted')\n",
    "best_model = knn_cv.fit(X_train, y_train)\n",
    "\n",
    "# Get the optimum hyperparameter\n",
    "best_params = best_model.best_params_\n",
    "print('Best Parameters:', best_params)\n",
    "print('Best Score:', best_model.best_score_)"
   ]
  },
  {
   "cell_type": "markdown",
   "metadata": {},
   "source": [
    "Creating an optimum KNN Classifier by using best parameters from RandomizedSearchCV()"
   ]
  },
  {
   "cell_type": "code",
   "execution_count": 5,
   "metadata": {
    "scrolled": false
   },
   "outputs": [
    {
     "name": "stdout",
     "output_type": "stream",
     "text": [
      "Model: KNeighborsClassifier(leaf_size=10)\n",
      "Precision Score: 0.840\n",
      "Recall Score: 0.597\n",
      "Training Accuracy: 0.938\n",
      "Test Accuracy: 0.914\n",
      "F1 Score: 0.908\n",
      "<sklearn.metrics._plot.confusion_matrix.ConfusionMatrixDisplay object at 0x0000017170141070>\n"
     ]
    },
    {
     "data": {
      "image/png": "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\n",
      "text/plain": [
       "<Figure size 432x288 with 2 Axes>"
      ]
     },
     "metadata": {
      "needs_background": "light"
     },
     "output_type": "display_data"
    }
   ],
   "source": [
    "# Create the optimum KNN Classifier\n",
    "optimum_knn = KNeighborsClassifier(p = best_params['p'], n_neighbors = best_params['n_neighbors'], leaf_size = best_params['leaf_size'])\n",
    "# optimum_knn = KNeighborsClassifier(p = 2, n_neighbors = 5, leaf_size = 45)\n",
    "\n",
    "#Train the model using the training sets\n",
    "optimum_knn.fit(X_train, y_train)\n",
    "\n",
    "# Predict the response for test dataset\n",
    "y_pred = optimum_knn.predict(X_test)\n",
    "\n",
    "# Measuring model's performance using different evaluation metrics\n",
    "print('Model:', optimum_knn)\n",
    "print('Precision Score: %.3f' % (precision_score(y_test, y_pred)))\n",
    "print('Recall Score: %.3f' % (recall_score(y_test, y_pred)))\n",
    "print('Training Accuracy: %.3f' % (optimum_knn.score(X_train, y_train)))\n",
    "print('Test Accuracy: %.3f' % (optimum_knn.score(X_test, y_test)))\n",
    "print('F1 Score: %.3f' % (f1_score(y_test, y_pred, average='weighted')))\n",
    "print(plot_confusion_matrix(optimum_knn, X_test, y_test, values_format = 'd' ))"
   ]
  },
  {
   "cell_type": "markdown",
   "metadata": {},
   "source": [
    "## 3. Customer attrition prediction using Logistic Regression Classifier"
   ]
  },
  {
   "cell_type": "markdown",
   "metadata": {},
   "source": [
    "Tuning hyperparameters for Logistic Regression classifier"
   ]
  },
  {
   "cell_type": "code",
   "execution_count": 6,
   "metadata": {
    "scrolled": false
   },
   "outputs": [
    {
     "name": "stdout",
     "output_type": "stream",
     "text": [
      "Best Parameters: {'C': 0.1, 'penalty': 'l2'}\n",
      "Best Score: 0.8984240687679084\n"
     ]
    }
   ],
   "source": [
    "# define models and parameters\n",
    "c_space = [0.001, 0.01, 0.1, 1, 10, 100]\n",
    "param_grid = {'C': c_space, 'penalty' : ['l2']}\n",
    "logreg = LogisticRegression(solver='newton-cg', max_iter=100)\n",
    "\n",
    "# define randomized search cv and train the training dataset\n",
    "logreg_cv = GridSearchCV(logreg, param_grid = param_grid, cv = 5)\n",
    "best_model = logreg_cv.fit(X_train, y_train)\n",
    "\n",
    "# Get the optimum hyperparameter\n",
    "best_params = best_model.best_params_\n",
    "print('Best Parameters:', best_params)\n",
    "print('Best Score:', best_model.best_score_)"
   ]
  },
  {
   "cell_type": "code",
   "execution_count": 7,
   "metadata": {},
   "outputs": [
    {
     "name": "stdout",
     "output_type": "stream",
     "text": [
      "Model: LogisticRegression(C=0.1)\n",
      "Precision Score: 0.778\n",
      "Recall Score: 0.589\n",
      "Training Accuracy: 0.901\n",
      "Test Accuracy: 0.904\n",
      "F1 Score: 0.898\n",
      "<sklearn.metrics._plot.confusion_matrix.ConfusionMatrixDisplay object at 0x0000017176457DF0>\n"
     ]
    },
    {
     "data": {
      "image/png": "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\n",
      "text/plain": [
       "<Figure size 432x288 with 2 Axes>"
      ]
     },
     "metadata": {
      "needs_background": "light"
     },
     "output_type": "display_data"
    }
   ],
   "source": [
    "# Create the optimum Logistic Regression Classifier\n",
    "optimum_logreg = LogisticRegression(C = best_params['C'], penalty = best_params['penalty'])\n",
    "# optimum_logreg = LogisticRegression(C = 0.1, penalty = 'l2')\n",
    "\n",
    "#Train the model using the training sets\n",
    "optimum_logreg.fit(X_train, y_train)\n",
    "\n",
    "#Predict the response for test dataset\n",
    "y_pred = optimum_logreg.predict(X_test)\n",
    "\n",
    "# Measuring model's performance using different evaluation metrics\n",
    "print('Model:', optimum_logreg)\n",
    "print('Precision Score: %.3f' % (precision_score(y_test, y_pred)))\n",
    "print('Recall Score: %.3f' % (recall_score(y_test, y_pred)))\n",
    "print('Training Accuracy: %.3f' % (optimum_logreg.score(X_train, y_train)))\n",
    "print('Test Accuracy: %.3f' % (optimum_logreg.score(X_test, y_test)))\n",
    "print('F1 Score: %.3f' % (f1_score(y_test, y_pred, average='weighted')))\n",
    "print(plot_confusion_matrix(optimum_logreg, X_test, y_test, values_format = 'd' ))"
   ]
  },
  {
   "cell_type": "markdown",
   "metadata": {},
   "source": [
    "## 4. Customer attrition prediction using Decision Tree Classifier"
   ]
  },
  {
   "cell_type": "markdown",
   "metadata": {},
   "source": [
    "Tuning hyperparameters for Decision Tree classifier"
   ]
  },
  {
   "cell_type": "code",
   "execution_count": 8,
   "metadata": {},
   "outputs": [
    {
     "name": "stdout",
     "output_type": "stream",
     "text": [
      "Best Parameters: {'max_depth': 7, 'criterion': 'entropy'}\n",
      "Best Score: 0.9409742120343839\n"
     ]
    }
   ],
   "source": [
    "# define models and parameters\n",
    "param_grid = {'criterion': ['gini', 'entropy'], 'max_depth' : list(range(1,10))}\n",
    "clf = DecisionTreeClassifier()\n",
    "\n",
    "# define randomized search cv and train the training dataset\n",
    "clf_cv = RandomizedSearchCV(clf, param_distributions = param_grid, cv = 5)\n",
    "best_model = clf_cv.fit(X_train, y_train)\n",
    "\n",
    "# Get the optimum hyperparameter\n",
    "best_params = best_model.best_params_\n",
    "print('Best Parameters:', best_params)\n",
    "print('Best Score:', best_model.best_score_)"
   ]
  },
  {
   "cell_type": "code",
   "execution_count": 9,
   "metadata": {
    "scrolled": true
   },
   "outputs": [
    {
     "name": "stdout",
     "output_type": "stream",
     "text": [
      "Model: DecisionTreeClassifier(criterion='entropy', max_depth=7)\n",
      "Precision Score: 0.880\n",
      "Recall Score: 0.755\n",
      "Training Accuracy: 0.959\n",
      "Test Accuracy: 0.942\n",
      "F1 Score: 0.940\n",
      "<sklearn.metrics._plot.confusion_matrix.ConfusionMatrixDisplay object at 0x0000017175485BE0>\n"
     ]
    },
    {
     "data": {
      "image/png": "iVBORw0KGgoAAAANSUhEUgAAAT8AAAEGCAYAAAAT05LOAAAAOXRFWHRTb2Z0d2FyZQBNYXRwbG90bGliIHZlcnNpb24zLjMuMiwgaHR0cHM6Ly9tYXRwbG90bGliLm9yZy8vihELAAAACXBIWXMAAAsTAAALEwEAmpwYAAAeGklEQVR4nO3de7xVVb338c+Xi4AKCm4groqGFt4wkTDLg5dHsZNpPaVQmU92Duqj2fV0tDrZjerl0erRvGESdk5qmpqadz2WaZriDRRFQES2IAhbAQVhs/fv+WPOjcvtZu81N2ux1l7z+3695ou5xryMsfZ2/xxjjjHHUERgZpY33SpdADOzSnDwM7NccvAzs1xy8DOzXHLwM7Nc6lHpAhSqG9A9dhvRs9LFsAxemL19pYtgGbzNW2yMDdqaexx92A6xqqGpqHMfn73hroiYtDX5lUtVBb/dRvTk0btGVLoYlsHRQ8dWugiWwT/ivq2+x6qGJh69a2RR53YfMr9uqzMsk6oKfmZW/QJoprnSxdhqDn5mlkkQNEZxzd5q5uBnZpm55mdmuRMETTXwWqyDn5ll1oyDn5nlTABNDn5mlkeu+ZlZ7gTQ6Gd+ZpY3QbjZa2Y5FNDU9WOfg5+ZZZO84dH1OfiZWUaiia2aG6EqOPiZWSZJh0fXD36ez8/MMknG+amorSOSZkhaIemZgrQ/SHoq3V6S9FSavpuk9QXHLiu45kBJcyQtkHShpA4zd83PzDJrLl3Nbybwa+B3LQkRcWLLvqQLgNUF5y+MiLFt3OdSYCrwCHA7MAm4o72MXfMzs0xKWfOLiAeAhraOpbW3E4Br2ruHpCFAv4h4OJK1eH8HHN9R3g5+ZpZJIJroVtQG1EmaVbBNzZDVx4DlETG/IG2UpCcl/VXSx9K0YUB9wTn1aVq73Ow1s8wyNHtXRsS4TmYzhXfX+pYBIyNilaQDgT9J2hvarGJ2OBLRwc/MMgnExuhe1jwk9QA+DRy4Od+IDcCGdP9xSQuBPUlqesMLLh8OLO0oDzd7zSyTZJBzt6K2rXAk8HxEbG7OShooqXu6vzswGngxIpYBayVNSJ8TfhG4uaMMHPzMLLMSDnW5BngY2EtSvaQvp4cm896OjkOB2ZKeBv4InBYRLZ0lpwO/ARYAC+mgpxfc7DWzjCJEU5Sm3hQRU7aQ/n/aSLsBuGEL588C9smSt4OfmWXW7NfbzCxvkg6Prh86uv43MLNtqqXDo6tz8DOzzJpqYGIDBz8zy6TlDY+uzsHPzDJrLlFvbyU5+JlZJsnEBg5+ZpYzgWgs8+tt24KDn5llEkHJBjlXkoOfmWUkD3I2s/wJXPMzs5xyh4eZ5U6gUq7hUTEOfmaWSbJ0ZdcPHV3/G5jZNuZFy80shwK/4WFmOeWan5nlToRc8zOz/Ek6PPx6m5nlTunW8Kikrv8NzGybSjo8VNTWEUkzJK2Q9ExB2g8kvSLpqXT7eMGxcyQtkDRP0tEF6QdKmpMeuzBdwrJdDn5mllkT3YraijATmNRG+i8jYmy63Q4gaQzJkpZ7p9dc0rKOL3ApMJVkLd/RW7jnuzj4mVkmLW94lKLmFxEPAA0dnpg4Drg2IjZExCKSNXrHSxoC9IuIhyMigN8Bx3d0Mwc/M8usmW5FbUCdpFkF29QiszhT0uy0Wdw/TRsGLCk4pz5NG5but05vlzs8zCyTCGhsLrretDIixmXM4lLgxySPF38MXACcAm0OLox20tvl4GdmmSTN3vI1GiNiecu+pCuAP6cf64ERBacOB5am6cPbSG+Xm71mlllT+n5vR1tnpM/wWnwKaOkJvgWYLKmXpFEkHRuPRsQyYK2kCWkv7xeBmzvKxzW/Trjg6yP4x7392LluE9PvnwfAwmd7c9HZI1j/VjcGD9/Iv1+8mB36NgNw7UWDuPOaXejeLTj9J68wbuJaAObP7sP5XxvJhre7Mf7wNZz+41fouIPeyqFbt+CiO19g1bKefP/k3em78ya+c9liBg/fyPL67Zh26q68udp/LvDOUJdSkHQNMJHk2WA9cC4wUdLYNKuXgFMBIuJZSdcBc4FNwBkR0ZTe6nSSnuM+wB3p1q6y1vwkTUrH4yyQdHY589qWjjqxgWm/f/Fdab/61khO+c5SLv+feRxyzGr+eOkgABa/0Iu/3Nyf6fc/z7SrX+TX5wynKf11XXj2cL563hJ++9BzvLKoF7Pu77utv4qljv+XlSyZ33vz5xPOXMGTD+7IKR/9IE8+uCMnnrmigqWrNkmzt5itIxExJSKGRETPiBgeEVdGxEkRsW9E7BcRn0xrdi3nT4uIPSJir4i4oyB9VkTskx47M+31bVfZgl86/uZi4BhgDDAlHafT5e074S369m96V1r9wl7sO+EtAA44dC0P3rYzAA/ftRMTj3ud7XoF7xu5kaG7bWDek9uzankP1q3tzphx65DgyM808Pc7d9rWX8WAuiEbGX/EGu64esDmtIOPXsO91yWf771uAAdPWlOp4lWl5nQdj462albOmt94YEFEvBgRG4FrScbp1KRd93qbh+/qB8Df/rwzry3tCcDKZT0ZOLRx83l1QxpZ9WpPVr3ak7ohBelDG1n5as9tW2gD4LQfLuU3PxlCNL/zx9q/rpGGFcnvo2FFT3beZVOlild1kt7e7kVt1aycwW9LY3LeRdLUljFAr61qan24y/jGL17m1pl1nHH0nqx/sxs9tktr3W1VvpX8B9RGsm1jHz5yDW+s7MGCOdtXuihdRikHOVdSOZ/gFjX2JiKmA9MBxu3fu8N2erUaOXoDP7s2eQ5Yv7AX/7gvqQXWDW3cXAuEpCa4y+BG6oY0snJZQfrSnuzyvkZs2xpz0FtMOGoNBx0xl+16Bdv3beLbFy3m9ZU9GTAoqf0NGNTIG6vc2VGo2pu0xShnzW9LY3Jq0hsrkz+O5ma4+v8N5hMnrQJgwlFr+MvN/dm4Qbz68na8sqgXex2wjl0Gb2L7HZt57vHtiYB7/ziAg49eXcmvkEu//dkQvjBuDCd/eAw/O31Xnn5wR877yq48cnc/jjwheevqyBMaNj/SsNJObFBJ5fzf2WPA6HQ8ziskLyR/roz5bTM/O31XZj+8I6sbevD5A8dw0jdfZf26btw6sw6AQ45ZzVGTkz+c3fZ6m0OPfYOpEz9A9+7BmT+tp3v6KOQrP1/C+V8byca3uzHusDUcdPjaSn0la+UPvx7Edy9bzKTJDax4JRnqYu+ohclMVUSPcOdvnkxF8yugOzAjIqa1d/64/XvHo3eNaO8UqzJHDx1b6SJYBv+I+1gTDVtVJev/gUFx+IzPFHXujYdc+ngnXm/bJsr6ICOdiub2cuZhZttetTdpi+GnuGaWSSnf8KgkBz8zy8zBz8xyp2WcX1fn4GdmmdXCOD8HPzPLJAI2FT+ZadVy8DOzzNzsNbPc8TM/M8utcPAzszxyh4eZ5U6En/mZWS6JJvf2mlke1cIzv64fvs1smyrlfH6SZkhaIemZgrT/lPS8pNmSbpK0c5q+m6T1kp5Kt8sKrjlQ0px0sbQL0yUs2+XgZ2bZRPLcr5itCDOBSa3S7gH2iYj9gBeAcwqOLYyIsel2WkH6pcBUkrV8R7dxz/dw8DOzzEq1eltEPAA0tEq7OyJaVox6hGQW+C1KFznvFxEPp0tW/g44vqO8HfzMLJNIOzyK2UgWI59VsE3NmN0pvHsB8lGSnpT0V0kfS9OGkSyb0aLNxdJac4eHmWWWYQL4lZ2dyVnSd4FNwO/TpGXAyIhYJelA4E+S9qbIxdJac/Azs8zK3dsr6WTgE8ARaVOWiNgAbEj3H5e0ENiTpKZX2DQuarE0N3vNLJOkM0NFbZ0haRLw78AnI2JdQfpASd3T/d1JOjZejIhlwFpJE9Je3i8CN3eUj2t+ZpZZqd7wkHQNMJHk2WA9cC5J724v4J50xMojac/uocCPJG0CmoDTIqKls+R0kp7jPiTPCAufE7bJwc/MMivVoo8RMaWN5Cu3cO4NwA1bODYL2CdL3g5+ZpZJIJr9epuZ5VH5Vvvedhz8zCybqI13ex38zCy7Gqj6OfiZWWY1XfOTdBHtxPeIOKssJTKzqhZAc3MNBz9g1jYrhZl1HQHUcs0vIq4q/Cxph4h4q/xFMrNqV6pxfpXU4WAdSQdLmgs8l37eX9IlZS+ZmVWvKHKrYsWMVPwVcDSwCiAiniZ5zcTMcqm493qrvVOkqN7eiFjSalbopvIUx8y6hCqv1RWjmOC3RNJHgJC0HXAWaRPYzHIoIGqgt7eYZu9pwBkkM6O+AoxNP5tZbqnIrXp1WPOLiJXA57dBWcysq6iBZm8xvb27S7pV0mvpEnM3pxMJmlle5aS392rgOmAIMBS4HrimnIUysyrWMsi5mK2KFRP8FBH/FRGb0u2/qfqYbmblVMJ1eyumvXd7B6S790s6G7iWJOidCNy2DcpmZtWqBnp72+vweJwk2LV8y1MLjgXw43IVysyqm6q8VleM9t7tHbUtC2JmXUQX6MwoRlET8UvaR9IJkr7YspW7YGZWrYrs7Ciiw0PSjHQUyTMFaQMk3SNpfvpv/4Jj50haIGmepKML0g+UNCc9dqFavZLWlmKGupwLXJRuhwHnAZ/s8FuZWe0q3VCXmcCkVmlnA/dFxGjgvvQzksYAk4G902suaVnHF7gUmEqylu/oNu75HsXU/D4DHAG8GhFfAvYnWVPTzPKqucitAxHxANDQKvk4oGVKvauA4wvSr42IDRGxCFgAjJc0BOgXEQ9HRAC/K7hmi4p5t3d9RDRL2iSpH7AC8CBns7wq/2SmgyNiGUBELJM0KE0fBjxScF59mtaY7rdOb1cxwW+WpJ2BK0h6gN8EHi3iOjOrURl6e+skFc4KPz0ipnc22zbSop30dhXzbu//TXcvk3QnSfVydkfXmVkNKz74rYyIcRnvvlzSkLTWN4SktQlJjW5EwXnDgaVp+vA20tu1xWd+kj7UegMGAD3SfTOzcrgFODndPxm4uSB9sqRekkaRdGw8mjaR10qakPbyfrHgmi1qr+Z3QTvHAji8o5tnNf+ZHTnm/R8p9W2tjLrtN7LSRbAM9MJDpblPicb5SboGmEjSPK4HzgV+Dlwn6cvAy8BnASLiWUnXAXOBTcAZEdEysfLpJD3HfYA70q1d7Q1yPqyT38fMallQstfbImLKFg4dsYXzpwHT2kifBeyTJW8vWm5m2dXAGx4OfmaWWU2/22tmtkU1EPyKeb1Nkr4g6fvp55GSxpe/aGZWtXIyk/MlwMFAy4PJtcDFZSuRmVU1RfFbNSum2fvhiPiQpCcBIuL1dAlLM8urGp/MtEVjOnNCAEgaSFGvLJtZrar2Wl0ximn2XgjcBAySNA14EPhpWUtlZtWtBp75FfNu7+8lPU4y6FDA8RHxXNlLZmbVqQs8zytGh8FP0khgHXBrYVpEvFzOgplZFctD8CNZqa1l2pjewChgHslsqmaWQ6qBp/7FNHv3Lfyczuhy6hZONzPrEjK/4RERT0g6qByFMbMuIg/NXknfKPjYDfgQ8FrZSmRm1S0vHR5A34L9TSTPAG8oT3HMrEuo9eCXDm7eMSL+bRuVx8y6gloOfpJ6RMQmT1lvZoVE7ff2PkryfO8pSbcA1wNvtRyMiBvLXDYzq0Y5euY3AFhFsmZHy3i/ABz8zPKqxoPfoLSn9xneuzZmDXx1M+u0GogA7QW/7sCOdHJBYDOrXbXe7F0WET/aZiUxs66jBMFP0l7AHwqSdge+D+wM/CvvjCf+TkTcnl5zDvBloAk4KyLu6mz+7QW/rj9boZmVXpSmtzci5gFjYfOwuldIps/7EvDLiDi/8HxJY4DJJPMKDAXulbRnwdq9mbQ3n1+b62aamZVhPr8jgIURsbidc44Dro2IDRGxCFgAdHo9oS0Gv4ho6OxNzay2ZVjDo07SrIJt6hZuORm4puDzmZJmS5ohqX+aNgxYUnBOfZrWKcXM5Gxm9m7F1/xWRsS4gm1661ulawJ9kmQsMcClwB4kTeJlwAUtp26hJJ3i4Gdm2RQb+IoPS8cAT0TEcoCIWB4RTRHRDFzBO03bemBEwXXDgaWd/RoOfmaWiSj50pVTKGjyShpScOxTJGONAW4BJkvqJWkUMJrkTbROyTyfn5lZqcb5Sdoe+F+8e4Lk8ySNJak7vtRyLCKelXQdMJdkhqkzOtvTCw5+ZtYZJQp+EbEO2KVV2kntnD8NmFaKvB38zCy7Gn/Dw8zsvXI0q4uZ2bs5+JlZHtX6ZKZmZm1ys9fM8if7e7tVycHPzLJz8DOzvGl5w6Orc/Azs8zU3PWjn4OfmWXjZ35mlldu9ppZPjn4mVkeueZnZvnk4GdmuVOi1dsqzcHPzDLxOD8zy6/o+tHPwc/MMnPNz97juJOXMenE5Uhw5x8G86eZQ/j8WUuYdMJyVjf0BOCqC0by2F/7d3AnK5e6unV869/+Qf/+64kQd9y+BzffvCejRr3OV856nN69N7Fi+Q6cd94E1q3ryQEHvMqXTplNjx7NbNrUjSt/sz9PPz240l+jcjzIuX2SZgCfAFZExD7lyqea7Dp6HZNOXM7XPr0vjY3d+MmM53j0/p0B+NNvh3LDlUMrW0ADoKlZXHHF/ixcMIA+fRq58KK7efLJwXzt64/xmyvGMmfOII466kX+92ee579+ty9r1vTiB+d+jIaGPuy66xv8ZNoDnPSFT1b6a1RULXR4lHPpypnApDLev+qMeP96nn+qLxve7k5zk5jzaD8+clRDpYtlrbze0IeFCwYAsH59T5Ys6ccuu6xn+LC1zJkzEIAnnngfHz2kHoCFC/vT0NAHgMWLd2K77Zro2bPTi4bVBDUXt3V4H+klSXMkPSVpVpo2QNI9kuan//YvOP8cSQskzZN09NZ8h7IFv4h4AMjVX/7iF/qwz0Fr6LtzI716N3HQxNcZOGQjAMee9CqX/Plpvv6zBezYb1OFS2otBg1+iz32eIN583bhpcU7MWFCsgb2xw5dQt3Ade85/6MfrWfhwv40Nnbf1kWtHkHS4VHMVpzDImJsRIxLP58N3BcRo4H70s9IGgNMBvYmqVhdIqnTv4iKL1ouaaqkWZJmbYy3K12crbJk4fZcP30oP73qOX484zlefG4HmprEbb8fzCmHH8AZx+5Hw2vb8a/nvFTpohrQu3cj3/veQ1x++QGsW9eTX/5iPMceO58LL7qbPn0a2bTp3X8eI3ddzSmnPM1FF47bwh3zo8SLlrd2HHBVun8VcHxB+rURsSEiFgELgPGdzaTiHR4RMR2YDrBT97ou/xj17usHc/f1ycPwk7/5Mitf3Y43Vm23+fgdfxjED694vlLFs1T37s187z/+zv3378rfHxoOQH19P7773YkADBu2lvHjl20+v65uHf/xHw9y/vkfZtmyHStR5OpS/F9qXUtzNjU9/ZsvvNPdkgK4PD02OCKWAUTEMkmD0nOHAY8UXFufpnVKxYNfrdlpQCOrG3oycMgGDjlqFd/47L70H7iR119LAuBHjmpg8QvbV7iUeRd87euPsuTlvtx0416bU3fa6W1Wr+6NFEye8iy337YHADvssJEf/ugBZv52P+bOHVipQleNjIOcVxY0Z9tySEQsTQPcPZLaqxmojbROV5gc/ErsexfPo1//TWxqFJf8YHfeXNODb50/n90/+BaEWP5KLy783u6VLmau7b33So48cjGLFu3Ery++C4CrZu7L0KFv8olj5wPw94eGc/fdowA49pPzGTr0TaZ8bi5TPjcXgO9+559Yvbp3Zb5ApUWUbDLTiFia/rtC0k0kzdjlkoaktb4hwIr09HpgRMHlw4Glnc1bUaaR2pKuASYCdcBy4NyIuLK9a3bqXhcT+vxzWcpjZfL+kZUugWXwyAtXsnrd0rZqUEXru/PwOODQrxZ17t9u/fbjW6r5SdoB6BYRa9P9e4AfAUcAqyLi55LOBgZExLcl7Q1cTRIgh5J0hoyOiE51vZet5hcRU8p1bzOrrBK94TEYuEkSJLHo6oi4U9JjwHWSvgy8DHwWICKelXQdMBfYBJzR2cDXkqGZWfECKEGzNyJeBPZvI30VSe2vrWumAdO2OnMc/MysM7r8uAwHPzPrBE9sYGa55KUrzSx/PKuLmeVRMsi560c/Bz8zy64GprRy8DOzzFzzM7P88TM/M8un0r3bW0kOfmaWnZu9ZpY7XrTczHLLNT8zy6WuH/sc/MwsOzV3/Xavg5+ZZRN4kLOZ5Y8ID3I2s5xy8DOzXHLwM7Pc8TM/M8urWujt7VbpAphZVxNJs7eYrR2SRki6X9Jzkp6V9NU0/QeSXpH0VLp9vOCacyQtkDRP0tFb8y1c8zOzbIJSPfPbBHwzIp6Q1Bd4XNI96bFfRsT5hSdLGgNMBvYmWbf3Xkl7dnb5Stf8zCy75iK3dkTEsoh4It1fCzwHDGvnkuOAayNiQ0QsAhaQLGDeKQ5+ZpaZIoragDpJswq2qW3eT9oNOAD4R5p0pqTZkmZI6p+mDQOWFFxWT/vBsl0OfmaWXfHP/FZGxLiCbXrrW0naEbgB+FpErAEuBfYAxgLLgAtaTm2rJJ39Cn7mZ2bZREBTaXp7JfUkCXy/j4gbk9vH8oLjVwB/Tj/WAyMKLh8OLO1s3q75mVl2pentFXAl8FxE/KIgfUjBaZ8Cnkn3bwEmS+olaRQwGni0s1/BNT8zy640vb2HACcBcyQ9laZ9B5giaSxJk/Yl4NQky3hW0nXAXJKe4jM629MLDn5mllUAJVjDIyIepO3neLe3c800YNpWZ46Dn5llFhBd/w0PBz8zyyYoWYdHJTn4mVl2ntXFzHLJwc/M8qfjYSxdgYOfmWUTQA1MaeXgZ2bZueZnZvlTutfbKsnBz8yyCQiP8zOzXCrBGx6V5uBnZtn5mZ+Z5U6Ee3vNLKdc8zOz/AmiqdMzSVUNBz8zy6ZEU1pVmoOfmWXnoS5mljcBhGt+ZpY74clMzSynaqHDQ1FFXdaSXgMWV7ocZVAHrKx0ISyTWv2d7RoRA7fmBpLuJPn5FGNlREzamvzKpaqCX62SNCsixlW6HFY8/85qn9ftNbNccvAzs1xy8Ns2ple6AJaZf2c1zs/8zCyXXPMzs1xy8DOzXHLwKyNJkyTNk7RA0tmVLo91TNIMSSskPVPpslh5OfiViaTuwMXAMcAYYIqkMZUtlRVhJlCVg3KttBz8ymc8sCAiXoyIjcC1wHEVLpN1ICIeABoqXQ4rPwe/8hkGLCn4XJ+mmVkVcPArH7WR5nFFZlXCwa986oERBZ+HA0srVBYza8XBr3weA0ZLGiVpO2AycEuFy2RmKQe/MomITcCZwF3Ac8B1EfFsZUtlHZF0DfAwsJekeklfrnSZrDz8epuZ5ZJrfmaWSw5+ZpZLDn5mlksOfmaWSw5+ZpZLDn5diKQmSU9JekbS9ZK234p7zZT0mXT/N+1NuiBpoqSPdCKPlyS9Z5WvLaW3OufNjHn9QNK3spbR8svBr2tZHxFjI2IfYCNwWuHBdCaZzCLiXyJibjunTAQyBz+zaubg13X9DXh/Wiu7X9LVwBxJ3SX9p6THJM2WdCqAEr+WNFfSbcCglhtJ+oukcen+JElPSHpa0n2SdiMJsl9Pa50fkzRQ0g1pHo9JOiS9dhdJd0t6UtLltP1+87tI+pOkxyU9K2lqq2MXpGW5T9LANG0PSXem1/xN0gdK8tO03OlR6QJYdpJ6kMwTeGeaNB7YJyIWpQFkdUQcJKkX8JCku4EDgL2AfYHBwFxgRqv7DgSuAA5N7zUgIhokXQa8GRHnp+ddDfwyIh6UNJLkLZYPAucCD0bEjyT9M/CuYLYFp6R59AEek3RDRKwCdgCeiIhvSvp+eu8zSRYWOi0i5kv6MHAJcHgnfoyWcw5+XUsfSU+l+38DriRpjj4aEYvS9KOA/Vqe5wE7AaOBQ4FrIqIJWCrpf9q4/wTggZZ7RcSW5rU7Ehgjba7Y9ZPUN83j0+m1t0l6vYjvdJakT6X7I9KyrgKagT+k6f8N3Chpx/T7Xl+Qd68i8jB7Dwe/rmV9RIwtTEiDwFuFScBXIuKuVud9nI6n1FIR50DyuOTgiFjfRlmKfl9S0kSSQHpwRKyT9Beg9xZOjzTfN1r/DMw6w8/8as9dwOmSegJI2lPSDsADwOT0meAQ4LA2rn0Y+CdJo9JrB6Tpa4G+BefdTdIEJT1vbLr7APD5NO0YoH8HZd0JeD0NfB8gqXm26Aa01F4/R9KcXgMskvTZNA9J2r+DPMza5OBXe35D8jzviXQRnstJavg3AfOBOcClwF9bXxgRr5E8p7tR0tO80+y8FfhUS4cHcBYwLu1Qmcs7vc4/BA6V9ARJ8/vlDsp6J9BD0mzgx8AjBcfeAvaW9DjJM70fpemfB76clu9ZvDSAdZJndTGzXHLNz8xyycHPzHLJwc/McsnBz8xyycHPzHLJwc/McsnBz8xy6f8DtvMIq1JSM2sAAAAASUVORK5CYII=\n",
      "text/plain": [
       "<Figure size 432x288 with 2 Axes>"
      ]
     },
     "metadata": {
      "needs_background": "light"
     },
     "output_type": "display_data"
    }
   ],
   "source": [
    "#Create the optimum Decision Tree Classifier\n",
    "optimum_clf = DecisionTreeClassifier(criterion = best_params['criterion'], max_depth = best_params['max_depth'])\n",
    "\n",
    "#Train the model using the training sets\n",
    "optimum_clf.fit(X_train, y_train)\n",
    "\n",
    "#Predict the response for test dataset\n",
    "y_pred = optimum_clf.predict(X_test)\n",
    "\n",
    "# Measuring model's performance using different evaluation metrics\n",
    "print('Model:', optimum_clf)\n",
    "print('Precision Score: %.3f' % (precision_score(y_test, y_pred)))\n",
    "print('Recall Score: %.3f' % (recall_score(y_test, y_pred)))\n",
    "print('Training Accuracy: %.3f' % (optimum_clf.score(X_train, y_train)))\n",
    "print('Test Accuracy: %.3f' % (optimum_clf.score(X_test, y_test)))\n",
    "print('F1 Score: %.3f' % (f1_score(y_test, y_pred, average='weighted')))\n",
    "print(plot_confusion_matrix(optimum_clf, X_test, y_test, values_format = 'd' ))"
   ]
  },
  {
   "cell_type": "markdown",
   "metadata": {},
   "source": [
    "## 5. Customer attrition prediction using Support Vector Machines (SVM) Classifier"
   ]
  },
  {
   "cell_type": "code",
   "execution_count": 10,
   "metadata": {},
   "outputs": [
    {
     "name": "stdout",
     "output_type": "stream",
     "text": [
      "Fitting 5 folds for each of 48 candidates, totalling 240 fits\n",
      "[CV] C=0.1, gamma=1, kernel=rbf ......................................\n"
     ]
    },
    {
     "name": "stderr",
     "output_type": "stream",
     "text": [
      "[Parallel(n_jobs=1)]: Using backend SequentialBackend with 1 concurrent workers.\n"
     ]
    },
    {
     "name": "stdout",
     "output_type": "stream",
     "text": [
      "[CV] ....................... C=0.1, gamma=1, kernel=rbf, total=   1.2s\n",
      "[CV] C=0.1, gamma=1, kernel=rbf ......................................\n"
     ]
    },
    {
     "name": "stderr",
     "output_type": "stream",
     "text": [
      "[Parallel(n_jobs=1)]: Done   1 out of   1 | elapsed:    1.1s remaining:    0.0s\n"
     ]
    },
    {
     "name": "stdout",
     "output_type": "stream",
     "text": [
      "[CV] ....................... C=0.1, gamma=1, kernel=rbf, total=   1.2s\n",
      "[CV] C=0.1, gamma=1, kernel=rbf ......................................\n",
      "[CV] ....................... C=0.1, gamma=1, kernel=rbf, total=   1.2s\n",
      "[CV] C=0.1, gamma=1, kernel=rbf ......................................\n",
      "[CV] ....................... C=0.1, gamma=1, kernel=rbf, total=   1.2s\n",
      "[CV] C=0.1, gamma=1, kernel=rbf ......................................\n",
      "[CV] ....................... C=0.1, gamma=1, kernel=rbf, total=   1.2s\n",
      "[CV] C=0.1, gamma=1, kernel=poly .....................................\n",
      "[CV] ...................... C=0.1, gamma=1, kernel=poly, total=   0.5s\n",
      "[CV] C=0.1, gamma=1, kernel=poly .....................................\n",
      "[CV] ...................... C=0.1, gamma=1, kernel=poly, total=   0.5s\n",
      "[CV] C=0.1, gamma=1, kernel=poly .....................................\n",
      "[CV] ...................... C=0.1, gamma=1, kernel=poly, total=   0.5s\n",
      "[CV] C=0.1, gamma=1, kernel=poly .....................................\n",
      "[CV] ...................... C=0.1, gamma=1, kernel=poly, total=   0.5s\n",
      "[CV] C=0.1, gamma=1, kernel=poly .....................................\n",
      "[CV] ...................... C=0.1, gamma=1, kernel=poly, total=   0.5s\n",
      "[CV] C=0.1, gamma=1, kernel=sigmoid ..................................\n",
      "[CV] ................... C=0.1, gamma=1, kernel=sigmoid, total=   0.8s\n",
      "[CV] C=0.1, gamma=1, kernel=sigmoid ..................................\n",
      "[CV] ................... C=0.1, gamma=1, kernel=sigmoid, total=   0.8s\n",
      "[CV] C=0.1, gamma=1, kernel=sigmoid ..................................\n",
      "[CV] ................... C=0.1, gamma=1, kernel=sigmoid, total=   0.6s\n",
      "[CV] C=0.1, gamma=1, kernel=sigmoid ..................................\n",
      "[CV] ................... C=0.1, gamma=1, kernel=sigmoid, total=   0.7s\n",
      "[CV] C=0.1, gamma=1, kernel=sigmoid ..................................\n",
      "[CV] ................... C=0.1, gamma=1, kernel=sigmoid, total=   0.7s\n",
      "[CV] C=0.1, gamma=0.1, kernel=rbf ....................................\n",
      "[CV] ..................... C=0.1, gamma=0.1, kernel=rbf, total=   0.4s\n",
      "[CV] C=0.1, gamma=0.1, kernel=rbf ....................................\n",
      "[CV] ..................... C=0.1, gamma=0.1, kernel=rbf, total=   0.4s\n",
      "[CV] C=0.1, gamma=0.1, kernel=rbf ....................................\n",
      "[CV] ..................... C=0.1, gamma=0.1, kernel=rbf, total=   0.4s\n",
      "[CV] C=0.1, gamma=0.1, kernel=rbf ....................................\n",
      "[CV] ..................... C=0.1, gamma=0.1, kernel=rbf, total=   0.4s\n",
      "[CV] C=0.1, gamma=0.1, kernel=rbf ....................................\n",
      "[CV] ..................... C=0.1, gamma=0.1, kernel=rbf, total=   0.4s\n",
      "[CV] C=0.1, gamma=0.1, kernel=poly ...................................\n",
      "[CV] .................... C=0.1, gamma=0.1, kernel=poly, total=   0.3s\n",
      "[CV] C=0.1, gamma=0.1, kernel=poly ...................................\n",
      "[CV] .................... C=0.1, gamma=0.1, kernel=poly, total=   0.3s\n",
      "[CV] C=0.1, gamma=0.1, kernel=poly ...................................\n",
      "[CV] .................... C=0.1, gamma=0.1, kernel=poly, total=   0.3s\n",
      "[CV] C=0.1, gamma=0.1, kernel=poly ...................................\n",
      "[CV] .................... C=0.1, gamma=0.1, kernel=poly, total=   0.3s\n",
      "[CV] C=0.1, gamma=0.1, kernel=poly ...................................\n",
      "[CV] .................... C=0.1, gamma=0.1, kernel=poly, total=   0.3s\n",
      "[CV] C=0.1, gamma=0.1, kernel=sigmoid ................................\n",
      "[CV] ................. C=0.1, gamma=0.1, kernel=sigmoid, total=   0.4s\n",
      "[CV] C=0.1, gamma=0.1, kernel=sigmoid ................................\n",
      "[CV] ................. C=0.1, gamma=0.1, kernel=sigmoid, total=   0.4s\n",
      "[CV] C=0.1, gamma=0.1, kernel=sigmoid ................................\n",
      "[CV] ................. C=0.1, gamma=0.1, kernel=sigmoid, total=   0.5s\n",
      "[CV] C=0.1, gamma=0.1, kernel=sigmoid ................................\n",
      "[CV] ................. C=0.1, gamma=0.1, kernel=sigmoid, total=   0.4s\n",
      "[CV] C=0.1, gamma=0.1, kernel=sigmoid ................................\n",
      "[CV] ................. C=0.1, gamma=0.1, kernel=sigmoid, total=   0.5s\n",
      "[CV] C=0.1, gamma=0.01, kernel=rbf ...................................\n",
      "[CV] .................... C=0.1, gamma=0.01, kernel=rbf, total=   0.4s\n",
      "[CV] C=0.1, gamma=0.01, kernel=rbf ...................................\n",
      "[CV] .................... C=0.1, gamma=0.01, kernel=rbf, total=   0.4s\n",
      "[CV] C=0.1, gamma=0.01, kernel=rbf ...................................\n",
      "[CV] .................... C=0.1, gamma=0.01, kernel=rbf, total=   0.4s\n",
      "[CV] C=0.1, gamma=0.01, kernel=rbf ...................................\n",
      "[CV] .................... C=0.1, gamma=0.01, kernel=rbf, total=   0.4s\n",
      "[CV] C=0.1, gamma=0.01, kernel=rbf ...................................\n",
      "[CV] .................... C=0.1, gamma=0.01, kernel=rbf, total=   0.4s\n",
      "[CV] C=0.1, gamma=0.01, kernel=poly ..................................\n",
      "[CV] ................... C=0.1, gamma=0.01, kernel=poly, total=   0.3s\n",
      "[CV] C=0.1, gamma=0.01, kernel=poly ..................................\n",
      "[CV] ................... C=0.1, gamma=0.01, kernel=poly, total=   0.4s\n",
      "[CV] C=0.1, gamma=0.01, kernel=poly ..................................\n",
      "[CV] ................... C=0.1, gamma=0.01, kernel=poly, total=   0.4s\n",
      "[CV] C=0.1, gamma=0.01, kernel=poly ..................................\n",
      "[CV] ................... C=0.1, gamma=0.01, kernel=poly, total=   0.4s\n",
      "[CV] C=0.1, gamma=0.01, kernel=poly ..................................\n",
      "[CV] ................... C=0.1, gamma=0.01, kernel=poly, total=   0.3s\n",
      "[CV] C=0.1, gamma=0.01, kernel=sigmoid ...............................\n",
      "[CV] ................ C=0.1, gamma=0.01, kernel=sigmoid, total=   0.5s\n",
      "[CV] C=0.1, gamma=0.01, kernel=sigmoid ...............................\n",
      "[CV] ................ C=0.1, gamma=0.01, kernel=sigmoid, total=   0.5s\n",
      "[CV] C=0.1, gamma=0.01, kernel=sigmoid ...............................\n",
      "[CV] ................ C=0.1, gamma=0.01, kernel=sigmoid, total=   0.5s\n",
      "[CV] C=0.1, gamma=0.01, kernel=sigmoid ...............................\n",
      "[CV] ................ C=0.1, gamma=0.01, kernel=sigmoid, total=   0.5s\n",
      "[CV] C=0.1, gamma=0.01, kernel=sigmoid ...............................\n",
      "[CV] ................ C=0.1, gamma=0.01, kernel=sigmoid, total=   0.5s\n",
      "[CV] C=0.1, gamma=0.001, kernel=rbf ..................................\n",
      "[CV] ................... C=0.1, gamma=0.001, kernel=rbf, total=   0.4s\n",
      "[CV] C=0.1, gamma=0.001, kernel=rbf ..................................\n",
      "[CV] ................... C=0.1, gamma=0.001, kernel=rbf, total=   0.4s\n",
      "[CV] C=0.1, gamma=0.001, kernel=rbf ..................................\n",
      "[CV] ................... C=0.1, gamma=0.001, kernel=rbf, total=   0.4s\n",
      "[CV] C=0.1, gamma=0.001, kernel=rbf ..................................\n",
      "[CV] ................... C=0.1, gamma=0.001, kernel=rbf, total=   0.4s\n",
      "[CV] C=0.1, gamma=0.001, kernel=rbf ..................................\n",
      "[CV] ................... C=0.1, gamma=0.001, kernel=rbf, total=   0.4s\n",
      "[CV] C=0.1, gamma=0.001, kernel=poly .................................\n",
      "[CV] .................. C=0.1, gamma=0.001, kernel=poly, total=   0.3s\n",
      "[CV] C=0.1, gamma=0.001, kernel=poly .................................\n",
      "[CV] .................. C=0.1, gamma=0.001, kernel=poly, total=   0.3s\n",
      "[CV] C=0.1, gamma=0.001, kernel=poly .................................\n",
      "[CV] .................. C=0.1, gamma=0.001, kernel=poly, total=   0.3s\n",
      "[CV] C=0.1, gamma=0.001, kernel=poly .................................\n",
      "[CV] .................. C=0.1, gamma=0.001, kernel=poly, total=   0.3s\n",
      "[CV] C=0.1, gamma=0.001, kernel=poly .................................\n",
      "[CV] .................. C=0.1, gamma=0.001, kernel=poly, total=   0.3s\n",
      "[CV] C=0.1, gamma=0.001, kernel=sigmoid ..............................\n",
      "[CV] ............... C=0.1, gamma=0.001, kernel=sigmoid, total=   0.5s\n",
      "[CV] C=0.1, gamma=0.001, kernel=sigmoid ..............................\n",
      "[CV] ............... C=0.1, gamma=0.001, kernel=sigmoid, total=   0.5s\n",
      "[CV] C=0.1, gamma=0.001, kernel=sigmoid ..............................\n",
      "[CV] ............... C=0.1, gamma=0.001, kernel=sigmoid, total=   0.5s\n",
      "[CV] C=0.1, gamma=0.001, kernel=sigmoid ..............................\n",
      "[CV] ............... C=0.1, gamma=0.001, kernel=sigmoid, total=   0.5s\n",
      "[CV] C=0.1, gamma=0.001, kernel=sigmoid ..............................\n"
     ]
    },
    {
     "name": "stdout",
     "output_type": "stream",
     "text": [
      "[CV] ............... C=0.1, gamma=0.001, kernel=sigmoid, total=   0.5s\n",
      "[CV] C=1, gamma=1, kernel=rbf ........................................\n",
      "[CV] ......................... C=1, gamma=1, kernel=rbf, total=   1.4s\n",
      "[CV] C=1, gamma=1, kernel=rbf ........................................\n",
      "[CV] ......................... C=1, gamma=1, kernel=rbf, total=   1.4s\n",
      "[CV] C=1, gamma=1, kernel=rbf ........................................\n",
      "[CV] ......................... C=1, gamma=1, kernel=rbf, total=   1.3s\n",
      "[CV] C=1, gamma=1, kernel=rbf ........................................\n",
      "[CV] ......................... C=1, gamma=1, kernel=rbf, total=   1.4s\n",
      "[CV] C=1, gamma=1, kernel=rbf ........................................\n",
      "[CV] ......................... C=1, gamma=1, kernel=rbf, total=   1.4s\n",
      "[CV] C=1, gamma=1, kernel=poly .......................................\n",
      "[CV] ........................ C=1, gamma=1, kernel=poly, total=   0.5s\n",
      "[CV] C=1, gamma=1, kernel=poly .......................................\n",
      "[CV] ........................ C=1, gamma=1, kernel=poly, total=   0.5s\n",
      "[CV] C=1, gamma=1, kernel=poly .......................................\n",
      "[CV] ........................ C=1, gamma=1, kernel=poly, total=   0.5s\n",
      "[CV] C=1, gamma=1, kernel=poly .......................................\n",
      "[CV] ........................ C=1, gamma=1, kernel=poly, total=   0.5s\n",
      "[CV] C=1, gamma=1, kernel=poly .......................................\n",
      "[CV] ........................ C=1, gamma=1, kernel=poly, total=   0.5s\n",
      "[CV] C=1, gamma=1, kernel=sigmoid ....................................\n",
      "[CV] ..................... C=1, gamma=1, kernel=sigmoid, total=   0.8s\n",
      "[CV] C=1, gamma=1, kernel=sigmoid ....................................\n",
      "[CV] ..................... C=1, gamma=1, kernel=sigmoid, total=   0.8s\n",
      "[CV] C=1, gamma=1, kernel=sigmoid ....................................\n",
      "[CV] ..................... C=1, gamma=1, kernel=sigmoid, total=   0.6s\n",
      "[CV] C=1, gamma=1, kernel=sigmoid ....................................\n",
      "[CV] ..................... C=1, gamma=1, kernel=sigmoid, total=   0.7s\n",
      "[CV] C=1, gamma=1, kernel=sigmoid ....................................\n",
      "[CV] ..................... C=1, gamma=1, kernel=sigmoid, total=   0.7s\n",
      "[CV] C=1, gamma=0.1, kernel=rbf ......................................\n",
      "[CV] ....................... C=1, gamma=0.1, kernel=rbf, total=   0.4s\n",
      "[CV] C=1, gamma=0.1, kernel=rbf ......................................\n",
      "[CV] ....................... C=1, gamma=0.1, kernel=rbf, total=   0.4s\n",
      "[CV] C=1, gamma=0.1, kernel=rbf ......................................\n",
      "[CV] ....................... C=1, gamma=0.1, kernel=rbf, total=   0.4s\n",
      "[CV] C=1, gamma=0.1, kernel=rbf ......................................\n",
      "[CV] ....................... C=1, gamma=0.1, kernel=rbf, total=   0.4s\n",
      "[CV] C=1, gamma=0.1, kernel=rbf ......................................\n",
      "[CV] ....................... C=1, gamma=0.1, kernel=rbf, total=   0.4s\n",
      "[CV] C=1, gamma=0.1, kernel=poly .....................................\n",
      "[CV] ...................... C=1, gamma=0.1, kernel=poly, total=   0.3s\n",
      "[CV] C=1, gamma=0.1, kernel=poly .....................................\n",
      "[CV] ...................... C=1, gamma=0.1, kernel=poly, total=   0.3s\n",
      "[CV] C=1, gamma=0.1, kernel=poly .....................................\n",
      "[CV] ...................... C=1, gamma=0.1, kernel=poly, total=   0.3s\n",
      "[CV] C=1, gamma=0.1, kernel=poly .....................................\n",
      "[CV] ...................... C=1, gamma=0.1, kernel=poly, total=   0.3s\n",
      "[CV] C=1, gamma=0.1, kernel=poly .....................................\n",
      "[CV] ...................... C=1, gamma=0.1, kernel=poly, total=   0.3s\n",
      "[CV] C=1, gamma=0.1, kernel=sigmoid ..................................\n",
      "[CV] ................... C=1, gamma=0.1, kernel=sigmoid, total=   0.3s\n",
      "[CV] C=1, gamma=0.1, kernel=sigmoid ..................................\n",
      "[CV] ................... C=1, gamma=0.1, kernel=sigmoid, total=   0.3s\n",
      "[CV] C=1, gamma=0.1, kernel=sigmoid ..................................\n",
      "[CV] ................... C=1, gamma=0.1, kernel=sigmoid, total=   0.3s\n",
      "[CV] C=1, gamma=0.1, kernel=sigmoid ..................................\n",
      "[CV] ................... C=1, gamma=0.1, kernel=sigmoid, total=   0.4s\n",
      "[CV] C=1, gamma=0.1, kernel=sigmoid ..................................\n",
      "[CV] ................... C=1, gamma=0.1, kernel=sigmoid, total=   0.3s\n",
      "[CV] C=1, gamma=0.01, kernel=rbf .....................................\n",
      "[CV] ...................... C=1, gamma=0.01, kernel=rbf, total=   0.3s\n",
      "[CV] C=1, gamma=0.01, kernel=rbf .....................................\n",
      "[CV] ...................... C=1, gamma=0.01, kernel=rbf, total=   0.3s\n",
      "[CV] C=1, gamma=0.01, kernel=rbf .....................................\n",
      "[CV] ...................... C=1, gamma=0.01, kernel=rbf, total=   0.3s\n",
      "[CV] C=1, gamma=0.01, kernel=rbf .....................................\n",
      "[CV] ...................... C=1, gamma=0.01, kernel=rbf, total=   0.3s\n",
      "[CV] C=1, gamma=0.01, kernel=rbf .....................................\n",
      "[CV] ...................... C=1, gamma=0.01, kernel=rbf, total=   0.3s\n",
      "[CV] C=1, gamma=0.01, kernel=poly ....................................\n",
      "[CV] ..................... C=1, gamma=0.01, kernel=poly, total=   0.3s\n",
      "[CV] C=1, gamma=0.01, kernel=poly ....................................\n",
      "[CV] ..................... C=1, gamma=0.01, kernel=poly, total=   0.4s\n",
      "[CV] C=1, gamma=0.01, kernel=poly ....................................\n",
      "[CV] ..................... C=1, gamma=0.01, kernel=poly, total=   0.3s\n",
      "[CV] C=1, gamma=0.01, kernel=poly ....................................\n",
      "[CV] ..................... C=1, gamma=0.01, kernel=poly, total=   0.4s\n",
      "[CV] C=1, gamma=0.01, kernel=poly ....................................\n",
      "[CV] ..................... C=1, gamma=0.01, kernel=poly, total=   0.4s\n",
      "[CV] C=1, gamma=0.01, kernel=sigmoid .................................\n",
      "[CV] .................. C=1, gamma=0.01, kernel=sigmoid, total=   0.5s\n",
      "[CV] C=1, gamma=0.01, kernel=sigmoid .................................\n",
      "[CV] .................. C=1, gamma=0.01, kernel=sigmoid, total=   0.5s\n",
      "[CV] C=1, gamma=0.01, kernel=sigmoid .................................\n",
      "[CV] .................. C=1, gamma=0.01, kernel=sigmoid, total=   0.5s\n",
      "[CV] C=1, gamma=0.01, kernel=sigmoid .................................\n",
      "[CV] .................. C=1, gamma=0.01, kernel=sigmoid, total=   0.5s\n",
      "[CV] C=1, gamma=0.01, kernel=sigmoid .................................\n",
      "[CV] .................. C=1, gamma=0.01, kernel=sigmoid, total=   0.4s\n",
      "[CV] C=1, gamma=0.001, kernel=rbf ....................................\n",
      "[CV] ..................... C=1, gamma=0.001, kernel=rbf, total=   0.4s\n",
      "[CV] C=1, gamma=0.001, kernel=rbf ....................................\n",
      "[CV] ..................... C=1, gamma=0.001, kernel=rbf, total=   0.4s\n",
      "[CV] C=1, gamma=0.001, kernel=rbf ....................................\n",
      "[CV] ..................... C=1, gamma=0.001, kernel=rbf, total=   0.4s\n",
      "[CV] C=1, gamma=0.001, kernel=rbf ....................................\n",
      "[CV] ..................... C=1, gamma=0.001, kernel=rbf, total=   0.4s\n",
      "[CV] C=1, gamma=0.001, kernel=rbf ....................................\n",
      "[CV] ..................... C=1, gamma=0.001, kernel=rbf, total=   0.4s\n",
      "[CV] C=1, gamma=0.001, kernel=poly ...................................\n",
      "[CV] .................... C=1, gamma=0.001, kernel=poly, total=   0.3s\n",
      "[CV] C=1, gamma=0.001, kernel=poly ...................................\n",
      "[CV] .................... C=1, gamma=0.001, kernel=poly, total=   0.3s\n",
      "[CV] C=1, gamma=0.001, kernel=poly ...................................\n",
      "[CV] .................... C=1, gamma=0.001, kernel=poly, total=   0.3s\n",
      "[CV] C=1, gamma=0.001, kernel=poly ...................................\n",
      "[CV] .................... C=1, gamma=0.001, kernel=poly, total=   0.3s\n",
      "[CV] C=1, gamma=0.001, kernel=poly ...................................\n",
      "[CV] .................... C=1, gamma=0.001, kernel=poly, total=   0.3s\n",
      "[CV] C=1, gamma=0.001, kernel=sigmoid ................................\n",
      "[CV] ................. C=1, gamma=0.001, kernel=sigmoid, total=   0.5s\n",
      "[CV] C=1, gamma=0.001, kernel=sigmoid ................................\n",
      "[CV] ................. C=1, gamma=0.001, kernel=sigmoid, total=   0.5s\n",
      "[CV] C=1, gamma=0.001, kernel=sigmoid ................................\n"
     ]
    },
    {
     "name": "stdout",
     "output_type": "stream",
     "text": [
      "[CV] ................. C=1, gamma=0.001, kernel=sigmoid, total=   0.5s\n",
      "[CV] C=1, gamma=0.001, kernel=sigmoid ................................\n",
      "[CV] ................. C=1, gamma=0.001, kernel=sigmoid, total=   0.5s\n",
      "[CV] C=1, gamma=0.001, kernel=sigmoid ................................\n",
      "[CV] ................. C=1, gamma=0.001, kernel=sigmoid, total=   0.5s\n",
      "[CV] C=10, gamma=1, kernel=rbf .......................................\n",
      "[CV] ........................ C=10, gamma=1, kernel=rbf, total=   1.4s\n",
      "[CV] C=10, gamma=1, kernel=rbf .......................................\n",
      "[CV] ........................ C=10, gamma=1, kernel=rbf, total=   1.4s\n",
      "[CV] C=10, gamma=1, kernel=rbf .......................................\n",
      "[CV] ........................ C=10, gamma=1, kernel=rbf, total=   1.5s\n",
      "[CV] C=10, gamma=1, kernel=rbf .......................................\n",
      "[CV] ........................ C=10, gamma=1, kernel=rbf, total=   1.4s\n",
      "[CV] C=10, gamma=1, kernel=rbf .......................................\n",
      "[CV] ........................ C=10, gamma=1, kernel=rbf, total=   1.5s\n",
      "[CV] C=10, gamma=1, kernel=poly ......................................\n",
      "[CV] ....................... C=10, gamma=1, kernel=poly, total=   0.5s\n",
      "[CV] C=10, gamma=1, kernel=poly ......................................\n",
      "[CV] ....................... C=10, gamma=1, kernel=poly, total=   0.5s\n",
      "[CV] C=10, gamma=1, kernel=poly ......................................\n",
      "[CV] ....................... C=10, gamma=1, kernel=poly, total=   0.5s\n",
      "[CV] C=10, gamma=1, kernel=poly ......................................\n",
      "[CV] ....................... C=10, gamma=1, kernel=poly, total=   0.5s\n",
      "[CV] C=10, gamma=1, kernel=poly ......................................\n",
      "[CV] ....................... C=10, gamma=1, kernel=poly, total=   0.5s\n",
      "[CV] C=10, gamma=1, kernel=sigmoid ...................................\n",
      "[CV] .................... C=10, gamma=1, kernel=sigmoid, total=   0.8s\n",
      "[CV] C=10, gamma=1, kernel=sigmoid ...................................\n",
      "[CV] .................... C=10, gamma=1, kernel=sigmoid, total=   0.8s\n",
      "[CV] C=10, gamma=1, kernel=sigmoid ...................................\n",
      "[CV] .................... C=10, gamma=1, kernel=sigmoid, total=   0.6s\n",
      "[CV] C=10, gamma=1, kernel=sigmoid ...................................\n",
      "[CV] .................... C=10, gamma=1, kernel=sigmoid, total=   0.7s\n",
      "[CV] C=10, gamma=1, kernel=sigmoid ...................................\n",
      "[CV] .................... C=10, gamma=1, kernel=sigmoid, total=   0.7s\n",
      "[CV] C=10, gamma=0.1, kernel=rbf .....................................\n",
      "[CV] ...................... C=10, gamma=0.1, kernel=rbf, total=   0.5s\n",
      "[CV] C=10, gamma=0.1, kernel=rbf .....................................\n",
      "[CV] ...................... C=10, gamma=0.1, kernel=rbf, total=   0.5s\n",
      "[CV] C=10, gamma=0.1, kernel=rbf .....................................\n",
      "[CV] ...................... C=10, gamma=0.1, kernel=rbf, total=   0.5s\n",
      "[CV] C=10, gamma=0.1, kernel=rbf .....................................\n",
      "[CV] ...................... C=10, gamma=0.1, kernel=rbf, total=   0.5s\n",
      "[CV] C=10, gamma=0.1, kernel=rbf .....................................\n",
      "[CV] ...................... C=10, gamma=0.1, kernel=rbf, total=   0.5s\n",
      "[CV] C=10, gamma=0.1, kernel=poly ....................................\n",
      "[CV] ..................... C=10, gamma=0.1, kernel=poly, total=   0.5s\n",
      "[CV] C=10, gamma=0.1, kernel=poly ....................................\n",
      "[CV] ..................... C=10, gamma=0.1, kernel=poly, total=   0.5s\n",
      "[CV] C=10, gamma=0.1, kernel=poly ....................................\n",
      "[CV] ..................... C=10, gamma=0.1, kernel=poly, total=   0.5s\n",
      "[CV] C=10, gamma=0.1, kernel=poly ....................................\n",
      "[CV] ..................... C=10, gamma=0.1, kernel=poly, total=   0.5s\n",
      "[CV] C=10, gamma=0.1, kernel=poly ....................................\n",
      "[CV] ..................... C=10, gamma=0.1, kernel=poly, total=   0.5s\n",
      "[CV] C=10, gamma=0.1, kernel=sigmoid .................................\n",
      "[CV] .................. C=10, gamma=0.1, kernel=sigmoid, total=   0.3s\n",
      "[CV] C=10, gamma=0.1, kernel=sigmoid .................................\n",
      "[CV] .................. C=10, gamma=0.1, kernel=sigmoid, total=   0.3s\n",
      "[CV] C=10, gamma=0.1, kernel=sigmoid .................................\n",
      "[CV] .................. C=10, gamma=0.1, kernel=sigmoid, total=   0.3s\n",
      "[CV] C=10, gamma=0.1, kernel=sigmoid .................................\n",
      "[CV] .................. C=10, gamma=0.1, kernel=sigmoid, total=   0.3s\n",
      "[CV] C=10, gamma=0.1, kernel=sigmoid .................................\n",
      "[CV] .................. C=10, gamma=0.1, kernel=sigmoid, total=   0.3s\n",
      "[CV] C=10, gamma=0.01, kernel=rbf ....................................\n",
      "[CV] ..................... C=10, gamma=0.01, kernel=rbf, total=   0.3s\n",
      "[CV] C=10, gamma=0.01, kernel=rbf ....................................\n",
      "[CV] ..................... C=10, gamma=0.01, kernel=rbf, total=   0.3s\n",
      "[CV] C=10, gamma=0.01, kernel=rbf ....................................\n",
      "[CV] ..................... C=10, gamma=0.01, kernel=rbf, total=   0.3s\n",
      "[CV] C=10, gamma=0.01, kernel=rbf ....................................\n",
      "[CV] ..................... C=10, gamma=0.01, kernel=rbf, total=   0.3s\n",
      "[CV] C=10, gamma=0.01, kernel=rbf ....................................\n",
      "[CV] ..................... C=10, gamma=0.01, kernel=rbf, total=   0.3s\n",
      "[CV] C=10, gamma=0.01, kernel=poly ...................................\n",
      "[CV] .................... C=10, gamma=0.01, kernel=poly, total=   0.3s\n",
      "[CV] C=10, gamma=0.01, kernel=poly ...................................\n",
      "[CV] .................... C=10, gamma=0.01, kernel=poly, total=   0.3s\n",
      "[CV] C=10, gamma=0.01, kernel=poly ...................................\n",
      "[CV] .................... C=10, gamma=0.01, kernel=poly, total=   0.3s\n",
      "[CV] C=10, gamma=0.01, kernel=poly ...................................\n",
      "[CV] .................... C=10, gamma=0.01, kernel=poly, total=   0.3s\n",
      "[CV] C=10, gamma=0.01, kernel=poly ...................................\n",
      "[CV] .................... C=10, gamma=0.01, kernel=poly, total=   0.3s\n",
      "[CV] C=10, gamma=0.01, kernel=sigmoid ................................\n",
      "[CV] ................. C=10, gamma=0.01, kernel=sigmoid, total=   0.4s\n",
      "[CV] C=10, gamma=0.01, kernel=sigmoid ................................\n",
      "[CV] ................. C=10, gamma=0.01, kernel=sigmoid, total=   0.4s\n",
      "[CV] C=10, gamma=0.01, kernel=sigmoid ................................\n",
      "[CV] ................. C=10, gamma=0.01, kernel=sigmoid, total=   0.4s\n",
      "[CV] C=10, gamma=0.01, kernel=sigmoid ................................\n",
      "[CV] ................. C=10, gamma=0.01, kernel=sigmoid, total=   0.4s\n",
      "[CV] C=10, gamma=0.01, kernel=sigmoid ................................\n",
      "[CV] ................. C=10, gamma=0.01, kernel=sigmoid, total=   0.4s\n",
      "[CV] C=10, gamma=0.001, kernel=rbf ...................................\n",
      "[CV] .................... C=10, gamma=0.001, kernel=rbf, total=   0.3s\n",
      "[CV] C=10, gamma=0.001, kernel=rbf ...................................\n",
      "[CV] .................... C=10, gamma=0.001, kernel=rbf, total=   0.4s\n",
      "[CV] C=10, gamma=0.001, kernel=rbf ...................................\n",
      "[CV] .................... C=10, gamma=0.001, kernel=rbf, total=   0.4s\n",
      "[CV] C=10, gamma=0.001, kernel=rbf ...................................\n",
      "[CV] .................... C=10, gamma=0.001, kernel=rbf, total=   0.3s\n",
      "[CV] C=10, gamma=0.001, kernel=rbf ...................................\n",
      "[CV] .................... C=10, gamma=0.001, kernel=rbf, total=   0.3s\n",
      "[CV] C=10, gamma=0.001, kernel=poly ..................................\n",
      "[CV] ................... C=10, gamma=0.001, kernel=poly, total=   0.3s\n",
      "[CV] C=10, gamma=0.001, kernel=poly ..................................\n",
      "[CV] ................... C=10, gamma=0.001, kernel=poly, total=   0.3s\n",
      "[CV] C=10, gamma=0.001, kernel=poly ..................................\n",
      "[CV] ................... C=10, gamma=0.001, kernel=poly, total=   0.3s\n",
      "[CV] C=10, gamma=0.001, kernel=poly ..................................\n",
      "[CV] ................... C=10, gamma=0.001, kernel=poly, total=   0.3s\n",
      "[CV] C=10, gamma=0.001, kernel=poly ..................................\n",
      "[CV] ................... C=10, gamma=0.001, kernel=poly, total=   0.3s\n",
      "[CV] C=10, gamma=0.001, kernel=sigmoid ...............................\n"
     ]
    },
    {
     "name": "stdout",
     "output_type": "stream",
     "text": [
      "[CV] ................ C=10, gamma=0.001, kernel=sigmoid, total=   0.5s\n",
      "[CV] C=10, gamma=0.001, kernel=sigmoid ...............................\n",
      "[CV] ................ C=10, gamma=0.001, kernel=sigmoid, total=   0.5s\n",
      "[CV] C=10, gamma=0.001, kernel=sigmoid ...............................\n",
      "[CV] ................ C=10, gamma=0.001, kernel=sigmoid, total=   0.5s\n",
      "[CV] C=10, gamma=0.001, kernel=sigmoid ...............................\n",
      "[CV] ................ C=10, gamma=0.001, kernel=sigmoid, total=   0.5s\n",
      "[CV] C=10, gamma=0.001, kernel=sigmoid ...............................\n",
      "[CV] ................ C=10, gamma=0.001, kernel=sigmoid, total=   0.5s\n",
      "[CV] C=100, gamma=1, kernel=rbf ......................................\n",
      "[CV] ....................... C=100, gamma=1, kernel=rbf, total=   1.4s\n",
      "[CV] C=100, gamma=1, kernel=rbf ......................................\n",
      "[CV] ....................... C=100, gamma=1, kernel=rbf, total=   1.4s\n",
      "[CV] C=100, gamma=1, kernel=rbf ......................................\n",
      "[CV] ....................... C=100, gamma=1, kernel=rbf, total=   1.4s\n",
      "[CV] C=100, gamma=1, kernel=rbf ......................................\n",
      "[CV] ....................... C=100, gamma=1, kernel=rbf, total=   1.4s\n",
      "[CV] C=100, gamma=1, kernel=rbf ......................................\n",
      "[CV] ....................... C=100, gamma=1, kernel=rbf, total=   1.5s\n",
      "[CV] C=100, gamma=1, kernel=poly .....................................\n",
      "[CV] ...................... C=100, gamma=1, kernel=poly, total=   0.5s\n",
      "[CV] C=100, gamma=1, kernel=poly .....................................\n",
      "[CV] ...................... C=100, gamma=1, kernel=poly, total=   0.5s\n",
      "[CV] C=100, gamma=1, kernel=poly .....................................\n",
      "[CV] ...................... C=100, gamma=1, kernel=poly, total=   0.5s\n",
      "[CV] C=100, gamma=1, kernel=poly .....................................\n",
      "[CV] ...................... C=100, gamma=1, kernel=poly, total=   0.5s\n",
      "[CV] C=100, gamma=1, kernel=poly .....................................\n",
      "[CV] ...................... C=100, gamma=1, kernel=poly, total=   0.5s\n",
      "[CV] C=100, gamma=1, kernel=sigmoid ..................................\n",
      "[CV] ................... C=100, gamma=1, kernel=sigmoid, total=   0.8s\n",
      "[CV] C=100, gamma=1, kernel=sigmoid ..................................\n",
      "[CV] ................... C=100, gamma=1, kernel=sigmoid, total=   0.8s\n",
      "[CV] C=100, gamma=1, kernel=sigmoid ..................................\n",
      "[CV] ................... C=100, gamma=1, kernel=sigmoid, total=   0.6s\n",
      "[CV] C=100, gamma=1, kernel=sigmoid ..................................\n",
      "[CV] ................... C=100, gamma=1, kernel=sigmoid, total=   0.7s\n",
      "[CV] C=100, gamma=1, kernel=sigmoid ..................................\n",
      "[CV] ................... C=100, gamma=1, kernel=sigmoid, total=   0.7s\n",
      "[CV] C=100, gamma=0.1, kernel=rbf ....................................\n",
      "[CV] ..................... C=100, gamma=0.1, kernel=rbf, total=   0.5s\n",
      "[CV] C=100, gamma=0.1, kernel=rbf ....................................\n",
      "[CV] ..................... C=100, gamma=0.1, kernel=rbf, total=   0.5s\n",
      "[CV] C=100, gamma=0.1, kernel=rbf ....................................\n",
      "[CV] ..................... C=100, gamma=0.1, kernel=rbf, total=   0.5s\n",
      "[CV] C=100, gamma=0.1, kernel=rbf ....................................\n",
      "[CV] ..................... C=100, gamma=0.1, kernel=rbf, total=   0.5s\n",
      "[CV] C=100, gamma=0.1, kernel=rbf ....................................\n",
      "[CV] ..................... C=100, gamma=0.1, kernel=rbf, total=   0.5s\n",
      "[CV] C=100, gamma=0.1, kernel=poly ...................................\n",
      "[CV] .................... C=100, gamma=0.1, kernel=poly, total=   0.5s\n",
      "[CV] C=100, gamma=0.1, kernel=poly ...................................\n",
      "[CV] .................... C=100, gamma=0.1, kernel=poly, total=   0.5s\n",
      "[CV] C=100, gamma=0.1, kernel=poly ...................................\n",
      "[CV] .................... C=100, gamma=0.1, kernel=poly, total=   0.5s\n",
      "[CV] C=100, gamma=0.1, kernel=poly ...................................\n",
      "[CV] .................... C=100, gamma=0.1, kernel=poly, total=   0.5s\n",
      "[CV] C=100, gamma=0.1, kernel=poly ...................................\n",
      "[CV] .................... C=100, gamma=0.1, kernel=poly, total=   0.5s\n",
      "[CV] C=100, gamma=0.1, kernel=sigmoid ................................\n",
      "[CV] ................. C=100, gamma=0.1, kernel=sigmoid, total=   0.3s\n",
      "[CV] C=100, gamma=0.1, kernel=sigmoid ................................\n",
      "[CV] ................. C=100, gamma=0.1, kernel=sigmoid, total=   0.3s\n",
      "[CV] C=100, gamma=0.1, kernel=sigmoid ................................\n",
      "[CV] ................. C=100, gamma=0.1, kernel=sigmoid, total=   0.3s\n",
      "[CV] C=100, gamma=0.1, kernel=sigmoid ................................\n",
      "[CV] ................. C=100, gamma=0.1, kernel=sigmoid, total=   0.3s\n",
      "[CV] C=100, gamma=0.1, kernel=sigmoid ................................\n",
      "[CV] ................. C=100, gamma=0.1, kernel=sigmoid, total=   0.3s\n",
      "[CV] C=100, gamma=0.01, kernel=rbf ...................................\n",
      "[CV] .................... C=100, gamma=0.01, kernel=rbf, total=   0.5s\n",
      "[CV] C=100, gamma=0.01, kernel=rbf ...................................\n",
      "[CV] .................... C=100, gamma=0.01, kernel=rbf, total=   0.5s\n",
      "[CV] C=100, gamma=0.01, kernel=rbf ...................................\n",
      "[CV] .................... C=100, gamma=0.01, kernel=rbf, total=   0.5s\n",
      "[CV] C=100, gamma=0.01, kernel=rbf ...................................\n",
      "[CV] .................... C=100, gamma=0.01, kernel=rbf, total=   0.5s\n",
      "[CV] C=100, gamma=0.01, kernel=rbf ...................................\n",
      "[CV] .................... C=100, gamma=0.01, kernel=rbf, total=   0.5s\n",
      "[CV] C=100, gamma=0.01, kernel=poly ..................................\n",
      "[CV] ................... C=100, gamma=0.01, kernel=poly, total=   0.3s\n",
      "[CV] C=100, gamma=0.01, kernel=poly ..................................\n",
      "[CV] ................... C=100, gamma=0.01, kernel=poly, total=   0.3s\n",
      "[CV] C=100, gamma=0.01, kernel=poly ..................................\n",
      "[CV] ................... C=100, gamma=0.01, kernel=poly, total=   0.3s\n",
      "[CV] C=100, gamma=0.01, kernel=poly ..................................\n",
      "[CV] ................... C=100, gamma=0.01, kernel=poly, total=   0.3s\n",
      "[CV] C=100, gamma=0.01, kernel=poly ..................................\n",
      "[CV] ................... C=100, gamma=0.01, kernel=poly, total=   0.3s\n",
      "[CV] C=100, gamma=0.01, kernel=sigmoid ...............................\n",
      "[CV] ................ C=100, gamma=0.01, kernel=sigmoid, total=   0.3s\n",
      "[CV] C=100, gamma=0.01, kernel=sigmoid ...............................\n",
      "[CV] ................ C=100, gamma=0.01, kernel=sigmoid, total=   0.3s\n",
      "[CV] C=100, gamma=0.01, kernel=sigmoid ...............................\n",
      "[CV] ................ C=100, gamma=0.01, kernel=sigmoid, total=   0.3s\n",
      "[CV] C=100, gamma=0.01, kernel=sigmoid ...............................\n",
      "[CV] ................ C=100, gamma=0.01, kernel=sigmoid, total=   0.3s\n",
      "[CV] C=100, gamma=0.01, kernel=sigmoid ...............................\n",
      "[CV] ................ C=100, gamma=0.01, kernel=sigmoid, total=   0.3s\n",
      "[CV] C=100, gamma=0.001, kernel=rbf ..................................\n",
      "[CV] ................... C=100, gamma=0.001, kernel=rbf, total=   0.4s\n",
      "[CV] C=100, gamma=0.001, kernel=rbf ..................................\n",
      "[CV] ................... C=100, gamma=0.001, kernel=rbf, total=   0.4s\n",
      "[CV] C=100, gamma=0.001, kernel=rbf ..................................\n",
      "[CV] ................... C=100, gamma=0.001, kernel=rbf, total=   0.4s\n",
      "[CV] C=100, gamma=0.001, kernel=rbf ..................................\n",
      "[CV] ................... C=100, gamma=0.001, kernel=rbf, total=   0.4s\n",
      "[CV] C=100, gamma=0.001, kernel=rbf ..................................\n",
      "[CV] ................... C=100, gamma=0.001, kernel=rbf, total=   0.4s\n",
      "[CV] C=100, gamma=0.001, kernel=poly .................................\n",
      "[CV] .................. C=100, gamma=0.001, kernel=poly, total=   0.3s\n",
      "[CV] C=100, gamma=0.001, kernel=poly .................................\n",
      "[CV] .................. C=100, gamma=0.001, kernel=poly, total=   0.3s\n",
      "[CV] C=100, gamma=0.001, kernel=poly .................................\n",
      "[CV] .................. C=100, gamma=0.001, kernel=poly, total=   0.3s\n",
      "[CV] C=100, gamma=0.001, kernel=poly .................................\n"
     ]
    },
    {
     "name": "stdout",
     "output_type": "stream",
     "text": [
      "[CV] .................. C=100, gamma=0.001, kernel=poly, total=   0.3s\n",
      "[CV] C=100, gamma=0.001, kernel=poly .................................\n",
      "[CV] .................. C=100, gamma=0.001, kernel=poly, total=   0.3s\n",
      "[CV] C=100, gamma=0.001, kernel=sigmoid ..............................\n",
      "[CV] ............... C=100, gamma=0.001, kernel=sigmoid, total=   0.5s\n",
      "[CV] C=100, gamma=0.001, kernel=sigmoid ..............................\n",
      "[CV] ............... C=100, gamma=0.001, kernel=sigmoid, total=   0.5s\n",
      "[CV] C=100, gamma=0.001, kernel=sigmoid ..............................\n",
      "[CV] ............... C=100, gamma=0.001, kernel=sigmoid, total=   0.5s\n",
      "[CV] C=100, gamma=0.001, kernel=sigmoid ..............................\n",
      "[CV] ............... C=100, gamma=0.001, kernel=sigmoid, total=   0.4s\n",
      "[CV] C=100, gamma=0.001, kernel=sigmoid ..............................\n",
      "[CV] ............... C=100, gamma=0.001, kernel=sigmoid, total=   0.5s\n"
     ]
    },
    {
     "name": "stderr",
     "output_type": "stream",
     "text": [
      "[Parallel(n_jobs=1)]: Done 240 out of 240 | elapsed:  2.0min finished\n"
     ]
    },
    {
     "name": "stdout",
     "output_type": "stream",
     "text": [
      "{'C': 10, 'gamma': 0.1, 'kernel': 'rbf'}\n"
     ]
    }
   ],
   "source": [
    "# define models and parameters\n",
    "param_grid = {'C': [0.1,1, 10, 100], 'gamma': [1,0.1,0.01,0.001],'kernel': ['rbf', 'poly', 'sigmoid']}\n",
    "svc = SVC()\n",
    "svc_cv = GridSearchCV(svc, param_grid, refit=True, verbose=2)\n",
    "\n",
    "best_model = svc_cv.fit(X_train, y_train)\n",
    "\n",
    "print(best_model.best_params_)\n",
    "\n",
    "best_params = best_model.best_params_"
   ]
  },
  {
   "cell_type": "code",
   "execution_count": 11,
   "metadata": {},
   "outputs": [
    {
     "name": "stdout",
     "output_type": "stream",
     "text": [
      "Model: SVC(C=10, gamma=0.1)\n",
      "Precision Score: 0.839\n",
      "Recall Score: 0.770\n",
      "Training Accuracy: 0.999\n",
      "Test Accuracy: 0.937\n",
      "F1 Score: 0.936\n",
      "<sklearn.metrics._plot.confusion_matrix.ConfusionMatrixDisplay object at 0x00000171764C6CD0>\n"
     ]
    },
    {
     "data": {
      "image/png": "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\n",
      "text/plain": [
       "<Figure size 432x288 with 2 Axes>"
      ]
     },
     "metadata": {
      "needs_background": "light"
     },
     "output_type": "display_data"
    }
   ],
   "source": [
    "# Create a svm Classifier\n",
    "clf = SVC(C = best_params['C'], gamma = best_params['gamma'], kernel = best_params['kernel']) \n",
    "# clf = SVC(C = 10, gamma = 0.1, kernel = 'rbf')\n",
    "\n",
    "#Train the model using the training sets\n",
    "optimum_clf = clf.fit(X_train, y_train)\n",
    "\n",
    "#Predict the response for test dataset\n",
    "y_pred = optimum_clf.predict(X_test)\n",
    "\n",
    "# Measuring model's performance using different evaluation metrics\n",
    "print('Model:', optimum_clf)\n",
    "print('Precision Score: %.3f' % (precision_score(y_test, y_pred)))\n",
    "print('Recall Score: %.3f' % (recall_score(y_test, y_pred)))\n",
    "print('Training Accuracy: %.3f' % (optimum_clf.score(X_train, y_train)))\n",
    "print('Test Accuracy: %.3f' % (optimum_clf.score(X_test, y_test)))\n",
    "print('F1 Score: %.3f' % (f1_score(y_test, y_pred, average='weighted')))\n",
    "print(plot_confusion_matrix(optimum_clf, X_test, y_test, values_format = 'd' ))"
   ]
  },
  {
   "cell_type": "markdown",
   "metadata": {},
   "source": [
    "## 6. Customer attrition prediction using Random Forest Classifier"
   ]
  },
  {
   "cell_type": "code",
   "execution_count": 12,
   "metadata": {},
   "outputs": [
    {
     "name": "stdout",
     "output_type": "stream",
     "text": [
      "Best Parameters: {'n_estimators': 1400, 'min_samples_split': 5, 'min_samples_leaf': 1, 'max_features': 'sqrt', 'max_depth': 70, 'bootstrap': False}\n",
      "Best Score: 0.9548710601719197\n"
     ]
    }
   ],
   "source": [
    "# define models and parameters\n",
    "\n",
    "# Number of trees in random forest\n",
    "n_estimators = [int(x) for x in np.linspace(start = 200, stop = 2000, num = 10)]\n",
    "# Number of features to consider at every split\n",
    "max_features = ['auto', 'sqrt']\n",
    "# Maximum number of levels in tree\n",
    "max_depth = [int(x) for x in np.linspace(10, 110, num = 11)]\n",
    "max_depth.append(None)\n",
    "# Minimum number of samples required to split a node\n",
    "min_samples_split = [2, 5, 10]\n",
    "# Minimum number of samples required at each leaf node\n",
    "min_samples_leaf = [1, 2, 4]\n",
    "# Method of selecting samples for training each tree\n",
    "bootstrap = [True, False]\n",
    "# Create the random grid\n",
    "param_grid = {'n_estimators': n_estimators,\n",
    "               'max_features': max_features,\n",
    "               'max_depth': max_depth,\n",
    "               'min_samples_split': min_samples_split,\n",
    "               'min_samples_leaf': min_samples_leaf,\n",
    "               'bootstrap': bootstrap}\n",
    "\n",
    "clf = RandomForestClassifier()\n",
    "\n",
    "# define randomized search cv and train the training dataset\n",
    "clf_cv = RandomizedSearchCV(clf, param_distributions = param_grid, cv = 5, n_jobs = -1)\n",
    "best_model = clf_cv.fit(X_train, y_train)\n",
    "\n",
    "# Get the optimum hyperparameter\n",
    "best_params = best_model.best_params_\n",
    "print('Best Parameters:', best_params)\n",
    "print('Best Score:', best_model.best_score_)"
   ]
  },
  {
   "cell_type": "code",
   "execution_count": 13,
   "metadata": {},
   "outputs": [
    {
     "name": "stdout",
     "output_type": "stream",
     "text": [
      "Model: RandomForestClassifier(bootstrap=False, max_depth=70, max_features='sqrt',\n",
      "                       min_samples_split=5, n_estimators=1400, random_state=42)\n",
      "Precision Score: 0.934\n",
      "Recall Score: 0.840\n",
      "Training Accuracy: 1.000\n",
      "Test Accuracy: 0.963\n",
      "F1 Score: 0.963\n",
      "<sklearn.metrics._plot.confusion_matrix.ConfusionMatrixDisplay object at 0x000001717659EAC0>\n"
     ]
    },
    {
     "data": {
      "image/png": "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\n",
      "text/plain": [
       "<Figure size 432x288 with 2 Axes>"
      ]
     },
     "metadata": {
      "needs_background": "light"
     },
     "output_type": "display_data"
    }
   ],
   "source": [
    "#Create a Random Forest Classifier\n",
    "clf = RandomForestClassifier(n_estimators = best_params['n_estimators'], min_samples_split = best_params['min_samples_split']\\\n",
    "                             , min_samples_leaf = best_params['min_samples_leaf'], max_features = best_params['max_features']\\\n",
    "                             , max_depth = best_params['max_depth'], bootstrap = best_params['bootstrap'], random_state=42)\n",
    "\n",
    "#Train the model using the training sets\n",
    "optimum_clf = clf.fit(X_train, y_train)\n",
    "\n",
    "#Predict the response for test dataset\n",
    "y_pred = optimum_clf.predict(X_test)\n",
    "\n",
    "# Measuring model's performance using different evaluation metrics\n",
    "print('Model:', optimum_clf)\n",
    "print('Precision Score: %.3f' % (precision_score(y_test, y_pred)))\n",
    "print('Recall Score: %.3f' % (recall_score(y_test, y_pred)))\n",
    "print('Training Accuracy: %.3f' % (optimum_clf.score(X_train, y_train)))\n",
    "print('Test Accuracy: %.3f' % (optimum_clf.score(X_test, y_test)))\n",
    "print('F1 Score: %.3f' % (f1_score(y_test, y_pred, average='weighted')))\n",
    "print(plot_confusion_matrix(optimum_clf, X_test, y_test, values_format = 'd' ))"
   ]
  },
  {
   "cell_type": "markdown",
   "metadata": {},
   "source": [
    "## 7. Customer attrition prediction using Gradient Boosting Classifier"
   ]
  },
  {
   "cell_type": "code",
<<<<<<< HEAD
   "execution_count": 5,
   "metadata": {},
   "outputs": [
    {
     "ename": "TypeError",
     "evalue": "__init__() got an unexpected keyword argument 'njobs'",
     "output_type": "error",
     "traceback": [
      "\u001b[1;31m---------------------------------------------------------------------------\u001b[0m",
      "\u001b[1;31mTypeError\u001b[0m                                 Traceback (most recent call last)",
      "\u001b[1;32m<ipython-input-5-529af97acdf8>\u001b[0m in \u001b[0;36m<module>\u001b[1;34m\u001b[0m\n\u001b[0;32m      9\u001b[0m \u001b[1;33m\u001b[0m\u001b[0m\n\u001b[0;32m     10\u001b[0m \u001b[1;31m# define randomized search cv and train the training dataset\u001b[0m\u001b[1;33m\u001b[0m\u001b[1;33m\u001b[0m\u001b[1;33m\u001b[0m\u001b[0m\n\u001b[1;32m---> 11\u001b[1;33m \u001b[0mgbc_cv\u001b[0m \u001b[1;33m=\u001b[0m \u001b[0mRandomizedSearchCV\u001b[0m\u001b[1;33m(\u001b[0m\u001b[0mgbc\u001b[0m\u001b[1;33m,\u001b[0m \u001b[0mparam_distributions\u001b[0m \u001b[1;33m=\u001b[0m \u001b[0mparam_grid\u001b[0m\u001b[1;33m,\u001b[0m \u001b[0mcv\u001b[0m \u001b[1;33m=\u001b[0m \u001b[1;36m5\u001b[0m\u001b[1;33m,\u001b[0m \u001b[0mnjobs\u001b[0m\u001b[1;33m=\u001b[0m\u001b[1;33m-\u001b[0m\u001b[1;36m1\u001b[0m\u001b[1;33m)\u001b[0m\u001b[1;33m\u001b[0m\u001b[1;33m\u001b[0m\u001b[0m\n\u001b[0m\u001b[0;32m     12\u001b[0m \u001b[0mbest_model\u001b[0m \u001b[1;33m=\u001b[0m \u001b[0mgbc_cv\u001b[0m\u001b[1;33m.\u001b[0m\u001b[0mfit\u001b[0m\u001b[1;33m(\u001b[0m\u001b[0mX_train\u001b[0m\u001b[1;33m,\u001b[0m \u001b[0my_train\u001b[0m\u001b[1;33m)\u001b[0m\u001b[1;33m\u001b[0m\u001b[1;33m\u001b[0m\u001b[0m\n\u001b[0;32m     13\u001b[0m \u001b[1;33m\u001b[0m\u001b[0m\n",
      "\u001b[1;32m~\\Anaconda3\\lib\\site-packages\\sklearn\\utils\\validation.py\u001b[0m in \u001b[0;36minner_f\u001b[1;34m(*args, **kwargs)\u001b[0m\n\u001b[0;32m     70\u001b[0m                           FutureWarning)\n\u001b[0;32m     71\u001b[0m         \u001b[0mkwargs\u001b[0m\u001b[1;33m.\u001b[0m\u001b[0mupdate\u001b[0m\u001b[1;33m(\u001b[0m\u001b[1;33m{\u001b[0m\u001b[0mk\u001b[0m\u001b[1;33m:\u001b[0m \u001b[0marg\u001b[0m \u001b[1;32mfor\u001b[0m \u001b[0mk\u001b[0m\u001b[1;33m,\u001b[0m \u001b[0marg\u001b[0m \u001b[1;32min\u001b[0m \u001b[0mzip\u001b[0m\u001b[1;33m(\u001b[0m\u001b[0msig\u001b[0m\u001b[1;33m.\u001b[0m\u001b[0mparameters\u001b[0m\u001b[1;33m,\u001b[0m \u001b[0margs\u001b[0m\u001b[1;33m)\u001b[0m\u001b[1;33m}\u001b[0m\u001b[1;33m)\u001b[0m\u001b[1;33m\u001b[0m\u001b[1;33m\u001b[0m\u001b[0m\n\u001b[1;32m---> 72\u001b[1;33m         \u001b[1;32mreturn\u001b[0m \u001b[0mf\u001b[0m\u001b[1;33m(\u001b[0m\u001b[1;33m**\u001b[0m\u001b[0mkwargs\u001b[0m\u001b[1;33m)\u001b[0m\u001b[1;33m\u001b[0m\u001b[1;33m\u001b[0m\u001b[0m\n\u001b[0m\u001b[0;32m     73\u001b[0m     \u001b[1;32mreturn\u001b[0m \u001b[0minner_f\u001b[0m\u001b[1;33m\u001b[0m\u001b[1;33m\u001b[0m\u001b[0m\n\u001b[0;32m     74\u001b[0m \u001b[1;33m\u001b[0m\u001b[0m\n",
      "\u001b[1;31mTypeError\u001b[0m: __init__() got an unexpected keyword argument 'njobs'"
=======
   "execution_count": 6,
   "metadata": {},
   "outputs": [
    {
     "ename": "KeyboardInterrupt",
     "evalue": "",
     "output_type": "error",
     "traceback": [
      "\u001b[1;31m---------------------------------------------------------------------------\u001b[0m",
      "\u001b[1;31mKeyboardInterrupt\u001b[0m                         Traceback (most recent call last)",
      "\u001b[1;32m<ipython-input-6-6f1e1682c7db>\u001b[0m in \u001b[0;36m<module>\u001b[1;34m\u001b[0m\n\u001b[0;32m     10\u001b[0m \u001b[1;31m# define randomized search cv and train the training dataset\u001b[0m\u001b[1;33m\u001b[0m\u001b[1;33m\u001b[0m\u001b[1;33m\u001b[0m\u001b[0m\n\u001b[0;32m     11\u001b[0m \u001b[0mgbc_cv\u001b[0m \u001b[1;33m=\u001b[0m \u001b[0mGridSearchCV\u001b[0m\u001b[1;33m(\u001b[0m\u001b[0mgbc\u001b[0m\u001b[1;33m,\u001b[0m \u001b[0mparam_grid\u001b[0m\u001b[1;33m,\u001b[0m \u001b[0mcv\u001b[0m \u001b[1;33m=\u001b[0m \u001b[1;36m5\u001b[0m\u001b[1;33m)\u001b[0m\u001b[1;33m\u001b[0m\u001b[1;33m\u001b[0m\u001b[0m\n\u001b[1;32m---> 12\u001b[1;33m \u001b[0mbest_model\u001b[0m \u001b[1;33m=\u001b[0m \u001b[0mgbc_cv\u001b[0m\u001b[1;33m.\u001b[0m\u001b[0mfit\u001b[0m\u001b[1;33m(\u001b[0m\u001b[0mX_train\u001b[0m\u001b[1;33m,\u001b[0m \u001b[0my_train\u001b[0m\u001b[1;33m)\u001b[0m\u001b[1;33m\u001b[0m\u001b[1;33m\u001b[0m\u001b[0m\n\u001b[0m\u001b[0;32m     13\u001b[0m \u001b[1;33m\u001b[0m\u001b[0m\n\u001b[0;32m     14\u001b[0m \u001b[1;31m# Get the optimum hyperparameter\u001b[0m\u001b[1;33m\u001b[0m\u001b[1;33m\u001b[0m\u001b[1;33m\u001b[0m\u001b[0m\n",
      "\u001b[1;32m~\\Anaconda3\\lib\\site-packages\\sklearn\\utils\\validation.py\u001b[0m in \u001b[0;36minner_f\u001b[1;34m(*args, **kwargs)\u001b[0m\n\u001b[0;32m     70\u001b[0m                           FutureWarning)\n\u001b[0;32m     71\u001b[0m         \u001b[0mkwargs\u001b[0m\u001b[1;33m.\u001b[0m\u001b[0mupdate\u001b[0m\u001b[1;33m(\u001b[0m\u001b[1;33m{\u001b[0m\u001b[0mk\u001b[0m\u001b[1;33m:\u001b[0m \u001b[0marg\u001b[0m \u001b[1;32mfor\u001b[0m \u001b[0mk\u001b[0m\u001b[1;33m,\u001b[0m \u001b[0marg\u001b[0m \u001b[1;32min\u001b[0m \u001b[0mzip\u001b[0m\u001b[1;33m(\u001b[0m\u001b[0msig\u001b[0m\u001b[1;33m.\u001b[0m\u001b[0mparameters\u001b[0m\u001b[1;33m,\u001b[0m \u001b[0margs\u001b[0m\u001b[1;33m)\u001b[0m\u001b[1;33m}\u001b[0m\u001b[1;33m)\u001b[0m\u001b[1;33m\u001b[0m\u001b[1;33m\u001b[0m\u001b[0m\n\u001b[1;32m---> 72\u001b[1;33m         \u001b[1;32mreturn\u001b[0m \u001b[0mf\u001b[0m\u001b[1;33m(\u001b[0m\u001b[1;33m**\u001b[0m\u001b[0mkwargs\u001b[0m\u001b[1;33m)\u001b[0m\u001b[1;33m\u001b[0m\u001b[1;33m\u001b[0m\u001b[0m\n\u001b[0m\u001b[0;32m     73\u001b[0m     \u001b[1;32mreturn\u001b[0m \u001b[0minner_f\u001b[0m\u001b[1;33m\u001b[0m\u001b[1;33m\u001b[0m\u001b[0m\n\u001b[0;32m     74\u001b[0m \u001b[1;33m\u001b[0m\u001b[0m\n",
      "\u001b[1;32m~\\Anaconda3\\lib\\site-packages\\sklearn\\model_selection\\_search.py\u001b[0m in \u001b[0;36mfit\u001b[1;34m(self, X, y, groups, **fit_params)\u001b[0m\n\u001b[0;32m    734\u001b[0m                 \u001b[1;32mreturn\u001b[0m \u001b[0mresults\u001b[0m\u001b[1;33m\u001b[0m\u001b[1;33m\u001b[0m\u001b[0m\n\u001b[0;32m    735\u001b[0m \u001b[1;33m\u001b[0m\u001b[0m\n\u001b[1;32m--> 736\u001b[1;33m             \u001b[0mself\u001b[0m\u001b[1;33m.\u001b[0m\u001b[0m_run_search\u001b[0m\u001b[1;33m(\u001b[0m\u001b[0mevaluate_candidates\u001b[0m\u001b[1;33m)\u001b[0m\u001b[1;33m\u001b[0m\u001b[1;33m\u001b[0m\u001b[0m\n\u001b[0m\u001b[0;32m    737\u001b[0m \u001b[1;33m\u001b[0m\u001b[0m\n\u001b[0;32m    738\u001b[0m         \u001b[1;31m# For multi-metric evaluation, store the best_index_, best_params_ and\u001b[0m\u001b[1;33m\u001b[0m\u001b[1;33m\u001b[0m\u001b[1;33m\u001b[0m\u001b[0m\n",
      "\u001b[1;32m~\\Anaconda3\\lib\\site-packages\\sklearn\\model_selection\\_search.py\u001b[0m in \u001b[0;36m_run_search\u001b[1;34m(self, evaluate_candidates)\u001b[0m\n\u001b[0;32m   1186\u001b[0m     \u001b[1;32mdef\u001b[0m \u001b[0m_run_search\u001b[0m\u001b[1;33m(\u001b[0m\u001b[0mself\u001b[0m\u001b[1;33m,\u001b[0m \u001b[0mevaluate_candidates\u001b[0m\u001b[1;33m)\u001b[0m\u001b[1;33m:\u001b[0m\u001b[1;33m\u001b[0m\u001b[1;33m\u001b[0m\u001b[0m\n\u001b[0;32m   1187\u001b[0m         \u001b[1;34m\"\"\"Search all candidates in param_grid\"\"\"\u001b[0m\u001b[1;33m\u001b[0m\u001b[1;33m\u001b[0m\u001b[0m\n\u001b[1;32m-> 1188\u001b[1;33m         \u001b[0mevaluate_candidates\u001b[0m\u001b[1;33m(\u001b[0m\u001b[0mParameterGrid\u001b[0m\u001b[1;33m(\u001b[0m\u001b[0mself\u001b[0m\u001b[1;33m.\u001b[0m\u001b[0mparam_grid\u001b[0m\u001b[1;33m)\u001b[0m\u001b[1;33m)\u001b[0m\u001b[1;33m\u001b[0m\u001b[1;33m\u001b[0m\u001b[0m\n\u001b[0m\u001b[0;32m   1189\u001b[0m \u001b[1;33m\u001b[0m\u001b[0m\n\u001b[0;32m   1190\u001b[0m \u001b[1;33m\u001b[0m\u001b[0m\n",
      "\u001b[1;32m~\\Anaconda3\\lib\\site-packages\\sklearn\\model_selection\\_search.py\u001b[0m in \u001b[0;36mevaluate_candidates\u001b[1;34m(candidate_params)\u001b[0m\n\u001b[0;32m    706\u001b[0m                               n_splits, n_candidates, n_candidates * n_splits))\n\u001b[0;32m    707\u001b[0m \u001b[1;33m\u001b[0m\u001b[0m\n\u001b[1;32m--> 708\u001b[1;33m                 out = parallel(delayed(_fit_and_score)(clone(base_estimator),\n\u001b[0m\u001b[0;32m    709\u001b[0m                                                        \u001b[0mX\u001b[0m\u001b[1;33m,\u001b[0m \u001b[0my\u001b[0m\u001b[1;33m,\u001b[0m\u001b[1;33m\u001b[0m\u001b[1;33m\u001b[0m\u001b[0m\n\u001b[0;32m    710\u001b[0m                                                        \u001b[0mtrain\u001b[0m\u001b[1;33m=\u001b[0m\u001b[0mtrain\u001b[0m\u001b[1;33m,\u001b[0m \u001b[0mtest\u001b[0m\u001b[1;33m=\u001b[0m\u001b[0mtest\u001b[0m\u001b[1;33m,\u001b[0m\u001b[1;33m\u001b[0m\u001b[1;33m\u001b[0m\u001b[0m\n",
      "\u001b[1;32m~\\Anaconda3\\lib\\site-packages\\joblib\\parallel.py\u001b[0m in \u001b[0;36m__call__\u001b[1;34m(self, iterable)\u001b[0m\n\u001b[0;32m   1049\u001b[0m                 \u001b[0mself\u001b[0m\u001b[1;33m.\u001b[0m\u001b[0m_iterating\u001b[0m \u001b[1;33m=\u001b[0m \u001b[0mself\u001b[0m\u001b[1;33m.\u001b[0m\u001b[0m_original_iterator\u001b[0m \u001b[1;32mis\u001b[0m \u001b[1;32mnot\u001b[0m \u001b[1;32mNone\u001b[0m\u001b[1;33m\u001b[0m\u001b[1;33m\u001b[0m\u001b[0m\n\u001b[0;32m   1050\u001b[0m \u001b[1;33m\u001b[0m\u001b[0m\n\u001b[1;32m-> 1051\u001b[1;33m             \u001b[1;32mwhile\u001b[0m \u001b[0mself\u001b[0m\u001b[1;33m.\u001b[0m\u001b[0mdispatch_one_batch\u001b[0m\u001b[1;33m(\u001b[0m\u001b[0miterator\u001b[0m\u001b[1;33m)\u001b[0m\u001b[1;33m:\u001b[0m\u001b[1;33m\u001b[0m\u001b[1;33m\u001b[0m\u001b[0m\n\u001b[0m\u001b[0;32m   1052\u001b[0m                 \u001b[1;32mpass\u001b[0m\u001b[1;33m\u001b[0m\u001b[1;33m\u001b[0m\u001b[0m\n\u001b[0;32m   1053\u001b[0m \u001b[1;33m\u001b[0m\u001b[0m\n",
      "\u001b[1;32m~\\Anaconda3\\lib\\site-packages\\joblib\\parallel.py\u001b[0m in \u001b[0;36mdispatch_one_batch\u001b[1;34m(self, iterator)\u001b[0m\n\u001b[0;32m    864\u001b[0m                 \u001b[1;32mreturn\u001b[0m \u001b[1;32mFalse\u001b[0m\u001b[1;33m\u001b[0m\u001b[1;33m\u001b[0m\u001b[0m\n\u001b[0;32m    865\u001b[0m             \u001b[1;32melse\u001b[0m\u001b[1;33m:\u001b[0m\u001b[1;33m\u001b[0m\u001b[1;33m\u001b[0m\u001b[0m\n\u001b[1;32m--> 866\u001b[1;33m                 \u001b[0mself\u001b[0m\u001b[1;33m.\u001b[0m\u001b[0m_dispatch\u001b[0m\u001b[1;33m(\u001b[0m\u001b[0mtasks\u001b[0m\u001b[1;33m)\u001b[0m\u001b[1;33m\u001b[0m\u001b[1;33m\u001b[0m\u001b[0m\n\u001b[0m\u001b[0;32m    867\u001b[0m                 \u001b[1;32mreturn\u001b[0m \u001b[1;32mTrue\u001b[0m\u001b[1;33m\u001b[0m\u001b[1;33m\u001b[0m\u001b[0m\n\u001b[0;32m    868\u001b[0m \u001b[1;33m\u001b[0m\u001b[0m\n",
      "\u001b[1;32m~\\Anaconda3\\lib\\site-packages\\joblib\\parallel.py\u001b[0m in \u001b[0;36m_dispatch\u001b[1;34m(self, batch)\u001b[0m\n\u001b[0;32m    782\u001b[0m         \u001b[1;32mwith\u001b[0m \u001b[0mself\u001b[0m\u001b[1;33m.\u001b[0m\u001b[0m_lock\u001b[0m\u001b[1;33m:\u001b[0m\u001b[1;33m\u001b[0m\u001b[1;33m\u001b[0m\u001b[0m\n\u001b[0;32m    783\u001b[0m             \u001b[0mjob_idx\u001b[0m \u001b[1;33m=\u001b[0m \u001b[0mlen\u001b[0m\u001b[1;33m(\u001b[0m\u001b[0mself\u001b[0m\u001b[1;33m.\u001b[0m\u001b[0m_jobs\u001b[0m\u001b[1;33m)\u001b[0m\u001b[1;33m\u001b[0m\u001b[1;33m\u001b[0m\u001b[0m\n\u001b[1;32m--> 784\u001b[1;33m             \u001b[0mjob\u001b[0m \u001b[1;33m=\u001b[0m \u001b[0mself\u001b[0m\u001b[1;33m.\u001b[0m\u001b[0m_backend\u001b[0m\u001b[1;33m.\u001b[0m\u001b[0mapply_async\u001b[0m\u001b[1;33m(\u001b[0m\u001b[0mbatch\u001b[0m\u001b[1;33m,\u001b[0m \u001b[0mcallback\u001b[0m\u001b[1;33m=\u001b[0m\u001b[0mcb\u001b[0m\u001b[1;33m)\u001b[0m\u001b[1;33m\u001b[0m\u001b[1;33m\u001b[0m\u001b[0m\n\u001b[0m\u001b[0;32m    785\u001b[0m             \u001b[1;31m# A job can complete so quickly than its callback is\u001b[0m\u001b[1;33m\u001b[0m\u001b[1;33m\u001b[0m\u001b[1;33m\u001b[0m\u001b[0m\n\u001b[0;32m    786\u001b[0m             \u001b[1;31m# called before we get here, causing self._jobs to\u001b[0m\u001b[1;33m\u001b[0m\u001b[1;33m\u001b[0m\u001b[1;33m\u001b[0m\u001b[0m\n",
      "\u001b[1;32m~\\Anaconda3\\lib\\site-packages\\joblib\\_parallel_backends.py\u001b[0m in \u001b[0;36mapply_async\u001b[1;34m(self, func, callback)\u001b[0m\n\u001b[0;32m    206\u001b[0m     \u001b[1;32mdef\u001b[0m \u001b[0mapply_async\u001b[0m\u001b[1;33m(\u001b[0m\u001b[0mself\u001b[0m\u001b[1;33m,\u001b[0m \u001b[0mfunc\u001b[0m\u001b[1;33m,\u001b[0m \u001b[0mcallback\u001b[0m\u001b[1;33m=\u001b[0m\u001b[1;32mNone\u001b[0m\u001b[1;33m)\u001b[0m\u001b[1;33m:\u001b[0m\u001b[1;33m\u001b[0m\u001b[1;33m\u001b[0m\u001b[0m\n\u001b[0;32m    207\u001b[0m         \u001b[1;34m\"\"\"Schedule a func to be run\"\"\"\u001b[0m\u001b[1;33m\u001b[0m\u001b[1;33m\u001b[0m\u001b[0m\n\u001b[1;32m--> 208\u001b[1;33m         \u001b[0mresult\u001b[0m \u001b[1;33m=\u001b[0m \u001b[0mImmediateResult\u001b[0m\u001b[1;33m(\u001b[0m\u001b[0mfunc\u001b[0m\u001b[1;33m)\u001b[0m\u001b[1;33m\u001b[0m\u001b[1;33m\u001b[0m\u001b[0m\n\u001b[0m\u001b[0;32m    209\u001b[0m         \u001b[1;32mif\u001b[0m \u001b[0mcallback\u001b[0m\u001b[1;33m:\u001b[0m\u001b[1;33m\u001b[0m\u001b[1;33m\u001b[0m\u001b[0m\n\u001b[0;32m    210\u001b[0m             \u001b[0mcallback\u001b[0m\u001b[1;33m(\u001b[0m\u001b[0mresult\u001b[0m\u001b[1;33m)\u001b[0m\u001b[1;33m\u001b[0m\u001b[1;33m\u001b[0m\u001b[0m\n",
      "\u001b[1;32m~\\Anaconda3\\lib\\site-packages\\joblib\\_parallel_backends.py\u001b[0m in \u001b[0;36m__init__\u001b[1;34m(self, batch)\u001b[0m\n\u001b[0;32m    570\u001b[0m         \u001b[1;31m# Don't delay the application, to avoid keeping the input\u001b[0m\u001b[1;33m\u001b[0m\u001b[1;33m\u001b[0m\u001b[1;33m\u001b[0m\u001b[0m\n\u001b[0;32m    571\u001b[0m         \u001b[1;31m# arguments in memory\u001b[0m\u001b[1;33m\u001b[0m\u001b[1;33m\u001b[0m\u001b[1;33m\u001b[0m\u001b[0m\n\u001b[1;32m--> 572\u001b[1;33m         \u001b[0mself\u001b[0m\u001b[1;33m.\u001b[0m\u001b[0mresults\u001b[0m \u001b[1;33m=\u001b[0m \u001b[0mbatch\u001b[0m\u001b[1;33m(\u001b[0m\u001b[1;33m)\u001b[0m\u001b[1;33m\u001b[0m\u001b[1;33m\u001b[0m\u001b[0m\n\u001b[0m\u001b[0;32m    573\u001b[0m \u001b[1;33m\u001b[0m\u001b[0m\n\u001b[0;32m    574\u001b[0m     \u001b[1;32mdef\u001b[0m \u001b[0mget\u001b[0m\u001b[1;33m(\u001b[0m\u001b[0mself\u001b[0m\u001b[1;33m)\u001b[0m\u001b[1;33m:\u001b[0m\u001b[1;33m\u001b[0m\u001b[1;33m\u001b[0m\u001b[0m\n",
      "\u001b[1;32m~\\Anaconda3\\lib\\site-packages\\joblib\\parallel.py\u001b[0m in \u001b[0;36m__call__\u001b[1;34m(self)\u001b[0m\n\u001b[0;32m    260\u001b[0m         \u001b[1;31m# change the default number of processes to -1\u001b[0m\u001b[1;33m\u001b[0m\u001b[1;33m\u001b[0m\u001b[1;33m\u001b[0m\u001b[0m\n\u001b[0;32m    261\u001b[0m         \u001b[1;32mwith\u001b[0m \u001b[0mparallel_backend\u001b[0m\u001b[1;33m(\u001b[0m\u001b[0mself\u001b[0m\u001b[1;33m.\u001b[0m\u001b[0m_backend\u001b[0m\u001b[1;33m,\u001b[0m \u001b[0mn_jobs\u001b[0m\u001b[1;33m=\u001b[0m\u001b[0mself\u001b[0m\u001b[1;33m.\u001b[0m\u001b[0m_n_jobs\u001b[0m\u001b[1;33m)\u001b[0m\u001b[1;33m:\u001b[0m\u001b[1;33m\u001b[0m\u001b[1;33m\u001b[0m\u001b[0m\n\u001b[1;32m--> 262\u001b[1;33m             return [func(*args, **kwargs)\n\u001b[0m\u001b[0;32m    263\u001b[0m                     for func, args, kwargs in self.items]\n\u001b[0;32m    264\u001b[0m \u001b[1;33m\u001b[0m\u001b[0m\n",
      "\u001b[1;32m~\\Anaconda3\\lib\\site-packages\\joblib\\parallel.py\u001b[0m in \u001b[0;36m<listcomp>\u001b[1;34m(.0)\u001b[0m\n\u001b[0;32m    260\u001b[0m         \u001b[1;31m# change the default number of processes to -1\u001b[0m\u001b[1;33m\u001b[0m\u001b[1;33m\u001b[0m\u001b[1;33m\u001b[0m\u001b[0m\n\u001b[0;32m    261\u001b[0m         \u001b[1;32mwith\u001b[0m \u001b[0mparallel_backend\u001b[0m\u001b[1;33m(\u001b[0m\u001b[0mself\u001b[0m\u001b[1;33m.\u001b[0m\u001b[0m_backend\u001b[0m\u001b[1;33m,\u001b[0m \u001b[0mn_jobs\u001b[0m\u001b[1;33m=\u001b[0m\u001b[0mself\u001b[0m\u001b[1;33m.\u001b[0m\u001b[0m_n_jobs\u001b[0m\u001b[1;33m)\u001b[0m\u001b[1;33m:\u001b[0m\u001b[1;33m\u001b[0m\u001b[1;33m\u001b[0m\u001b[0m\n\u001b[1;32m--> 262\u001b[1;33m             return [func(*args, **kwargs)\n\u001b[0m\u001b[0;32m    263\u001b[0m                     for func, args, kwargs in self.items]\n\u001b[0;32m    264\u001b[0m \u001b[1;33m\u001b[0m\u001b[0m\n",
      "\u001b[1;32m~\\Anaconda3\\lib\\site-packages\\sklearn\\model_selection\\_validation.py\u001b[0m in \u001b[0;36m_fit_and_score\u001b[1;34m(estimator, X, y, scorer, train, test, verbose, parameters, fit_params, return_train_score, return_parameters, return_n_test_samples, return_times, return_estimator, error_score)\u001b[0m\n\u001b[0;32m    529\u001b[0m             \u001b[0mestimator\u001b[0m\u001b[1;33m.\u001b[0m\u001b[0mfit\u001b[0m\u001b[1;33m(\u001b[0m\u001b[0mX_train\u001b[0m\u001b[1;33m,\u001b[0m \u001b[1;33m**\u001b[0m\u001b[0mfit_params\u001b[0m\u001b[1;33m)\u001b[0m\u001b[1;33m\u001b[0m\u001b[1;33m\u001b[0m\u001b[0m\n\u001b[0;32m    530\u001b[0m         \u001b[1;32melse\u001b[0m\u001b[1;33m:\u001b[0m\u001b[1;33m\u001b[0m\u001b[1;33m\u001b[0m\u001b[0m\n\u001b[1;32m--> 531\u001b[1;33m             \u001b[0mestimator\u001b[0m\u001b[1;33m.\u001b[0m\u001b[0mfit\u001b[0m\u001b[1;33m(\u001b[0m\u001b[0mX_train\u001b[0m\u001b[1;33m,\u001b[0m \u001b[0my_train\u001b[0m\u001b[1;33m,\u001b[0m \u001b[1;33m**\u001b[0m\u001b[0mfit_params\u001b[0m\u001b[1;33m)\u001b[0m\u001b[1;33m\u001b[0m\u001b[1;33m\u001b[0m\u001b[0m\n\u001b[0m\u001b[0;32m    532\u001b[0m \u001b[1;33m\u001b[0m\u001b[0m\n\u001b[0;32m    533\u001b[0m     \u001b[1;32mexcept\u001b[0m \u001b[0mException\u001b[0m \u001b[1;32mas\u001b[0m \u001b[0me\u001b[0m\u001b[1;33m:\u001b[0m\u001b[1;33m\u001b[0m\u001b[1;33m\u001b[0m\u001b[0m\n",
      "\u001b[1;32m~\\Anaconda3\\lib\\site-packages\\sklearn\\ensemble\\_gb.py\u001b[0m in \u001b[0;36mfit\u001b[1;34m(self, X, y, sample_weight, monitor)\u001b[0m\n\u001b[0;32m    496\u001b[0m \u001b[1;33m\u001b[0m\u001b[0m\n\u001b[0;32m    497\u001b[0m         \u001b[1;31m# fit the boosting stages\u001b[0m\u001b[1;33m\u001b[0m\u001b[1;33m\u001b[0m\u001b[1;33m\u001b[0m\u001b[0m\n\u001b[1;32m--> 498\u001b[1;33m         n_stages = self._fit_stages(\n\u001b[0m\u001b[0;32m    499\u001b[0m             \u001b[0mX\u001b[0m\u001b[1;33m,\u001b[0m \u001b[0my\u001b[0m\u001b[1;33m,\u001b[0m \u001b[0mraw_predictions\u001b[0m\u001b[1;33m,\u001b[0m \u001b[0msample_weight\u001b[0m\u001b[1;33m,\u001b[0m \u001b[0mself\u001b[0m\u001b[1;33m.\u001b[0m\u001b[0m_rng\u001b[0m\u001b[1;33m,\u001b[0m \u001b[0mX_val\u001b[0m\u001b[1;33m,\u001b[0m \u001b[0my_val\u001b[0m\u001b[1;33m,\u001b[0m\u001b[1;33m\u001b[0m\u001b[1;33m\u001b[0m\u001b[0m\n\u001b[0;32m    500\u001b[0m             sample_weight_val, begin_at_stage, monitor, X_idx_sorted)\n",
      "\u001b[1;32m~\\Anaconda3\\lib\\site-packages\\sklearn\\ensemble\\_gb.py\u001b[0m in \u001b[0;36m_fit_stages\u001b[1;34m(self, X, y, raw_predictions, sample_weight, random_state, X_val, y_val, sample_weight_val, begin_at_stage, monitor, X_idx_sorted)\u001b[0m\n\u001b[0;32m    553\u001b[0m \u001b[1;33m\u001b[0m\u001b[0m\n\u001b[0;32m    554\u001b[0m             \u001b[1;31m# fit next stage of trees\u001b[0m\u001b[1;33m\u001b[0m\u001b[1;33m\u001b[0m\u001b[1;33m\u001b[0m\u001b[0m\n\u001b[1;32m--> 555\u001b[1;33m             raw_predictions = self._fit_stage(\n\u001b[0m\u001b[0;32m    556\u001b[0m                 \u001b[0mi\u001b[0m\u001b[1;33m,\u001b[0m \u001b[0mX\u001b[0m\u001b[1;33m,\u001b[0m \u001b[0my\u001b[0m\u001b[1;33m,\u001b[0m \u001b[0mraw_predictions\u001b[0m\u001b[1;33m,\u001b[0m \u001b[0msample_weight\u001b[0m\u001b[1;33m,\u001b[0m \u001b[0msample_mask\u001b[0m\u001b[1;33m,\u001b[0m\u001b[1;33m\u001b[0m\u001b[1;33m\u001b[0m\u001b[0m\n\u001b[0;32m    557\u001b[0m                 random_state, X_idx_sorted, X_csc, X_csr)\n",
      "\u001b[1;32m~\\Anaconda3\\lib\\site-packages\\sklearn\\ensemble\\_gb.py\u001b[0m in \u001b[0;36m_fit_stage\u001b[1;34m(self, i, X, y, raw_predictions, sample_weight, sample_mask, random_state, X_idx_sorted, X_csc, X_csr)\u001b[0m\n\u001b[0;32m    209\u001b[0m \u001b[1;33m\u001b[0m\u001b[0m\n\u001b[0;32m    210\u001b[0m             \u001b[0mX\u001b[0m \u001b[1;33m=\u001b[0m \u001b[0mX_csr\u001b[0m \u001b[1;32mif\u001b[0m \u001b[0mX_csr\u001b[0m \u001b[1;32mis\u001b[0m \u001b[1;32mnot\u001b[0m \u001b[1;32mNone\u001b[0m \u001b[1;32melse\u001b[0m \u001b[0mX\u001b[0m\u001b[1;33m\u001b[0m\u001b[1;33m\u001b[0m\u001b[0m\n\u001b[1;32m--> 211\u001b[1;33m             tree.fit(X, residual, sample_weight=sample_weight,\n\u001b[0m\u001b[0;32m    212\u001b[0m                      check_input=False, X_idx_sorted=X_idx_sorted)\n\u001b[0;32m    213\u001b[0m \u001b[1;33m\u001b[0m\u001b[0m\n",
      "\u001b[1;32m~\\Anaconda3\\lib\\site-packages\\sklearn\\tree\\_classes.py\u001b[0m in \u001b[0;36mfit\u001b[1;34m(self, X, y, sample_weight, check_input, X_idx_sorted)\u001b[0m\n\u001b[0;32m   1240\u001b[0m         \"\"\"\n\u001b[0;32m   1241\u001b[0m \u001b[1;33m\u001b[0m\u001b[0m\n\u001b[1;32m-> 1242\u001b[1;33m         super().fit(\n\u001b[0m\u001b[0;32m   1243\u001b[0m             \u001b[0mX\u001b[0m\u001b[1;33m,\u001b[0m \u001b[0my\u001b[0m\u001b[1;33m,\u001b[0m\u001b[1;33m\u001b[0m\u001b[1;33m\u001b[0m\u001b[0m\n\u001b[0;32m   1244\u001b[0m             \u001b[0msample_weight\u001b[0m\u001b[1;33m=\u001b[0m\u001b[0msample_weight\u001b[0m\u001b[1;33m,\u001b[0m\u001b[1;33m\u001b[0m\u001b[1;33m\u001b[0m\u001b[0m\n",
      "\u001b[1;32m~\\Anaconda3\\lib\\site-packages\\sklearn\\tree\\_classes.py\u001b[0m in \u001b[0;36mfit\u001b[1;34m(self, X, y, sample_weight, check_input, X_idx_sorted)\u001b[0m\n\u001b[0;32m    373\u001b[0m                                            min_impurity_split)\n\u001b[0;32m    374\u001b[0m \u001b[1;33m\u001b[0m\u001b[0m\n\u001b[1;32m--> 375\u001b[1;33m         \u001b[0mbuilder\u001b[0m\u001b[1;33m.\u001b[0m\u001b[0mbuild\u001b[0m\u001b[1;33m(\u001b[0m\u001b[0mself\u001b[0m\u001b[1;33m.\u001b[0m\u001b[0mtree_\u001b[0m\u001b[1;33m,\u001b[0m \u001b[0mX\u001b[0m\u001b[1;33m,\u001b[0m \u001b[0my\u001b[0m\u001b[1;33m,\u001b[0m \u001b[0msample_weight\u001b[0m\u001b[1;33m,\u001b[0m \u001b[0mX_idx_sorted\u001b[0m\u001b[1;33m)\u001b[0m\u001b[1;33m\u001b[0m\u001b[1;33m\u001b[0m\u001b[0m\n\u001b[0m\u001b[0;32m    376\u001b[0m \u001b[1;33m\u001b[0m\u001b[0m\n\u001b[0;32m    377\u001b[0m         \u001b[1;32mif\u001b[0m \u001b[0mself\u001b[0m\u001b[1;33m.\u001b[0m\u001b[0mn_outputs_\u001b[0m \u001b[1;33m==\u001b[0m \u001b[1;36m1\u001b[0m \u001b[1;32mand\u001b[0m \u001b[0mis_classifier\u001b[0m\u001b[1;33m(\u001b[0m\u001b[0mself\u001b[0m\u001b[1;33m)\u001b[0m\u001b[1;33m:\u001b[0m\u001b[1;33m\u001b[0m\u001b[1;33m\u001b[0m\u001b[0m\n",
      "\u001b[1;31mKeyboardInterrupt\u001b[0m: "
>>>>>>> b41c18574c0ae1ed4b6732b1415a0dd579393106
     ]
    }
   ],
   "source": [
    "# Define models and parameters\n",
    "param_grid = {\n",
    "    \"n_estimators\":[5,50,250,500],\n",
    "    \"max_depth\":[1,3,5,7,9],\n",
    "    \"learning_rate\":[0.01,0.1,1,10,100]\n",
    "}\n",
    "\n",
    "gbc = GradientBoostingClassifier()\n",
    "\n",
    "# define randomized search cv and train the training dataset\n",
<<<<<<< HEAD
    "gbc_cv = RandomizedSearchCV(gbc, param_distributions = param_grid, cv = 5, n_jobs=-1)\n",
=======
    "gbc_cv = GridSearchCV(gbc, param_grid, cv = 5, njobs=-1)\n",
>>>>>>> b41c18574c0ae1ed4b6732b1415a0dd579393106
    "best_model = gbc_cv.fit(X_train, y_train)\n",
    "\n",
    "# Get the optimum hyperparameter\n",
    "best_params = best_model.best_params_\n",
    "print('Best Parameters:', best_params)\n",
    "print('Best Score:', best_model.best_score_)"
   ]
  },
  {
   "cell_type": "code",
   "execution_count": 6,
   "metadata": {},
   "outputs": [
    {
     "ename": "NameError",
     "evalue": "name 'best_params' is not defined",
     "output_type": "error",
     "traceback": [
      "\u001b[1;31m---------------------------------------------------------------------------\u001b[0m",
      "\u001b[1;31mNameError\u001b[0m                                 Traceback (most recent call last)",
      "\u001b[1;32m<ipython-input-6-95ebc471f3a7>\u001b[0m in \u001b[0;36m<module>\u001b[1;34m\u001b[0m\n\u001b[0;32m      1\u001b[0m \u001b[1;31m# Create the optimum Gradient Boosting Classifier\u001b[0m\u001b[1;33m\u001b[0m\u001b[1;33m\u001b[0m\u001b[1;33m\u001b[0m\u001b[0m\n\u001b[1;32m----> 2\u001b[1;33m gbc = GradientBoostingClassifier(n_estimators=best_params['n_estimators'], learning_rate = best_params['learning_rate']\n\u001b[0m\u001b[0;32m      3\u001b[0m                                  , max_depth = best_params['max_depth'], njobs=-1) \n\u001b[0;32m      4\u001b[0m \u001b[1;33m\u001b[0m\u001b[0m\n\u001b[0;32m      5\u001b[0m \u001b[1;31m#Train the model using the training sets\u001b[0m\u001b[1;33m\u001b[0m\u001b[1;33m\u001b[0m\u001b[1;33m\u001b[0m\u001b[0m\n",
      "\u001b[1;31mNameError\u001b[0m: name 'best_params' is not defined"
     ]
    }
   ],
   "source": [
    "# Create the optimum Gradient Boosting Classifier\n",
    "gbc = GradientBoostingClassifier(n_estimators=best_params['n_estimators'], learning_rate = best_params['learning_rate']\n",
    "                                 , max_depth = best_params['max_depth'], n_jobs=-1) \n",
    "\n",
    "#Train the model using the training sets\n",
    "optimum_gbc = gbc.fit(X_train, y_train)\n",
    "\n",
    "#Predict the response for test dataset\n",
    "y_pred = optimum_gbc.predict(X_test)\n",
    "\n",
    "# Measuring model's performance using different evaluation metrics\n",
    "print('Model:', optimum_gbc)\n",
    "print('Precision Score: %.3f' % (precision_score(y_test, y_pred)))\n",
    "print('Recall Score: %.3f' % (recall_score(y_test, y_pred)))\n",
    "print('Training Accuracy: %.3f' % (optimum_gbc.score(X_train, y_train)))\n",
    "print('Test Accuracy: %.3f' % (optimum_gbc.score(X_test, y_test)))\n",
    "print('F1 Score: %.3f' % (f1_score(y_test, y_pred, average='weighted')))\n",
    "print(plot_confusion_matrix(optimum_gbc, X_test, y_test, values_format = 'd' ))"
   ]
  },
  {
   "cell_type": "markdown",
   "metadata": {},
   "source": [
    "## 8. Customer attrition prediction using XGB Classifier"
   ]
  },
  {
   "cell_type": "code",
<<<<<<< HEAD
   "execution_count": null,
=======
   "execution_count": 5,
>>>>>>> b41c18574c0ae1ed4b6732b1415a0dd579393106
   "metadata": {},
   "outputs": [
    {
     "name": "stdout",
     "output_type": "stream",
     "text": [
      "Fitting 5 folds for each of 10 candidates, totalling 50 fits\n"
     ]
    },
    {
     "name": "stderr",
     "output_type": "stream",
     "text": [
      "[Parallel(n_jobs=1)]: Using backend SequentialBackend with 1 concurrent workers.\n"
<<<<<<< HEAD
=======
     ]
    },
    {
     "ename": "KeyboardInterrupt",
     "evalue": "",
     "output_type": "error",
     "traceback": [
      "\u001b[1;31m---------------------------------------------------------------------------\u001b[0m",
      "\u001b[1;31mKeyboardInterrupt\u001b[0m                         Traceback (most recent call last)",
      "\u001b[1;32m<ipython-input-5-d32265cab920>\u001b[0m in \u001b[0;36m<module>\u001b[1;34m\u001b[0m\n\u001b[0;32m     11\u001b[0m \u001b[1;31m# define randomized search cv and train the training dataset\u001b[0m\u001b[1;33m\u001b[0m\u001b[1;33m\u001b[0m\u001b[1;33m\u001b[0m\u001b[0m\n\u001b[0;32m     12\u001b[0m \u001b[0mxgb_cv\u001b[0m \u001b[1;33m=\u001b[0m \u001b[0mRandomizedSearchCV\u001b[0m\u001b[1;33m(\u001b[0m\u001b[0mxgb_clf\u001b[0m\u001b[1;33m,\u001b[0m \u001b[0mparam_distributions\u001b[0m \u001b[1;33m=\u001b[0m \u001b[0mparam_grid\u001b[0m\u001b[1;33m,\u001b[0m \u001b[0mcv\u001b[0m \u001b[1;33m=\u001b[0m \u001b[1;36m5\u001b[0m\u001b[1;33m,\u001b[0m \u001b[0mverbose\u001b[0m\u001b[1;33m=\u001b[0m\u001b[1;36m1\u001b[0m\u001b[1;33m,\u001b[0m \u001b[0mn_jobs\u001b[0m\u001b[1;33m=\u001b[0m\u001b[1;36m1\u001b[0m\u001b[1;33m)\u001b[0m\u001b[1;33m\u001b[0m\u001b[1;33m\u001b[0m\u001b[0m\n\u001b[1;32m---> 13\u001b[1;33m \u001b[0mbest_model\u001b[0m \u001b[1;33m=\u001b[0m \u001b[0mxgb_cv\u001b[0m\u001b[1;33m.\u001b[0m\u001b[0mfit\u001b[0m\u001b[1;33m(\u001b[0m\u001b[0mX_train\u001b[0m\u001b[1;33m,\u001b[0m \u001b[0my_train\u001b[0m\u001b[1;33m)\u001b[0m\u001b[1;33m\u001b[0m\u001b[1;33m\u001b[0m\u001b[0m\n\u001b[0m\u001b[0;32m     14\u001b[0m \u001b[1;33m\u001b[0m\u001b[0m\n\u001b[0;32m     15\u001b[0m \u001b[1;31m# Get the optimum hyperparameter\u001b[0m\u001b[1;33m\u001b[0m\u001b[1;33m\u001b[0m\u001b[1;33m\u001b[0m\u001b[0m\n",
      "\u001b[1;32m~\\Anaconda3\\lib\\site-packages\\sklearn\\utils\\validation.py\u001b[0m in \u001b[0;36minner_f\u001b[1;34m(*args, **kwargs)\u001b[0m\n\u001b[0;32m     70\u001b[0m                           FutureWarning)\n\u001b[0;32m     71\u001b[0m         \u001b[0mkwargs\u001b[0m\u001b[1;33m.\u001b[0m\u001b[0mupdate\u001b[0m\u001b[1;33m(\u001b[0m\u001b[1;33m{\u001b[0m\u001b[0mk\u001b[0m\u001b[1;33m:\u001b[0m \u001b[0marg\u001b[0m \u001b[1;32mfor\u001b[0m \u001b[0mk\u001b[0m\u001b[1;33m,\u001b[0m \u001b[0marg\u001b[0m \u001b[1;32min\u001b[0m \u001b[0mzip\u001b[0m\u001b[1;33m(\u001b[0m\u001b[0msig\u001b[0m\u001b[1;33m.\u001b[0m\u001b[0mparameters\u001b[0m\u001b[1;33m,\u001b[0m \u001b[0margs\u001b[0m\u001b[1;33m)\u001b[0m\u001b[1;33m}\u001b[0m\u001b[1;33m)\u001b[0m\u001b[1;33m\u001b[0m\u001b[1;33m\u001b[0m\u001b[0m\n\u001b[1;32m---> 72\u001b[1;33m         \u001b[1;32mreturn\u001b[0m \u001b[0mf\u001b[0m\u001b[1;33m(\u001b[0m\u001b[1;33m**\u001b[0m\u001b[0mkwargs\u001b[0m\u001b[1;33m)\u001b[0m\u001b[1;33m\u001b[0m\u001b[1;33m\u001b[0m\u001b[0m\n\u001b[0m\u001b[0;32m     73\u001b[0m     \u001b[1;32mreturn\u001b[0m \u001b[0minner_f\u001b[0m\u001b[1;33m\u001b[0m\u001b[1;33m\u001b[0m\u001b[0m\n\u001b[0;32m     74\u001b[0m \u001b[1;33m\u001b[0m\u001b[0m\n",
      "\u001b[1;32m~\\Anaconda3\\lib\\site-packages\\sklearn\\model_selection\\_search.py\u001b[0m in \u001b[0;36mfit\u001b[1;34m(self, X, y, groups, **fit_params)\u001b[0m\n\u001b[0;32m    734\u001b[0m                 \u001b[1;32mreturn\u001b[0m \u001b[0mresults\u001b[0m\u001b[1;33m\u001b[0m\u001b[1;33m\u001b[0m\u001b[0m\n\u001b[0;32m    735\u001b[0m \u001b[1;33m\u001b[0m\u001b[0m\n\u001b[1;32m--> 736\u001b[1;33m             \u001b[0mself\u001b[0m\u001b[1;33m.\u001b[0m\u001b[0m_run_search\u001b[0m\u001b[1;33m(\u001b[0m\u001b[0mevaluate_candidates\u001b[0m\u001b[1;33m)\u001b[0m\u001b[1;33m\u001b[0m\u001b[1;33m\u001b[0m\u001b[0m\n\u001b[0m\u001b[0;32m    737\u001b[0m \u001b[1;33m\u001b[0m\u001b[0m\n\u001b[0;32m    738\u001b[0m         \u001b[1;31m# For multi-metric evaluation, store the best_index_, best_params_ and\u001b[0m\u001b[1;33m\u001b[0m\u001b[1;33m\u001b[0m\u001b[1;33m\u001b[0m\u001b[0m\n",
      "\u001b[1;32m~\\Anaconda3\\lib\\site-packages\\sklearn\\model_selection\\_search.py\u001b[0m in \u001b[0;36m_run_search\u001b[1;34m(self, evaluate_candidates)\u001b[0m\n\u001b[0;32m   1527\u001b[0m     \u001b[1;32mdef\u001b[0m \u001b[0m_run_search\u001b[0m\u001b[1;33m(\u001b[0m\u001b[0mself\u001b[0m\u001b[1;33m,\u001b[0m \u001b[0mevaluate_candidates\u001b[0m\u001b[1;33m)\u001b[0m\u001b[1;33m:\u001b[0m\u001b[1;33m\u001b[0m\u001b[1;33m\u001b[0m\u001b[0m\n\u001b[0;32m   1528\u001b[0m         \u001b[1;34m\"\"\"Search n_iter candidates from param_distributions\"\"\"\u001b[0m\u001b[1;33m\u001b[0m\u001b[1;33m\u001b[0m\u001b[0m\n\u001b[1;32m-> 1529\u001b[1;33m         evaluate_candidates(ParameterSampler(\n\u001b[0m\u001b[0;32m   1530\u001b[0m             \u001b[0mself\u001b[0m\u001b[1;33m.\u001b[0m\u001b[0mparam_distributions\u001b[0m\u001b[1;33m,\u001b[0m \u001b[0mself\u001b[0m\u001b[1;33m.\u001b[0m\u001b[0mn_iter\u001b[0m\u001b[1;33m,\u001b[0m\u001b[1;33m\u001b[0m\u001b[1;33m\u001b[0m\u001b[0m\n\u001b[0;32m   1531\u001b[0m             random_state=self.random_state))\n",
      "\u001b[1;32m~\\Anaconda3\\lib\\site-packages\\sklearn\\model_selection\\_search.py\u001b[0m in \u001b[0;36mevaluate_candidates\u001b[1;34m(candidate_params)\u001b[0m\n\u001b[0;32m    706\u001b[0m                               n_splits, n_candidates, n_candidates * n_splits))\n\u001b[0;32m    707\u001b[0m \u001b[1;33m\u001b[0m\u001b[0m\n\u001b[1;32m--> 708\u001b[1;33m                 out = parallel(delayed(_fit_and_score)(clone(base_estimator),\n\u001b[0m\u001b[0;32m    709\u001b[0m                                                        \u001b[0mX\u001b[0m\u001b[1;33m,\u001b[0m \u001b[0my\u001b[0m\u001b[1;33m,\u001b[0m\u001b[1;33m\u001b[0m\u001b[1;33m\u001b[0m\u001b[0m\n\u001b[0;32m    710\u001b[0m                                                        \u001b[0mtrain\u001b[0m\u001b[1;33m=\u001b[0m\u001b[0mtrain\u001b[0m\u001b[1;33m,\u001b[0m \u001b[0mtest\u001b[0m\u001b[1;33m=\u001b[0m\u001b[0mtest\u001b[0m\u001b[1;33m,\u001b[0m\u001b[1;33m\u001b[0m\u001b[1;33m\u001b[0m\u001b[0m\n",
      "\u001b[1;32m~\\Anaconda3\\lib\\site-packages\\joblib\\parallel.py\u001b[0m in \u001b[0;36m__call__\u001b[1;34m(self, iterable)\u001b[0m\n\u001b[0;32m   1049\u001b[0m                 \u001b[0mself\u001b[0m\u001b[1;33m.\u001b[0m\u001b[0m_iterating\u001b[0m \u001b[1;33m=\u001b[0m \u001b[0mself\u001b[0m\u001b[1;33m.\u001b[0m\u001b[0m_original_iterator\u001b[0m \u001b[1;32mis\u001b[0m \u001b[1;32mnot\u001b[0m \u001b[1;32mNone\u001b[0m\u001b[1;33m\u001b[0m\u001b[1;33m\u001b[0m\u001b[0m\n\u001b[0;32m   1050\u001b[0m \u001b[1;33m\u001b[0m\u001b[0m\n\u001b[1;32m-> 1051\u001b[1;33m             \u001b[1;32mwhile\u001b[0m \u001b[0mself\u001b[0m\u001b[1;33m.\u001b[0m\u001b[0mdispatch_one_batch\u001b[0m\u001b[1;33m(\u001b[0m\u001b[0miterator\u001b[0m\u001b[1;33m)\u001b[0m\u001b[1;33m:\u001b[0m\u001b[1;33m\u001b[0m\u001b[1;33m\u001b[0m\u001b[0m\n\u001b[0m\u001b[0;32m   1052\u001b[0m                 \u001b[1;32mpass\u001b[0m\u001b[1;33m\u001b[0m\u001b[1;33m\u001b[0m\u001b[0m\n\u001b[0;32m   1053\u001b[0m \u001b[1;33m\u001b[0m\u001b[0m\n",
      "\u001b[1;32m~\\Anaconda3\\lib\\site-packages\\joblib\\parallel.py\u001b[0m in \u001b[0;36mdispatch_one_batch\u001b[1;34m(self, iterator)\u001b[0m\n\u001b[0;32m    864\u001b[0m                 \u001b[1;32mreturn\u001b[0m \u001b[1;32mFalse\u001b[0m\u001b[1;33m\u001b[0m\u001b[1;33m\u001b[0m\u001b[0m\n\u001b[0;32m    865\u001b[0m             \u001b[1;32melse\u001b[0m\u001b[1;33m:\u001b[0m\u001b[1;33m\u001b[0m\u001b[1;33m\u001b[0m\u001b[0m\n\u001b[1;32m--> 866\u001b[1;33m                 \u001b[0mself\u001b[0m\u001b[1;33m.\u001b[0m\u001b[0m_dispatch\u001b[0m\u001b[1;33m(\u001b[0m\u001b[0mtasks\u001b[0m\u001b[1;33m)\u001b[0m\u001b[1;33m\u001b[0m\u001b[1;33m\u001b[0m\u001b[0m\n\u001b[0m\u001b[0;32m    867\u001b[0m                 \u001b[1;32mreturn\u001b[0m \u001b[1;32mTrue\u001b[0m\u001b[1;33m\u001b[0m\u001b[1;33m\u001b[0m\u001b[0m\n\u001b[0;32m    868\u001b[0m \u001b[1;33m\u001b[0m\u001b[0m\n",
      "\u001b[1;32m~\\Anaconda3\\lib\\site-packages\\joblib\\parallel.py\u001b[0m in \u001b[0;36m_dispatch\u001b[1;34m(self, batch)\u001b[0m\n\u001b[0;32m    782\u001b[0m         \u001b[1;32mwith\u001b[0m \u001b[0mself\u001b[0m\u001b[1;33m.\u001b[0m\u001b[0m_lock\u001b[0m\u001b[1;33m:\u001b[0m\u001b[1;33m\u001b[0m\u001b[1;33m\u001b[0m\u001b[0m\n\u001b[0;32m    783\u001b[0m             \u001b[0mjob_idx\u001b[0m \u001b[1;33m=\u001b[0m \u001b[0mlen\u001b[0m\u001b[1;33m(\u001b[0m\u001b[0mself\u001b[0m\u001b[1;33m.\u001b[0m\u001b[0m_jobs\u001b[0m\u001b[1;33m)\u001b[0m\u001b[1;33m\u001b[0m\u001b[1;33m\u001b[0m\u001b[0m\n\u001b[1;32m--> 784\u001b[1;33m             \u001b[0mjob\u001b[0m \u001b[1;33m=\u001b[0m \u001b[0mself\u001b[0m\u001b[1;33m.\u001b[0m\u001b[0m_backend\u001b[0m\u001b[1;33m.\u001b[0m\u001b[0mapply_async\u001b[0m\u001b[1;33m(\u001b[0m\u001b[0mbatch\u001b[0m\u001b[1;33m,\u001b[0m \u001b[0mcallback\u001b[0m\u001b[1;33m=\u001b[0m\u001b[0mcb\u001b[0m\u001b[1;33m)\u001b[0m\u001b[1;33m\u001b[0m\u001b[1;33m\u001b[0m\u001b[0m\n\u001b[0m\u001b[0;32m    785\u001b[0m             \u001b[1;31m# A job can complete so quickly than its callback is\u001b[0m\u001b[1;33m\u001b[0m\u001b[1;33m\u001b[0m\u001b[1;33m\u001b[0m\u001b[0m\n\u001b[0;32m    786\u001b[0m             \u001b[1;31m# called before we get here, causing self._jobs to\u001b[0m\u001b[1;33m\u001b[0m\u001b[1;33m\u001b[0m\u001b[1;33m\u001b[0m\u001b[0m\n",
      "\u001b[1;32m~\\Anaconda3\\lib\\site-packages\\joblib\\_parallel_backends.py\u001b[0m in \u001b[0;36mapply_async\u001b[1;34m(self, func, callback)\u001b[0m\n\u001b[0;32m    206\u001b[0m     \u001b[1;32mdef\u001b[0m \u001b[0mapply_async\u001b[0m\u001b[1;33m(\u001b[0m\u001b[0mself\u001b[0m\u001b[1;33m,\u001b[0m \u001b[0mfunc\u001b[0m\u001b[1;33m,\u001b[0m \u001b[0mcallback\u001b[0m\u001b[1;33m=\u001b[0m\u001b[1;32mNone\u001b[0m\u001b[1;33m)\u001b[0m\u001b[1;33m:\u001b[0m\u001b[1;33m\u001b[0m\u001b[1;33m\u001b[0m\u001b[0m\n\u001b[0;32m    207\u001b[0m         \u001b[1;34m\"\"\"Schedule a func to be run\"\"\"\u001b[0m\u001b[1;33m\u001b[0m\u001b[1;33m\u001b[0m\u001b[0m\n\u001b[1;32m--> 208\u001b[1;33m         \u001b[0mresult\u001b[0m \u001b[1;33m=\u001b[0m \u001b[0mImmediateResult\u001b[0m\u001b[1;33m(\u001b[0m\u001b[0mfunc\u001b[0m\u001b[1;33m)\u001b[0m\u001b[1;33m\u001b[0m\u001b[1;33m\u001b[0m\u001b[0m\n\u001b[0m\u001b[0;32m    209\u001b[0m         \u001b[1;32mif\u001b[0m \u001b[0mcallback\u001b[0m\u001b[1;33m:\u001b[0m\u001b[1;33m\u001b[0m\u001b[1;33m\u001b[0m\u001b[0m\n\u001b[0;32m    210\u001b[0m             \u001b[0mcallback\u001b[0m\u001b[1;33m(\u001b[0m\u001b[0mresult\u001b[0m\u001b[1;33m)\u001b[0m\u001b[1;33m\u001b[0m\u001b[1;33m\u001b[0m\u001b[0m\n",
      "\u001b[1;32m~\\Anaconda3\\lib\\site-packages\\joblib\\_parallel_backends.py\u001b[0m in \u001b[0;36m__init__\u001b[1;34m(self, batch)\u001b[0m\n\u001b[0;32m    570\u001b[0m         \u001b[1;31m# Don't delay the application, to avoid keeping the input\u001b[0m\u001b[1;33m\u001b[0m\u001b[1;33m\u001b[0m\u001b[1;33m\u001b[0m\u001b[0m\n\u001b[0;32m    571\u001b[0m         \u001b[1;31m# arguments in memory\u001b[0m\u001b[1;33m\u001b[0m\u001b[1;33m\u001b[0m\u001b[1;33m\u001b[0m\u001b[0m\n\u001b[1;32m--> 572\u001b[1;33m         \u001b[0mself\u001b[0m\u001b[1;33m.\u001b[0m\u001b[0mresults\u001b[0m \u001b[1;33m=\u001b[0m \u001b[0mbatch\u001b[0m\u001b[1;33m(\u001b[0m\u001b[1;33m)\u001b[0m\u001b[1;33m\u001b[0m\u001b[1;33m\u001b[0m\u001b[0m\n\u001b[0m\u001b[0;32m    573\u001b[0m \u001b[1;33m\u001b[0m\u001b[0m\n\u001b[0;32m    574\u001b[0m     \u001b[1;32mdef\u001b[0m \u001b[0mget\u001b[0m\u001b[1;33m(\u001b[0m\u001b[0mself\u001b[0m\u001b[1;33m)\u001b[0m\u001b[1;33m:\u001b[0m\u001b[1;33m\u001b[0m\u001b[1;33m\u001b[0m\u001b[0m\n",
      "\u001b[1;32m~\\Anaconda3\\lib\\site-packages\\joblib\\parallel.py\u001b[0m in \u001b[0;36m__call__\u001b[1;34m(self)\u001b[0m\n\u001b[0;32m    260\u001b[0m         \u001b[1;31m# change the default number of processes to -1\u001b[0m\u001b[1;33m\u001b[0m\u001b[1;33m\u001b[0m\u001b[1;33m\u001b[0m\u001b[0m\n\u001b[0;32m    261\u001b[0m         \u001b[1;32mwith\u001b[0m \u001b[0mparallel_backend\u001b[0m\u001b[1;33m(\u001b[0m\u001b[0mself\u001b[0m\u001b[1;33m.\u001b[0m\u001b[0m_backend\u001b[0m\u001b[1;33m,\u001b[0m \u001b[0mn_jobs\u001b[0m\u001b[1;33m=\u001b[0m\u001b[0mself\u001b[0m\u001b[1;33m.\u001b[0m\u001b[0m_n_jobs\u001b[0m\u001b[1;33m)\u001b[0m\u001b[1;33m:\u001b[0m\u001b[1;33m\u001b[0m\u001b[1;33m\u001b[0m\u001b[0m\n\u001b[1;32m--> 262\u001b[1;33m             return [func(*args, **kwargs)\n\u001b[0m\u001b[0;32m    263\u001b[0m                     for func, args, kwargs in self.items]\n\u001b[0;32m    264\u001b[0m \u001b[1;33m\u001b[0m\u001b[0m\n",
      "\u001b[1;32m~\\Anaconda3\\lib\\site-packages\\joblib\\parallel.py\u001b[0m in \u001b[0;36m<listcomp>\u001b[1;34m(.0)\u001b[0m\n\u001b[0;32m    260\u001b[0m         \u001b[1;31m# change the default number of processes to -1\u001b[0m\u001b[1;33m\u001b[0m\u001b[1;33m\u001b[0m\u001b[1;33m\u001b[0m\u001b[0m\n\u001b[0;32m    261\u001b[0m         \u001b[1;32mwith\u001b[0m \u001b[0mparallel_backend\u001b[0m\u001b[1;33m(\u001b[0m\u001b[0mself\u001b[0m\u001b[1;33m.\u001b[0m\u001b[0m_backend\u001b[0m\u001b[1;33m,\u001b[0m \u001b[0mn_jobs\u001b[0m\u001b[1;33m=\u001b[0m\u001b[0mself\u001b[0m\u001b[1;33m.\u001b[0m\u001b[0m_n_jobs\u001b[0m\u001b[1;33m)\u001b[0m\u001b[1;33m:\u001b[0m\u001b[1;33m\u001b[0m\u001b[1;33m\u001b[0m\u001b[0m\n\u001b[1;32m--> 262\u001b[1;33m             return [func(*args, **kwargs)\n\u001b[0m\u001b[0;32m    263\u001b[0m                     for func, args, kwargs in self.items]\n\u001b[0;32m    264\u001b[0m \u001b[1;33m\u001b[0m\u001b[0m\n",
      "\u001b[1;32m~\\Anaconda3\\lib\\site-packages\\sklearn\\model_selection\\_validation.py\u001b[0m in \u001b[0;36m_fit_and_score\u001b[1;34m(estimator, X, y, scorer, train, test, verbose, parameters, fit_params, return_train_score, return_parameters, return_n_test_samples, return_times, return_estimator, error_score)\u001b[0m\n\u001b[0;32m    529\u001b[0m             \u001b[0mestimator\u001b[0m\u001b[1;33m.\u001b[0m\u001b[0mfit\u001b[0m\u001b[1;33m(\u001b[0m\u001b[0mX_train\u001b[0m\u001b[1;33m,\u001b[0m \u001b[1;33m**\u001b[0m\u001b[0mfit_params\u001b[0m\u001b[1;33m)\u001b[0m\u001b[1;33m\u001b[0m\u001b[1;33m\u001b[0m\u001b[0m\n\u001b[0;32m    530\u001b[0m         \u001b[1;32melse\u001b[0m\u001b[1;33m:\u001b[0m\u001b[1;33m\u001b[0m\u001b[1;33m\u001b[0m\u001b[0m\n\u001b[1;32m--> 531\u001b[1;33m             \u001b[0mestimator\u001b[0m\u001b[1;33m.\u001b[0m\u001b[0mfit\u001b[0m\u001b[1;33m(\u001b[0m\u001b[0mX_train\u001b[0m\u001b[1;33m,\u001b[0m \u001b[0my_train\u001b[0m\u001b[1;33m,\u001b[0m \u001b[1;33m**\u001b[0m\u001b[0mfit_params\u001b[0m\u001b[1;33m)\u001b[0m\u001b[1;33m\u001b[0m\u001b[1;33m\u001b[0m\u001b[0m\n\u001b[0m\u001b[0;32m    532\u001b[0m \u001b[1;33m\u001b[0m\u001b[0m\n\u001b[0;32m    533\u001b[0m     \u001b[1;32mexcept\u001b[0m \u001b[0mException\u001b[0m \u001b[1;32mas\u001b[0m \u001b[0me\u001b[0m\u001b[1;33m:\u001b[0m\u001b[1;33m\u001b[0m\u001b[1;33m\u001b[0m\u001b[0m\n",
      "\u001b[1;32m~\\Anaconda3\\lib\\site-packages\\xgboost\\core.py\u001b[0m in \u001b[0;36minner_f\u001b[1;34m(*args, **kwargs)\u001b[0m\n\u001b[0;32m    434\u001b[0m         \u001b[1;32mfor\u001b[0m \u001b[0mk\u001b[0m\u001b[1;33m,\u001b[0m \u001b[0marg\u001b[0m \u001b[1;32min\u001b[0m \u001b[0mzip\u001b[0m\u001b[1;33m(\u001b[0m\u001b[0msig\u001b[0m\u001b[1;33m.\u001b[0m\u001b[0mparameters\u001b[0m\u001b[1;33m,\u001b[0m \u001b[0margs\u001b[0m\u001b[1;33m)\u001b[0m\u001b[1;33m:\u001b[0m\u001b[1;33m\u001b[0m\u001b[1;33m\u001b[0m\u001b[0m\n\u001b[0;32m    435\u001b[0m             \u001b[0mkwargs\u001b[0m\u001b[1;33m[\u001b[0m\u001b[0mk\u001b[0m\u001b[1;33m]\u001b[0m \u001b[1;33m=\u001b[0m \u001b[0marg\u001b[0m\u001b[1;33m\u001b[0m\u001b[1;33m\u001b[0m\u001b[0m\n\u001b[1;32m--> 436\u001b[1;33m         \u001b[1;32mreturn\u001b[0m \u001b[0mf\u001b[0m\u001b[1;33m(\u001b[0m\u001b[1;33m**\u001b[0m\u001b[0mkwargs\u001b[0m\u001b[1;33m)\u001b[0m\u001b[1;33m\u001b[0m\u001b[1;33m\u001b[0m\u001b[0m\n\u001b[0m\u001b[0;32m    437\u001b[0m \u001b[1;33m\u001b[0m\u001b[0m\n\u001b[0;32m    438\u001b[0m     \u001b[1;32mreturn\u001b[0m \u001b[0minner_f\u001b[0m\u001b[1;33m\u001b[0m\u001b[1;33m\u001b[0m\u001b[0m\n",
      "\u001b[1;32m~\\Anaconda3\\lib\\site-packages\\xgboost\\sklearn.py\u001b[0m in \u001b[0;36mfit\u001b[1;34m(self, X, y, sample_weight, base_margin, eval_set, eval_metric, early_stopping_rounds, verbose, xgb_model, sample_weight_eval_set, base_margin_eval_set, feature_weights, callbacks)\u001b[0m\n\u001b[0;32m   1174\u001b[0m         )\n\u001b[0;32m   1175\u001b[0m \u001b[1;33m\u001b[0m\u001b[0m\n\u001b[1;32m-> 1176\u001b[1;33m         self._Booster = train(\n\u001b[0m\u001b[0;32m   1177\u001b[0m             \u001b[0mparams\u001b[0m\u001b[1;33m,\u001b[0m\u001b[1;33m\u001b[0m\u001b[1;33m\u001b[0m\u001b[0m\n\u001b[0;32m   1178\u001b[0m             \u001b[0mtrain_dmatrix\u001b[0m\u001b[1;33m,\u001b[0m\u001b[1;33m\u001b[0m\u001b[1;33m\u001b[0m\u001b[0m\n",
      "\u001b[1;32m~\\Anaconda3\\lib\\site-packages\\xgboost\\training.py\u001b[0m in \u001b[0;36mtrain\u001b[1;34m(params, dtrain, num_boost_round, evals, obj, feval, maximize, early_stopping_rounds, evals_result, verbose_eval, xgb_model, callbacks)\u001b[0m\n\u001b[0;32m    187\u001b[0m     \u001b[0mBooster\u001b[0m \u001b[1;33m:\u001b[0m \u001b[0ma\u001b[0m \u001b[0mtrained\u001b[0m \u001b[0mbooster\u001b[0m \u001b[0mmodel\u001b[0m\u001b[1;33m\u001b[0m\u001b[1;33m\u001b[0m\u001b[0m\n\u001b[0;32m    188\u001b[0m     \"\"\"\n\u001b[1;32m--> 189\u001b[1;33m     bst = _train_internal(params, dtrain,\n\u001b[0m\u001b[0;32m    190\u001b[0m                           \u001b[0mnum_boost_round\u001b[0m\u001b[1;33m=\u001b[0m\u001b[0mnum_boost_round\u001b[0m\u001b[1;33m,\u001b[0m\u001b[1;33m\u001b[0m\u001b[1;33m\u001b[0m\u001b[0m\n\u001b[0;32m    191\u001b[0m                           \u001b[0mevals\u001b[0m\u001b[1;33m=\u001b[0m\u001b[0mevals\u001b[0m\u001b[1;33m,\u001b[0m\u001b[1;33m\u001b[0m\u001b[1;33m\u001b[0m\u001b[0m\n",
      "\u001b[1;32m~\\Anaconda3\\lib\\site-packages\\xgboost\\training.py\u001b[0m in \u001b[0;36m_train_internal\u001b[1;34m(params, dtrain, num_boost_round, evals, obj, feval, xgb_model, callbacks, evals_result, maximize, verbose_eval, early_stopping_rounds)\u001b[0m\n\u001b[0;32m     79\u001b[0m         \u001b[1;32mif\u001b[0m \u001b[0mcallbacks\u001b[0m\u001b[1;33m.\u001b[0m\u001b[0mbefore_iteration\u001b[0m\u001b[1;33m(\u001b[0m\u001b[0mbst\u001b[0m\u001b[1;33m,\u001b[0m \u001b[0mi\u001b[0m\u001b[1;33m,\u001b[0m \u001b[0mdtrain\u001b[0m\u001b[1;33m,\u001b[0m \u001b[0mevals\u001b[0m\u001b[1;33m)\u001b[0m\u001b[1;33m:\u001b[0m\u001b[1;33m\u001b[0m\u001b[1;33m\u001b[0m\u001b[0m\n\u001b[0;32m     80\u001b[0m             \u001b[1;32mbreak\u001b[0m\u001b[1;33m\u001b[0m\u001b[1;33m\u001b[0m\u001b[0m\n\u001b[1;32m---> 81\u001b[1;33m         \u001b[0mbst\u001b[0m\u001b[1;33m.\u001b[0m\u001b[0mupdate\u001b[0m\u001b[1;33m(\u001b[0m\u001b[0mdtrain\u001b[0m\u001b[1;33m,\u001b[0m \u001b[0mi\u001b[0m\u001b[1;33m,\u001b[0m \u001b[0mobj\u001b[0m\u001b[1;33m)\u001b[0m\u001b[1;33m\u001b[0m\u001b[1;33m\u001b[0m\u001b[0m\n\u001b[0m\u001b[0;32m     82\u001b[0m         \u001b[1;32mif\u001b[0m \u001b[0mcallbacks\u001b[0m\u001b[1;33m.\u001b[0m\u001b[0mafter_iteration\u001b[0m\u001b[1;33m(\u001b[0m\u001b[0mbst\u001b[0m\u001b[1;33m,\u001b[0m \u001b[0mi\u001b[0m\u001b[1;33m,\u001b[0m \u001b[0mdtrain\u001b[0m\u001b[1;33m,\u001b[0m \u001b[0mevals\u001b[0m\u001b[1;33m)\u001b[0m\u001b[1;33m:\u001b[0m\u001b[1;33m\u001b[0m\u001b[1;33m\u001b[0m\u001b[0m\n\u001b[0;32m     83\u001b[0m             \u001b[1;32mbreak\u001b[0m\u001b[1;33m\u001b[0m\u001b[1;33m\u001b[0m\u001b[0m\n",
      "\u001b[1;32m~\\Anaconda3\\lib\\site-packages\\xgboost\\core.py\u001b[0m in \u001b[0;36mupdate\u001b[1;34m(self, dtrain, iteration, fobj)\u001b[0m\n\u001b[0;32m   1497\u001b[0m \u001b[1;33m\u001b[0m\u001b[0m\n\u001b[0;32m   1498\u001b[0m         \u001b[1;32mif\u001b[0m \u001b[0mfobj\u001b[0m \u001b[1;32mis\u001b[0m \u001b[1;32mNone\u001b[0m\u001b[1;33m:\u001b[0m\u001b[1;33m\u001b[0m\u001b[1;33m\u001b[0m\u001b[0m\n\u001b[1;32m-> 1499\u001b[1;33m             _check_call(_LIB.XGBoosterUpdateOneIter(self.handle,\n\u001b[0m\u001b[0;32m   1500\u001b[0m                                                     \u001b[0mctypes\u001b[0m\u001b[1;33m.\u001b[0m\u001b[0mc_int\u001b[0m\u001b[1;33m(\u001b[0m\u001b[0miteration\u001b[0m\u001b[1;33m)\u001b[0m\u001b[1;33m,\u001b[0m\u001b[1;33m\u001b[0m\u001b[1;33m\u001b[0m\u001b[0m\n\u001b[0;32m   1501\u001b[0m                                                     dtrain.handle))\n",
      "\u001b[1;31mKeyboardInterrupt\u001b[0m: "
>>>>>>> b41c18574c0ae1ed4b6732b1415a0dd579393106
     ]
    }
   ],
   "source": [
    "# DM_test =  xgb.DMatrix(data=X_test, label=y_test)\n",
    "\n",
    "# Define models and parameters\n",
    "\n",
    "param_grid = {'max_depth':range(3,10,1), 'min_child_weight':range(1,6,2), \n",
    "              'gamma':[i/10.0 for i in range(0,5)], 'n_estimators' : list(range(100,2000,100)), \n",
    "              'reg_alpha':[1e-5, 1e-2, 0.1, 1, 100]}\n",
    "\n",
    "xgb_clf = xgb.XGBClassifier(use_label_encoder=False, objective='binary:logistic', eval_metric=\"logloss\")\n",
    "\n",
    "# define randomized search cv and train the training dataset\n",
    "xgb_cv = RandomizedSearchCV(xgb_clf, param_distributions = param_grid, cv = 5, verbose=1, n_jobs=-1)\n",
    "best_model = xgb_cv.fit(X_train, y_train)\n",
    "\n",
    "# Get the optimum hyperparameter\n",
    "best_params = best_model.best_params_\n",
    "print('Best Parameters:', best_params)\n",
    "print('Best Score:', best_model.best_score_)"
   ]
  },
  {
   "cell_type": "code",
<<<<<<< HEAD
   "execution_count": null,
   "metadata": {},
   "outputs": [],
=======
   "execution_count": 4,
   "metadata": {},
   "outputs": [
    {
     "name": "stdout",
     "output_type": "stream",
     "text": [
      "Model: XGBClassifier(base_score=0.5, booster='gbtree', colsample_bylevel=1,\n",
      "              colsample_bynode=1, colsample_bytree=1, eval_metric='logloss',\n",
      "              gamma=0.0, gpu_id=-1, importance_type='gain',\n",
      "              interaction_constraints='', learning_rate=0.300000012,\n",
      "              max_delta_step=0, max_depth=3, min_child_weight=1, missing=nan,\n",
      "              monotone_constraints='()', n_estimators=500, n_jobs=-1,\n",
      "              num_parallel_tree=1, random_state=0, reg_alpha=1, reg_lambda=1,\n",
      "              scale_pos_weight=1, subsample=1, tree_method='exact',\n",
      "              use_label_encoder=False, validate_parameters=1, verbosity=None)\n",
      "Precision Score: 0.935\n",
      "Recall Score: 0.886\n",
      "Training Accuracy: 0.999\n",
      "Test Accuracy: 0.971\n",
      "F1 Score: 0.970\n",
      "<sklearn.metrics._plot.confusion_matrix.ConfusionMatrixDisplay object at 0x0000025CE2A23C10>\n"
     ]
    },
    {
     "data": {
      "image/png": "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\n",
      "text/plain": [
       "<Figure size 432x288 with 2 Axes>"
      ]
     },
     "metadata": {
      "needs_background": "light"
     },
     "output_type": "display_data"
    }
   ],
>>>>>>> b41c18574c0ae1ed4b6732b1415a0dd579393106
   "source": [
    "# Instantiate the optimum XGBClassifier: xgb_cl\n",
    "xgb_cl = xgb.XGBClassifier(objective='binary:logistic', use_label_encoder=False, n_jobs=1,\n",
    "                          reg_alpha = best_params['reg_alpha'], n_estimators = best_params['n_estimators'],\n",
    "                          min_child_weight = best_params['min_child_weight'], max_depth = best_params['max_depth'],\n",
    "                          gamma = best_params['gamma'], eval_metric='logloss')\n",
    "\n",
    "# Fit the classifier to the training set\n",
    "optimum_xgb = xgb_cl.fit(X_train, y_train)\n",
    "\n",
    "\n",
    "# Predict the labels of the test set: preds\n",
    "y_pred = optimum_xgb.predict(X_test)\n",
    "\n",
    "# Measuring model's performance using different evaluation metrics\n",
    "print('Model:', optimum_xgb)\n",
    "print('Precision Score: %.3f' % (precision_score(y_test, y_pred)))\n",
    "print('Recall Score: %.3f' % (recall_score(y_test, y_pred)))\n",
    "print('Training Accuracy: %.3f' % (optimum_xgb.score(X_train, y_train)))\n",
    "print('Test Accuracy: %.3f' % (optimum_xgb.score(X_test, y_test)))\n",
    "print('F1 Score: %.3f' % (f1_score(y_test, y_pred, average='weighted')))\n",
    "print(plot_confusion_matrix(optimum_xgb, X_test, y_test, values_format = 'd' ))"
   ]
  },
  {
   "cell_type": "markdown",
   "metadata": {},
   "source": [
    "## Final Outcomes"
   ]
  },
  {
   "cell_type": "markdown",
   "metadata": {},
   "source": [
    "I have used different classifier algorithms to accurately detect customer churn. We know, hyperparameters are essential for finding the best results from a model. For that reason, I have used hyperparameter tuning for each algorithms to find the best hyperparameters. Among all of those algorithms the ensemble methods worked well and have showed significantly high scoring values for precision, recall, and f1 score. I have used three differend kind of ensemble methods including Random Forest Classifier, Gradient Boosting Classifier, and XGBoost Classifier for training and testing. Among those three ensemble methods XGBoost showed significantly high Precision, Recall, F1 Score, Training Accuracy, and Test Accuracy values. The resultant summary of XGBoost are: Precision Score: 0.937, Recall Score: 0.889, Training Accuracy: 1.000, Test Accuracy: 0.972, F1 Score: 0.971"
   ]
  },
  {
   "cell_type": "code",
   "execution_count": null,
   "metadata": {},
   "outputs": [],
   "source": []
  }
 ],
 "metadata": {
  "kernelspec": {
   "display_name": "Python 3",
   "language": "python",
   "name": "python3"
  },
  "language_info": {
   "codemirror_mode": {
    "name": "ipython",
    "version": 3
   },
   "file_extension": ".py",
   "mimetype": "text/x-python",
   "name": "python",
   "nbconvert_exporter": "python",
   "pygments_lexer": "ipython3",
   "version": "3.8.5"
  }
 },
 "nbformat": 4,
 "nbformat_minor": 4
}
