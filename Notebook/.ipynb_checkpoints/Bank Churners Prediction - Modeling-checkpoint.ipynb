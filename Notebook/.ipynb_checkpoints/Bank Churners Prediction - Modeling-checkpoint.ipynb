{
 "cells": [
  {
   "cell_type": "markdown",
   "metadata": {},
   "source": [
    "# Bank Churners Prediction (Modeling)"
   ]
  },
  {
   "cell_type": "markdown",
   "metadata": {},
   "source": [
    "### Logistic regression, KNN, decision tree, random forest, SVM, Gradient boosting, xgboost, cross validation, hyperparameter tuning, grid search cv, pipeline, regularization parameter (C) tuning, PCA"
   ]
  },
  {
   "cell_type": "markdown",
   "metadata": {},
   "source": [
    "## 1. Importing libraries and dataframes"
   ]
  },
  {
   "cell_type": "code",
   "execution_count": 1,
   "metadata": {},
   "outputs": [],
   "source": [
    "import pandas as pd\n",
    "import numpy as np\n",
    "import seaborn as sns\n",
    "import matplotlib.pyplot as plt\n",
    "from sklearn.model_selection import train_test_split\n",
    "from sklearn.model_selection import GridSearchCV\n",
    "from sklearn.model_selection import RandomizedSearchCV\n",
    "from sklearn.model_selection import cross_val_score\n",
    "from sklearn.neighbors import KNeighborsClassifier\n",
    "from sklearn.linear_model import LogisticRegression\n",
    "from sklearn.tree import DecisionTreeClassifier\n",
    "from sklearn.svm import SVC\n",
    "from sklearn.ensemble import RandomForestClassifier\n",
    "from sklearn.ensemble import GradientBoostingClassifier\n",
    "import xgboost as xgb\n",
    "from sklearn.metrics import classification_report, confusion_matrix, roc_curve, auc, roc_auc_score\n",
    "from sklearn.metrics import precision_score, recall_score, f1_score\n",
    "from sklearn.metrics import accuracy_score\n",
    "from sklearn.metrics import plot_confusion_matrix"
   ]
  },
  {
   "cell_type": "code",
   "execution_count": 2,
   "metadata": {},
   "outputs": [],
   "source": [
    "X_train = pd.read_csv('..\\Dataset\\X_train.csv', index_col=0).reset_index(drop=True)\n",
    "X_test = pd.read_csv('..\\Dataset\\X_test.csv', index_col=0).reset_index(drop=True)\n",
    "y_train = pd.read_csv('..\\Dataset\\y_train.csv', index_col=0).reset_index(drop=True).values.ravel()\n",
    "y_test = pd.read_csv('..\\Dataset\\y_test.csv', index_col=0).reset_index(drop=True).values.ravel()"
   ]
  },
  {
   "cell_type": "code",
   "execution_count": 3,
   "metadata": {},
   "outputs": [
    {
     "data": {
      "text/html": [
       "<div>\n",
       "<style scoped>\n",
       "    .dataframe tbody tr th:only-of-type {\n",
       "        vertical-align: middle;\n",
       "    }\n",
       "\n",
       "    .dataframe tbody tr th {\n",
       "        vertical-align: top;\n",
       "    }\n",
       "\n",
       "    .dataframe thead th {\n",
       "        text-align: right;\n",
       "    }\n",
       "</style>\n",
       "<table border=\"1\" class=\"dataframe\">\n",
       "  <thead>\n",
       "    <tr style=\"text-align: right;\">\n",
       "      <th></th>\n",
       "      <th>Age</th>\n",
       "      <th>Dependent_Count</th>\n",
       "      <th>Months_On_Book</th>\n",
       "      <th>Total_Relationship_Count</th>\n",
       "      <th>Months_Inactive</th>\n",
       "      <th>Contacts_Count</th>\n",
       "      <th>Credit_Limit</th>\n",
       "      <th>Total_Revolving_Bal</th>\n",
       "      <th>Avg_Open_To_Buy</th>\n",
       "      <th>Total_Amt_Chng_Q4_Q1</th>\n",
       "      <th>...</th>\n",
       "      <th>Marital_Status_Single</th>\n",
       "      <th>Marital_Status_Unknown</th>\n",
       "      <th>Income_$40K - $60K</th>\n",
       "      <th>Income_$60K - $80K</th>\n",
       "      <th>Income_$80K - $120K</th>\n",
       "      <th>Income_Less than $40K</th>\n",
       "      <th>Income_Unknown</th>\n",
       "      <th>Card_Category_Gold</th>\n",
       "      <th>Card_Category_Platinum</th>\n",
       "      <th>Card_Category_Silver</th>\n",
       "    </tr>\n",
       "  </thead>\n",
       "  <tbody>\n",
       "    <tr>\n",
       "      <th>0</th>\n",
       "      <td>-0.791543</td>\n",
       "      <td>0.498352</td>\n",
       "      <td>0.002708</td>\n",
       "      <td>-1.841984</td>\n",
       "      <td>0.745299</td>\n",
       "      <td>-0.415160</td>\n",
       "      <td>0.324106</td>\n",
       "      <td>0.617387</td>\n",
       "      <td>0.267968</td>\n",
       "      <td>1.339053</td>\n",
       "      <td>...</td>\n",
       "      <td>0</td>\n",
       "      <td>0</td>\n",
       "      <td>0</td>\n",
       "      <td>0</td>\n",
       "      <td>0</td>\n",
       "      <td>1</td>\n",
       "      <td>0</td>\n",
       "      <td>0</td>\n",
       "      <td>0</td>\n",
       "      <td>1</td>\n",
       "    </tr>\n",
       "    <tr>\n",
       "      <th>1</th>\n",
       "      <td>-0.037350</td>\n",
       "      <td>1.269124</td>\n",
       "      <td>0.002708</td>\n",
       "      <td>-0.550727</td>\n",
       "      <td>-1.400375</td>\n",
       "      <td>1.442415</td>\n",
       "      <td>0.274543</td>\n",
       "      <td>0.291116</td>\n",
       "      <td>0.247961</td>\n",
       "      <td>-0.444369</td>\n",
       "      <td>...</td>\n",
       "      <td>0</td>\n",
       "      <td>0</td>\n",
       "      <td>0</td>\n",
       "      <td>0</td>\n",
       "      <td>0</td>\n",
       "      <td>1</td>\n",
       "      <td>0</td>\n",
       "      <td>0</td>\n",
       "      <td>0</td>\n",
       "      <td>1</td>\n",
       "    </tr>\n",
       "    <tr>\n",
       "      <th>2</th>\n",
       "      <td>0.716844</td>\n",
       "      <td>-1.813965</td>\n",
       "      <td>0.002708</td>\n",
       "      <td>0.740530</td>\n",
       "      <td>-1.400375</td>\n",
       "      <td>-0.415160</td>\n",
       "      <td>-0.657427</td>\n",
       "      <td>-0.068149</td>\n",
       "      <td>-0.650666</td>\n",
       "      <td>0.711856</td>\n",
       "      <td>...</td>\n",
       "      <td>1</td>\n",
       "      <td>0</td>\n",
       "      <td>0</td>\n",
       "      <td>0</td>\n",
       "      <td>0</td>\n",
       "      <td>1</td>\n",
       "      <td>0</td>\n",
       "      <td>0</td>\n",
       "      <td>0</td>\n",
       "      <td>0</td>\n",
       "    </tr>\n",
       "    <tr>\n",
       "      <th>3</th>\n",
       "      <td>-1.420038</td>\n",
       "      <td>-0.272420</td>\n",
       "      <td>-0.753447</td>\n",
       "      <td>1.386159</td>\n",
       "      <td>0.745299</td>\n",
       "      <td>0.513627</td>\n",
       "      <td>1.462074</td>\n",
       "      <td>0.127369</td>\n",
       "      <td>1.449226</td>\n",
       "      <td>0.270090</td>\n",
       "      <td>...</td>\n",
       "      <td>1</td>\n",
       "      <td>0</td>\n",
       "      <td>0</td>\n",
       "      <td>1</td>\n",
       "      <td>0</td>\n",
       "      <td>0</td>\n",
       "      <td>0</td>\n",
       "      <td>0</td>\n",
       "      <td>0</td>\n",
       "      <td>0</td>\n",
       "    </tr>\n",
       "    <tr>\n",
       "      <th>4</th>\n",
       "      <td>0.716844</td>\n",
       "      <td>0.498352</td>\n",
       "      <td>0.632838</td>\n",
       "      <td>-1.196355</td>\n",
       "      <td>0.745299</td>\n",
       "      <td>-0.415160</td>\n",
       "      <td>-0.778979</td>\n",
       "      <td>-0.446965</td>\n",
       "      <td>-0.737843</td>\n",
       "      <td>-0.777057</td>\n",
       "      <td>...</td>\n",
       "      <td>1</td>\n",
       "      <td>0</td>\n",
       "      <td>0</td>\n",
       "      <td>0</td>\n",
       "      <td>0</td>\n",
       "      <td>1</td>\n",
       "      <td>0</td>\n",
       "      <td>0</td>\n",
       "      <td>0</td>\n",
       "      <td>0</td>\n",
       "    </tr>\n",
       "  </tbody>\n",
       "</table>\n",
       "<p>5 rows × 32 columns</p>\n",
       "</div>"
      ],
      "text/plain": [
       "        Age  Dependent_Count  Months_On_Book  Total_Relationship_Count  \\\n",
       "0 -0.791543         0.498352        0.002708                 -1.841984   \n",
       "1 -0.037350         1.269124        0.002708                 -0.550727   \n",
       "2  0.716844        -1.813965        0.002708                  0.740530   \n",
       "3 -1.420038        -0.272420       -0.753447                  1.386159   \n",
       "4  0.716844         0.498352        0.632838                 -1.196355   \n",
       "\n",
       "   Months_Inactive  Contacts_Count  Credit_Limit  Total_Revolving_Bal  \\\n",
       "0         0.745299       -0.415160      0.324106             0.617387   \n",
       "1        -1.400375        1.442415      0.274543             0.291116   \n",
       "2        -1.400375       -0.415160     -0.657427            -0.068149   \n",
       "3         0.745299        0.513627      1.462074             0.127369   \n",
       "4         0.745299       -0.415160     -0.778979            -0.446965   \n",
       "\n",
       "   Avg_Open_To_Buy  Total_Amt_Chng_Q4_Q1  ...  Marital_Status_Single  \\\n",
       "0         0.267968              1.339053  ...                      0   \n",
       "1         0.247961             -0.444369  ...                      0   \n",
       "2        -0.650666              0.711856  ...                      1   \n",
       "3         1.449226              0.270090  ...                      1   \n",
       "4        -0.737843             -0.777057  ...                      1   \n",
       "\n",
       "   Marital_Status_Unknown  Income_$40K - $60K  Income_$60K - $80K  \\\n",
       "0                       0                   0                   0   \n",
       "1                       0                   0                   0   \n",
       "2                       0                   0                   0   \n",
       "3                       0                   0                   1   \n",
       "4                       0                   0                   0   \n",
       "\n",
       "   Income_$80K - $120K  Income_Less than $40K  Income_Unknown  \\\n",
       "0                    0                      1               0   \n",
       "1                    0                      1               0   \n",
       "2                    0                      1               0   \n",
       "3                    0                      0               0   \n",
       "4                    0                      1               0   \n",
       "\n",
       "   Card_Category_Gold  Card_Category_Platinum  Card_Category_Silver  \n",
       "0                   0                       0                     1  \n",
       "1                   0                       0                     1  \n",
       "2                   0                       0                     0  \n",
       "3                   0                       0                     0  \n",
       "4                   0                       0                     0  \n",
       "\n",
       "[5 rows x 32 columns]"
      ]
     },
     "execution_count": 3,
     "metadata": {},
     "output_type": "execute_result"
    }
   ],
   "source": [
    "X_train.head()"
   ]
  },
  {
   "cell_type": "markdown",
   "metadata": {},
   "source": [
    "## 2. Churn prediction using K Nearest Neighbors Classifier"
   ]
  },
  {
   "cell_type": "markdown",
   "metadata": {},
   "source": [
    "Tuning hyperparameters for KNN classifier"
   ]
  },
  {
   "cell_type": "code",
   "execution_count": 4,
   "metadata": {},
   "outputs": [
    {
     "name": "stdout",
     "output_type": "stream",
     "text": [
      "{'p': 1, 'n_neighbors': 7, 'leaf_size': 5}\n",
      "Best Score: 0.9090257879656161\n",
      "<sklearn.metrics._plot.confusion_matrix.ConfusionMatrixDisplay object at 0x0000027B49F32970>\n"
     ]
    },
    {
     "data": {
      "image/png": "[encoded data removed]",
      "text/plain": [
       "<Figure size 432x288 with 2 Axes>"
      ]
     },
     "metadata": {
      "needs_background": "light"
     },
     "output_type": "display_data"
    }
   ],
   "source": [
    "# define models and parameters\n",
    "param_grid = {'n_neighbors': list(range(1,11)), 'leaf_size': list(range(1,50)), 'p':[1,2]}\n",
    "knn = KNeighborsClassifier()\n",
    "\n",
    "# define randomized search cv and train the training dataset\n",
    "knn_cv = RandomizedSearchCV(knn, param_grid, cv=5)\n",
    "best_model = knn_cv.fit(X_train, y_train)\n",
    "\n",
    "# Get the optimum hyperparameter\n",
    "print(best_model.best_params_)\n",
    "print('Best Score:', best_model.best_score_)\n",
    "print(plot_confusion_matrix(best_model, X_test, y_test, values_format = 'd' ))"
   ]
  },
  {
   "cell_type": "code",
   "execution_count": 5,
   "metadata": {
    "scrolled": false
   },
   "outputs": [
    {
     "name": "stdout",
     "output_type": "stream",
     "text": [
      "Model: KNeighborsClassifier(leaf_size=24, n_neighbors=9)\n",
      "Accuracy Score:  0.9174903308981521\n",
      "Training Accuracy: 0.926\n",
      "Test Accuracy: 0.917\n",
      "Confusion Matrix:\n",
      " [[1900   40]\n",
      " [ 152  235]]\n",
      "F1 Score: 0.912\n"
     ]
    }
   ],
   "source": [
    "#Create the optimum KNN Classifier\n",
    "optimum_knn = KNeighborsClassifier(p = 2, n_neighbors = 9, leaf_size = 24)\n",
    "\n",
    "#Train the model using the training sets\n",
    "optimum_knn.fit(X_train, y_train)\n",
    "\n",
    "# Predict the response for test dataset\n",
    "y_pred = optimum_knn.predict(X_test)\n",
    "\n",
    "# Measuring model's performance using different evaluation metrics\n",
    "print('Model:', optimum_knn)\n",
    "print('Accuracy Score: ', accuracy_score(y_test, y_pred))\n",
    "print('Training Accuracy: %.3f' % (optimum_knn.score(X_train, y_train)))\n",
    "print('Test Accuracy: %.3f' % (optimum_knn.score(X_test, y_test)))\n",
    "print('Confusion Matrix:\\n', confusion_matrix(y_test, y_pred))\n",
    "print('F1 Score: %.3f' % (f1_score(y_test, y_pred, average='weighted')))"
   ]
  },
  {
   "cell_type": "markdown",
   "metadata": {},
   "source": [
    "## 3. Churn rediction using Random Forest Classifier"
   ]
  },
  {
   "cell_type": "code",
   "execution_count": 6,
   "metadata": {
    "scrolled": false
   },
   "outputs": [
    {
     "name": "stdout",
     "output_type": "stream",
     "text": [
      "{'C': 0.1, 'penalty': 'l2'}\n",
      "0.8984240687679084\n"
     ]
    }
   ],
   "source": [
    "# Tuning hyperparameter for Logistic Regression classifier\n",
    "Cs = [0.001, 0.1, 1, 10, 100]\n",
    "\n",
    "param_grid = {'C': Cs, 'penalty' : ['l2']}\n",
    "\n",
    "logreg = LogisticRegression()\n",
    "\n",
    "logreg_cv = GridSearchCV(estimator = logreg, param_grid = param_grid, cv = 5, n_jobs = -1)\n",
    "\n",
    "#Train the model using the training sets\n",
    "best_model = logreg_cv.fit(X_train, y_train)\n",
    "\n",
    "print(best_model.best_params_)\n",
    "print(best_model.best_score_)"
   ]
  },
  {
   "cell_type": "code",
   "execution_count": 16,
   "metadata": {},
   "outputs": [
    {
     "name": "stdout",
     "output_type": "stream",
     "text": [
      "Model: GridSearchCV(cv=5, estimator=LogisticRegression(), n_jobs=-1,\n",
      "             param_grid={'C': [0.001, 0.1, 1, 10, 100], 'penalty': ['l2']})\n",
      "Training Accuracy: 0.901\n",
      "Test Accuracy: 0.904\n",
      "Confusion Matrix:\n",
      " [[1875   65]\n",
      " [ 159  228]]\n",
      "F1 Score: 0.898\n"
     ]
    }
   ],
   "source": [
    "#Create the optimum Logistic Regression Classifier\n",
    "logreg = LogisticRegression(C = 0.1, penalty = 'l2')\n",
    "\n",
    "#Train the model using the training sets\n",
    "logreg.fit(X_train, y_train)\n",
    "\n",
    "#Predict the response for test dataset\n",
    "y_pred = logreg.predict(X_test)\n",
    "\n",
    "# Measuring model's performance using different evaluation metrics\n",
    "print('Model:', logreg)\n",
    "print('Training Accuracy: %.3f' % (logreg.score(X_train, y_train)))\n",
    "print('Test Accuracy: %.3f' % (logreg.score(X_test, y_test)))\n",
    "print('Confusion Matrix:\\n', confusion_matrix(y_test, y_pred))\n",
    "print('F1 Score: %.3f' % (f1_score(y_test, y_pred, average='weighted')))"
   ]
  },
  {
   "cell_type": "markdown",
   "metadata": {},
   "source": [
    "## 3. Churn prediction using Decision Tree Classifier"
   ]
  },
  {
   "cell_type": "code",
   "execution_count": 8,
   "metadata": {
    "scrolled": true
   },
   "outputs": [
    {
     "name": "stdout",
     "output_type": "stream",
     "text": [
      "Model: DecisionTreeClassifier()\n",
      "Training Accuracy: 1.000\n",
      "Test Accuracy: 0.935\n",
      "Confusion Matrix:\n",
      " [[1858   82]\n",
      " [  70  317]]\n",
      "F1 Score: 0.935\n"
     ]
    }
   ],
   "source": [
    "#Create a Decision Tree Classifier\n",
    "model = DecisionTreeClassifier()\n",
    "\n",
    "#Train the model using the training sets\n",
    "model.fit(X_train, y_train)\n",
    "\n",
    "#Predict the response for test dataset\n",
    "y_pred = model.predict(X_test)\n",
    "\n",
    "# Measuring model's performance using different evaluation metrics\n",
    "print('Model:', model)\n",
    "print('Training Accuracy: %.3f' % (model.score(X_train, y_train)))\n",
    "print('Test Accuracy: %.3f' % (model.score(X_test, y_test)))\n",
    "print('Confusion Matrix:\\n', confusion_matrix(y_test, y_pred))\n",
    "print('F1 Score: %.3f' % (f1_score(y_test, y_pred, average='weighted')))"
   ]
  },
  {
   "cell_type": "markdown",
   "metadata": {},
   "source": [
    "## 4. Churn prediction using Random Forest Classifier"
   ]
  },
  {
   "cell_type": "code",
   "execution_count": 9,
   "metadata": {},
   "outputs": [
    {
     "name": "stdout",
     "output_type": "stream",
     "text": [
      "Model: RandomForestClassifier(random_state=42)\n",
      "Training Accuracy: 1.000\n",
      "Test Accuracy: 0.957\n",
      "Confusion Matrix:\n",
      " [[1919   21]\n",
      " [  78  309]]\n",
      "F1 Score: 0.956\n"
     ]
    }
   ],
   "source": [
    "#Create a Random Forest Classifier\n",
    "model = RandomForestClassifier(random_state=42)\n",
    "\n",
    "#Train the model using the training sets\n",
    "model.fit(X_train, y_train)\n",
    "\n",
    "#Predict the response for test dataset\n",
    "y_pred = model.predict(X_test)\n",
    "\n",
    "# Measuring model's performance using different evaluation metrics\n",
    "print('Model:', model)\n",
    "print('Training Accuracy: %.3f' % (model.score(X_train, y_train)))\n",
    "print('Test Accuracy: %.3f' % (model.score(X_test, y_test)))\n",
    "print('Confusion Matrix:\\n', confusion_matrix(y_test, y_pred))\n",
    "print('F1 Score: %.3f' % (f1_score(y_test, y_pred, average='weighted')))"
   ]
  },
  {
   "cell_type": "code",
   "execution_count": 10,
   "metadata": {},
   "outputs": [
    {
     "name": "stdout",
     "output_type": "stream",
     "text": [
      "Model: RandomForestClassifier(random_state=42)\n",
      "Training Accuracy: 1.000\n",
      "Test Accuracy: 0.957\n",
      "Confusion Matrix:\n",
      " [[1918   22]\n",
      " [  69  318]]\n",
      "F1 Score: 0.960\n",
      "Random Forest: Accuracy=0.961\n",
      "Random Forest: f1-score=0.960\n"
     ]
    }
   ],
   "source": [
    "clf = RandomForestClassifier(n_estimators=500, random_state = 42,n_jobs=-1)\n",
    "model_res = clf.fit(X_train, y_train)\n",
    "y_pred = model_res.predict(X_test)\n",
    "y_pred_prob = model_res.predict_proba(X_test)\n",
    "lr_probs = y_pred_prob[:,1]\n",
    "ac = accuracy_score(y_test, y_pred)\n",
    "\n",
    "f1 = f1_score(y_test, y_pred, average='weighted')\n",
    "cm = confusion_matrix(y_test, y_pred)\n",
    "\n",
    "# Measuring model's performance using different evaluation metrics\n",
    "print('Model:', model)\n",
    "print('Training Accuracy: %.3f' % (model.score(X_train, y_train)))\n",
    "print('Test Accuracy: %.3f' % (model.score(X_test, y_test)))\n",
    "print('Confusion Matrix:\\n', confusion_matrix(y_test, y_pred))\n",
    "print('F1 Score: %.3f' % (f1_score(y_test, y_pred, average='weighted')))\n",
    "\n",
    "print('Random Forest: Accuracy=%.3f' % (ac))\n",
    "\n",
    "print('Random Forest: f1-score=%.3f' % (f1))"
   ]
  },
  {
   "cell_type": "code",
   "execution_count": 11,
   "metadata": {},
   "outputs": [
    {
     "name": "stdout",
     "output_type": "stream",
     "text": [
      "Model: SVC()\n",
      "Training Accuracy: 1.000\n",
      "Test Accuracy: 0.957\n",
      "Confusion Matrix:\n",
      " [[1902   38]\n",
      " [ 106  281]]\n",
      "F1 Score: 0.936\n"
     ]
    }
   ],
   "source": [
    "#Create a svm Classifier\n",
    "clf = SVC() # Linear Kernel kernel='linear'\n",
    "\n",
    "#Train the model using the training sets\n",
    "clf.fit(X_train, y_train)\n",
    "\n",
    "#Predict the response for test dataset\n",
    "y_pred = clf.predict(X_test)\n",
    "\n",
    "# Measuring model's performance using different evaluation metrics\n",
    "print('Model:', clf)\n",
    "print('Training Accuracy: %.3f' % (model.score(X_train, y_train)))\n",
    "print('Test Accuracy: %.3f' % (model.score(X_test, y_test)))\n",
    "print('Confusion Matrix:\\n', confusion_matrix(y_test, y_pred))\n",
    "print('F1 Score: %.3f' % (f1_score(y_test, y_pred, average='weighted')))"
   ]
  },
  {
   "cell_type": "code",
   "execution_count": 12,
   "metadata": {},
   "outputs": [
    {
     "name": "stdout",
     "output_type": "stream",
     "text": [
      "Learning rate:  0.05\n",
      "Accuracy score (training): 0.835\n",
      "Accuracy score (validation): 0.834\n",
      "\n",
      "Learning rate:  0.1\n",
      "Accuracy score (training): 0.844\n",
      "Accuracy score (validation): 0.840\n",
      "\n",
      "Learning rate:  0.25\n",
      "Accuracy score (training): 0.886\n",
      "Accuracy score (validation): 0.875\n",
      "\n",
      "Learning rate:  0.5\n",
      "Accuracy score (training): 0.911\n",
      "Accuracy score (validation): 0.900\n",
      "\n",
      "Learning rate:  0.75\n",
      "Accuracy score (training): 0.910\n",
      "Accuracy score (validation): 0.898\n",
      "\n",
      "Learning rate:  1\n",
      "Accuracy score (training): 0.915\n",
      "Accuracy score (validation): 0.911\n",
      "\n"
     ]
    }
   ],
   "source": [
    "learning_rates = [0.05, 0.1, 0.25, 0.5, 0.75, 1]\n",
    "for learning_rate in learning_rates:\n",
    "    gb = GradientBoostingClassifier(n_estimators=20, learning_rate = learning_rate, max_features=2, max_depth = 2, random_state = 0)\n",
    "    gb.fit(X_train, y_train)\n",
    "    print(\"Learning rate: \", learning_rate)\n",
    "    print(\"Accuracy score (training): {0:.3f}\".format(gb.score(X_train, y_train)))\n",
    "    print(\"Accuracy score (validation): {0:.3f}\".format(gb.score(X_test, y_test)))\n",
    "    print()"
   ]
  },
  {
   "cell_type": "code",
   "execution_count": 13,
   "metadata": {},
   "outputs": [
    {
     "name": "stdout",
     "output_type": "stream",
     "text": [
      "Model: GradientBoostingClassifier(learning_rate=1, max_depth=2, max_features=2,\n",
      "                           n_estimators=20, random_state=0)\n",
      "Training Accuracy: 1.000\n",
      "Test Accuracy: 0.957\n",
      "Confusion Matrix:\n",
      " [[1876   64]\n",
      " [ 142  245]]\n",
      "F1 Score: 0.907\n"
     ]
    }
   ],
   "source": [
    "gb_final = GradientBoostingClassifier(n_estimators=20, learning_rate = 1, max_features=2, max_depth = 2, random_state = 0)\n",
    "gb_final.fit(X_train, y_train)\n",
    "y_pred = gb_final.predict(X_test)\n",
    "\n",
    "print('Model:', gb_final)\n",
    "print('Training Accuracy: %.3f' % (model.score(X_train, y_train)))\n",
    "print('Test Accuracy: %.3f' % (model.score(X_test, y_test)))\n",
    "print('Confusion Matrix:\\n', confusion_matrix(y_test, y_pred))\n",
    "print('F1 Score: %.3f' % (f1_score(y_test, y_pred, average='weighted')))"
   ]
  },
  {
   "cell_type": "code",
   "execution_count": 14,
   "metadata": {},
   "outputs": [
    {
     "name": "stdout",
     "output_type": "stream",
     "text": [
      "[02:49:36] WARNING: C:/Users/Administrator/workspace/xgboost-win64_release_1.4.0/src/learner.cc:1095: Starting in XGBoost 1.3.0, the default evaluation metric used with the objective 'binary:logistic' was changed from 'error' to 'logloss'. Explicitly set eval_metric if you'd like to restore the old behavior.\n",
      "Training Accuracy: 1.000\n",
      "Test Accuracy: 0.957\n",
      "Confusion Matrix:\n",
      " [[1905   35]\n",
      " [  55  332]]\n",
      "F1 Score: 0.961\n"
     ]
    }
   ],
   "source": [
    "# Instantiate the XGBClassifier: xg_cl\n",
    "xg_cl = xgb.XGBClassifier(objective='binary:logistic', n_estimators=10, seed=123, use_label_encoder=False)\n",
    "\n",
    "# Fit the classifier to the training set\n",
    "xg_cl.fit(X_train, y_train)\n",
    "\n",
    "\n",
    "# Predict the labels of the test set: preds\n",
    "y_pred = xg_cl.predict(X_test)\n",
    "\n",
    "# Compute the accuracy: accuracy\n",
    "# print('Model:', xg_cl)\n",
    "print('Training Accuracy: %.3f' % (model.score(X_train, y_train)))\n",
    "print('Test Accuracy: %.3f' % (model.score(X_test, y_test)))\n",
    "print('Confusion Matrix:\\n', confusion_matrix(y_test, y_pred))\n",
    "print('F1 Score: %.3f' % (f1_score(y_test, y_pred, average='weighted')))"
   ]
  },
  {
   "cell_type": "code",
   "execution_count": 15,
   "metadata": {},
   "outputs": [],
   "source": [
    "# %pip install xgboost"
   ]
  }
 ],
 "metadata": {
  "kernelspec": {
   "display_name": "Python 3",
   "language": "python",
   "name": "python3"
  },
  "language_info": {
   "codemirror_mode": {
    "name": "ipython",
    "version": 3
   },
   "file_extension": ".py",
   "mimetype": "text/x-python",
   "name": "python",
   "nbconvert_exporter": "python",
   "pygments_lexer": "ipython3",
   "version": "3.8.5"
  }
 },
 "nbformat": 4,
 "nbformat_minor": 4
}
