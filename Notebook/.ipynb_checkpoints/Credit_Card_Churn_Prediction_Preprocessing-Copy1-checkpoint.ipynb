{
 "cells": [
  {
   "cell_type": "markdown",
   "metadata": {},
   "source": [
    "# Capstone project two (Preprocessing)"
   ]
  },
  {
   "cell_type": "markdown",
   "metadata": {},
   "source": [
    "## 1. Importing libraries and loading dataframe"
   ]
  },
  {
   "cell_type": "code",
   "execution_count": 1,
   "metadata": {},
   "outputs": [],
   "source": [
    "# Importing libraries\n",
    "import numpy as np\n",
    "import pandas as pd\n",
    "import matplotlib.pyplot as plt\n",
    "from sklearn.preprocessing import StandardScaler\n",
    "from sklearn.model_selection import train_test_split"
   ]
  },
  {
   "cell_type": "code",
   "execution_count": 2,
   "metadata": {},
   "outputs": [],
   "source": [
    "# importing dataframe from previous step and reset index\n",
    "df_preprocessing = pd.read_csv('df_preprocessing.csv', index_col=0)\n",
    "df_preprocessing = df_preprocessing.reset_index(drop=True)"
   ]
  },
  {
   "cell_type": "markdown",
   "metadata": {},
   "source": [
    "## 2. Encoding target feature"
   ]
  },
  {
   "cell_type": "code",
   "execution_count": 3,
   "metadata": {},
   "outputs": [
    {
     "data": {
      "text/plain": [
       "Existing Customer    7771\n",
       "Attrited Customer    1536\n",
       "Name: Attrition_Flag, dtype: int64"
      ]
     },
     "execution_count": 3,
     "metadata": {},
     "output_type": "execute_result"
    }
   ],
   "source": [
    "df_preprocessing['Attrition_Flag'].value_counts()"
   ]
  },
  {
   "cell_type": "code",
   "execution_count": 4,
   "metadata": {},
   "outputs": [],
   "source": [
    "# Encoding 'Attrition_Flag' attributes to binary 1 and 0. Existing Customer = 0, and Attrited Customer = 1\n",
    "# df_preprocessing['Attrition_Flag'].replace({'Existing Customer':0, 'Attrited Customer':1}, inplace=True)\n",
    "df_preprocessing['Attrition_Flag'] = df_preprocessing['Attrition_Flag'].map({'Existing Customer':0, 'Attrited Customer':1})"
   ]
  },
  {
   "cell_type": "code",
   "execution_count": 5,
   "metadata": {},
   "outputs": [
    {
     "data": {
      "text/html": [
       "<div>\n",
       "<style scoped>\n",
       "    .dataframe tbody tr th:only-of-type {\n",
       "        vertical-align: middle;\n",
       "    }\n",
       "\n",
       "    .dataframe tbody tr th {\n",
       "        vertical-align: top;\n",
       "    }\n",
       "\n",
       "    .dataframe thead th {\n",
       "        text-align: right;\n",
       "    }\n",
       "</style>\n",
       "<table border=\"1\" class=\"dataframe\">\n",
       "  <thead>\n",
       "    <tr style=\"text-align: right;\">\n",
       "      <th></th>\n",
       "      <th>Attrition_Flag</th>\n",
       "      <th>Age</th>\n",
       "      <th>Gender</th>\n",
       "      <th>Dependent_Count</th>\n",
       "      <th>Education</th>\n",
       "      <th>Marital_Status</th>\n",
       "      <th>Income</th>\n",
       "      <th>Card_Category</th>\n",
       "      <th>Months_On_Book</th>\n",
       "      <th>Total_Relationship_Count</th>\n",
       "      <th>Months_Inactive</th>\n",
       "      <th>Contacts_Count</th>\n",
       "      <th>Credit_Limit</th>\n",
       "      <th>Total_Revolving_Bal</th>\n",
       "      <th>Avg_Open_To_Buy</th>\n",
       "      <th>Total_Amt_Chng_Q4_Q1</th>\n",
       "      <th>Total_Trans_Amt</th>\n",
       "      <th>Total_Trans_Ct</th>\n",
       "      <th>Total_Ct_Chng_Q4_Q1</th>\n",
       "      <th>Avg_Utilization_Ratio</th>\n",
       "    </tr>\n",
       "  </thead>\n",
       "  <tbody>\n",
       "    <tr>\n",
       "      <th>0</th>\n",
       "      <td>0</td>\n",
       "      <td>44.0</td>\n",
       "      <td>M</td>\n",
       "      <td>2</td>\n",
       "      <td>Graduate</td>\n",
       "      <td>Married</td>\n",
       "      <td>$40K - $60K</td>\n",
       "      <td>Blue</td>\n",
       "      <td>36</td>\n",
       "      <td>3</td>\n",
       "      <td>1.0</td>\n",
       "      <td>2.0</td>\n",
       "      <td>4010.0</td>\n",
       "      <td>1247</td>\n",
       "      <td>2763.0</td>\n",
       "      <td>1.376</td>\n",
       "      <td>1088.0</td>\n",
       "      <td>24.0</td>\n",
       "      <td>0.846</td>\n",
       "      <td>0.311</td>\n",
       "    </tr>\n",
       "    <tr>\n",
       "      <th>1</th>\n",
       "      <td>0</td>\n",
       "      <td>42.0</td>\n",
       "      <td>M</td>\n",
       "      <td>5</td>\n",
       "      <td>Uneducated</td>\n",
       "      <td>Unknown</td>\n",
       "      <td>$120K +</td>\n",
       "      <td>Blue</td>\n",
       "      <td>31</td>\n",
       "      <td>5</td>\n",
       "      <td>3.0</td>\n",
       "      <td>2.0</td>\n",
       "      <td>6748.0</td>\n",
       "      <td>1467</td>\n",
       "      <td>5281.0</td>\n",
       "      <td>0.831</td>\n",
       "      <td>1201.0</td>\n",
       "      <td>42.0</td>\n",
       "      <td>0.680</td>\n",
       "      <td>0.217</td>\n",
       "    </tr>\n",
       "    <tr>\n",
       "      <th>2</th>\n",
       "      <td>0</td>\n",
       "      <td>57.0</td>\n",
       "      <td>F</td>\n",
       "      <td>2</td>\n",
       "      <td>Graduate</td>\n",
       "      <td>Married</td>\n",
       "      <td>Less than $40K</td>\n",
       "      <td>Blue</td>\n",
       "      <td>48</td>\n",
       "      <td>5</td>\n",
       "      <td>2.0</td>\n",
       "      <td>2.0</td>\n",
       "      <td>2436.0</td>\n",
       "      <td>680</td>\n",
       "      <td>1756.0</td>\n",
       "      <td>1.190</td>\n",
       "      <td>1570.0</td>\n",
       "      <td>29.0</td>\n",
       "      <td>0.611</td>\n",
       "      <td>0.279</td>\n",
       "    </tr>\n",
       "    <tr>\n",
       "      <th>3</th>\n",
       "      <td>0</td>\n",
       "      <td>45.0</td>\n",
       "      <td>F</td>\n",
       "      <td>2</td>\n",
       "      <td>Graduate</td>\n",
       "      <td>Married</td>\n",
       "      <td>Unknown</td>\n",
       "      <td>Blue</td>\n",
       "      <td>37</td>\n",
       "      <td>6</td>\n",
       "      <td>1.0</td>\n",
       "      <td>2.0</td>\n",
       "      <td>14470.0</td>\n",
       "      <td>1157</td>\n",
       "      <td>13313.0</td>\n",
       "      <td>0.966</td>\n",
       "      <td>1207.0</td>\n",
       "      <td>21.0</td>\n",
       "      <td>0.909</td>\n",
       "      <td>0.080</td>\n",
       "    </tr>\n",
       "    <tr>\n",
       "      <th>4</th>\n",
       "      <td>0</td>\n",
       "      <td>47.0</td>\n",
       "      <td>M</td>\n",
       "      <td>1</td>\n",
       "      <td>Doctorate</td>\n",
       "      <td>Divorced</td>\n",
       "      <td>$60K - $80K</td>\n",
       "      <td>Blue</td>\n",
       "      <td>42</td>\n",
       "      <td>5</td>\n",
       "      <td>2.0</td>\n",
       "      <td>0.0</td>\n",
       "      <td>20979.0</td>\n",
       "      <td>1800</td>\n",
       "      <td>19179.0</td>\n",
       "      <td>0.906</td>\n",
       "      <td>1178.0</td>\n",
       "      <td>27.0</td>\n",
       "      <td>0.929</td>\n",
       "      <td>0.086</td>\n",
       "    </tr>\n",
       "  </tbody>\n",
       "</table>\n",
       "</div>"
      ],
      "text/plain": [
       "   Attrition_Flag   Age Gender  Dependent_Count   Education Marital_Status  \\\n",
       "0               0  44.0      M                2    Graduate        Married   \n",
       "1               0  42.0      M                5  Uneducated        Unknown   \n",
       "2               0  57.0      F                2    Graduate        Married   \n",
       "3               0  45.0      F                2    Graduate        Married   \n",
       "4               0  47.0      M                1   Doctorate       Divorced   \n",
       "\n",
       "           Income Card_Category  Months_On_Book  Total_Relationship_Count  \\\n",
       "0     $40K - $60K          Blue              36                         3   \n",
       "1         $120K +          Blue              31                         5   \n",
       "2  Less than $40K          Blue              48                         5   \n",
       "3         Unknown          Blue              37                         6   \n",
       "4     $60K - $80K          Blue              42                         5   \n",
       "\n",
       "   Months_Inactive  Contacts_Count  Credit_Limit  Total_Revolving_Bal  \\\n",
       "0              1.0             2.0        4010.0                 1247   \n",
       "1              3.0             2.0        6748.0                 1467   \n",
       "2              2.0             2.0        2436.0                  680   \n",
       "3              1.0             2.0       14470.0                 1157   \n",
       "4              2.0             0.0       20979.0                 1800   \n",
       "\n",
       "   Avg_Open_To_Buy  Total_Amt_Chng_Q4_Q1  Total_Trans_Amt  Total_Trans_Ct  \\\n",
       "0           2763.0                 1.376           1088.0            24.0   \n",
       "1           5281.0                 0.831           1201.0            42.0   \n",
       "2           1756.0                 1.190           1570.0            29.0   \n",
       "3          13313.0                 0.966           1207.0            21.0   \n",
       "4          19179.0                 0.906           1178.0            27.0   \n",
       "\n",
       "   Total_Ct_Chng_Q4_Q1  Avg_Utilization_Ratio  \n",
       "0                0.846                  0.311  \n",
       "1                0.680                  0.217  \n",
       "2                0.611                  0.279  \n",
       "3                0.909                  0.080  \n",
       "4                0.929                  0.086  "
      ]
     },
     "execution_count": 5,
     "metadata": {},
     "output_type": "execute_result"
    }
   ],
   "source": [
    "df_preprocessing.head()"
   ]
  },
  {
   "cell_type": "markdown",
   "metadata": {},
   "source": [
    "## 3. Seperating target features and predictor features"
   ]
  },
  {
   "cell_type": "code",
   "execution_count": 6,
   "metadata": {},
   "outputs": [],
   "source": [
    "X = df_preprocessing.drop('Attrition_Flag', axis=1)\n",
    "y = df_preprocessing['Attrition_Flag']"
   ]
  },
  {
   "cell_type": "code",
   "execution_count": 7,
   "metadata": {},
   "outputs": [],
   "source": [
    "# Splitting into train and test \n",
    "X_train, X_test, y_train, y_test = train_test_split(X, y, test_size=0.25, random_state=123)"
   ]
  },
  {
   "cell_type": "code",
   "execution_count": 8,
   "metadata": {},
   "outputs": [],
   "source": [
    "# Reindexing all four splits\n",
    "X_train = X_train.reset_index(drop=True)\n",
    "X_test = X_test.reset_index(drop=True)\n",
    "y_train = y_train.reset_index(drop=True)\n",
    "y_test = y_test.reset_index(drop=True)"
   ]
  },
  {
   "cell_type": "code",
   "execution_count": 9,
   "metadata": {},
   "outputs": [
    {
     "name": "stdout",
     "output_type": "stream",
     "text": [
      "X_train.shape: (6980, 19), X_test.shape: (2327, 19)\n"
     ]
    }
   ],
   "source": [
    "print(f'X_train.shape: {X_train.shape}, X_test.shape: {X_test.shape}')"
   ]
  },
  {
   "cell_type": "code",
   "execution_count": 10,
   "metadata": {},
   "outputs": [
    {
     "name": "stdout",
     "output_type": "stream",
     "text": [
      "y_train.shape: (6980,), y_test.shape: (2327,)\n"
     ]
    }
   ],
   "source": [
    "print(f'y_train.shape: {y_train.shape}, y_test.shape: {y_test.shape}')"
   ]
  },
  {
   "cell_type": "code",
   "execution_count": 11,
   "metadata": {},
   "outputs": [
    {
     "data": {
      "text/html": [
       "<div>\n",
       "<style scoped>\n",
       "    .dataframe tbody tr th:only-of-type {\n",
       "        vertical-align: middle;\n",
       "    }\n",
       "\n",
       "    .dataframe tbody tr th {\n",
       "        vertical-align: top;\n",
       "    }\n",
       "\n",
       "    .dataframe thead th {\n",
       "        text-align: right;\n",
       "    }\n",
       "</style>\n",
       "<table border=\"1\" class=\"dataframe\">\n",
       "  <thead>\n",
       "    <tr style=\"text-align: right;\">\n",
       "      <th></th>\n",
       "      <th>Age</th>\n",
       "      <th>Gender</th>\n",
       "      <th>Dependent_Count</th>\n",
       "      <th>Education</th>\n",
       "      <th>Marital_Status</th>\n",
       "      <th>Income</th>\n",
       "      <th>Card_Category</th>\n",
       "      <th>Months_On_Book</th>\n",
       "      <th>Total_Relationship_Count</th>\n",
       "      <th>Months_Inactive</th>\n",
       "      <th>Contacts_Count</th>\n",
       "      <th>Credit_Limit</th>\n",
       "      <th>Total_Revolving_Bal</th>\n",
       "      <th>Avg_Open_To_Buy</th>\n",
       "      <th>Total_Amt_Chng_Q4_Q1</th>\n",
       "      <th>Total_Trans_Amt</th>\n",
       "      <th>Total_Trans_Ct</th>\n",
       "      <th>Total_Ct_Chng_Q4_Q1</th>\n",
       "      <th>Avg_Utilization_Ratio</th>\n",
       "    </tr>\n",
       "  </thead>\n",
       "  <tbody>\n",
       "    <tr>\n",
       "      <th>0</th>\n",
       "      <td>40.0</td>\n",
       "      <td>M</td>\n",
       "      <td>3</td>\n",
       "      <td>Graduate</td>\n",
       "      <td>Divorced</td>\n",
       "      <td>Less than $40K</td>\n",
       "      <td>Silver</td>\n",
       "      <td>36</td>\n",
       "      <td>1</td>\n",
       "      <td>3.0</td>\n",
       "      <td>2.0</td>\n",
       "      <td>11409.0</td>\n",
       "      <td>1658</td>\n",
       "      <td>9751.0</td>\n",
       "      <td>0.989</td>\n",
       "      <td>4677.0</td>\n",
       "      <td>58.0</td>\n",
       "      <td>0.706</td>\n",
       "      <td>0.145</td>\n",
       "    </tr>\n",
       "    <tr>\n",
       "      <th>1</th>\n",
       "      <td>46.0</td>\n",
       "      <td>F</td>\n",
       "      <td>4</td>\n",
       "      <td>Uneducated</td>\n",
       "      <td>Married</td>\n",
       "      <td>Less than $40K</td>\n",
       "      <td>Silver</td>\n",
       "      <td>36</td>\n",
       "      <td>3</td>\n",
       "      <td>1.0</td>\n",
       "      <td>4.0</td>\n",
       "      <td>10961.0</td>\n",
       "      <td>1391</td>\n",
       "      <td>9570.0</td>\n",
       "      <td>0.662</td>\n",
       "      <td>3914.0</td>\n",
       "      <td>77.0</td>\n",
       "      <td>0.750</td>\n",
       "      <td>0.127</td>\n",
       "    </tr>\n",
       "    <tr>\n",
       "      <th>2</th>\n",
       "      <td>52.0</td>\n",
       "      <td>F</td>\n",
       "      <td>0</td>\n",
       "      <td>Graduate</td>\n",
       "      <td>Single</td>\n",
       "      <td>Less than $40K</td>\n",
       "      <td>Blue</td>\n",
       "      <td>36</td>\n",
       "      <td>5</td>\n",
       "      <td>1.0</td>\n",
       "      <td>2.0</td>\n",
       "      <td>2537.0</td>\n",
       "      <td>1097</td>\n",
       "      <td>1440.0</td>\n",
       "      <td>0.874</td>\n",
       "      <td>4964.0</td>\n",
       "      <td>84.0</td>\n",
       "      <td>0.909</td>\n",
       "      <td>0.432</td>\n",
       "    </tr>\n",
       "    <tr>\n",
       "      <th>3</th>\n",
       "      <td>35.0</td>\n",
       "      <td>M</td>\n",
       "      <td>2</td>\n",
       "      <td>Uneducated</td>\n",
       "      <td>Single</td>\n",
       "      <td>$60K - $80K</td>\n",
       "      <td>Blue</td>\n",
       "      <td>30</td>\n",
       "      <td>6</td>\n",
       "      <td>3.0</td>\n",
       "      <td>3.0</td>\n",
       "      <td>21695.0</td>\n",
       "      <td>1257</td>\n",
       "      <td>20438.0</td>\n",
       "      <td>0.793</td>\n",
       "      <td>2266.0</td>\n",
       "      <td>74.0</td>\n",
       "      <td>0.480</td>\n",
       "      <td>0.058</td>\n",
       "    </tr>\n",
       "    <tr>\n",
       "      <th>4</th>\n",
       "      <td>52.0</td>\n",
       "      <td>F</td>\n",
       "      <td>3</td>\n",
       "      <td>Unknown</td>\n",
       "      <td>Single</td>\n",
       "      <td>Less than $40K</td>\n",
       "      <td>Blue</td>\n",
       "      <td>41</td>\n",
       "      <td>2</td>\n",
       "      <td>3.0</td>\n",
       "      <td>2.0</td>\n",
       "      <td>1438.3</td>\n",
       "      <td>787</td>\n",
       "      <td>651.3</td>\n",
       "      <td>0.601</td>\n",
       "      <td>4956.0</td>\n",
       "      <td>89.0</td>\n",
       "      <td>0.745</td>\n",
       "      <td>0.547</td>\n",
       "    </tr>\n",
       "  </tbody>\n",
       "</table>\n",
       "</div>"
      ],
      "text/plain": [
       "    Age Gender  Dependent_Count   Education Marital_Status          Income  \\\n",
       "0  40.0      M                3    Graduate       Divorced  Less than $40K   \n",
       "1  46.0      F                4  Uneducated        Married  Less than $40K   \n",
       "2  52.0      F                0    Graduate         Single  Less than $40K   \n",
       "3  35.0      M                2  Uneducated         Single     $60K - $80K   \n",
       "4  52.0      F                3     Unknown         Single  Less than $40K   \n",
       "\n",
       "  Card_Category  Months_On_Book  Total_Relationship_Count  Months_Inactive  \\\n",
       "0        Silver              36                         1              3.0   \n",
       "1        Silver              36                         3              1.0   \n",
       "2          Blue              36                         5              1.0   \n",
       "3          Blue              30                         6              3.0   \n",
       "4          Blue              41                         2              3.0   \n",
       "\n",
       "   Contacts_Count  Credit_Limit  Total_Revolving_Bal  Avg_Open_To_Buy  \\\n",
       "0             2.0       11409.0                 1658           9751.0   \n",
       "1             4.0       10961.0                 1391           9570.0   \n",
       "2             2.0        2537.0                 1097           1440.0   \n",
       "3             3.0       21695.0                 1257          20438.0   \n",
       "4             2.0        1438.3                  787            651.3   \n",
       "\n",
       "   Total_Amt_Chng_Q4_Q1  Total_Trans_Amt  Total_Trans_Ct  Total_Ct_Chng_Q4_Q1  \\\n",
       "0                 0.989           4677.0            58.0                0.706   \n",
       "1                 0.662           3914.0            77.0                0.750   \n",
       "2                 0.874           4964.0            84.0                0.909   \n",
       "3                 0.793           2266.0            74.0                0.480   \n",
       "4                 0.601           4956.0            89.0                0.745   \n",
       "\n",
       "   Avg_Utilization_Ratio  \n",
       "0                  0.145  \n",
       "1                  0.127  \n",
       "2                  0.432  \n",
       "3                  0.058  \n",
       "4                  0.547  "
      ]
     },
     "execution_count": 11,
     "metadata": {},
     "output_type": "execute_result"
    }
   ],
   "source": [
    "X_train.head()"
   ]
  },
  {
   "cell_type": "code",
   "execution_count": 12,
   "metadata": {},
   "outputs": [
    {
     "data": {
      "text/plain": [
       "0    0\n",
       "1    0\n",
       "2    0\n",
       "3    0\n",
       "4    0\n",
       "Name: Attrition_Flag, dtype: int64"
      ]
     },
     "execution_count": 12,
     "metadata": {},
     "output_type": "execute_result"
    }
   ],
   "source": [
    "y_train.head()"
   ]
  },
  {
   "cell_type": "markdown",
   "metadata": {},
   "source": [
    "## 4. Separetaing numeric and categorical columns of X_train and X_test dataframe for scaling and one hot encoding"
   ]
  },
  {
   "cell_type": "code",
   "execution_count": 13,
   "metadata": {},
   "outputs": [],
   "source": [
    "# Creating two dataframe for numeric and categorical columns\n",
    "X_train_numeric = X_train[X_train.select_dtypes('number').columns]\n",
    "X_train_categorical = X_train[X_train.select_dtypes('object').columns]"
   ]
  },
  {
   "cell_type": "code",
   "execution_count": 14,
   "metadata": {},
   "outputs": [],
   "source": [
    "X_test_numeric = X_test[X_test.select_dtypes('number').columns]\n",
    "X_test_categorical = X_test[X_test.select_dtypes('object').columns]"
   ]
  },
  {
   "cell_type": "code",
   "execution_count": 15,
   "metadata": {},
   "outputs": [
    {
     "data": {
      "text/html": [
       "<div>\n",
       "<style scoped>\n",
       "    .dataframe tbody tr th:only-of-type {\n",
       "        vertical-align: middle;\n",
       "    }\n",
       "\n",
       "    .dataframe tbody tr th {\n",
       "        vertical-align: top;\n",
       "    }\n",
       "\n",
       "    .dataframe thead th {\n",
       "        text-align: right;\n",
       "    }\n",
       "</style>\n",
       "<table border=\"1\" class=\"dataframe\">\n",
       "  <thead>\n",
       "    <tr style=\"text-align: right;\">\n",
       "      <th></th>\n",
       "      <th>Age</th>\n",
       "      <th>Dependent_Count</th>\n",
       "      <th>Months_On_Book</th>\n",
       "      <th>Total_Relationship_Count</th>\n",
       "      <th>Months_Inactive</th>\n",
       "      <th>Contacts_Count</th>\n",
       "      <th>Credit_Limit</th>\n",
       "      <th>Total_Revolving_Bal</th>\n",
       "      <th>Avg_Open_To_Buy</th>\n",
       "      <th>Total_Amt_Chng_Q4_Q1</th>\n",
       "      <th>Total_Trans_Amt</th>\n",
       "      <th>Total_Trans_Ct</th>\n",
       "      <th>Total_Ct_Chng_Q4_Q1</th>\n",
       "      <th>Avg_Utilization_Ratio</th>\n",
       "    </tr>\n",
       "  </thead>\n",
       "  <tbody>\n",
       "    <tr>\n",
       "      <th>0</th>\n",
       "      <td>40.0</td>\n",
       "      <td>3</td>\n",
       "      <td>36</td>\n",
       "      <td>1</td>\n",
       "      <td>3.0</td>\n",
       "      <td>2.0</td>\n",
       "      <td>11409.0</td>\n",
       "      <td>1658</td>\n",
       "      <td>9751.0</td>\n",
       "      <td>0.989</td>\n",
       "      <td>4677.0</td>\n",
       "      <td>58.0</td>\n",
       "      <td>0.706</td>\n",
       "      <td>0.145</td>\n",
       "    </tr>\n",
       "    <tr>\n",
       "      <th>1</th>\n",
       "      <td>46.0</td>\n",
       "      <td>4</td>\n",
       "      <td>36</td>\n",
       "      <td>3</td>\n",
       "      <td>1.0</td>\n",
       "      <td>4.0</td>\n",
       "      <td>10961.0</td>\n",
       "      <td>1391</td>\n",
       "      <td>9570.0</td>\n",
       "      <td>0.662</td>\n",
       "      <td>3914.0</td>\n",
       "      <td>77.0</td>\n",
       "      <td>0.750</td>\n",
       "      <td>0.127</td>\n",
       "    </tr>\n",
       "    <tr>\n",
       "      <th>2</th>\n",
       "      <td>52.0</td>\n",
       "      <td>0</td>\n",
       "      <td>36</td>\n",
       "      <td>5</td>\n",
       "      <td>1.0</td>\n",
       "      <td>2.0</td>\n",
       "      <td>2537.0</td>\n",
       "      <td>1097</td>\n",
       "      <td>1440.0</td>\n",
       "      <td>0.874</td>\n",
       "      <td>4964.0</td>\n",
       "      <td>84.0</td>\n",
       "      <td>0.909</td>\n",
       "      <td>0.432</td>\n",
       "    </tr>\n",
       "    <tr>\n",
       "      <th>3</th>\n",
       "      <td>35.0</td>\n",
       "      <td>2</td>\n",
       "      <td>30</td>\n",
       "      <td>6</td>\n",
       "      <td>3.0</td>\n",
       "      <td>3.0</td>\n",
       "      <td>21695.0</td>\n",
       "      <td>1257</td>\n",
       "      <td>20438.0</td>\n",
       "      <td>0.793</td>\n",
       "      <td>2266.0</td>\n",
       "      <td>74.0</td>\n",
       "      <td>0.480</td>\n",
       "      <td>0.058</td>\n",
       "    </tr>\n",
       "    <tr>\n",
       "      <th>4</th>\n",
       "      <td>52.0</td>\n",
       "      <td>3</td>\n",
       "      <td>41</td>\n",
       "      <td>2</td>\n",
       "      <td>3.0</td>\n",
       "      <td>2.0</td>\n",
       "      <td>1438.3</td>\n",
       "      <td>787</td>\n",
       "      <td>651.3</td>\n",
       "      <td>0.601</td>\n",
       "      <td>4956.0</td>\n",
       "      <td>89.0</td>\n",
       "      <td>0.745</td>\n",
       "      <td>0.547</td>\n",
       "    </tr>\n",
       "  </tbody>\n",
       "</table>\n",
       "</div>"
      ],
      "text/plain": [
       "    Age  Dependent_Count  Months_On_Book  Total_Relationship_Count  \\\n",
       "0  40.0                3              36                         1   \n",
       "1  46.0                4              36                         3   \n",
       "2  52.0                0              36                         5   \n",
       "3  35.0                2              30                         6   \n",
       "4  52.0                3              41                         2   \n",
       "\n",
       "   Months_Inactive  Contacts_Count  Credit_Limit  Total_Revolving_Bal  \\\n",
       "0              3.0             2.0       11409.0                 1658   \n",
       "1              1.0             4.0       10961.0                 1391   \n",
       "2              1.0             2.0        2537.0                 1097   \n",
       "3              3.0             3.0       21695.0                 1257   \n",
       "4              3.0             2.0        1438.3                  787   \n",
       "\n",
       "   Avg_Open_To_Buy  Total_Amt_Chng_Q4_Q1  Total_Trans_Amt  Total_Trans_Ct  \\\n",
       "0           9751.0                 0.989           4677.0            58.0   \n",
       "1           9570.0                 0.662           3914.0            77.0   \n",
       "2           1440.0                 0.874           4964.0            84.0   \n",
       "3          20438.0                 0.793           2266.0            74.0   \n",
       "4            651.3                 0.601           4956.0            89.0   \n",
       "\n",
       "   Total_Ct_Chng_Q4_Q1  Avg_Utilization_Ratio  \n",
       "0                0.706                  0.145  \n",
       "1                0.750                  0.127  \n",
       "2                0.909                  0.432  \n",
       "3                0.480                  0.058  \n",
       "4                0.745                  0.547  "
      ]
     },
     "execution_count": 15,
     "metadata": {},
     "output_type": "execute_result"
    }
   ],
   "source": [
    "X_train_numeric.head()"
   ]
  },
  {
   "cell_type": "code",
   "execution_count": 16,
   "metadata": {},
   "outputs": [
    {
     "data": {
      "text/html": [
       "<div>\n",
       "<style scoped>\n",
       "    .dataframe tbody tr th:only-of-type {\n",
       "        vertical-align: middle;\n",
       "    }\n",
       "\n",
       "    .dataframe tbody tr th {\n",
       "        vertical-align: top;\n",
       "    }\n",
       "\n",
       "    .dataframe thead th {\n",
       "        text-align: right;\n",
       "    }\n",
       "</style>\n",
       "<table border=\"1\" class=\"dataframe\">\n",
       "  <thead>\n",
       "    <tr style=\"text-align: right;\">\n",
       "      <th></th>\n",
       "      <th>Gender</th>\n",
       "      <th>Education</th>\n",
       "      <th>Marital_Status</th>\n",
       "      <th>Income</th>\n",
       "      <th>Card_Category</th>\n",
       "    </tr>\n",
       "  </thead>\n",
       "  <tbody>\n",
       "    <tr>\n",
       "      <th>0</th>\n",
       "      <td>M</td>\n",
       "      <td>Graduate</td>\n",
       "      <td>Divorced</td>\n",
       "      <td>Less than $40K</td>\n",
       "      <td>Silver</td>\n",
       "    </tr>\n",
       "    <tr>\n",
       "      <th>1</th>\n",
       "      <td>F</td>\n",
       "      <td>Uneducated</td>\n",
       "      <td>Married</td>\n",
       "      <td>Less than $40K</td>\n",
       "      <td>Silver</td>\n",
       "    </tr>\n",
       "    <tr>\n",
       "      <th>2</th>\n",
       "      <td>F</td>\n",
       "      <td>Graduate</td>\n",
       "      <td>Single</td>\n",
       "      <td>Less than $40K</td>\n",
       "      <td>Blue</td>\n",
       "    </tr>\n",
       "    <tr>\n",
       "      <th>3</th>\n",
       "      <td>M</td>\n",
       "      <td>Uneducated</td>\n",
       "      <td>Single</td>\n",
       "      <td>$60K - $80K</td>\n",
       "      <td>Blue</td>\n",
       "    </tr>\n",
       "    <tr>\n",
       "      <th>4</th>\n",
       "      <td>F</td>\n",
       "      <td>Unknown</td>\n",
       "      <td>Single</td>\n",
       "      <td>Less than $40K</td>\n",
       "      <td>Blue</td>\n",
       "    </tr>\n",
       "  </tbody>\n",
       "</table>\n",
       "</div>"
      ],
      "text/plain": [
       "  Gender   Education Marital_Status          Income Card_Category\n",
       "0      M    Graduate       Divorced  Less than $40K        Silver\n",
       "1      F  Uneducated        Married  Less than $40K        Silver\n",
       "2      F    Graduate         Single  Less than $40K          Blue\n",
       "3      M  Uneducated         Single     $60K - $80K          Blue\n",
       "4      F     Unknown         Single  Less than $40K          Blue"
      ]
     },
     "execution_count": 16,
     "metadata": {},
     "output_type": "execute_result"
    }
   ],
   "source": [
    "X_train_categorical.head()"
   ]
  },
  {
   "cell_type": "markdown",
   "metadata": {},
   "source": [
    "## 5. Scaling the numeric columns of the X_train and X_test dataframe"
   ]
  },
  {
   "cell_type": "code",
   "execution_count": 17,
   "metadata": {},
   "outputs": [],
   "source": [
    "# Standard scaling to numerical columns\n",
    "scaler = StandardScaler()"
   ]
  },
  {
   "cell_type": "code",
   "execution_count": 18,
   "metadata": {},
   "outputs": [],
   "source": [
    "X_train_scaled_numeric = pd.DataFrame(scaler.fit_transform(X_train_numeric), columns=X_train_numeric.columns)\n",
    "X_test_scaled_numeric = pd.DataFrame(scaler.fit_transform(X_test_numeric), columns=X_test_numeric.columns)"
   ]
  },
  {
   "cell_type": "code",
   "execution_count": 19,
   "metadata": {},
   "outputs": [
    {
     "data": {
      "text/html": [
       "<div>\n",
       "<style scoped>\n",
       "    .dataframe tbody tr th:only-of-type {\n",
       "        vertical-align: middle;\n",
       "    }\n",
       "\n",
       "    .dataframe tbody tr th {\n",
       "        vertical-align: top;\n",
       "    }\n",
       "\n",
       "    .dataframe thead th {\n",
       "        text-align: right;\n",
       "    }\n",
       "</style>\n",
       "<table border=\"1\" class=\"dataframe\">\n",
       "  <thead>\n",
       "    <tr style=\"text-align: right;\">\n",
       "      <th></th>\n",
       "      <th>Age</th>\n",
       "      <th>Dependent_Count</th>\n",
       "      <th>Months_On_Book</th>\n",
       "      <th>Total_Relationship_Count</th>\n",
       "      <th>Months_Inactive</th>\n",
       "      <th>Contacts_Count</th>\n",
       "      <th>Credit_Limit</th>\n",
       "      <th>Total_Revolving_Bal</th>\n",
       "      <th>Avg_Open_To_Buy</th>\n",
       "      <th>Total_Amt_Chng_Q4_Q1</th>\n",
       "      <th>Total_Trans_Amt</th>\n",
       "      <th>Total_Trans_Ct</th>\n",
       "      <th>Total_Ct_Chng_Q4_Q1</th>\n",
       "      <th>Avg_Utilization_Ratio</th>\n",
       "    </tr>\n",
       "  </thead>\n",
       "  <tbody>\n",
       "    <tr>\n",
       "      <th>0</th>\n",
       "      <td>-0.791543</td>\n",
       "      <td>0.498352</td>\n",
       "      <td>0.002708</td>\n",
       "      <td>-1.841984</td>\n",
       "      <td>0.745299</td>\n",
       "      <td>-0.415160</td>\n",
       "      <td>0.324106</td>\n",
       "      <td>0.617387</td>\n",
       "      <td>0.267968</td>\n",
       "      <td>1.339053</td>\n",
       "      <td>0.244997</td>\n",
       "      <td>-0.264551</td>\n",
       "      <td>0.056721</td>\n",
       "      <td>-0.480486</td>\n",
       "    </tr>\n",
       "    <tr>\n",
       "      <th>1</th>\n",
       "      <td>-0.037350</td>\n",
       "      <td>1.269124</td>\n",
       "      <td>0.002708</td>\n",
       "      <td>-0.550727</td>\n",
       "      <td>-1.400375</td>\n",
       "      <td>1.442415</td>\n",
       "      <td>0.274543</td>\n",
       "      <td>0.291116</td>\n",
       "      <td>0.247961</td>\n",
       "      <td>-0.444369</td>\n",
       "      <td>-0.043189</td>\n",
       "      <td>0.611758</td>\n",
       "      <td>0.276500</td>\n",
       "      <td>-0.545072</td>\n",
       "    </tr>\n",
       "    <tr>\n",
       "      <th>2</th>\n",
       "      <td>0.716844</td>\n",
       "      <td>-1.813965</td>\n",
       "      <td>0.002708</td>\n",
       "      <td>0.740530</td>\n",
       "      <td>-1.400375</td>\n",
       "      <td>-0.415160</td>\n",
       "      <td>-0.657427</td>\n",
       "      <td>-0.068149</td>\n",
       "      <td>-0.650666</td>\n",
       "      <td>0.711856</td>\n",
       "      <td>0.353397</td>\n",
       "      <td>0.934609</td>\n",
       "      <td>1.070698</td>\n",
       "      <td>0.549300</td>\n",
       "    </tr>\n",
       "    <tr>\n",
       "      <th>3</th>\n",
       "      <td>-1.420038</td>\n",
       "      <td>-0.272420</td>\n",
       "      <td>-0.753447</td>\n",
       "      <td>1.386159</td>\n",
       "      <td>0.745299</td>\n",
       "      <td>0.513627</td>\n",
       "      <td>1.462074</td>\n",
       "      <td>0.127369</td>\n",
       "      <td>1.449226</td>\n",
       "      <td>0.270090</td>\n",
       "      <td>-0.665639</td>\n",
       "      <td>0.473394</td>\n",
       "      <td>-1.072140</td>\n",
       "      <td>-0.792651</td>\n",
       "    </tr>\n",
       "    <tr>\n",
       "      <th>4</th>\n",
       "      <td>0.716844</td>\n",
       "      <td>0.498352</td>\n",
       "      <td>0.632838</td>\n",
       "      <td>-1.196355</td>\n",
       "      <td>0.745299</td>\n",
       "      <td>-0.415160</td>\n",
       "      <td>-0.778979</td>\n",
       "      <td>-0.446965</td>\n",
       "      <td>-0.737843</td>\n",
       "      <td>-0.777057</td>\n",
       "      <td>0.350375</td>\n",
       "      <td>1.165217</td>\n",
       "      <td>0.251525</td>\n",
       "      <td>0.961932</td>\n",
       "    </tr>\n",
       "  </tbody>\n",
       "</table>\n",
       "</div>"
      ],
      "text/plain": [
       "        Age  Dependent_Count  Months_On_Book  Total_Relationship_Count  \\\n",
       "0 -0.791543         0.498352        0.002708                 -1.841984   \n",
       "1 -0.037350         1.269124        0.002708                 -0.550727   \n",
       "2  0.716844        -1.813965        0.002708                  0.740530   \n",
       "3 -1.420038        -0.272420       -0.753447                  1.386159   \n",
       "4  0.716844         0.498352        0.632838                 -1.196355   \n",
       "\n",
       "   Months_Inactive  Contacts_Count  Credit_Limit  Total_Revolving_Bal  \\\n",
       "0         0.745299       -0.415160      0.324106             0.617387   \n",
       "1        -1.400375        1.442415      0.274543             0.291116   \n",
       "2        -1.400375       -0.415160     -0.657427            -0.068149   \n",
       "3         0.745299        0.513627      1.462074             0.127369   \n",
       "4         0.745299       -0.415160     -0.778979            -0.446965   \n",
       "\n",
       "   Avg_Open_To_Buy  Total_Amt_Chng_Q4_Q1  Total_Trans_Amt  Total_Trans_Ct  \\\n",
       "0         0.267968              1.339053         0.244997       -0.264551   \n",
       "1         0.247961             -0.444369        -0.043189        0.611758   \n",
       "2        -0.650666              0.711856         0.353397        0.934609   \n",
       "3         1.449226              0.270090        -0.665639        0.473394   \n",
       "4        -0.737843             -0.777057         0.350375        1.165217   \n",
       "\n",
       "   Total_Ct_Chng_Q4_Q1  Avg_Utilization_Ratio  \n",
       "0             0.056721              -0.480486  \n",
       "1             0.276500              -0.545072  \n",
       "2             1.070698               0.549300  \n",
       "3            -1.072140              -0.792651  \n",
       "4             0.251525               0.961932  "
      ]
     },
     "execution_count": 19,
     "metadata": {},
     "output_type": "execute_result"
    }
   ],
   "source": [
    "X_train_scaled_numeric.head()"
   ]
  },
  {
   "cell_type": "code",
   "execution_count": 20,
   "metadata": {},
   "outputs": [
    {
     "data": {
      "text/plain": [
       "(2327, 14)"
      ]
     },
     "execution_count": 20,
     "metadata": {},
     "output_type": "execute_result"
    }
   ],
   "source": [
    "X_test_scaled_numeric.shape"
   ]
  },
  {
   "cell_type": "markdown",
   "metadata": {},
   "source": [
    "## 6. Merging the scaled numeric columns with categorical columns"
   ]
  },
  {
   "cell_type": "code",
   "execution_count": 21,
   "metadata": {},
   "outputs": [],
   "source": [
    "# Merging encoded categorical dataframe and scaled numerical dataframe to one \n",
    "X_train = pd.concat([X_train_scaled_numeric, X_train_categorical], axis=1)\n",
    "X_test = pd.concat([X_test_scaled_numeric, X_test_categorical], axis=1)"
   ]
  },
  {
   "cell_type": "code",
   "execution_count": 22,
   "metadata": {},
   "outputs": [],
   "source": [
    "# X_train = pd.merge(X_train_scaled_numeric, X_train_categorical, left_index=True, right_index=True)\n",
    "# X_test = pd.merge(X_test_scaled_numeric, X_test_categorical, left_index=True, right_index=True)"
   ]
  },
  {
   "cell_type": "code",
   "execution_count": 23,
   "metadata": {},
   "outputs": [
    {
     "data": {
      "text/plain": [
       "(6980, 19)"
      ]
     },
     "execution_count": 23,
     "metadata": {},
     "output_type": "execute_result"
    }
   ],
   "source": [
    "X_train.shape"
   ]
  },
  {
   "cell_type": "markdown",
   "metadata": {},
   "source": [
    "## 7. Encoding Categorical columns"
   ]
  },
  {
   "cell_type": "code",
   "execution_count": 24,
   "metadata": {},
   "outputs": [],
   "source": [
    "# Encoding Categorical Columns\n",
    "X_train = pd.get_dummies(X_train, drop_first=True)"
   ]
  },
  {
   "cell_type": "code",
   "execution_count": 25,
   "metadata": {},
   "outputs": [],
   "source": [
    "X_test = pd.get_dummies(X_test, drop_first=True)"
   ]
  },
  {
   "cell_type": "code",
   "execution_count": 26,
   "metadata": {
    "scrolled": true
   },
   "outputs": [
    {
     "data": {
      "text/html": [
       "<div>\n",
       "<style scoped>\n",
       "    .dataframe tbody tr th:only-of-type {\n",
       "        vertical-align: middle;\n",
       "    }\n",
       "\n",
       "    .dataframe tbody tr th {\n",
       "        vertical-align: top;\n",
       "    }\n",
       "\n",
       "    .dataframe thead th {\n",
       "        text-align: right;\n",
       "    }\n",
       "</style>\n",
       "<table border=\"1\" class=\"dataframe\">\n",
       "  <thead>\n",
       "    <tr style=\"text-align: right;\">\n",
       "      <th></th>\n",
       "      <th>Age</th>\n",
       "      <th>Dependent_Count</th>\n",
       "      <th>Months_On_Book</th>\n",
       "      <th>Total_Relationship_Count</th>\n",
       "      <th>Months_Inactive</th>\n",
       "      <th>Contacts_Count</th>\n",
       "      <th>Credit_Limit</th>\n",
       "      <th>Total_Revolving_Bal</th>\n",
       "      <th>Avg_Open_To_Buy</th>\n",
       "      <th>Total_Amt_Chng_Q4_Q1</th>\n",
       "      <th>...</th>\n",
       "      <th>Marital_Status_Single</th>\n",
       "      <th>Marital_Status_Unknown</th>\n",
       "      <th>Income_$40K - $60K</th>\n",
       "      <th>Income_$60K - $80K</th>\n",
       "      <th>Income_$80K - $120K</th>\n",
       "      <th>Income_Less than $40K</th>\n",
       "      <th>Income_Unknown</th>\n",
       "      <th>Card_Category_Gold</th>\n",
       "      <th>Card_Category_Platinum</th>\n",
       "      <th>Card_Category_Silver</th>\n",
       "    </tr>\n",
       "  </thead>\n",
       "  <tbody>\n",
       "    <tr>\n",
       "      <th>0</th>\n",
       "      <td>-0.791543</td>\n",
       "      <td>0.498352</td>\n",
       "      <td>0.002708</td>\n",
       "      <td>-1.841984</td>\n",
       "      <td>0.745299</td>\n",
       "      <td>-0.415160</td>\n",
       "      <td>0.324106</td>\n",
       "      <td>0.617387</td>\n",
       "      <td>0.267968</td>\n",
       "      <td>1.339053</td>\n",
       "      <td>...</td>\n",
       "      <td>0</td>\n",
       "      <td>0</td>\n",
       "      <td>0</td>\n",
       "      <td>0</td>\n",
       "      <td>0</td>\n",
       "      <td>1</td>\n",
       "      <td>0</td>\n",
       "      <td>0</td>\n",
       "      <td>0</td>\n",
       "      <td>1</td>\n",
       "    </tr>\n",
       "    <tr>\n",
       "      <th>1</th>\n",
       "      <td>-0.037350</td>\n",
       "      <td>1.269124</td>\n",
       "      <td>0.002708</td>\n",
       "      <td>-0.550727</td>\n",
       "      <td>-1.400375</td>\n",
       "      <td>1.442415</td>\n",
       "      <td>0.274543</td>\n",
       "      <td>0.291116</td>\n",
       "      <td>0.247961</td>\n",
       "      <td>-0.444369</td>\n",
       "      <td>...</td>\n",
       "      <td>0</td>\n",
       "      <td>0</td>\n",
       "      <td>0</td>\n",
       "      <td>0</td>\n",
       "      <td>0</td>\n",
       "      <td>1</td>\n",
       "      <td>0</td>\n",
       "      <td>0</td>\n",
       "      <td>0</td>\n",
       "      <td>1</td>\n",
       "    </tr>\n",
       "    <tr>\n",
       "      <th>2</th>\n",
       "      <td>0.716844</td>\n",
       "      <td>-1.813965</td>\n",
       "      <td>0.002708</td>\n",
       "      <td>0.740530</td>\n",
       "      <td>-1.400375</td>\n",
       "      <td>-0.415160</td>\n",
       "      <td>-0.657427</td>\n",
       "      <td>-0.068149</td>\n",
       "      <td>-0.650666</td>\n",
       "      <td>0.711856</td>\n",
       "      <td>...</td>\n",
       "      <td>1</td>\n",
       "      <td>0</td>\n",
       "      <td>0</td>\n",
       "      <td>0</td>\n",
       "      <td>0</td>\n",
       "      <td>1</td>\n",
       "      <td>0</td>\n",
       "      <td>0</td>\n",
       "      <td>0</td>\n",
       "      <td>0</td>\n",
       "    </tr>\n",
       "    <tr>\n",
       "      <th>3</th>\n",
       "      <td>-1.420038</td>\n",
       "      <td>-0.272420</td>\n",
       "      <td>-0.753447</td>\n",
       "      <td>1.386159</td>\n",
       "      <td>0.745299</td>\n",
       "      <td>0.513627</td>\n",
       "      <td>1.462074</td>\n",
       "      <td>0.127369</td>\n",
       "      <td>1.449226</td>\n",
       "      <td>0.270090</td>\n",
       "      <td>...</td>\n",
       "      <td>1</td>\n",
       "      <td>0</td>\n",
       "      <td>0</td>\n",
       "      <td>1</td>\n",
       "      <td>0</td>\n",
       "      <td>0</td>\n",
       "      <td>0</td>\n",
       "      <td>0</td>\n",
       "      <td>0</td>\n",
       "      <td>0</td>\n",
       "    </tr>\n",
       "    <tr>\n",
       "      <th>4</th>\n",
       "      <td>0.716844</td>\n",
       "      <td>0.498352</td>\n",
       "      <td>0.632838</td>\n",
       "      <td>-1.196355</td>\n",
       "      <td>0.745299</td>\n",
       "      <td>-0.415160</td>\n",
       "      <td>-0.778979</td>\n",
       "      <td>-0.446965</td>\n",
       "      <td>-0.737843</td>\n",
       "      <td>-0.777057</td>\n",
       "      <td>...</td>\n",
       "      <td>1</td>\n",
       "      <td>0</td>\n",
       "      <td>0</td>\n",
       "      <td>0</td>\n",
       "      <td>0</td>\n",
       "      <td>1</td>\n",
       "      <td>0</td>\n",
       "      <td>0</td>\n",
       "      <td>0</td>\n",
       "      <td>0</td>\n",
       "    </tr>\n",
       "  </tbody>\n",
       "</table>\n",
       "<p>5 rows × 32 columns</p>\n",
       "</div>"
      ],
      "text/plain": [
       "        Age  Dependent_Count  Months_On_Book  Total_Relationship_Count  \\\n",
       "0 -0.791543         0.498352        0.002708                 -1.841984   \n",
       "1 -0.037350         1.269124        0.002708                 -0.550727   \n",
       "2  0.716844        -1.813965        0.002708                  0.740530   \n",
       "3 -1.420038        -0.272420       -0.753447                  1.386159   \n",
       "4  0.716844         0.498352        0.632838                 -1.196355   \n",
       "\n",
       "   Months_Inactive  Contacts_Count  Credit_Limit  Total_Revolving_Bal  \\\n",
       "0         0.745299       -0.415160      0.324106             0.617387   \n",
       "1        -1.400375        1.442415      0.274543             0.291116   \n",
       "2        -1.400375       -0.415160     -0.657427            -0.068149   \n",
       "3         0.745299        0.513627      1.462074             0.127369   \n",
       "4         0.745299       -0.415160     -0.778979            -0.446965   \n",
       "\n",
       "   Avg_Open_To_Buy  Total_Amt_Chng_Q4_Q1  ...  Marital_Status_Single  \\\n",
       "0         0.267968              1.339053  ...                      0   \n",
       "1         0.247961             -0.444369  ...                      0   \n",
       "2        -0.650666              0.711856  ...                      1   \n",
       "3         1.449226              0.270090  ...                      1   \n",
       "4        -0.737843             -0.777057  ...                      1   \n",
       "\n",
       "   Marital_Status_Unknown  Income_$40K - $60K  Income_$60K - $80K  \\\n",
       "0                       0                   0                   0   \n",
       "1                       0                   0                   0   \n",
       "2                       0                   0                   0   \n",
       "3                       0                   0                   1   \n",
       "4                       0                   0                   0   \n",
       "\n",
       "   Income_$80K - $120K  Income_Less than $40K  Income_Unknown  \\\n",
       "0                    0                      1               0   \n",
       "1                    0                      1               0   \n",
       "2                    0                      1               0   \n",
       "3                    0                      0               0   \n",
       "4                    0                      1               0   \n",
       "\n",
       "   Card_Category_Gold  Card_Category_Platinum  Card_Category_Silver  \n",
       "0                   0                       0                     1  \n",
       "1                   0                       0                     1  \n",
       "2                   0                       0                     0  \n",
       "3                   0                       0                     0  \n",
       "4                   0                       0                     0  \n",
       "\n",
       "[5 rows x 32 columns]"
      ]
     },
     "execution_count": 26,
     "metadata": {},
     "output_type": "execute_result"
    }
   ],
   "source": [
    "X_train.head()"
   ]
  },
  {
   "cell_type": "code",
   "execution_count": 27,
   "metadata": {},
   "outputs": [
    {
     "data": {
      "text/plain": [
       "(6980, 32)"
      ]
     },
     "execution_count": 27,
     "metadata": {},
     "output_type": "execute_result"
    }
   ],
   "source": [
    "X_train.shape"
   ]
  },
  {
   "cell_type": "code",
   "execution_count": 28,
   "metadata": {},
   "outputs": [
    {
     "data": {
      "text/plain": [
       "(2327, 32)"
      ]
     },
     "execution_count": 28,
     "metadata": {},
     "output_type": "execute_result"
    }
   ],
   "source": [
    "X_test.shape"
   ]
  },
  {
   "cell_type": "code",
   "execution_count": 29,
   "metadata": {},
   "outputs": [
    {
     "data": {
      "text/plain": [
       "(6980,)"
      ]
     },
     "execution_count": 29,
     "metadata": {},
     "output_type": "execute_result"
    }
   ],
   "source": [
    "y_train.shape"
   ]
  },
  {
   "cell_type": "code",
   "execution_count": 30,
   "metadata": {},
   "outputs": [
    {
     "data": {
      "text/plain": [
       "(2327,)"
      ]
     },
     "execution_count": 30,
     "metadata": {},
     "output_type": "execute_result"
    }
   ],
   "source": [
    "y_test.shape"
   ]
  },
  {
   "cell_type": "markdown",
   "metadata": {},
   "source": [
    "## 8. Save the final dataframes for modeling"
   ]
  },
  {
   "cell_type": "code",
   "execution_count": 31,
   "metadata": {},
   "outputs": [],
   "source": [
    "X_train.to_csv('X_train_copy.csv')\n",
    "X_test.to_csv('X_test_copy.csv')\n",
    "y_train.to_csv('y_train_copy.csv')\n",
    "y_test.to_csv('y_test_copy.csv')"
   ]
  }
 ],
 "metadata": {
  "kernelspec": {
   "display_name": "Python 3",
   "language": "python",
   "name": "python3"
  },
  "language_info": {
   "codemirror_mode": {
    "name": "ipython",
    "version": 3
   },
   "file_extension": ".py",
   "mimetype": "text/x-python",
   "name": "python",
   "nbconvert_exporter": "python",
   "pygments_lexer": "ipython3",
   "version": "3.8.5"
  }
 },
 "nbformat": 4,
 "nbformat_minor": 4
}
