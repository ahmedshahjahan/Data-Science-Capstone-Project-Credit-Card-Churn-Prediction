{
 "cells": [
  {
   "cell_type": "markdown",
   "metadata": {},
   "source": [
    "# Capstone Project Two (Data Wrangling)"
   ]
  },
  {
   "cell_type": "markdown",
   "metadata": {},
   "source": [
    "## 1. Importing libraries and load the data"
   ]
  },
  {
   "cell_type": "code",
   "execution_count": 1,
   "metadata": {},
   "outputs": [],
   "source": [
    "# Importing all required libraries\n",
    "import numpy as np\n",
    "import pandas as pd\n",
    "import matplotlib.pyplot as plt\n",
    "import seaborn as sns\n",
    "from pandas_profiling import ProfileReport\n",
    "import os\n",
    "from scipy import stats"
   ]
  },
  {
   "cell_type": "code",
   "execution_count": 5,
   "metadata": {},
   "outputs": [
    {
     "name": "stdout",
     "output_type": "stream",
     "text": [
      " Volume in drive C is Windows-SSD\n",
      " Volume Serial Number is D29F-5F7B\n",
      "\n",
      " Directory of C:\\Users\\shaja\\Desktop\\Springboard Projects\\Data-Science-Capstone-Project-Credit-Card-Churn-Prediction\\Notebook\n",
      "\n"
     ]
    },
    {
     "name": "stderr",
     "output_type": "stream",
     "text": [
      "File Not Found\n"
     ]
    }
   ],
   "source": [
    "ls -a"
   ]
  },
  {
   "cell_type": "code",
   "execution_count": 2,
   "metadata": {},
   "outputs": [
    {
     "data": {
      "text/html": [
       "<div>\n",
       "<style scoped>\n",
       "    .dataframe tbody tr th:only-of-type {\n",
       "        vertical-align: middle;\n",
       "    }\n",
       "\n",
       "    .dataframe tbody tr th {\n",
       "        vertical-align: top;\n",
       "    }\n",
       "\n",
       "    .dataframe thead th {\n",
       "        text-align: right;\n",
       "    }\n",
       "</style>\n",
       "<table border=\"1\" class=\"dataframe\">\n",
       "  <thead>\n",
       "    <tr style=\"text-align: right;\">\n",
       "      <th></th>\n",
       "      <th>CLIENTNUM</th>\n",
       "      <th>Attrition_Flag</th>\n",
       "      <th>Customer_Age</th>\n",
       "      <th>Gender</th>\n",
       "      <th>Dependent_count</th>\n",
       "      <th>Education_Level</th>\n",
       "      <th>Marital_Status</th>\n",
       "      <th>Income_Category</th>\n",
       "      <th>Card_Category</th>\n",
       "      <th>Months_on_book</th>\n",
       "      <th>...</th>\n",
       "      <th>Months_Inactive_12_mon</th>\n",
       "      <th>Contacts_Count_12_mon</th>\n",
       "      <th>Credit_Limit</th>\n",
       "      <th>Total_Revolving_Bal</th>\n",
       "      <th>Avg_Open_To_Buy</th>\n",
       "      <th>Total_Amt_Chng_Q4_Q1</th>\n",
       "      <th>Total_Trans_Amt</th>\n",
       "      <th>Total_Trans_Ct</th>\n",
       "      <th>Total_Ct_Chng_Q4_Q1</th>\n",
       "      <th>Avg_Utilization_Ratio</th>\n",
       "    </tr>\n",
       "  </thead>\n",
       "  <tbody>\n",
       "    <tr>\n",
       "      <th>0</th>\n",
       "      <td>768805383</td>\n",
       "      <td>Existing Customer</td>\n",
       "      <td>45</td>\n",
       "      <td>M</td>\n",
       "      <td>3.0</td>\n",
       "      <td>High School</td>\n",
       "      <td>Married</td>\n",
       "      <td>$60K - $80K</td>\n",
       "      <td>Blue</td>\n",
       "      <td>39</td>\n",
       "      <td>...</td>\n",
       "      <td>1</td>\n",
       "      <td>3</td>\n",
       "      <td>12691.0</td>\n",
       "      <td>777</td>\n",
       "      <td>11914.0</td>\n",
       "      <td>1.335</td>\n",
       "      <td>1144</td>\n",
       "      <td>42</td>\n",
       "      <td>1.625</td>\n",
       "      <td>0.061</td>\n",
       "    </tr>\n",
       "    <tr>\n",
       "      <th>1</th>\n",
       "      <td>818770008</td>\n",
       "      <td>Existing Customer</td>\n",
       "      <td>49</td>\n",
       "      <td>F</td>\n",
       "      <td>5.0</td>\n",
       "      <td>Graduate</td>\n",
       "      <td>Single</td>\n",
       "      <td>Less than $40K</td>\n",
       "      <td>Blue</td>\n",
       "      <td>44</td>\n",
       "      <td>...</td>\n",
       "      <td>1</td>\n",
       "      <td>2</td>\n",
       "      <td>8256.0</td>\n",
       "      <td>864</td>\n",
       "      <td>7392.0</td>\n",
       "      <td>1.541</td>\n",
       "      <td>1291</td>\n",
       "      <td>33</td>\n",
       "      <td>3.714</td>\n",
       "      <td>0.105</td>\n",
       "    </tr>\n",
       "    <tr>\n",
       "      <th>2</th>\n",
       "      <td>713982108</td>\n",
       "      <td>Existing Customer</td>\n",
       "      <td>51</td>\n",
       "      <td>M</td>\n",
       "      <td>3.0</td>\n",
       "      <td>Graduate</td>\n",
       "      <td>Married</td>\n",
       "      <td>$80K - $120K</td>\n",
       "      <td>Blue</td>\n",
       "      <td>36</td>\n",
       "      <td>...</td>\n",
       "      <td>1</td>\n",
       "      <td>0</td>\n",
       "      <td>3418.0</td>\n",
       "      <td>0</td>\n",
       "      <td>3418.0</td>\n",
       "      <td>2.594</td>\n",
       "      <td>1887</td>\n",
       "      <td>20</td>\n",
       "      <td>2.333</td>\n",
       "      <td>0.000</td>\n",
       "    </tr>\n",
       "    <tr>\n",
       "      <th>3</th>\n",
       "      <td>769911858</td>\n",
       "      <td>Existing Customer</td>\n",
       "      <td>40</td>\n",
       "      <td>F</td>\n",
       "      <td>4.0</td>\n",
       "      <td>High School</td>\n",
       "      <td>Unknown</td>\n",
       "      <td>Less than $40K</td>\n",
       "      <td>Blue</td>\n",
       "      <td>34</td>\n",
       "      <td>...</td>\n",
       "      <td>4</td>\n",
       "      <td>1</td>\n",
       "      <td>3313.0</td>\n",
       "      <td>2517</td>\n",
       "      <td>796.0</td>\n",
       "      <td>1.405</td>\n",
       "      <td>1171</td>\n",
       "      <td>20</td>\n",
       "      <td>2.333</td>\n",
       "      <td>0.760</td>\n",
       "    </tr>\n",
       "    <tr>\n",
       "      <th>4</th>\n",
       "      <td>709106358</td>\n",
       "      <td>Existing Customer</td>\n",
       "      <td>40</td>\n",
       "      <td>M</td>\n",
       "      <td>3.0</td>\n",
       "      <td>Uneducated</td>\n",
       "      <td>Married</td>\n",
       "      <td>$60K - $80K</td>\n",
       "      <td>Blue</td>\n",
       "      <td>21</td>\n",
       "      <td>...</td>\n",
       "      <td>1</td>\n",
       "      <td>0</td>\n",
       "      <td>4716.0</td>\n",
       "      <td>0</td>\n",
       "      <td>4716.0</td>\n",
       "      <td>2.175</td>\n",
       "      <td>816</td>\n",
       "      <td>28</td>\n",
       "      <td>2.500</td>\n",
       "      <td>0.000</td>\n",
       "    </tr>\n",
       "  </tbody>\n",
       "</table>\n",
       "<p>5 rows × 21 columns</p>\n",
       "</div>"
      ],
      "text/plain": [
       "   CLIENTNUM     Attrition_Flag  Customer_Age Gender  Dependent_count  \\\n",
       "0  768805383  Existing Customer            45      M              3.0   \n",
       "1  818770008  Existing Customer            49      F              5.0   \n",
       "2  713982108  Existing Customer            51      M              3.0   \n",
       "3  769911858  Existing Customer            40      F              4.0   \n",
       "4  709106358  Existing Customer            40      M              3.0   \n",
       "\n",
       "  Education_Level Marital_Status Income_Category Card_Category  \\\n",
       "0     High School        Married     $60K - $80K          Blue   \n",
       "1        Graduate         Single  Less than $40K          Blue   \n",
       "2        Graduate        Married    $80K - $120K          Blue   \n",
       "3     High School        Unknown  Less than $40K          Blue   \n",
       "4      Uneducated        Married     $60K - $80K          Blue   \n",
       "\n",
       "   Months_on_book  ...  Months_Inactive_12_mon  Contacts_Count_12_mon  \\\n",
       "0              39  ...                       1                      3   \n",
       "1              44  ...                       1                      2   \n",
       "2              36  ...                       1                      0   \n",
       "3              34  ...                       4                      1   \n",
       "4              21  ...                       1                      0   \n",
       "\n",
       "   Credit_Limit  Total_Revolving_Bal  Avg_Open_To_Buy  Total_Amt_Chng_Q4_Q1  \\\n",
       "0       12691.0                  777          11914.0                 1.335   \n",
       "1        8256.0                  864           7392.0                 1.541   \n",
       "2        3418.0                    0           3418.0                 2.594   \n",
       "3        3313.0                 2517            796.0                 1.405   \n",
       "4        4716.0                    0           4716.0                 2.175   \n",
       "\n",
       "   Total_Trans_Amt  Total_Trans_Ct  Total_Ct_Chng_Q4_Q1  Avg_Utilization_Ratio  \n",
       "0             1144              42                1.625                  0.061  \n",
       "1             1291              33                3.714                  0.105  \n",
       "2             1887              20                2.333                  0.000  \n",
       "3             1171              20                2.333                  0.760  \n",
       "4              816              28                2.500                  0.000  \n",
       "\n",
       "[5 rows x 21 columns]"
      ]
     },
     "execution_count": 2,
     "metadata": {},
     "output_type": "execute_result"
    }
   ],
   "source": [
    "# Load the data\n",
    "df_wrangling = pd.read_csv(\"..\\Dataset\\BankChurners.csv\", index_col=0)\n",
    "df_wrangling.head()"
   ]
  },
  {
   "cell_type": "code",
   "execution_count": 3,
   "metadata": {},
   "outputs": [
    {
     "data": {
      "text/plain": [
       "Index(['CLIENTNUM', 'Attrition_Flag', 'Customer_Age', 'Gender',\n",
       "       'Dependent_count', 'Education_Level', 'Marital_Status',\n",
       "       'Income_Category', 'Card_Category', 'Months_on_book',\n",
       "       'Total_Relationship_Count', 'Months_Inactive_12_mon',\n",
       "       'Contacts_Count_12_mon', 'Credit_Limit', 'Total_Revolving_Bal',\n",
       "       'Avg_Open_To_Buy', 'Total_Amt_Chng_Q4_Q1', 'Total_Trans_Amt',\n",
       "       'Total_Trans_Ct', 'Total_Ct_Chng_Q4_Q1', 'Avg_Utilization_Ratio'],\n",
       "      dtype='object')"
      ]
     },
     "execution_count": 3,
     "metadata": {},
     "output_type": "execute_result"
    }
   ],
   "source": [
    "df_wrangling.columns"
   ]
  },
  {
   "cell_type": "markdown",
   "metadata": {},
   "source": [
    "### Description of Attributes:"
   ]
  },
  {
   "cell_type": "markdown",
   "metadata": {},
   "source": [
    "CLIENTNUM : Client number. Unique identifier for the customer holding the account"
   ]
  },
  {
   "cell_type": "markdown",
   "metadata": {},
   "source": [
    "Attrition_Flag : Internal event (customer activity) variable - if the account is closed then 1 else 0"
   ]
  },
  {
   "cell_type": "markdown",
   "metadata": {},
   "source": [
    "Customer_Age : Demographic variable - Customer's Age in Years"
   ]
  },
  {
   "cell_type": "markdown",
   "metadata": {},
   "source": [
    "Gender : Demographic variable - M=Male, F=Female"
   ]
  },
  {
   "cell_type": "markdown",
   "metadata": {},
   "source": [
    "Dependent_count : Demographic variable - Number of dependents"
   ]
  },
  {
   "cell_type": "markdown",
   "metadata": {},
   "source": [
    "Education_Level : Demographic variable - Educational Qualification of the account holder (example: high school, college graduate, etc.)"
   ]
  },
  {
   "cell_type": "markdown",
   "metadata": {},
   "source": [
    "Marital_Status : Demographic variable - Married, Single, Divorced, Unknown"
   ]
  },
  {
   "cell_type": "markdown",
   "metadata": {},
   "source": [
    "Income_Category : Demographic variable - Annual Income Category of the account holder (<  40K, 40K - 60K,  60K− 80K,  80K− 120K, >"
   ]
  },
  {
   "cell_type": "markdown",
   "metadata": {},
   "source": [
    "Card_Category : Product Variable - Type of Card (Blue, Silver, Gold, Platinum)"
   ]
  },
  {
   "cell_type": "markdown",
   "metadata": {},
   "source": [
    "Months_on_book : Period of relationship with bank"
   ]
  },
  {
   "cell_type": "markdown",
   "metadata": {},
   "source": [
    "Total_Relationship_Count : Total no. of products held by the customer"
   ]
  },
  {
   "cell_type": "markdown",
   "metadata": {},
   "source": [
    "Months_Inactive_12_mon : No. of months inactive in the last 12 months"
   ]
  },
  {
   "cell_type": "markdown",
   "metadata": {},
   "source": [
    "Contacts_Count_12_mon : No. of Contacts in the last 12 months"
   ]
  },
  {
   "cell_type": "markdown",
   "metadata": {},
   "source": [
    "Credit_Limit ; Credit Limit on the Credit Card"
   ]
  },
  {
   "cell_type": "markdown",
   "metadata": {},
   "source": [
    "Total_Revolving_Bal : Total Revolving Balance on the Credit Card"
   ]
  },
  {
   "cell_type": "markdown",
   "metadata": {},
   "source": [
    "Avg_Open_To_Buy : Open to Buy Credit Line (Average of last 12 months)"
   ]
  },
  {
   "cell_type": "markdown",
   "metadata": {},
   "source": [
    "Total_Amt_Chng_Q4_Q1 : Change in Transaction Amount (Q4 over Q1)"
   ]
  },
  {
   "cell_type": "markdown",
   "metadata": {},
   "source": [
    "Total_Trans_Amt : Total Transaction Amount (Last 12 months)"
   ]
  },
  {
   "cell_type": "markdown",
   "metadata": {},
   "source": [
    "Total_Trans_Ct : Total Transaction Count (Last 12 months)"
   ]
  },
  {
   "cell_type": "markdown",
   "metadata": {},
   "source": [
    "Total_Ct_Chng_Q4_Q1 : Change in Transaction Count (Q4 over Q1)"
   ]
  },
  {
   "cell_type": "markdown",
   "metadata": {},
   "source": [
    "Avg_Utilization_Ratio : Average Card Utilization Ratio"
   ]
  },
  {
   "cell_type": "markdown",
   "metadata": {},
   "source": [
    "## 2.  Rename columns"
   ]
  },
  {
   "cell_type": "code",
   "execution_count": 4,
   "metadata": {},
   "outputs": [],
   "source": [
    "# Removing 'CLIENTNUM' column\n",
    "df_wrangling.drop('CLIENTNUM', axis=1, inplace=True)"
   ]
  },
  {
   "cell_type": "code",
   "execution_count": 5,
   "metadata": {},
   "outputs": [
    {
     "data": {
      "text/plain": [
       "Index(['Attrition_Flag', 'Customer_Age', 'Gender', 'Dependent_count',\n",
       "       'Education_Level', 'Marital_Status', 'Income_Category', 'Card_Category',\n",
       "       'Months_on_book', 'Total_Relationship_Count', 'Months_Inactive_12_mon',\n",
       "       'Contacts_Count_12_mon', 'Credit_Limit', 'Total_Revolving_Bal',\n",
       "       'Avg_Open_To_Buy', 'Total_Amt_Chng_Q4_Q1', 'Total_Trans_Amt',\n",
       "       'Total_Trans_Ct', 'Total_Ct_Chng_Q4_Q1', 'Avg_Utilization_Ratio'],\n",
       "      dtype='object')"
      ]
     },
     "execution_count": 5,
     "metadata": {},
     "output_type": "execute_result"
    }
   ],
   "source": [
    "df_wrangling.columns"
   ]
  },
  {
   "cell_type": "code",
   "execution_count": 6,
   "metadata": {},
   "outputs": [],
   "source": [
    "# Rename some columns\n",
    "old_names = df_wrangling.columns\n",
    "new_names = ['Attrition_Flag', 'Age', 'Gender', \n",
    "        'Dependent_Count', 'Education', 'Marital_Status',\n",
    "       'Income', 'Card_Category', 'Months_On_Book',\n",
    "       'Total_Relationship_Count', 'Months_Inactive',\n",
    "       'Contacts_Count', 'Credit_Limit', 'Total_Revolving_Bal',\n",
    "       'Avg_Open_To_Buy', 'Total_Amt_Chng_Q4_Q1', 'Total_Trans_Amt',\n",
    "       'Total_Trans_Ct', 'Total_Ct_Chng_Q4_Q1', 'Avg_Utilization_Ratio']\n",
    "df_wrangling.rename(columns=dict(zip(old_names, new_names)), inplace=True)"
   ]
  },
  {
   "cell_type": "markdown",
   "metadata": {},
   "source": [
    "## 3. Explore the dataset"
   ]
  },
  {
   "cell_type": "code",
   "execution_count": 7,
   "metadata": {},
   "outputs": [
    {
     "data": {
      "text/plain": [
       "(10135, 20)"
      ]
     },
     "execution_count": 7,
     "metadata": {},
     "output_type": "execute_result"
    }
   ],
   "source": [
    "df_wrangling.shape"
   ]
  },
  {
   "cell_type": "code",
   "execution_count": 8,
   "metadata": {},
   "outputs": [
    {
     "data": {
      "text/plain": [
       "Int64Index([    0,     1,     2,     3,     4,     5,     6,     7,     8,\n",
       "                9,\n",
       "            ...\n",
       "            10125, 10126, 10127, 10128, 10129, 10130, 10131, 10132, 10133,\n",
       "            10134],\n",
       "           dtype='int64', length=10135)"
      ]
     },
     "execution_count": 8,
     "metadata": {},
     "output_type": "execute_result"
    }
   ],
   "source": [
    "df_wrangling.index"
   ]
  },
  {
   "cell_type": "code",
   "execution_count": 9,
   "metadata": {},
   "outputs": [
    {
     "data": {
      "text/plain": [
       "Attrition_Flag               object\n",
       "Age                           int64\n",
       "Gender                       object\n",
       "Dependent_Count             float64\n",
       "Education                    object\n",
       "Marital_Status               object\n",
       "Income                       object\n",
       "Card_Category                object\n",
       "Months_On_Book                int64\n",
       "Total_Relationship_Count      int64\n",
       "Months_Inactive               int64\n",
       "Contacts_Count                int64\n",
       "Credit_Limit                float64\n",
       "Total_Revolving_Bal           int64\n",
       "Avg_Open_To_Buy             float64\n",
       "Total_Amt_Chng_Q4_Q1        float64\n",
       "Total_Trans_Amt               int64\n",
       "Total_Trans_Ct                int64\n",
       "Total_Ct_Chng_Q4_Q1         float64\n",
       "Avg_Utilization_Ratio       float64\n",
       "dtype: object"
      ]
     },
     "execution_count": 9,
     "metadata": {},
     "output_type": "execute_result"
    }
   ],
   "source": [
    "# Check the dtypes\n",
    "df_wrangling.dtypes"
   ]
  },
  {
   "cell_type": "code",
   "execution_count": 10,
   "metadata": {},
   "outputs": [
    {
     "data": {
      "image/png": "[encoded data removed]",
      "text/plain": [
       "<Figure size 432x288 with 1 Axes>"
      ]
     },
     "metadata": {},
     "output_type": "display_data"
    }
   ],
   "source": [
    "# data type plot\n",
    "df_wrangling.dtypes.value_counts().plot.pie(explode=[0.05,0.05,0.05],autopct='%1.1f%%',shadow=True)\n",
    "plt.title('Percent Data Types');\n",
    "plt.savefig('..\\Figures\\Pie_Chart.png', dpi=300)"
   ]
  },
  {
   "cell_type": "markdown",
   "metadata": {},
   "source": [
    "## 4. Explore the summary statistics"
   ]
  },
  {
   "cell_type": "code",
   "execution_count": 11,
   "metadata": {},
   "outputs": [
    {
     "name": "stdout",
     "output_type": "stream",
     "text": [
      "<class 'pandas.core.frame.DataFrame'>\n",
      "Int64Index: 10135 entries, 0 to 10134\n",
      "Data columns (total 20 columns):\n",
      " #   Column                    Non-Null Count  Dtype  \n",
      "---  ------                    --------------  -----  \n",
      " 0   Attrition_Flag            10135 non-null  object \n",
      " 1   Age                       10135 non-null  int64  \n",
      " 2   Gender                    10135 non-null  object \n",
      " 3   Dependent_Count           10125 non-null  float64\n",
      " 4   Education                 10135 non-null  object \n",
      " 5   Marital_Status            10135 non-null  object \n",
      " 6   Income                    10135 non-null  object \n",
      " 7   Card_Category             10135 non-null  object \n",
      " 8   Months_On_Book            10135 non-null  int64  \n",
      " 9   Total_Relationship_Count  10135 non-null  int64  \n",
      " 10  Months_Inactive           10135 non-null  int64  \n",
      " 11  Contacts_Count            10135 non-null  int64  \n",
      " 12  Credit_Limit              10135 non-null  float64\n",
      " 13  Total_Revolving_Bal       10135 non-null  int64  \n",
      " 14  Avg_Open_To_Buy           10135 non-null  float64\n",
      " 15  Total_Amt_Chng_Q4_Q1      10135 non-null  float64\n",
      " 16  Total_Trans_Amt           10135 non-null  int64  \n",
      " 17  Total_Trans_Ct            10135 non-null  int64  \n",
      " 18  Total_Ct_Chng_Q4_Q1       10135 non-null  float64\n",
      " 19  Avg_Utilization_Ratio     10135 non-null  float64\n",
      "dtypes: float64(6), int64(8), object(6)\n",
      "memory usage: 1.6+ MB\n"
     ]
    }
   ],
   "source": [
    "# Get the summary of the data\n",
    "df_wrangling.info()"
   ]
  },
  {
   "cell_type": "code",
   "execution_count": 12,
   "metadata": {},
   "outputs": [
    {
     "data": {
      "text/html": [
       "<div>\n",
       "<style scoped>\n",
       "    .dataframe tbody tr th:only-of-type {\n",
       "        vertical-align: middle;\n",
       "    }\n",
       "\n",
       "    .dataframe tbody tr th {\n",
       "        vertical-align: top;\n",
       "    }\n",
       "\n",
       "    .dataframe thead th {\n",
       "        text-align: right;\n",
       "    }\n",
       "</style>\n",
       "<table border=\"1\" class=\"dataframe\">\n",
       "  <thead>\n",
       "    <tr style=\"text-align: right;\">\n",
       "      <th></th>\n",
       "      <th>Attrition_Flag</th>\n",
       "      <th>Age</th>\n",
       "      <th>Gender</th>\n",
       "      <th>Dependent_Count</th>\n",
       "      <th>Education</th>\n",
       "      <th>Marital_Status</th>\n",
       "      <th>Income</th>\n",
       "      <th>Card_Category</th>\n",
       "      <th>Months_On_Book</th>\n",
       "      <th>Total_Relationship_Count</th>\n",
       "      <th>Months_Inactive</th>\n",
       "      <th>Contacts_Count</th>\n",
       "      <th>Credit_Limit</th>\n",
       "      <th>Total_Revolving_Bal</th>\n",
       "      <th>Avg_Open_To_Buy</th>\n",
       "      <th>Total_Amt_Chng_Q4_Q1</th>\n",
       "      <th>Total_Trans_Amt</th>\n",
       "      <th>Total_Trans_Ct</th>\n",
       "      <th>Total_Ct_Chng_Q4_Q1</th>\n",
       "      <th>Avg_Utilization_Ratio</th>\n",
       "    </tr>\n",
       "  </thead>\n",
       "  <tbody>\n",
       "    <tr>\n",
       "      <th>count</th>\n",
       "      <td>10135</td>\n",
       "      <td>10135.000000</td>\n",
       "      <td>10135</td>\n",
       "      <td>10125.000000</td>\n",
       "      <td>10135</td>\n",
       "      <td>10135</td>\n",
       "      <td>10135</td>\n",
       "      <td>10135</td>\n",
       "      <td>10135.000000</td>\n",
       "      <td>10135.000000</td>\n",
       "      <td>10135.000000</td>\n",
       "      <td>10135.000000</td>\n",
       "      <td>10135.000000</td>\n",
       "      <td>10135.000000</td>\n",
       "      <td>10135.000000</td>\n",
       "      <td>10135.000000</td>\n",
       "      <td>10135.000000</td>\n",
       "      <td>10135.000000</td>\n",
       "      <td>10135.000000</td>\n",
       "      <td>10135.000000</td>\n",
       "    </tr>\n",
       "    <tr>\n",
       "      <th>unique</th>\n",
       "      <td>2</td>\n",
       "      <td>NaN</td>\n",
       "      <td>3</td>\n",
       "      <td>NaN</td>\n",
       "      <td>7</td>\n",
       "      <td>4</td>\n",
       "      <td>6</td>\n",
       "      <td>4</td>\n",
       "      <td>NaN</td>\n",
       "      <td>NaN</td>\n",
       "      <td>NaN</td>\n",
       "      <td>NaN</td>\n",
       "      <td>NaN</td>\n",
       "      <td>NaN</td>\n",
       "      <td>NaN</td>\n",
       "      <td>NaN</td>\n",
       "      <td>NaN</td>\n",
       "      <td>NaN</td>\n",
       "      <td>NaN</td>\n",
       "      <td>NaN</td>\n",
       "    </tr>\n",
       "    <tr>\n",
       "      <th>top</th>\n",
       "      <td>Existing Customer</td>\n",
       "      <td>NaN</td>\n",
       "      <td>F</td>\n",
       "      <td>NaN</td>\n",
       "      <td>Graduate</td>\n",
       "      <td>Married</td>\n",
       "      <td>Less than $40K</td>\n",
       "      <td>Blue</td>\n",
       "      <td>NaN</td>\n",
       "      <td>NaN</td>\n",
       "      <td>NaN</td>\n",
       "      <td>NaN</td>\n",
       "      <td>NaN</td>\n",
       "      <td>NaN</td>\n",
       "      <td>NaN</td>\n",
       "      <td>NaN</td>\n",
       "      <td>NaN</td>\n",
       "      <td>NaN</td>\n",
       "      <td>NaN</td>\n",
       "      <td>NaN</td>\n",
       "    </tr>\n",
       "    <tr>\n",
       "      <th>freq</th>\n",
       "      <td>8507</td>\n",
       "      <td>NaN</td>\n",
       "      <td>5359</td>\n",
       "      <td>NaN</td>\n",
       "      <td>3132</td>\n",
       "      <td>4693</td>\n",
       "      <td>3561</td>\n",
       "      <td>9443</td>\n",
       "      <td>NaN</td>\n",
       "      <td>NaN</td>\n",
       "      <td>NaN</td>\n",
       "      <td>NaN</td>\n",
       "      <td>NaN</td>\n",
       "      <td>NaN</td>\n",
       "      <td>NaN</td>\n",
       "      <td>NaN</td>\n",
       "      <td>NaN</td>\n",
       "      <td>NaN</td>\n",
       "      <td>NaN</td>\n",
       "      <td>NaN</td>\n",
       "    </tr>\n",
       "    <tr>\n",
       "      <th>mean</th>\n",
       "      <td>NaN</td>\n",
       "      <td>46.328367</td>\n",
       "      <td>NaN</td>\n",
       "      <td>2.346272</td>\n",
       "      <td>NaN</td>\n",
       "      <td>NaN</td>\n",
       "      <td>NaN</td>\n",
       "      <td>NaN</td>\n",
       "      <td>35.929650</td>\n",
       "      <td>3.813024</td>\n",
       "      <td>2.341095</td>\n",
       "      <td>2.456043</td>\n",
       "      <td>8630.591130</td>\n",
       "      <td>1162.955895</td>\n",
       "      <td>7471.360839</td>\n",
       "      <td>0.759939</td>\n",
       "      <td>4401.719783</td>\n",
       "      <td>64.838185</td>\n",
       "      <td>0.712271</td>\n",
       "      <td>0.274889</td>\n",
       "    </tr>\n",
       "    <tr>\n",
       "      <th>std</th>\n",
       "      <td>NaN</td>\n",
       "      <td>8.018710</td>\n",
       "      <td>NaN</td>\n",
       "      <td>1.298875</td>\n",
       "      <td>NaN</td>\n",
       "      <td>NaN</td>\n",
       "      <td>NaN</td>\n",
       "      <td>NaN</td>\n",
       "      <td>7.988773</td>\n",
       "      <td>1.554315</td>\n",
       "      <td>1.010886</td>\n",
       "      <td>1.106263</td>\n",
       "      <td>9090.843559</td>\n",
       "      <td>814.752460</td>\n",
       "      <td>9091.545474</td>\n",
       "      <td>0.219286</td>\n",
       "      <td>3396.844245</td>\n",
       "      <td>23.475522</td>\n",
       "      <td>0.238256</td>\n",
       "      <td>0.275684</td>\n",
       "    </tr>\n",
       "    <tr>\n",
       "      <th>min</th>\n",
       "      <td>NaN</td>\n",
       "      <td>26.000000</td>\n",
       "      <td>NaN</td>\n",
       "      <td>0.000000</td>\n",
       "      <td>NaN</td>\n",
       "      <td>NaN</td>\n",
       "      <td>NaN</td>\n",
       "      <td>NaN</td>\n",
       "      <td>13.000000</td>\n",
       "      <td>1.000000</td>\n",
       "      <td>0.000000</td>\n",
       "      <td>0.000000</td>\n",
       "      <td>0.000000</td>\n",
       "      <td>0.000000</td>\n",
       "      <td>3.000000</td>\n",
       "      <td>0.000000</td>\n",
       "      <td>510.000000</td>\n",
       "      <td>10.000000</td>\n",
       "      <td>0.000000</td>\n",
       "      <td>0.000000</td>\n",
       "    </tr>\n",
       "    <tr>\n",
       "      <th>25%</th>\n",
       "      <td>NaN</td>\n",
       "      <td>41.000000</td>\n",
       "      <td>NaN</td>\n",
       "      <td>1.000000</td>\n",
       "      <td>NaN</td>\n",
       "      <td>NaN</td>\n",
       "      <td>NaN</td>\n",
       "      <td>NaN</td>\n",
       "      <td>31.000000</td>\n",
       "      <td>3.000000</td>\n",
       "      <td>2.000000</td>\n",
       "      <td>2.000000</td>\n",
       "      <td>2551.500000</td>\n",
       "      <td>379.500000</td>\n",
       "      <td>1324.500000</td>\n",
       "      <td>0.631000</td>\n",
       "      <td>2153.000000</td>\n",
       "      <td>45.000000</td>\n",
       "      <td>0.581000</td>\n",
       "      <td>0.023000</td>\n",
       "    </tr>\n",
       "    <tr>\n",
       "      <th>50%</th>\n",
       "      <td>NaN</td>\n",
       "      <td>46.000000</td>\n",
       "      <td>NaN</td>\n",
       "      <td>2.000000</td>\n",
       "      <td>NaN</td>\n",
       "      <td>NaN</td>\n",
       "      <td>NaN</td>\n",
       "      <td>NaN</td>\n",
       "      <td>36.000000</td>\n",
       "      <td>4.000000</td>\n",
       "      <td>2.000000</td>\n",
       "      <td>2.000000</td>\n",
       "      <td>4549.000000</td>\n",
       "      <td>1276.000000</td>\n",
       "      <td>3475.000000</td>\n",
       "      <td>0.736000</td>\n",
       "      <td>3897.000000</td>\n",
       "      <td>67.000000</td>\n",
       "      <td>0.702000</td>\n",
       "      <td>0.175000</td>\n",
       "    </tr>\n",
       "    <tr>\n",
       "      <th>75%</th>\n",
       "      <td>NaN</td>\n",
       "      <td>52.000000</td>\n",
       "      <td>NaN</td>\n",
       "      <td>3.000000</td>\n",
       "      <td>NaN</td>\n",
       "      <td>NaN</td>\n",
       "      <td>NaN</td>\n",
       "      <td>NaN</td>\n",
       "      <td>40.000000</td>\n",
       "      <td>5.000000</td>\n",
       "      <td>3.000000</td>\n",
       "      <td>3.000000</td>\n",
       "      <td>11067.500000</td>\n",
       "      <td>1783.500000</td>\n",
       "      <td>9862.500000</td>\n",
       "      <td>0.859000</td>\n",
       "      <td>4740.000000</td>\n",
       "      <td>81.000000</td>\n",
       "      <td>0.818000</td>\n",
       "      <td>0.503000</td>\n",
       "    </tr>\n",
       "    <tr>\n",
       "      <th>max</th>\n",
       "      <td>NaN</td>\n",
       "      <td>73.000000</td>\n",
       "      <td>NaN</td>\n",
       "      <td>5.000000</td>\n",
       "      <td>NaN</td>\n",
       "      <td>NaN</td>\n",
       "      <td>NaN</td>\n",
       "      <td>NaN</td>\n",
       "      <td>56.000000</td>\n",
       "      <td>6.000000</td>\n",
       "      <td>6.000000</td>\n",
       "      <td>6.000000</td>\n",
       "      <td>34516.000000</td>\n",
       "      <td>2517.000000</td>\n",
       "      <td>34516.000000</td>\n",
       "      <td>3.397000</td>\n",
       "      <td>18484.000000</td>\n",
       "      <td>139.000000</td>\n",
       "      <td>3.714000</td>\n",
       "      <td>0.999000</td>\n",
       "    </tr>\n",
       "  </tbody>\n",
       "</table>\n",
       "</div>"
      ],
      "text/plain": [
       "           Attrition_Flag           Age Gender  Dependent_Count Education  \\\n",
       "count               10135  10135.000000  10135     10125.000000     10135   \n",
       "unique                  2           NaN      3              NaN         7   \n",
       "top     Existing Customer           NaN      F              NaN  Graduate   \n",
       "freq                 8507           NaN   5359              NaN      3132   \n",
       "mean                  NaN     46.328367    NaN         2.346272       NaN   \n",
       "std                   NaN      8.018710    NaN         1.298875       NaN   \n",
       "min                   NaN     26.000000    NaN         0.000000       NaN   \n",
       "25%                   NaN     41.000000    NaN         1.000000       NaN   \n",
       "50%                   NaN     46.000000    NaN         2.000000       NaN   \n",
       "75%                   NaN     52.000000    NaN         3.000000       NaN   \n",
       "max                   NaN     73.000000    NaN         5.000000       NaN   \n",
       "\n",
       "       Marital_Status          Income Card_Category  Months_On_Book  \\\n",
       "count           10135           10135         10135    10135.000000   \n",
       "unique              4               6             4             NaN   \n",
       "top           Married  Less than $40K          Blue             NaN   \n",
       "freq             4693            3561          9443             NaN   \n",
       "mean              NaN             NaN           NaN       35.929650   \n",
       "std               NaN             NaN           NaN        7.988773   \n",
       "min               NaN             NaN           NaN       13.000000   \n",
       "25%               NaN             NaN           NaN       31.000000   \n",
       "50%               NaN             NaN           NaN       36.000000   \n",
       "75%               NaN             NaN           NaN       40.000000   \n",
       "max               NaN             NaN           NaN       56.000000   \n",
       "\n",
       "        Total_Relationship_Count  Months_Inactive  Contacts_Count  \\\n",
       "count               10135.000000     10135.000000    10135.000000   \n",
       "unique                       NaN              NaN             NaN   \n",
       "top                          NaN              NaN             NaN   \n",
       "freq                         NaN              NaN             NaN   \n",
       "mean                    3.813024         2.341095        2.456043   \n",
       "std                     1.554315         1.010886        1.106263   \n",
       "min                     1.000000         0.000000        0.000000   \n",
       "25%                     3.000000         2.000000        2.000000   \n",
       "50%                     4.000000         2.000000        2.000000   \n",
       "75%                     5.000000         3.000000        3.000000   \n",
       "max                     6.000000         6.000000        6.000000   \n",
       "\n",
       "        Credit_Limit  Total_Revolving_Bal  Avg_Open_To_Buy  \\\n",
       "count   10135.000000         10135.000000     10135.000000   \n",
       "unique           NaN                  NaN              NaN   \n",
       "top              NaN                  NaN              NaN   \n",
       "freq             NaN                  NaN              NaN   \n",
       "mean     8630.591130          1162.955895      7471.360839   \n",
       "std      9090.843559           814.752460      9091.545474   \n",
       "min         0.000000             0.000000         3.000000   \n",
       "25%      2551.500000           379.500000      1324.500000   \n",
       "50%      4549.000000          1276.000000      3475.000000   \n",
       "75%     11067.500000          1783.500000      9862.500000   \n",
       "max     34516.000000          2517.000000     34516.000000   \n",
       "\n",
       "        Total_Amt_Chng_Q4_Q1  Total_Trans_Amt  Total_Trans_Ct  \\\n",
       "count           10135.000000     10135.000000    10135.000000   \n",
       "unique                   NaN              NaN             NaN   \n",
       "top                      NaN              NaN             NaN   \n",
       "freq                     NaN              NaN             NaN   \n",
       "mean                0.759939      4401.719783       64.838185   \n",
       "std                 0.219286      3396.844245       23.475522   \n",
       "min                 0.000000       510.000000       10.000000   \n",
       "25%                 0.631000      2153.000000       45.000000   \n",
       "50%                 0.736000      3897.000000       67.000000   \n",
       "75%                 0.859000      4740.000000       81.000000   \n",
       "max                 3.397000     18484.000000      139.000000   \n",
       "\n",
       "        Total_Ct_Chng_Q4_Q1  Avg_Utilization_Ratio  \n",
       "count          10135.000000           10135.000000  \n",
       "unique                  NaN                    NaN  \n",
       "top                     NaN                    NaN  \n",
       "freq                    NaN                    NaN  \n",
       "mean               0.712271               0.274889  \n",
       "std                0.238256               0.275684  \n",
       "min                0.000000               0.000000  \n",
       "25%                0.581000               0.023000  \n",
       "50%                0.702000               0.175000  \n",
       "75%                0.818000               0.503000  \n",
       "max                3.714000               0.999000  "
      ]
     },
     "execution_count": 12,
     "metadata": {},
     "output_type": "execute_result"
    }
   ],
   "source": [
    "df_wrangling.describe(include='all')"
   ]
  },
  {
   "cell_type": "markdown",
   "metadata": {},
   "source": [
    "## 5. Finding missing and duplicated values and irregularities"
   ]
  },
  {
   "cell_type": "code",
   "execution_count": 13,
   "metadata": {},
   "outputs": [
    {
     "data": {
      "text/plain": [
       "Attrition_Flag               0\n",
       "Age                          0\n",
       "Gender                       0\n",
       "Dependent_Count             10\n",
       "Education                    0\n",
       "Marital_Status               0\n",
       "Income                       0\n",
       "Card_Category                0\n",
       "Months_On_Book               0\n",
       "Total_Relationship_Count     0\n",
       "Months_Inactive              0\n",
       "Contacts_Count               0\n",
       "Credit_Limit                 0\n",
       "Total_Revolving_Bal          0\n",
       "Avg_Open_To_Buy              0\n",
       "Total_Amt_Chng_Q4_Q1         0\n",
       "Total_Trans_Amt              0\n",
       "Total_Trans_Ct               0\n",
       "Total_Ct_Chng_Q4_Q1          0\n",
       "Avg_Utilization_Ratio        0\n",
       "dtype: int64"
      ]
     },
     "execution_count": 13,
     "metadata": {},
     "output_type": "execute_result"
    }
   ],
   "source": [
    "# df_wrangling.isna()\n",
    "# df_wrangling.isna().any()\n",
    "df_wrangling.isnull().sum()"
   ]
  },
  {
   "cell_type": "code",
   "execution_count": 14,
   "metadata": {},
   "outputs": [
    {
     "data": {
      "text/plain": [
       "Attrition_Flag              0\n",
       "Age                         0\n",
       "Gender                      0\n",
       "Dependent_Count             0\n",
       "Education                   0\n",
       "Marital_Status              0\n",
       "Income                      0\n",
       "Card_Category               0\n",
       "Months_On_Book              0\n",
       "Total_Relationship_Count    0\n",
       "Months_Inactive             0\n",
       "Contacts_Count              0\n",
       "Credit_Limit                0\n",
       "Total_Revolving_Bal         0\n",
       "Avg_Open_To_Buy             0\n",
       "Total_Amt_Chng_Q4_Q1        0\n",
       "Total_Trans_Amt             0\n",
       "Total_Trans_Ct              0\n",
       "Total_Ct_Chng_Q4_Q1         0\n",
       "Avg_Utilization_Ratio       0\n",
       "dtype: int64"
      ]
     },
     "execution_count": 14,
     "metadata": {},
     "output_type": "execute_result"
    }
   ],
   "source": [
    "df_wrangling['Dependent_Count'].fillna(df_wrangling['Dependent_Count'].median(), inplace=True)\n",
    "df_wrangling.isnull().sum()"
   ]
  },
  {
   "cell_type": "markdown",
   "metadata": {},
   "source": [
    "### Drop duplicated values"
   ]
  },
  {
   "cell_type": "code",
   "execution_count": 15,
   "metadata": {},
   "outputs": [
    {
     "data": {
      "text/plain": [
       "6"
      ]
     },
     "execution_count": 15,
     "metadata": {},
     "output_type": "execute_result"
    }
   ],
   "source": [
    "# Finding duplicated observations\n",
    "df_wrangling.duplicated().sum()"
   ]
  },
  {
   "cell_type": "code",
   "execution_count": 16,
   "metadata": {},
   "outputs": [
    {
     "name": "stdout",
     "output_type": "stream",
     "text": [
      "Empty DataFrame\n",
      "Columns: [Attrition_Flag, Age, Gender, Dependent_Count, Education, Marital_Status, Income, Card_Category, Months_On_Book, Total_Relationship_Count, Months_Inactive, Contacts_Count, Credit_Limit, Total_Revolving_Bal, Avg_Open_To_Buy, Total_Amt_Chng_Q4_Q1, Total_Trans_Amt, Total_Trans_Ct, Total_Ct_Chng_Q4_Q1, Avg_Utilization_Ratio]\n",
      "Index: []\n"
     ]
    }
   ],
   "source": [
    "# Drop duplicate row\n",
    "df_wrangling.drop_duplicates(inplace=True)\n",
    "print(df_wrangling[df_wrangling.duplicated()])"
   ]
  },
  {
   "cell_type": "markdown",
   "metadata": {},
   "source": [
    "### Finding and correcting irregularities of individual attributes"
   ]
  },
  {
   "cell_type": "code",
   "execution_count": 17,
   "metadata": {},
   "outputs": [],
   "source": [
    "# df.columns = df.columns.str.strip()"
   ]
  },
  {
   "cell_type": "code",
   "execution_count": 18,
   "metadata": {},
   "outputs": [
    {
     "data": {
      "text/plain": [
       "Existing Customer    83.93721\n",
       "Attrited Customer    16.06279\n",
       "Name: Attrition_Flag, dtype: float64"
      ]
     },
     "execution_count": 18,
     "metadata": {},
     "output_type": "execute_result"
    }
   ],
   "source": [
    "# df['gender'].value_counts(normalize=True) * 100\n",
    "df_wrangling['Attrition_Flag'].value_counts(normalize=True) * 100"
   ]
  },
  {
   "cell_type": "code",
   "execution_count": 19,
   "metadata": {},
   "outputs": [
    {
     "data": {
      "text/plain": [
       "Existing Customer    8502\n",
       "Attrited Customer    1627\n",
       "Name: Attrition_Flag, dtype: int64"
      ]
     },
     "execution_count": 19,
     "metadata": {},
     "output_type": "execute_result"
    }
   ],
   "source": [
    "# Number of Unique values of our categorical columns\n",
    "df_wrangling['Attrition_Flag'].value_counts().head()"
   ]
  },
  {
   "cell_type": "code",
   "execution_count": 20,
   "metadata": {},
   "outputs": [
    {
     "data": {
      "text/plain": [
       "F    5358\n",
       "M    4768\n",
       "U       3\n",
       "Name: Gender, dtype: int64"
      ]
     },
     "execution_count": 20,
     "metadata": {},
     "output_type": "execute_result"
    }
   ],
   "source": [
    "df_wrangling['Gender'].value_counts().head()"
   ]
  },
  {
   "cell_type": "code",
   "execution_count": 21,
   "metadata": {},
   "outputs": [
    {
     "data": {
      "text/html": [
       "<div>\n",
       "<style scoped>\n",
       "    .dataframe tbody tr th:only-of-type {\n",
       "        vertical-align: middle;\n",
       "    }\n",
       "\n",
       "    .dataframe tbody tr th {\n",
       "        vertical-align: top;\n",
       "    }\n",
       "\n",
       "    .dataframe thead th {\n",
       "        text-align: right;\n",
       "    }\n",
       "</style>\n",
       "<table border=\"1\" class=\"dataframe\">\n",
       "  <thead>\n",
       "    <tr style=\"text-align: right;\">\n",
       "      <th></th>\n",
       "      <th>Attrition_Flag</th>\n",
       "      <th>Age</th>\n",
       "      <th>Gender</th>\n",
       "      <th>Dependent_Count</th>\n",
       "      <th>Education</th>\n",
       "      <th>Marital_Status</th>\n",
       "      <th>Income</th>\n",
       "      <th>Card_Category</th>\n",
       "      <th>Months_On_Book</th>\n",
       "      <th>Total_Relationship_Count</th>\n",
       "      <th>Months_Inactive</th>\n",
       "      <th>Contacts_Count</th>\n",
       "      <th>Credit_Limit</th>\n",
       "      <th>Total_Revolving_Bal</th>\n",
       "      <th>Avg_Open_To_Buy</th>\n",
       "      <th>Total_Amt_Chng_Q4_Q1</th>\n",
       "      <th>Total_Trans_Amt</th>\n",
       "      <th>Total_Trans_Ct</th>\n",
       "      <th>Total_Ct_Chng_Q4_Q1</th>\n",
       "      <th>Avg_Utilization_Ratio</th>\n",
       "    </tr>\n",
       "  </thead>\n",
       "  <tbody>\n",
       "    <tr>\n",
       "      <th>8</th>\n",
       "      <td>Existing Customer</td>\n",
       "      <td>37</td>\n",
       "      <td>U</td>\n",
       "      <td>3.0</td>\n",
       "      <td>Uneducated</td>\n",
       "      <td>Single</td>\n",
       "      <td>$60K - $80K</td>\n",
       "      <td>Blue</td>\n",
       "      <td>36</td>\n",
       "      <td>5</td>\n",
       "      <td>2</td>\n",
       "      <td>0</td>\n",
       "      <td>22352.0</td>\n",
       "      <td>2517</td>\n",
       "      <td>19835.0</td>\n",
       "      <td>3.355</td>\n",
       "      <td>1350</td>\n",
       "      <td>24</td>\n",
       "      <td>1.182</td>\n",
       "      <td>0.113</td>\n",
       "    </tr>\n",
       "    <tr>\n",
       "      <th>293</th>\n",
       "      <td>Existing Customer</td>\n",
       "      <td>48</td>\n",
       "      <td>U</td>\n",
       "      <td>2.0</td>\n",
       "      <td>Graduate</td>\n",
       "      <td>Unknown</td>\n",
       "      <td>$40K - $60K</td>\n",
       "      <td>Blue</td>\n",
       "      <td>36</td>\n",
       "      <td>5</td>\n",
       "      <td>1</td>\n",
       "      <td>2</td>\n",
       "      <td>13068.0</td>\n",
       "      <td>1718</td>\n",
       "      <td>11350.0</td>\n",
       "      <td>0.607</td>\n",
       "      <td>937</td>\n",
       "      <td>28</td>\n",
       "      <td>0.556</td>\n",
       "      <td>0.131</td>\n",
       "    </tr>\n",
       "    <tr>\n",
       "      <th>569</th>\n",
       "      <td>Existing Customer</td>\n",
       "      <td>43</td>\n",
       "      <td>U</td>\n",
       "      <td>2.0</td>\n",
       "      <td>Uneducated</td>\n",
       "      <td>Divorced</td>\n",
       "      <td>$120K +</td>\n",
       "      <td>Silver</td>\n",
       "      <td>24</td>\n",
       "      <td>4</td>\n",
       "      <td>2</td>\n",
       "      <td>0</td>\n",
       "      <td>34516.0</td>\n",
       "      <td>1938</td>\n",
       "      <td>32578.0</td>\n",
       "      <td>0.426</td>\n",
       "      <td>1215</td>\n",
       "      <td>45</td>\n",
       "      <td>0.406</td>\n",
       "      <td>0.056</td>\n",
       "    </tr>\n",
       "  </tbody>\n",
       "</table>\n",
       "</div>"
      ],
      "text/plain": [
       "        Attrition_Flag  Age Gender  Dependent_Count   Education  \\\n",
       "8    Existing Customer   37      U              3.0  Uneducated   \n",
       "293  Existing Customer   48      U              2.0    Graduate   \n",
       "569  Existing Customer   43      U              2.0  Uneducated   \n",
       "\n",
       "    Marital_Status       Income Card_Category  Months_On_Book  \\\n",
       "8           Single  $60K - $80K          Blue              36   \n",
       "293        Unknown  $40K - $60K          Blue              36   \n",
       "569       Divorced      $120K +        Silver              24   \n",
       "\n",
       "     Total_Relationship_Count  Months_Inactive  Contacts_Count  Credit_Limit  \\\n",
       "8                           5                2               0       22352.0   \n",
       "293                         5                1               2       13068.0   \n",
       "569                         4                2               0       34516.0   \n",
       "\n",
       "     Total_Revolving_Bal  Avg_Open_To_Buy  Total_Amt_Chng_Q4_Q1  \\\n",
       "8                   2517          19835.0                 3.355   \n",
       "293                 1718          11350.0                 0.607   \n",
       "569                 1938          32578.0                 0.426   \n",
       "\n",
       "     Total_Trans_Amt  Total_Trans_Ct  Total_Ct_Chng_Q4_Q1  \\\n",
       "8               1350              24                1.182   \n",
       "293              937              28                0.556   \n",
       "569             1215              45                0.406   \n",
       "\n",
       "     Avg_Utilization_Ratio  \n",
       "8                    0.113  \n",
       "293                  0.131  \n",
       "569                  0.056  "
      ]
     },
     "execution_count": 21,
     "metadata": {},
     "output_type": "execute_result"
    }
   ],
   "source": [
    "df_wrangling.loc[df_wrangling['Gender']=='U']"
   ]
  },
  {
   "cell_type": "code",
   "execution_count": 22,
   "metadata": {},
   "outputs": [
    {
     "data": {
      "text/plain": [
       "(10129, 20)"
      ]
     },
     "execution_count": 22,
     "metadata": {},
     "output_type": "execute_result"
    }
   ],
   "source": [
    "df_wrangling.shape"
   ]
  },
  {
   "cell_type": "code",
   "execution_count": 23,
   "metadata": {},
   "outputs": [],
   "source": [
    "df_wrangling = df_wrangling.loc[df_wrangling['Gender']!='U']"
   ]
  },
  {
   "cell_type": "code",
   "execution_count": 24,
   "metadata": {},
   "outputs": [
    {
     "data": {
      "text/plain": [
       "(10126, 20)"
      ]
     },
     "execution_count": 24,
     "metadata": {},
     "output_type": "execute_result"
    }
   ],
   "source": [
    "df_wrangling.shape"
   ]
  },
  {
   "cell_type": "code",
   "execution_count": 25,
   "metadata": {},
   "outputs": [
    {
     "data": {
      "text/plain": [
       "Less than $40K    3561\n",
       "$40K - $60K       1789\n",
       "$80K - $120K      1535\n",
       "$60K - $80K       1402\n",
       "Unknown           1112\n",
       "$120K +            727\n",
       "Name: Income, dtype: int64"
      ]
     },
     "execution_count": 25,
     "metadata": {},
     "output_type": "execute_result"
    }
   ],
   "source": [
    "# df_wrangling['Income'].nunique()\n",
    "df_wrangling['Income'].value_counts()"
   ]
  },
  {
   "cell_type": "code",
   "execution_count": 26,
   "metadata": {},
   "outputs": [
    {
     "data": {
      "text/plain": [
       "44    500\n",
       "49    495\n",
       "46    490\n",
       "45    486\n",
       "47    479\n",
       "Name: Age, dtype: int64"
      ]
     },
     "execution_count": 26,
     "metadata": {},
     "output_type": "execute_result"
    }
   ],
   "source": [
    "# df_wrangling['Age'].unique()\n",
    "# df_wrangling['Age'].nunique()\n",
    "df_wrangling['Age'].value_counts().head()"
   ]
  },
  {
   "cell_type": "code",
   "execution_count": 27,
   "metadata": {},
   "outputs": [
    {
     "data": {
      "text/plain": [
       "Married     4689\n",
       "Single      3942\n",
       "Unknown      748\n",
       "Divorced     747\n",
       "Name: Marital_Status, dtype: int64"
      ]
     },
     "execution_count": 27,
     "metadata": {},
     "output_type": "execute_result"
    }
   ],
   "source": [
    "# df_wrangling['Marital_Status'].nunique()\n",
    "# df_wrangling['Marital_Status'].unique()\n",
    "df_wrangling['Marital_Status'].value_counts().head()"
   ]
  },
  {
   "cell_type": "code",
   "execution_count": 28,
   "metadata": {},
   "outputs": [
    {
     "data": {
      "text/html": [
       "<div>\n",
       "<style scoped>\n",
       "    .dataframe tbody tr th:only-of-type {\n",
       "        vertical-align: middle;\n",
       "    }\n",
       "\n",
       "    .dataframe tbody tr th {\n",
       "        vertical-align: top;\n",
       "    }\n",
       "\n",
       "    .dataframe thead th {\n",
       "        text-align: right;\n",
       "    }\n",
       "</style>\n",
       "<table border=\"1\" class=\"dataframe\">\n",
       "  <thead>\n",
       "    <tr style=\"text-align: right;\">\n",
       "      <th></th>\n",
       "      <th>Attrition_Flag</th>\n",
       "      <th>Age</th>\n",
       "      <th>Gender</th>\n",
       "      <th>Dependent_Count</th>\n",
       "      <th>Education</th>\n",
       "      <th>Income</th>\n",
       "      <th>Card_Category</th>\n",
       "      <th>Months_On_Book</th>\n",
       "      <th>Total_Relationship_Count</th>\n",
       "      <th>Months_Inactive</th>\n",
       "      <th>Contacts_Count</th>\n",
       "      <th>Credit_Limit</th>\n",
       "      <th>Total_Revolving_Bal</th>\n",
       "      <th>Avg_Open_To_Buy</th>\n",
       "      <th>Total_Amt_Chng_Q4_Q1</th>\n",
       "      <th>Total_Trans_Amt</th>\n",
       "      <th>Total_Trans_Ct</th>\n",
       "      <th>Total_Ct_Chng_Q4_Q1</th>\n",
       "      <th>Avg_Utilization_Ratio</th>\n",
       "    </tr>\n",
       "    <tr>\n",
       "      <th>Marital_Status</th>\n",
       "      <th></th>\n",
       "      <th></th>\n",
       "      <th></th>\n",
       "      <th></th>\n",
       "      <th></th>\n",
       "      <th></th>\n",
       "      <th></th>\n",
       "      <th></th>\n",
       "      <th></th>\n",
       "      <th></th>\n",
       "      <th></th>\n",
       "      <th></th>\n",
       "      <th></th>\n",
       "      <th></th>\n",
       "      <th></th>\n",
       "      <th></th>\n",
       "      <th></th>\n",
       "      <th></th>\n",
       "      <th></th>\n",
       "    </tr>\n",
       "  </thead>\n",
       "  <tbody>\n",
       "    <tr>\n",
       "      <th>Divorced</th>\n",
       "      <td>747</td>\n",
       "      <td>747</td>\n",
       "      <td>747</td>\n",
       "      <td>747</td>\n",
       "      <td>747</td>\n",
       "      <td>747</td>\n",
       "      <td>747</td>\n",
       "      <td>747</td>\n",
       "      <td>747</td>\n",
       "      <td>747</td>\n",
       "      <td>747</td>\n",
       "      <td>747</td>\n",
       "      <td>747</td>\n",
       "      <td>747</td>\n",
       "      <td>747</td>\n",
       "      <td>747</td>\n",
       "      <td>747</td>\n",
       "      <td>747</td>\n",
       "      <td>747</td>\n",
       "    </tr>\n",
       "    <tr>\n",
       "      <th>Married</th>\n",
       "      <td>4689</td>\n",
       "      <td>4689</td>\n",
       "      <td>4689</td>\n",
       "      <td>4689</td>\n",
       "      <td>4689</td>\n",
       "      <td>4689</td>\n",
       "      <td>4689</td>\n",
       "      <td>4689</td>\n",
       "      <td>4689</td>\n",
       "      <td>4689</td>\n",
       "      <td>4689</td>\n",
       "      <td>4689</td>\n",
       "      <td>4689</td>\n",
       "      <td>4689</td>\n",
       "      <td>4689</td>\n",
       "      <td>4689</td>\n",
       "      <td>4689</td>\n",
       "      <td>4689</td>\n",
       "      <td>4689</td>\n",
       "    </tr>\n",
       "    <tr>\n",
       "      <th>Single</th>\n",
       "      <td>3942</td>\n",
       "      <td>3942</td>\n",
       "      <td>3942</td>\n",
       "      <td>3942</td>\n",
       "      <td>3942</td>\n",
       "      <td>3942</td>\n",
       "      <td>3942</td>\n",
       "      <td>3942</td>\n",
       "      <td>3942</td>\n",
       "      <td>3942</td>\n",
       "      <td>3942</td>\n",
       "      <td>3942</td>\n",
       "      <td>3942</td>\n",
       "      <td>3942</td>\n",
       "      <td>3942</td>\n",
       "      <td>3942</td>\n",
       "      <td>3942</td>\n",
       "      <td>3942</td>\n",
       "      <td>3942</td>\n",
       "    </tr>\n",
       "    <tr>\n",
       "      <th>Unknown</th>\n",
       "      <td>748</td>\n",
       "      <td>748</td>\n",
       "      <td>748</td>\n",
       "      <td>748</td>\n",
       "      <td>748</td>\n",
       "      <td>748</td>\n",
       "      <td>748</td>\n",
       "      <td>748</td>\n",
       "      <td>748</td>\n",
       "      <td>748</td>\n",
       "      <td>748</td>\n",
       "      <td>748</td>\n",
       "      <td>748</td>\n",
       "      <td>748</td>\n",
       "      <td>748</td>\n",
       "      <td>748</td>\n",
       "      <td>748</td>\n",
       "      <td>748</td>\n",
       "      <td>748</td>\n",
       "    </tr>\n",
       "  </tbody>\n",
       "</table>\n",
       "</div>"
      ],
      "text/plain": [
       "                Attrition_Flag   Age  Gender  Dependent_Count  Education  \\\n",
       "Marital_Status                                                             \n",
       "Divorced                   747   747     747              747        747   \n",
       "Married                   4689  4689    4689             4689       4689   \n",
       "Single                    3942  3942    3942             3942       3942   \n",
       "Unknown                    748   748     748              748        748   \n",
       "\n",
       "                Income  Card_Category  Months_On_Book  \\\n",
       "Marital_Status                                          \n",
       "Divorced           747            747             747   \n",
       "Married           4689           4689            4689   \n",
       "Single            3942           3942            3942   \n",
       "Unknown            748            748             748   \n",
       "\n",
       "                Total_Relationship_Count  Months_Inactive  Contacts_Count  \\\n",
       "Marital_Status                                                              \n",
       "Divorced                             747              747             747   \n",
       "Married                             4689             4689            4689   \n",
       "Single                              3942             3942            3942   \n",
       "Unknown                              748              748             748   \n",
       "\n",
       "                Credit_Limit  Total_Revolving_Bal  Avg_Open_To_Buy  \\\n",
       "Marital_Status                                                       \n",
       "Divorced                 747                  747              747   \n",
       "Married                 4689                 4689             4689   \n",
       "Single                  3942                 3942             3942   \n",
       "Unknown                  748                  748              748   \n",
       "\n",
       "                Total_Amt_Chng_Q4_Q1  Total_Trans_Amt  Total_Trans_Ct  \\\n",
       "Marital_Status                                                          \n",
       "Divorced                         747              747             747   \n",
       "Married                         4689             4689            4689   \n",
       "Single                          3942             3942            3942   \n",
       "Unknown                          748              748             748   \n",
       "\n",
       "                Total_Ct_Chng_Q4_Q1  Avg_Utilization_Ratio  \n",
       "Marital_Status                                              \n",
       "Divorced                        747                    747  \n",
       "Married                        4689                   4689  \n",
       "Single                         3942                   3942  \n",
       "Unknown                         748                    748  "
      ]
     },
     "execution_count": 28,
     "metadata": {},
     "output_type": "execute_result"
    }
   ],
   "source": [
    "df_wrangling.groupby('Marital_Status').count()"
   ]
  },
  {
   "cell_type": "code",
   "execution_count": 29,
   "metadata": {},
   "outputs": [
    {
     "data": {
      "text/plain": [
       "array(['High School', 'Graduate', 'Uneducated', 'Unknown', 'College',\n",
       "       'Post-Graduate', 'Doctorate'], dtype=object)"
      ]
     },
     "execution_count": 29,
     "metadata": {},
     "output_type": "execute_result"
    }
   ],
   "source": [
    "# df_wrangling['Education'].unique()\n",
    "# df_wrangling['Education'].nunique()\n",
    "df_wrangling['Education'].value_counts().head()\n",
    "df_wrangling['Education'].unique()"
   ]
  },
  {
   "cell_type": "code",
   "execution_count": 30,
   "metadata": {},
   "outputs": [
    {
     "data": {
      "text/plain": [
       "Attrition_Flag              Attrited CustomerAttrited CustomerAttrited Cus...\n",
       "Age                                                                     75915\n",
       "Gender                      FFFMMFMMFMFMMMFMFMFMFMMFFMFMFMMMMMMFFMFFFMMMFM...\n",
       "Dependent_Count                                                          3909\n",
       "Education                   GraduateDoctorateGraduateGraduateGraduateUnkno...\n",
       "Marital_Status              MarriedMarriedMarriedMarriedMarriedMarriedMarr...\n",
       "Income                      Less than $40KUnknownLess than $40K$120K +$60K...\n",
       "Card_Category               BlueBlueBlueBlueSilverBlueBlueBlueBlueBlueBlue...\n",
       "Months_On_Book                                                          58862\n",
       "Total_Relationship_Count                                                 5336\n",
       "Months_Inactive                                                          4382\n",
       "Contacts_Count                                                           4836\n",
       "Credit_Limit                                                      1.32298e+07\n",
       "Total_Revolving_Bal                                                   1094683\n",
       "Avg_Open_To_Buy                                                   1.21427e+07\n",
       "Total_Amt_Chng_Q4_Q1                                                  1129.59\n",
       "Total_Trans_Amt                                                       5035607\n",
       "Total_Trans_Ct                                                          73107\n",
       "Total_Ct_Chng_Q4_Q1                                                   901.986\n",
       "Avg_Utilization_Ratio                                                 264.347\n",
       "dtype: object"
      ]
     },
     "execution_count": 30,
     "metadata": {},
     "output_type": "execute_result"
    }
   ],
   "source": [
    "# Inspecting specific countries data\n",
    "df_wrangling[df_wrangling['Attrition_Flag']=='Attrited Customer'].sum()"
   ]
  },
  {
   "cell_type": "code",
   "execution_count": 31,
   "metadata": {},
   "outputs": [
    {
     "data": {
      "text/plain": [
       "0.0    6\n",
       "Name: Credit_Limit, dtype: int64"
      ]
     },
     "execution_count": 31,
     "metadata": {},
     "output_type": "execute_result"
    }
   ],
   "source": [
    "# Finding no. of irrelevant credit limits of 0 dollar\n",
    "df_wrangling.loc[df_wrangling['Credit_Limit']<500, 'Credit_Limit'].value_counts()"
   ]
  },
  {
   "cell_type": "code",
   "execution_count": 32,
   "metadata": {},
   "outputs": [
    {
     "data": {
      "text/plain": [
       "9149     0.0\n",
       "9320     0.0\n",
       "9492     0.0\n",
       "9705     0.0\n",
       "10129    0.0\n",
       "10131    0.0\n",
       "Name: Credit_Limit, dtype: float64"
      ]
     },
     "execution_count": 32,
     "metadata": {},
     "output_type": "execute_result"
    }
   ],
   "source": [
    "# Finding irrelevant rows of credit limits of 0 dollar\n",
    "df_wrangling.loc[df_wrangling['Credit_Limit']<500, 'Credit_Limit']"
   ]
  },
  {
   "cell_type": "code",
   "execution_count": 33,
   "metadata": {},
   "outputs": [
    {
     "data": {
      "text/plain": [
       "(10126, 20)"
      ]
     },
     "execution_count": 33,
     "metadata": {},
     "output_type": "execute_result"
    }
   ],
   "source": [
    "df_wrangling.shape"
   ]
  },
  {
   "cell_type": "code",
   "execution_count": 34,
   "metadata": {},
   "outputs": [],
   "source": [
    "# dropping particular rows containing 0 credit limit\n",
    "df_wrangling = df_wrangling.loc[df_wrangling['Credit_Limit']>0]"
   ]
  },
  {
   "cell_type": "code",
   "execution_count": 35,
   "metadata": {},
   "outputs": [
    {
     "data": {
      "text/plain": [
       "(10120, 20)"
      ]
     },
     "execution_count": 35,
     "metadata": {},
     "output_type": "execute_result"
    }
   ],
   "source": [
    "df_wrangling.shape"
   ]
  },
  {
   "cell_type": "code",
   "execution_count": 36,
   "metadata": {},
   "outputs": [
    {
     "data": {
      "text/plain": [
       "0"
      ]
     },
     "execution_count": 36,
     "metadata": {},
     "output_type": "execute_result"
    }
   ],
   "source": [
    "df_wrangling.duplicated().sum()"
   ]
  },
  {
   "cell_type": "markdown",
   "metadata": {},
   "source": [
    "## 6. Finding numerical and categorical columns"
   ]
  },
  {
   "cell_type": "code",
   "execution_count": 37,
   "metadata": {},
   "outputs": [
    {
     "data": {
      "text/html": [
       "<div>\n",
       "<style scoped>\n",
       "    .dataframe tbody tr th:only-of-type {\n",
       "        vertical-align: middle;\n",
       "    }\n",
       "\n",
       "    .dataframe tbody tr th {\n",
       "        vertical-align: top;\n",
       "    }\n",
       "\n",
       "    .dataframe thead th {\n",
       "        text-align: right;\n",
       "    }\n",
       "</style>\n",
       "<table border=\"1\" class=\"dataframe\">\n",
       "  <thead>\n",
       "    <tr style=\"text-align: right;\">\n",
       "      <th></th>\n",
       "      <th>Age</th>\n",
       "      <th>Dependent_Count</th>\n",
       "      <th>Months_On_Book</th>\n",
       "      <th>Total_Relationship_Count</th>\n",
       "      <th>Months_Inactive</th>\n",
       "      <th>Contacts_Count</th>\n",
       "      <th>Credit_Limit</th>\n",
       "      <th>Total_Revolving_Bal</th>\n",
       "      <th>Avg_Open_To_Buy</th>\n",
       "      <th>Total_Amt_Chng_Q4_Q1</th>\n",
       "      <th>Total_Trans_Amt</th>\n",
       "      <th>Total_Trans_Ct</th>\n",
       "      <th>Total_Ct_Chng_Q4_Q1</th>\n",
       "      <th>Avg_Utilization_Ratio</th>\n",
       "    </tr>\n",
       "  </thead>\n",
       "  <tbody>\n",
       "    <tr>\n",
       "      <th>0</th>\n",
       "      <td>45</td>\n",
       "      <td>3.0</td>\n",
       "      <td>39</td>\n",
       "      <td>5</td>\n",
       "      <td>1</td>\n",
       "      <td>3</td>\n",
       "      <td>12691.0</td>\n",
       "      <td>777</td>\n",
       "      <td>11914.0</td>\n",
       "      <td>1.335</td>\n",
       "      <td>1144</td>\n",
       "      <td>42</td>\n",
       "      <td>1.625</td>\n",
       "      <td>0.061</td>\n",
       "    </tr>\n",
       "    <tr>\n",
       "      <th>1</th>\n",
       "      <td>49</td>\n",
       "      <td>5.0</td>\n",
       "      <td>44</td>\n",
       "      <td>6</td>\n",
       "      <td>1</td>\n",
       "      <td>2</td>\n",
       "      <td>8256.0</td>\n",
       "      <td>864</td>\n",
       "      <td>7392.0</td>\n",
       "      <td>1.541</td>\n",
       "      <td>1291</td>\n",
       "      <td>33</td>\n",
       "      <td>3.714</td>\n",
       "      <td>0.105</td>\n",
       "    </tr>\n",
       "    <tr>\n",
       "      <th>2</th>\n",
       "      <td>51</td>\n",
       "      <td>3.0</td>\n",
       "      <td>36</td>\n",
       "      <td>4</td>\n",
       "      <td>1</td>\n",
       "      <td>0</td>\n",
       "      <td>3418.0</td>\n",
       "      <td>0</td>\n",
       "      <td>3418.0</td>\n",
       "      <td>2.594</td>\n",
       "      <td>1887</td>\n",
       "      <td>20</td>\n",
       "      <td>2.333</td>\n",
       "      <td>0.000</td>\n",
       "    </tr>\n",
       "    <tr>\n",
       "      <th>3</th>\n",
       "      <td>40</td>\n",
       "      <td>4.0</td>\n",
       "      <td>34</td>\n",
       "      <td>3</td>\n",
       "      <td>4</td>\n",
       "      <td>1</td>\n",
       "      <td>3313.0</td>\n",
       "      <td>2517</td>\n",
       "      <td>796.0</td>\n",
       "      <td>1.405</td>\n",
       "      <td>1171</td>\n",
       "      <td>20</td>\n",
       "      <td>2.333</td>\n",
       "      <td>0.760</td>\n",
       "    </tr>\n",
       "    <tr>\n",
       "      <th>4</th>\n",
       "      <td>40</td>\n",
       "      <td>3.0</td>\n",
       "      <td>21</td>\n",
       "      <td>5</td>\n",
       "      <td>1</td>\n",
       "      <td>0</td>\n",
       "      <td>4716.0</td>\n",
       "      <td>0</td>\n",
       "      <td>4716.0</td>\n",
       "      <td>2.175</td>\n",
       "      <td>816</td>\n",
       "      <td>28</td>\n",
       "      <td>2.500</td>\n",
       "      <td>0.000</td>\n",
       "    </tr>\n",
       "  </tbody>\n",
       "</table>\n",
       "</div>"
      ],
      "text/plain": [
       "   Age  Dependent_Count  Months_On_Book  Total_Relationship_Count  \\\n",
       "0   45              3.0              39                         5   \n",
       "1   49              5.0              44                         6   \n",
       "2   51              3.0              36                         4   \n",
       "3   40              4.0              34                         3   \n",
       "4   40              3.0              21                         5   \n",
       "\n",
       "   Months_Inactive  Contacts_Count  Credit_Limit  Total_Revolving_Bal  \\\n",
       "0                1               3       12691.0                  777   \n",
       "1                1               2        8256.0                  864   \n",
       "2                1               0        3418.0                    0   \n",
       "3                4               1        3313.0                 2517   \n",
       "4                1               0        4716.0                    0   \n",
       "\n",
       "   Avg_Open_To_Buy  Total_Amt_Chng_Q4_Q1  Total_Trans_Amt  Total_Trans_Ct  \\\n",
       "0          11914.0                 1.335             1144              42   \n",
       "1           7392.0                 1.541             1291              33   \n",
       "2           3418.0                 2.594             1887              20   \n",
       "3            796.0                 1.405             1171              20   \n",
       "4           4716.0                 2.175              816              28   \n",
       "\n",
       "   Total_Ct_Chng_Q4_Q1  Avg_Utilization_Ratio  \n",
       "0                1.625                  0.061  \n",
       "1                3.714                  0.105  \n",
       "2                2.333                  0.000  \n",
       "3                2.333                  0.760  \n",
       "4                2.500                  0.000  "
      ]
     },
     "execution_count": 37,
     "metadata": {},
     "output_type": "execute_result"
    }
   ],
   "source": [
    "# Check out the numerical columns\n",
    "df_wrangling.select_dtypes(include=np.number).head()"
   ]
  },
  {
   "cell_type": "code",
   "execution_count": 38,
   "metadata": {
    "scrolled": true
   },
   "outputs": [
    {
     "data": {
      "text/html": [
       "<div>\n",
       "<style scoped>\n",
       "    .dataframe tbody tr th:only-of-type {\n",
       "        vertical-align: middle;\n",
       "    }\n",
       "\n",
       "    .dataframe tbody tr th {\n",
       "        vertical-align: top;\n",
       "    }\n",
       "\n",
       "    .dataframe thead th {\n",
       "        text-align: right;\n",
       "    }\n",
       "</style>\n",
       "<table border=\"1\" class=\"dataframe\">\n",
       "  <thead>\n",
       "    <tr style=\"text-align: right;\">\n",
       "      <th></th>\n",
       "      <th>Attrition_Flag</th>\n",
       "      <th>Gender</th>\n",
       "      <th>Education</th>\n",
       "      <th>Marital_Status</th>\n",
       "      <th>Income</th>\n",
       "      <th>Card_Category</th>\n",
       "    </tr>\n",
       "  </thead>\n",
       "  <tbody>\n",
       "    <tr>\n",
       "      <th>0</th>\n",
       "      <td>Existing Customer</td>\n",
       "      <td>M</td>\n",
       "      <td>High School</td>\n",
       "      <td>Married</td>\n",
       "      <td>$60K - $80K</td>\n",
       "      <td>Blue</td>\n",
       "    </tr>\n",
       "    <tr>\n",
       "      <th>1</th>\n",
       "      <td>Existing Customer</td>\n",
       "      <td>F</td>\n",
       "      <td>Graduate</td>\n",
       "      <td>Single</td>\n",
       "      <td>Less than $40K</td>\n",
       "      <td>Blue</td>\n",
       "    </tr>\n",
       "    <tr>\n",
       "      <th>2</th>\n",
       "      <td>Existing Customer</td>\n",
       "      <td>M</td>\n",
       "      <td>Graduate</td>\n",
       "      <td>Married</td>\n",
       "      <td>$80K - $120K</td>\n",
       "      <td>Blue</td>\n",
       "    </tr>\n",
       "    <tr>\n",
       "      <th>3</th>\n",
       "      <td>Existing Customer</td>\n",
       "      <td>F</td>\n",
       "      <td>High School</td>\n",
       "      <td>Unknown</td>\n",
       "      <td>Less than $40K</td>\n",
       "      <td>Blue</td>\n",
       "    </tr>\n",
       "    <tr>\n",
       "      <th>4</th>\n",
       "      <td>Existing Customer</td>\n",
       "      <td>M</td>\n",
       "      <td>Uneducated</td>\n",
       "      <td>Married</td>\n",
       "      <td>$60K - $80K</td>\n",
       "      <td>Blue</td>\n",
       "    </tr>\n",
       "  </tbody>\n",
       "</table>\n",
       "</div>"
      ],
      "text/plain": [
       "      Attrition_Flag Gender    Education Marital_Status          Income  \\\n",
       "0  Existing Customer      M  High School        Married     $60K - $80K   \n",
       "1  Existing Customer      F     Graduate         Single  Less than $40K   \n",
       "2  Existing Customer      M     Graduate        Married    $80K - $120K   \n",
       "3  Existing Customer      F  High School        Unknown  Less than $40K   \n",
       "4  Existing Customer      M   Uneducated        Married     $60K - $80K   \n",
       "\n",
       "  Card_Category  \n",
       "0          Blue  \n",
       "1          Blue  \n",
       "2          Blue  \n",
       "3          Blue  \n",
       "4          Blue  "
      ]
     },
     "execution_count": 38,
     "metadata": {},
     "output_type": "execute_result"
    }
   ],
   "source": [
    "# Check out the categorical columns\n",
    "df_wrangling[df_wrangling.select_dtypes('object').columns].head()"
   ]
  },
  {
   "cell_type": "code",
   "execution_count": 39,
   "metadata": {},
   "outputs": [
    {
     "data": {
      "text/plain": [
       "Blue        9430\n",
       "Silver       554\n",
       "Gold         116\n",
       "Platinum      20\n",
       "Name: Card_Category, dtype: int64"
      ]
     },
     "execution_count": 39,
     "metadata": {},
     "output_type": "execute_result"
    }
   ],
   "source": [
    "# Unique values of card_category column\n",
    "df_wrangling['Card_Category'].value_counts()"
   ]
  },
  {
   "cell_type": "code",
   "execution_count": 40,
   "metadata": {},
   "outputs": [
    {
     "data": {
      "text/html": [
       "<div>\n",
       "<style scoped>\n",
       "    .dataframe tbody tr th:only-of-type {\n",
       "        vertical-align: middle;\n",
       "    }\n",
       "\n",
       "    .dataframe tbody tr th {\n",
       "        vertical-align: top;\n",
       "    }\n",
       "\n",
       "    .dataframe thead th {\n",
       "        text-align: right;\n",
       "    }\n",
       "</style>\n",
       "<table border=\"1\" class=\"dataframe\">\n",
       "  <thead>\n",
       "    <tr style=\"text-align: right;\">\n",
       "      <th></th>\n",
       "      <th>Marital_Status</th>\n",
       "      <th>Income</th>\n",
       "      <th>Education</th>\n",
       "      <th>Card_Category</th>\n",
       "    </tr>\n",
       "  </thead>\n",
       "  <tbody>\n",
       "    <tr>\n",
       "      <th>21</th>\n",
       "      <td>Married</td>\n",
       "      <td>Less than $40K</td>\n",
       "      <td>Graduate</td>\n",
       "      <td>Blue</td>\n",
       "    </tr>\n",
       "    <tr>\n",
       "      <th>39</th>\n",
       "      <td>Married</td>\n",
       "      <td>Unknown</td>\n",
       "      <td>Doctorate</td>\n",
       "      <td>Blue</td>\n",
       "    </tr>\n",
       "    <tr>\n",
       "      <th>51</th>\n",
       "      <td>Married</td>\n",
       "      <td>Less than $40K</td>\n",
       "      <td>Graduate</td>\n",
       "      <td>Blue</td>\n",
       "    </tr>\n",
       "    <tr>\n",
       "      <th>54</th>\n",
       "      <td>Married</td>\n",
       "      <td>$120K +</td>\n",
       "      <td>Graduate</td>\n",
       "      <td>Blue</td>\n",
       "    </tr>\n",
       "    <tr>\n",
       "      <th>61</th>\n",
       "      <td>Married</td>\n",
       "      <td>$60K - $80K</td>\n",
       "      <td>Graduate</td>\n",
       "      <td>Silver</td>\n",
       "    </tr>\n",
       "  </tbody>\n",
       "</table>\n",
       "</div>"
      ],
      "text/plain": [
       "   Marital_Status          Income  Education Card_Category\n",
       "21        Married  Less than $40K   Graduate          Blue\n",
       "39        Married         Unknown  Doctorate          Blue\n",
       "51        Married  Less than $40K   Graduate          Blue\n",
       "54        Married         $120K +   Graduate          Blue\n",
       "61        Married     $60K - $80K   Graduate        Silver"
      ]
     },
     "execution_count": 40,
     "metadata": {},
     "output_type": "execute_result"
    }
   ],
   "source": [
    "# Inspecting the attrited customers categorical feature\n",
    "df_wrangling.loc[df_wrangling['Attrition_Flag']=='Attrited Customer', ['Marital_Status','Income','Education', 'Card_Category']].head(5)"
   ]
  },
  {
   "cell_type": "code",
   "execution_count": 41,
   "metadata": {},
   "outputs": [
    {
     "data": {
      "text/html": [
       "<div>\n",
       "<style scoped>\n",
       "    .dataframe tbody tr th:only-of-type {\n",
       "        vertical-align: middle;\n",
       "    }\n",
       "\n",
       "    .dataframe tbody tr th {\n",
       "        vertical-align: top;\n",
       "    }\n",
       "\n",
       "    .dataframe thead th {\n",
       "        text-align: right;\n",
       "    }\n",
       "</style>\n",
       "<table border=\"1\" class=\"dataframe\">\n",
       "  <thead>\n",
       "    <tr style=\"text-align: right;\">\n",
       "      <th>Attrition_Flag</th>\n",
       "      <th>Attrited Customer</th>\n",
       "      <th>Existing Customer</th>\n",
       "    </tr>\n",
       "  </thead>\n",
       "  <tbody>\n",
       "    <tr>\n",
       "      <th>Age</th>\n",
       "      <td>7.581800e+04</td>\n",
       "      <td>3.929920e+05</td>\n",
       "    </tr>\n",
       "    <tr>\n",
       "      <th>Dependent_Count</th>\n",
       "      <td>3.904000e+03</td>\n",
       "      <td>1.983600e+04</td>\n",
       "    </tr>\n",
       "    <tr>\n",
       "      <th>Months_On_Book</th>\n",
       "      <td>5.877800e+04</td>\n",
       "      <td>3.048090e+05</td>\n",
       "    </tr>\n",
       "    <tr>\n",
       "      <th>Total_Relationship_Count</th>\n",
       "      <td>5.331000e+03</td>\n",
       "      <td>3.325600e+04</td>\n",
       "    </tr>\n",
       "    <tr>\n",
       "      <th>Months_Inactive</th>\n",
       "      <td>4.377000e+03</td>\n",
       "      <td>1.931900e+04</td>\n",
       "    </tr>\n",
       "    <tr>\n",
       "      <th>Contacts_Count</th>\n",
       "      <td>4.828000e+03</td>\n",
       "      <td>2.002300e+04</td>\n",
       "    </tr>\n",
       "    <tr>\n",
       "      <th>Credit_Limit</th>\n",
       "      <td>1.322983e+07</td>\n",
       "      <td>7.410027e+07</td>\n",
       "    </tr>\n",
       "    <tr>\n",
       "      <th>Total_Revolving_Bal</th>\n",
       "      <td>1.091667e+06</td>\n",
       "      <td>1.067018e+07</td>\n",
       "    </tr>\n",
       "    <tr>\n",
       "      <th>Avg_Open_To_Buy</th>\n",
       "      <td>1.213816e+07</td>\n",
       "      <td>6.343009e+07</td>\n",
       "    </tr>\n",
       "    <tr>\n",
       "      <th>Total_Amt_Chng_Q4_Q1</th>\n",
       "      <td>1.128236e+03</td>\n",
       "      <td>6.560599e+03</td>\n",
       "    </tr>\n",
       "    <tr>\n",
       "      <th>Total_Trans_Amt</th>\n",
       "      <td>5.022506e+06</td>\n",
       "      <td>3.953042e+07</td>\n",
       "    </tr>\n",
       "    <tr>\n",
       "      <th>Total_Trans_Ct</th>\n",
       "      <td>7.298800e+04</td>\n",
       "      <td>5.833970e+05</td>\n",
       "    </tr>\n",
       "    <tr>\n",
       "      <th>Total_Ct_Chng_Q4_Q1</th>\n",
       "      <td>9.006120e+02</td>\n",
       "      <td>6.307033e+03</td>\n",
       "    </tr>\n",
       "    <tr>\n",
       "      <th>Avg_Utilization_Ratio</th>\n",
       "      <td>2.634490e+02</td>\n",
       "      <td>2.518042e+03</td>\n",
       "    </tr>\n",
       "  </tbody>\n",
       "</table>\n",
       "</div>"
      ],
      "text/plain": [
       "Attrition_Flag            Attrited Customer  Existing Customer\n",
       "Age                            7.581800e+04       3.929920e+05\n",
       "Dependent_Count                3.904000e+03       1.983600e+04\n",
       "Months_On_Book                 5.877800e+04       3.048090e+05\n",
       "Total_Relationship_Count       5.331000e+03       3.325600e+04\n",
       "Months_Inactive                4.377000e+03       1.931900e+04\n",
       "Contacts_Count                 4.828000e+03       2.002300e+04\n",
       "Credit_Limit                   1.322983e+07       7.410027e+07\n",
       "Total_Revolving_Bal            1.091667e+06       1.067018e+07\n",
       "Avg_Open_To_Buy                1.213816e+07       6.343009e+07\n",
       "Total_Amt_Chng_Q4_Q1           1.128236e+03       6.560599e+03\n",
       "Total_Trans_Amt                5.022506e+06       3.953042e+07\n",
       "Total_Trans_Ct                 7.298800e+04       5.833970e+05\n",
       "Total_Ct_Chng_Q4_Q1            9.006120e+02       6.307033e+03\n",
       "Avg_Utilization_Ratio          2.634490e+02       2.518042e+03"
      ]
     },
     "execution_count": 41,
     "metadata": {},
     "output_type": "execute_result"
    }
   ],
   "source": [
    "# Groupby function is not working\n",
    "# churn_df.reset_index()\n",
    "df_wrangling.groupby(by='Attrition_Flag').sum().T"
   ]
  },
  {
   "cell_type": "markdown",
   "metadata": {},
   "source": [
    "## 7. Visualizing correlations and outliers of individual columns"
   ]
  },
  {
   "cell_type": "code",
   "execution_count": 42,
   "metadata": {},
   "outputs": [
    {
     "data": {
      "image/png": "[encoded data removed]",
      "text/plain": [
       "<Figure size 864x576 with 2 Axes>"
      ]
     },
     "metadata": {
      "needs_background": "light"
     },
     "output_type": "display_data"
    }
   ],
   "source": [
    "#Create two subplots on 1 row and 2 columns with a figsize of (12, 8)\n",
    "fig, ax = plt.subplots(1, 2, figsize=(12,8))\n",
    "#Specify a horizontal barplot ('barh') as kind of plot (kind=)\n",
    "df_wrangling.Attrition_Flag.value_counts().plot(kind='barh', ax=ax[0])\n",
    "#Give the plot a helpful title of 'Region'\n",
    "ax[0].set_title('Attrition Flag')\n",
    "#Label the xaxis 'Count'\n",
    "ax[0].set_xlabel('Count')\n",
    "#Specify a horizontal barplot ('barh') as kind of plot (kind=)\n",
    "df_wrangling.Education.value_counts().plot(kind='barh', ax=ax[1])\n",
    "#Give the plot a helpful title of 'state'\n",
    "ax[1].set_title('Education')\n",
    "#Label the xaxis 'Count'\n",
    "ax[1].set_xlabel('Count')\n",
    "#Give the subplots a little \"breathing room\" with a wspace of 0.5\n",
    "plt.subplots_adjust(wspace=0.5);\n",
    "#You're encouraged to explore a few different figure sizes, orientations, and spacing here\n",
    "# as the importance of easy-to-read and informative figures is frequently understated\n",
    "# and you will find the ability to tweak figures invaluable later on"
   ]
  },
  {
   "cell_type": "code",
   "execution_count": 43,
   "metadata": {},
   "outputs": [
    {
     "data": {
      "image/png": "[encoded data removed]",
      "text/plain": [
       "<Figure size 432x288 with 1 Axes>"
      ]
     },
     "metadata": {
      "needs_background": "light"
     },
     "output_type": "display_data"
    }
   ],
   "source": [
    "# Finding coorelation between Credit_Limit and Avg_Open_To_Buy columns\n",
    "corr = df_wrangling[['Credit_Limit','Avg_Open_To_Buy']]\n",
    "corr.plot(kind='scatter', x='Credit_Limit', y='Avg_Open_To_Buy')\n",
    "plt.show()"
   ]
  },
  {
   "cell_type": "markdown",
   "metadata": {},
   "source": [
    "I have found a positive coorelation between 'Credit_Limit' and 'Avg_Open_to_Buy' columns of our dataframe. Since the coorelation is universal and true, because, the more the credit limit the more amount balance the customer will have open to spend. This coorelation will not affect our exploration and modeling."
   ]
  },
  {
   "cell_type": "code",
   "execution_count": 44,
   "metadata": {},
   "outputs": [
    {
     "data": {
      "text/html": [
       "<div>\n",
       "<style scoped>\n",
       "    .dataframe tbody tr th:only-of-type {\n",
       "        vertical-align: middle;\n",
       "    }\n",
       "\n",
       "    .dataframe tbody tr th {\n",
       "        vertical-align: top;\n",
       "    }\n",
       "\n",
       "    .dataframe thead th {\n",
       "        text-align: right;\n",
       "    }\n",
       "</style>\n",
       "<table border=\"1\" class=\"dataframe\">\n",
       "  <thead>\n",
       "    <tr style=\"text-align: right;\">\n",
       "      <th></th>\n",
       "      <th>Age</th>\n",
       "      <th>Dependent_Count</th>\n",
       "      <th>Months_On_Book</th>\n",
       "      <th>Total_Relationship_Count</th>\n",
       "      <th>Months_Inactive</th>\n",
       "      <th>Contacts_Count</th>\n",
       "      <th>Credit_Limit</th>\n",
       "      <th>Total_Revolving_Bal</th>\n",
       "      <th>Avg_Open_To_Buy</th>\n",
       "      <th>Total_Amt_Chng_Q4_Q1</th>\n",
       "      <th>Total_Trans_Amt</th>\n",
       "      <th>Total_Trans_Ct</th>\n",
       "      <th>Total_Ct_Chng_Q4_Q1</th>\n",
       "      <th>Avg_Utilization_Ratio</th>\n",
       "    </tr>\n",
       "  </thead>\n",
       "  <tbody>\n",
       "    <tr>\n",
       "      <th>0</th>\n",
       "      <td>45</td>\n",
       "      <td>3.0</td>\n",
       "      <td>39</td>\n",
       "      <td>5</td>\n",
       "      <td>1</td>\n",
       "      <td>3</td>\n",
       "      <td>12691.0</td>\n",
       "      <td>777</td>\n",
       "      <td>11914.0</td>\n",
       "      <td>1.335</td>\n",
       "      <td>1144</td>\n",
       "      <td>42</td>\n",
       "      <td>1.625</td>\n",
       "      <td>0.061</td>\n",
       "    </tr>\n",
       "    <tr>\n",
       "      <th>1</th>\n",
       "      <td>49</td>\n",
       "      <td>5.0</td>\n",
       "      <td>44</td>\n",
       "      <td>6</td>\n",
       "      <td>1</td>\n",
       "      <td>2</td>\n",
       "      <td>8256.0</td>\n",
       "      <td>864</td>\n",
       "      <td>7392.0</td>\n",
       "      <td>1.541</td>\n",
       "      <td>1291</td>\n",
       "      <td>33</td>\n",
       "      <td>3.714</td>\n",
       "      <td>0.105</td>\n",
       "    </tr>\n",
       "    <tr>\n",
       "      <th>2</th>\n",
       "      <td>51</td>\n",
       "      <td>3.0</td>\n",
       "      <td>36</td>\n",
       "      <td>4</td>\n",
       "      <td>1</td>\n",
       "      <td>0</td>\n",
       "      <td>3418.0</td>\n",
       "      <td>0</td>\n",
       "      <td>3418.0</td>\n",
       "      <td>2.594</td>\n",
       "      <td>1887</td>\n",
       "      <td>20</td>\n",
       "      <td>2.333</td>\n",
       "      <td>0.000</td>\n",
       "    </tr>\n",
       "    <tr>\n",
       "      <th>3</th>\n",
       "      <td>40</td>\n",
       "      <td>4.0</td>\n",
       "      <td>34</td>\n",
       "      <td>3</td>\n",
       "      <td>4</td>\n",
       "      <td>1</td>\n",
       "      <td>3313.0</td>\n",
       "      <td>2517</td>\n",
       "      <td>796.0</td>\n",
       "      <td>1.405</td>\n",
       "      <td>1171</td>\n",
       "      <td>20</td>\n",
       "      <td>2.333</td>\n",
       "      <td>0.760</td>\n",
       "    </tr>\n",
       "    <tr>\n",
       "      <th>4</th>\n",
       "      <td>40</td>\n",
       "      <td>3.0</td>\n",
       "      <td>21</td>\n",
       "      <td>5</td>\n",
       "      <td>1</td>\n",
       "      <td>0</td>\n",
       "      <td>4716.0</td>\n",
       "      <td>0</td>\n",
       "      <td>4716.0</td>\n",
       "      <td>2.175</td>\n",
       "      <td>816</td>\n",
       "      <td>28</td>\n",
       "      <td>2.500</td>\n",
       "      <td>0.000</td>\n",
       "    </tr>\n",
       "    <tr>\n",
       "      <th>...</th>\n",
       "      <td>...</td>\n",
       "      <td>...</td>\n",
       "      <td>...</td>\n",
       "      <td>...</td>\n",
       "      <td>...</td>\n",
       "      <td>...</td>\n",
       "      <td>...</td>\n",
       "      <td>...</td>\n",
       "      <td>...</td>\n",
       "      <td>...</td>\n",
       "      <td>...</td>\n",
       "      <td>...</td>\n",
       "      <td>...</td>\n",
       "      <td>...</td>\n",
       "    </tr>\n",
       "    <tr>\n",
       "      <th>10122</th>\n",
       "      <td>50</td>\n",
       "      <td>2.0</td>\n",
       "      <td>40</td>\n",
       "      <td>3</td>\n",
       "      <td>2</td>\n",
       "      <td>3</td>\n",
       "      <td>4003.0</td>\n",
       "      <td>1851</td>\n",
       "      <td>2152.0</td>\n",
       "      <td>0.703</td>\n",
       "      <td>15476</td>\n",
       "      <td>117</td>\n",
       "      <td>0.857</td>\n",
       "      <td>0.462</td>\n",
       "    </tr>\n",
       "    <tr>\n",
       "      <th>10123</th>\n",
       "      <td>41</td>\n",
       "      <td>2.0</td>\n",
       "      <td>25</td>\n",
       "      <td>4</td>\n",
       "      <td>2</td>\n",
       "      <td>3</td>\n",
       "      <td>4277.0</td>\n",
       "      <td>2186</td>\n",
       "      <td>2091.0</td>\n",
       "      <td>0.804</td>\n",
       "      <td>8764</td>\n",
       "      <td>69</td>\n",
       "      <td>0.683</td>\n",
       "      <td>0.511</td>\n",
       "    </tr>\n",
       "    <tr>\n",
       "      <th>10124</th>\n",
       "      <td>44</td>\n",
       "      <td>1.0</td>\n",
       "      <td>36</td>\n",
       "      <td>5</td>\n",
       "      <td>3</td>\n",
       "      <td>4</td>\n",
       "      <td>5409.0</td>\n",
       "      <td>0</td>\n",
       "      <td>5409.0</td>\n",
       "      <td>0.819</td>\n",
       "      <td>10291</td>\n",
       "      <td>60</td>\n",
       "      <td>0.818</td>\n",
       "      <td>0.000</td>\n",
       "    </tr>\n",
       "    <tr>\n",
       "      <th>10125</th>\n",
       "      <td>30</td>\n",
       "      <td>2.0</td>\n",
       "      <td>36</td>\n",
       "      <td>4</td>\n",
       "      <td>3</td>\n",
       "      <td>3</td>\n",
       "      <td>5281.0</td>\n",
       "      <td>0</td>\n",
       "      <td>5281.0</td>\n",
       "      <td>0.535</td>\n",
       "      <td>8395</td>\n",
       "      <td>62</td>\n",
       "      <td>0.722</td>\n",
       "      <td>0.000</td>\n",
       "    </tr>\n",
       "    <tr>\n",
       "      <th>10126</th>\n",
       "      <td>43</td>\n",
       "      <td>2.0</td>\n",
       "      <td>25</td>\n",
       "      <td>6</td>\n",
       "      <td>2</td>\n",
       "      <td>4</td>\n",
       "      <td>10388.0</td>\n",
       "      <td>1961</td>\n",
       "      <td>8427.0</td>\n",
       "      <td>0.703</td>\n",
       "      <td>10294</td>\n",
       "      <td>61</td>\n",
       "      <td>0.649</td>\n",
       "      <td>0.189</td>\n",
       "    </tr>\n",
       "  </tbody>\n",
       "</table>\n",
       "<p>10120 rows × 14 columns</p>\n",
       "</div>"
      ],
      "text/plain": [
       "       Age  Dependent_Count  Months_On_Book  Total_Relationship_Count  \\\n",
       "0       45              3.0              39                         5   \n",
       "1       49              5.0              44                         6   \n",
       "2       51              3.0              36                         4   \n",
       "3       40              4.0              34                         3   \n",
       "4       40              3.0              21                         5   \n",
       "...    ...              ...             ...                       ...   \n",
       "10122   50              2.0              40                         3   \n",
       "10123   41              2.0              25                         4   \n",
       "10124   44              1.0              36                         5   \n",
       "10125   30              2.0              36                         4   \n",
       "10126   43              2.0              25                         6   \n",
       "\n",
       "       Months_Inactive  Contacts_Count  Credit_Limit  Total_Revolving_Bal  \\\n",
       "0                    1               3       12691.0                  777   \n",
       "1                    1               2        8256.0                  864   \n",
       "2                    1               0        3418.0                    0   \n",
       "3                    4               1        3313.0                 2517   \n",
       "4                    1               0        4716.0                    0   \n",
       "...                ...             ...           ...                  ...   \n",
       "10122                2               3        4003.0                 1851   \n",
       "10123                2               3        4277.0                 2186   \n",
       "10124                3               4        5409.0                    0   \n",
       "10125                3               3        5281.0                    0   \n",
       "10126                2               4       10388.0                 1961   \n",
       "\n",
       "       Avg_Open_To_Buy  Total_Amt_Chng_Q4_Q1  Total_Trans_Amt  Total_Trans_Ct  \\\n",
       "0              11914.0                 1.335             1144              42   \n",
       "1               7392.0                 1.541             1291              33   \n",
       "2               3418.0                 2.594             1887              20   \n",
       "3                796.0                 1.405             1171              20   \n",
       "4               4716.0                 2.175              816              28   \n",
       "...                ...                   ...              ...             ...   \n",
       "10122           2152.0                 0.703            15476             117   \n",
       "10123           2091.0                 0.804             8764              69   \n",
       "10124           5409.0                 0.819            10291              60   \n",
       "10125           5281.0                 0.535             8395              62   \n",
       "10126           8427.0                 0.703            10294              61   \n",
       "\n",
       "       Total_Ct_Chng_Q4_Q1  Avg_Utilization_Ratio  \n",
       "0                    1.625                  0.061  \n",
       "1                    3.714                  0.105  \n",
       "2                    2.333                  0.000  \n",
       "3                    2.333                  0.760  \n",
       "4                    2.500                  0.000  \n",
       "...                    ...                    ...  \n",
       "10122                0.857                  0.462  \n",
       "10123                0.683                  0.511  \n",
       "10124                0.818                  0.000  \n",
       "10125                0.722                  0.000  \n",
       "10126                0.649                  0.189  \n",
       "\n",
       "[10120 rows x 14 columns]"
      ]
     },
     "execution_count": 44,
     "metadata": {},
     "output_type": "execute_result"
    }
   ],
   "source": [
    "# filter the numeric columns from the dataframe\n",
    "# df_wrangling.select_dtypes(include=np.number)\n",
    "numerics = ['int16', 'int32', 'int64', 'float16', 'float32', 'float64']\n",
    "df_wrangling.select_dtypes(include=numerics)"
   ]
  },
  {
   "cell_type": "code",
   "execution_count": 45,
   "metadata": {
    "scrolled": true
   },
   "outputs": [
    {
     "data": {
      "image/png": "[encoded data removed]",
      "text/plain": [
       "<Figure size 432x288 with 1 Axes>"
      ]
     },
     "metadata": {
      "needs_background": "light"
     },
     "output_type": "display_data"
    }
   ],
   "source": [
    "# Checking Outliers for Credit_Limit column\n",
    "df_wrangling.Credit_Limit.plot(kind='box')\n",
    "plt.show()"
   ]
  },
  {
   "cell_type": "code",
   "execution_count": 46,
   "metadata": {},
   "outputs": [
    {
     "data": {
      "image/png": "[encoded data removed]",
      "text/plain": [
       "<Figure size 432x288 with 1 Axes>"
      ]
     },
     "metadata": {
      "needs_background": "light"
     },
     "output_type": "display_data"
    }
   ],
   "source": [
    "# Checking Outliers for Age column\n",
    "df_wrangling.Age.plot(kind='box')\n",
    "plt.show()"
   ]
  },
  {
   "cell_type": "code",
   "execution_count": 47,
   "metadata": {},
   "outputs": [
    {
     "data": {
      "image/png": "[encoded data removed]",
      "text/plain": [
       "<Figure size 432x288 with 1 Axes>"
      ]
     },
     "metadata": {
      "needs_background": "light"
     },
     "output_type": "display_data"
    }
   ],
   "source": [
    "# Checking Outliers for Total_trans_Amt column\n",
    "df_wrangling.Total_Trans_Amt.plot(kind='box')\n",
    "plt.show()"
   ]
  },
  {
   "cell_type": "code",
   "execution_count": 48,
   "metadata": {},
   "outputs": [
    {
     "data": {
      "text/plain": [
       "11063.25"
      ]
     },
     "execution_count": 48,
     "metadata": {},
     "output_type": "execute_result"
    }
   ],
   "source": [
    "# churn_df.Credit_Limit.max()\n",
    "df_wrangling.Credit_Limit.quantile(q=0.75)"
   ]
  },
  {
   "cell_type": "code",
   "execution_count": 49,
   "metadata": {},
   "outputs": [
    {
     "data": {
      "image/png": "[encoded data removed]",
      "text/plain": [
       "<Figure size 432x288 with 1 Axes>"
      ]
     },
     "metadata": {
      "needs_background": "light"
     },
     "output_type": "display_data"
    }
   ],
   "source": [
    "df_wrangling['Credit_Limit'].plot(kind='hist',bins=20, rot=45, colormap='coolwarm',alpha=0.8)\n",
    "plt.show()"
   ]
  },
  {
   "cell_type": "markdown",
   "metadata": {},
   "source": [
    "## 8. Save data"
   ]
  },
  {
   "cell_type": "code",
   "execution_count": 50,
   "metadata": {},
   "outputs": [],
   "source": [
    "# save the churn_df dataframe to drive.\n",
    "df_wrangling.to_csv('..\\Dataset\\df_EDA.csv')"
   ]
  }
 ],
 "metadata": {
  "kernelspec": {
   "display_name": "Python 3",
   "language": "python",
   "name": "python3"
  },
  "language_info": {
   "codemirror_mode": {
    "name": "ipython",
    "version": 3
   },
   "file_extension": ".py",
   "mimetype": "text/x-python",
   "name": "python",
   "nbconvert_exporter": "python",
   "pygments_lexer": "ipython3",
   "version": "3.8.5"
  }
 },
 "nbformat": 4,
 "nbformat_minor": 4
}
